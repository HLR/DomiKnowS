{
 "cells": [
  {
   "cell_type": "code",
   "execution_count": 1,
   "id": "cb10e85e-8183-474e-b2c3-fd6152aace5a",
   "metadata": {},
   "outputs": [],
   "source": [
    "import torch\n",
    "import json"
   ]
  },
  {
   "cell_type": "code",
   "execution_count": 2,
   "id": "3caf2296-ac3b-4117-ad07-4eda8c4e4e39",
   "metadata": {},
   "outputs": [],
   "source": [
    "with open(\"hierarchy_flat.json\") as f:\n",
    "    hierarchy_flat = json.load(f)"
   ]
  },
  {
   "cell_type": "code",
   "execution_count": 3,
   "id": "18c683e7-51c5-4efe-8543-36795e0f5ecc",
   "metadata": {},
   "outputs": [],
   "source": [
    "with open(f\"concepts.json\") as f:\n",
    "    hierarchy = json.load(f)"
   ]
  },
  {
   "cell_type": "code",
   "execution_count": 4,
   "id": "c6f2d38f-2008-4e39-99ef-c153d70b1121",
   "metadata": {},
   "outputs": [],
   "source": [
    "reverse_flat_hierarchy = {\"level1\": {}, \"level2\": {}, \"level3\": {}}\n",
    "for _level in hierarchy_flat.keys():\n",
    "    if _level == \"level4\":\n",
    "        continue\n",
    "    reverse_flat_hierarchy[_level] = {}\n",
    "    for key, value in hierarchy_flat[_level].items():\n",
    "        for val in value:\n",
    "            reverse_flat_hierarchy[_level][val] = key"
   ]
  },
  {
   "cell_type": "code",
   "execution_count": 5,
   "id": "b9182a3f-8600-4258-b4e3-3aefcb5d8273",
   "metadata": {},
   "outputs": [],
   "source": [
    "levels_none_index = {'level1': -1, 'level2': -1, 'level3': -1, 'level4': -1}\n",
    "for key in hierarchy_flat:\n",
    "    if key != \"level1\":\n",
    "        levels_none_index[key] = len(hierarchy_flat[key])"
   ]
  },
  {
   "cell_type": "code",
   "execution_count": 6,
   "id": "93efb9d3-9e89-4330-91a7-1b8c96562699",
   "metadata": {},
   "outputs": [
    {
     "data": {
      "text/plain": [
       "{'level1': -1, 'level2': 157, 'level3': 62, 'level4': 7}"
      ]
     },
     "execution_count": 6,
     "metadata": {},
     "output_type": "execute_result"
    }
   ],
   "source": [
    "levels_none_index"
   ]
  },
  {
   "cell_type": "code",
   "execution_count": 7,
   "id": "e59d72a9-2546-45eb-acd1-8ddf106a3f73",
   "metadata": {},
   "outputs": [],
   "source": [
    "file = \"data/test_logits.pt\"\n",
    "data = torch.load(file)"
   ]
  },
  {
   "cell_type": "code",
   "execution_count": 8,
   "id": "f4a3d5f5-b99a-4bf1-934a-443b22b26b5f",
   "metadata": {},
   "outputs": [
    {
     "name": "stdout",
     "output_type": "stream",
     "text": [
      "dict_keys(['levels1', 'levels2', 'levels3', 'levels4'])\n",
      "dict_keys(['logit', 'labels'])\n"
     ]
    }
   ],
   "source": [
    "print(data.keys())\n",
    "print(data['levels1'].keys())"
   ]
  },
  {
   "cell_type": "code",
   "execution_count": 9,
   "id": "818c42aa-70f5-4f03-8c17-0210695b5084",
   "metadata": {},
   "outputs": [],
   "source": [
    "key_map = {'levels1': 'level1', 'levels2': 'level2', 'levels3': 'level3', 'levels4': 'level4'}"
   ]
  },
  {
   "cell_type": "code",
   "execution_count": 10,
   "id": "41c9a5dc-9cd6-4359-ae16-388b11edfadc",
   "metadata": {},
   "outputs": [],
   "source": [
    "for level in data.keys():\n",
    "    data[level]['preds'] = data[level]['logit'].argmax(-1)\n",
    "    data[level]['labels'][data[level]['labels'] == -1] = levels_none_index[key_map[level]]"
   ]
  },
  {
   "cell_type": "code",
   "execution_count": 11,
   "id": "320e1b6a-33d5-4bba-8d54-bf29f46064dd",
   "metadata": {},
   "outputs": [],
   "source": [
    "back_step = {'levels3': 'levels2', 'levels4': 'levels3'}\n",
    "for level in data.keys():\n",
    "    if level in back_step:\n",
    "        back_step_key = back_step[level]\n",
    "        back_step_none = levels_none_index[key_map[back_step_key]]\n",
    "        current_step_none = levels_none_index[key_map[level]]\n",
    "        data[level]['preds'][data[back_step_key]['preds'] == back_step_none] = current_step_none"
   ]
  },
  {
   "cell_type": "code",
   "execution_count": 12,
   "id": "49ded82d-ea1a-48ff-ac70-7f61de86eec9",
   "metadata": {},
   "outputs": [],
   "source": [
    "reverse_flat_hierarchy_numbered = {'level1': {}, 'level2': {}, 'level3': {}}\n",
    "for level in reverse_flat_hierarchy_numbered:\n",
    "    for key, val in reverse_flat_hierarchy[level].items():\n",
    "        try:\n",
    "            if level == 'level1':\n",
    "                key_space = hierarchy['level2']\n",
    "                val_space = hierarchy['level1']\n",
    "            elif level == 'level2':\n",
    "                key_space = hierarchy['level3']\n",
    "                val_space = hierarchy['level2']\n",
    "            elif level == 'level3':\n",
    "                key_space = hierarchy['level4']\n",
    "                val_space = hierarchy['level3']\n",
    "            key_number = key_space.index(key)\n",
    "            val_number = val_space.index(val)\n",
    "            reverse_flat_hierarchy_numbered[level][key_number] = val_number\n",
    "        except:\n",
    "            print(key, val)\n",
    "            print(level)\n",
    "            print(key_space)\n",
    "            print(val_space)\n",
    "            raise"
   ]
  },
  {
   "cell_type": "code",
   "execution_count": 13,
   "id": "adefcfd5-fc6e-4ff4-862d-9a82ed75f8d5",
   "metadata": {},
   "outputs": [],
   "source": [
    "map_back_step = {'level3': 'level2', 'level4': 'level3', 'level2': 'level1'}\n",
    "map_back_step_original = {'levels3': 'levels2', 'levels4': 'levels3', 'levels2': 'levels1'}\n",
    "for level in ['levels4', 'levels3', 'levels2', 'levels1']:\n",
    "    level_maped = key_map[level] ### levels4 --> level4\n",
    "    if level_maped in map_back_step:\n",
    "        level_back_original = map_back_step_original[level] ### levels4 --> levels3\n",
    "        maped_back_step_level = map_back_step[level_maped] ### level4 --> level3\n",
    "        for key in hierarchy_flat[level_maped]:\n",
    "            if key in reverse_flat_hierarchy[maped_back_step_level]:\n",
    "                key_number = hierarchy[level_maped].index(key)\n",
    "                val_number = reverse_flat_hierarchy_numbered[maped_back_step_level][key_number]\n",
    "                data[level_back_original]['preds'][data[level]['preds'] == key_number] = val_number\n",
    "                \n",
    "                \n",
    "                "
   ]
  },
  {
   "cell_type": "code",
   "execution_count": 14,
   "id": "2162afb2-2b7d-439f-92da-e2e62c1f8a44",
   "metadata": {},
   "outputs": [
    {
     "name": "stdout",
     "output_type": "stream",
     "text": [
      "{'level1': -1, 'level2': 157, 'level3': 62, 'level4': 7}\n"
     ]
    }
   ],
   "source": [
    "print(levels_none_index)\n",
    "for k in range(0, 10):\n",
    "    level1 = data['levels1']['preds'][k].item()\n",
    "    level2 = data['levels2']['preds'][k].item()\n",
    "    level3 = data['levels3']['preds'][k].item()\n",
    "    level4 = data['levels4']['preds'][k].item()\n",
    "    \n",
    "    original_level1 = data['levels1']['logit'].argmax(-1)[k].item()\n",
    "    original_level2 = data['levels2']['logit'].argmax(-1)[k].item()\n",
    "    original_level3 = data['levels3']['logit'].argmax(-1)[k].item()\n",
    "    original_level4 = data['levels4']['logit'].argmax(-1)[k].item()\n",
    "    \n",
    "    if (torch.tensor([level1, level2, level3, level4]) != torch.tensor([original_level1, original_level2, original_level3, original_level4])).sum() != 0:\n",
    "        parents = []\n",
    "        if level4 == len(hierarchy_flat['level4']):\n",
    "            parents.insert(0, level3)\n",
    "        else:\n",
    "            parent_key = reverse_flat_hierarchy_numbered['level3'][level4]\n",
    "            parents.insert(0, parent_key)\n",
    "\n",
    "        if level3 == len(hierarchy_flat['level3']):\n",
    "            parents.insert(0, level2)\n",
    "        else:\n",
    "            parent_key = reverse_flat_hierarchy_numbered['level2'][level3]\n",
    "            parents.insert(0, parent_key)\n",
    "\n",
    "        if level2 == len(hierarchy_flat['level2']):\n",
    "            parents.insert(0, level1)\n",
    "        else:\n",
    "            parent_key = reverse_flat_hierarchy_numbered['level1'][level2]\n",
    "            parents.insert(0, parent_key)\n",
    "\n",
    "        print(f\" {k} updated preds are: {level1}, {level2}, {level3}, {level4}\")\n",
    "        print(f\"original preds were: {original_level1}, {original_level2}, {original_level3}, {original_level4}\")\n",
    "        print(f\"parent are {parents} \\n\")\n",
    "    \n",
    "    "
   ]
  },
  {
   "cell_type": "code",
   "execution_count": 15,
   "id": "57d06f81-12a7-4504-a137-f2596dc19364",
   "metadata": {},
   "outputs": [
    {
     "name": "stdout",
     "output_type": "stream",
     "text": [
      "35\n",
      "ball\n",
      "toy\n"
     ]
    }
   ],
   "source": [
    "print(reverse_flat_hierarchy_numbered['level1'][131])\n",
    "print(hierarchy['level2'][131])\n",
    "print(hierarchy['level1'][reverse_flat_hierarchy_numbered['level1'][131]])"
   ]
  },
  {
   "cell_type": "code",
   "execution_count": 16,
   "id": "e95bd832-6853-4ad7-b346-d563e1da27ce",
   "metadata": {},
   "outputs": [],
   "source": [
    "from sklearn.metrics import precision_recall_fscore_support\n",
    "import numpy as np"
   ]
  },
  {
   "cell_type": "code",
   "execution_count": 17,
   "id": "5437230b-d1de-46d6-8f2b-07a56e14cc19",
   "metadata": {},
   "outputs": [
    {
     "name": "stderr",
     "output_type": "stream",
     "text": [
      "/opt/conda/lib/python3.10/site-packages/sklearn/metrics/_classification.py:1344: UndefinedMetricWarning: Recall and F-score are ill-defined and being set to 0.0 in labels with no true samples. Use `zero_division` parameter to control this behavior.\n",
      "  _warn_prf(average, modifier, msg_start, len(result))\n"
     ]
    }
   ],
   "source": [
    "l1_pr, l1_rec, l1_f1, l1_sup = precision_recall_fscore_support(\n",
    "    np.array(data['levels1']['logit'].argmax(-1)), \n",
    "    np.array(data['levels1']['labels'])\n",
    ")\n",
    "\n",
    "l2_pr, l2_rec, l2_f1, l2_sup = precision_recall_fscore_support(\n",
    "    np.array(data['levels2']['logit'].argmax(-1)), \n",
    "    np.array(data['levels2']['labels'])\n",
    ")\n",
    "\n",
    "l3_pr, l3_rec, l3_f1, l3_sup = precision_recall_fscore_support(\n",
    "    np.array(data['levels3']['logit'].argmax(-1)), \n",
    "    np.array(data['levels3']['labels'])\n",
    ")\n",
    "\n",
    "l4_pr, l4_rec, l4_f1, l4_sup = precision_recall_fscore_support(\n",
    "    np.array(data['levels4']['logit'].argmax(-1)), \n",
    "    np.array(data['levels4']['labels'])\n",
    ")\n",
    "\n"
   ]
  },
  {
   "cell_type": "code",
   "execution_count": 29,
   "id": "cb536158-a968-423a-8244-8c211679e756",
   "metadata": {},
   "outputs": [],
   "source": [
    "def calculate_f1_score(preds, labels, level_key, key_original, hierarchy, data):\n",
    "    l1_pr, l1_rec, l1_f1, l1_sup = precision_recall_fscore_support(\n",
    "        np.array(preds), \n",
    "        np.array(labels)\n",
    "    )\n",
    "    \n",
    "    f1_averaged = 0\n",
    "    total_instances = 0\n",
    "    for i, key in enumerate(hierarchy[level_key]):\n",
    "        key_number = hierarchy[level_key].index(key)\n",
    "        support_val = (data[key_original]['labels'] == key_number).sum().item()\n",
    "        # print(l1_f1[i], key, l1_sup[i], support_val)\n",
    "        f1_averaged += support_val * l1_f1[i]\n",
    "        total_instances += support_val\n",
    "    f1_averaged = f1_averaged / total_instances\n",
    "    print(level_key, f1_averaged, total_instances)\n",
    "    return f1_averaged, total_instances\n",
    "    "
   ]
  },
  {
   "cell_type": "code",
   "execution_count": 30,
   "id": "564854d2-11c8-4be2-9374-2e13676b1173",
   "metadata": {},
   "outputs": [
    {
     "name": "stderr",
     "output_type": "stream",
     "text": [
      "/opt/conda/lib/python3.10/site-packages/sklearn/metrics/_classification.py:1344: UndefinedMetricWarning: Recall and F-score are ill-defined and being set to 0.0 in labels with no true samples. Use `zero_division` parameter to control this behavior.\n",
      "  _warn_prf(average, modifier, msg_start, len(result))\n"
     ]
    },
    {
     "name": "stdout",
     "output_type": "stream",
     "text": [
      "level1 0.56733774088159 376332\n",
      "level2 0.5445647981840609 199265\n"
     ]
    },
    {
     "name": "stderr",
     "output_type": "stream",
     "text": [
      "/opt/conda/lib/python3.10/site-packages/sklearn/metrics/_classification.py:1344: UndefinedMetricWarning: Recall and F-score are ill-defined and being set to 0.0 in labels with no true samples. Use `zero_division` parameter to control this behavior.\n",
      "  _warn_prf(average, modifier, msg_start, len(result))\n"
     ]
    },
    {
     "name": "stdout",
     "output_type": "stream",
     "text": [
      "level3 0.43429322770035084 60746\n",
      "level4 0.1768860196386531 1783\n",
      "0.5464704704000442\n"
     ]
    },
    {
     "name": "stderr",
     "output_type": "stream",
     "text": [
      "/opt/conda/lib/python3.10/site-packages/sklearn/metrics/_classification.py:1344: UndefinedMetricWarning: Recall and F-score are ill-defined and being set to 0.0 in labels with no true samples. Use `zero_division` parameter to control this behavior.\n",
      "  _warn_prf(average, modifier, msg_start, len(result))\n"
     ]
    },
    {
     "name": "stdout",
     "output_type": "stream",
     "text": [
      "level1 0.5581853041826627 376332\n",
      "level2 0.5317166891057793 199265\n"
     ]
    },
    {
     "name": "stderr",
     "output_type": "stream",
     "text": [
      "/opt/conda/lib/python3.10/site-packages/sklearn/metrics/_classification.py:1344: UndefinedMetricWarning: Recall and F-score are ill-defined and being set to 0.0 in labels with no true samples. Use `zero_division` parameter to control this behavior.\n",
      "  _warn_prf(average, modifier, msg_start, len(result))\n"
     ]
    },
    {
     "name": "stdout",
     "output_type": "stream",
     "text": [
      "level3 0.43445783653106423 60746\n",
      "level4 0.24184303151155342 1783\n",
      "0.5372580020425968\n"
     ]
    }
   ],
   "source": [
    "f1_total = 0\n",
    "f1_instances = 0\n",
    "for key, key_org in zip(\n",
    "    ['level1', 'level2', 'level3', 'level4'], \n",
    "    ['levels1', 'levels2', 'levels3', 'levels4']):\n",
    "    f1, instances = calculate_f1_score(\n",
    "        data[key_org]['logit'].argmax(-1),\n",
    "        data[key_org]['labels'],\n",
    "        key, key_org, hierarchy, data)\n",
    "    f1_total += f1 * instances\n",
    "    f1_instances += instances\n",
    "    \n",
    "print(f1_total / f1_instances)\n",
    "\n",
    "    \n",
    "f1_total = 0\n",
    "f1_instances = 0\n",
    "for key, key_org in zip(\n",
    "    ['level1', 'level2', 'level3', 'level4'], \n",
    "    ['levels1', 'levels2', 'levels3', 'levels4']):\n",
    "    f1, instances = calculate_f1_score(\n",
    "        data[key_org]['preds'],\n",
    "        data[key_org]['labels'],\n",
    "        key, key_org, hierarchy, data)\n",
    "    f1_total += f1 * instances\n",
    "    f1_instances += instances\n",
    "    \n",
    "print(f1_total / f1_instances)"
   ]
  },
  {
   "cell_type": "code",
   "execution_count": 18,
   "id": "e39417cb-1056-46d0-affe-026911fa9353",
   "metadata": {},
   "outputs": [
    {
     "name": "stdout",
     "output_type": "stream",
     "text": [
      "62\n",
      "0.31438127090301005 river 286 611\n",
      "0.025157232704402517 lake 18 141\n",
      "0.7964193808117965 person 33881 29460\n",
      "0.76649166856882 animal 6664 6479\n",
      "0.680766598220397 building 7499 7111\n",
      "0.6813399024535168 food 21500 18891\n",
      "0.6012144152669348 book 21138 16905\n",
      "0.5752164502164503 road 4134 3258\n",
      "0.6231707317073172 computer 805 835\n",
      "0.2016238159675237 liquid 348 1130\n",
      "0.7329836022303607 display 16851 13458\n",
      "0.4115153655951961 people 2210 3452\n",
      "0.08100558659217877 entrance 78 638\n",
      "0.5145145145145146 cloud 1301 1696\n",
      "0.2624113475177305 blanket 394 452\n",
      "0.5130764623677382 stone 2596 2413\n",
      "0.07540394973070019 path 76 481\n",
      "0.509838216003498 lamp 950 1337\n",
      "0.7217664752529395 vehicle 14789 14467\n",
      "0.5910906298003072 clock 1688 1567\n",
      "0.24205748865355523 star 188 473\n",
      "0.17885375494071146 plants 542 1482\n",
      "0.6036720291848573 symbol 8636 8085\n",
      "0.2845262845262845 word 1073 2294\n",
      "0.6108825826607653 room 9333 9872\n",
      "0.4070278184480234 stove 294 389\n",
      "0.49204771371769385 container 10405 9715\n",
      "0.40619561434041074 paper 2737 3009\n",
      "0.5983646770237122 sign 6507 5723\n",
      "0.5512304250559285 bed 1224 1011\n",
      "0.6475486681740473 hair 8688 9445\n",
      "0.5710482529118137 platform 6362 5658\n",
      "0.660983606557377 canopy 1590 1460\n",
      "0.45973934483973233 seat 6740 7455\n",
      "0.7813636363636364 wheel 4672 4128\n",
      "0.5551892390874325 toy 3359 4224\n",
      "0.43452816386247256 dress 544 823\n",
      "0.5870811952912768 hand 7737 5515\n",
      "0.6031908291044503 barrier 14169 13222\n",
      "0.7098287998609543 hat 6078 5429\n",
      "0.34496919917864477 shore 699 762\n",
      "0.5484230055658627 mouth 1337 1358\n",
      "0.45793838862559244 picture 1271 2105\n",
      "0.48788368336025856 outfit 487 751\n",
      "0.6578023824823291 clothes 11043 9188\n",
      "0.46261216350947154 walkway 2011 2001\n",
      "0.5622684066376672 tail 2905 3302\n",
      "0.41971728887278 rope 1380 1379\n",
      "0.4468794664125775 shelf 986 1113\n",
      "0.7757847533632286 pants 7479 6347\n",
      "0.37870668095748483 ground 6550 7445\n",
      "0.4515366430260047 television 327 519\n",
      "0.3529411764705882 utensil 420 481\n",
      "0.47555129434324067 necklace 456 587\n",
      "0.5797476544807506 crust 3115 3067\n",
      "0.6280825364871665 shoes 5932 4003\n",
      "0.21341463414634146 stairs 218 438\n",
      "0.4254535892716277 foot 1685 2118\n",
      "0.583204533745492 finger 1055 886\n",
      "0.09210526315789475 topping 85 371\n",
      "0.7040566294582085 glasses 1886 1787\n",
      "0.35045742434905003 label 530 891\n",
      "0.7977258167841128 sky 6631 5857\n",
      "0.602685145084452 pole 6617 4928\n",
      "0.6934798382916968 leg 4960 4687\n",
      "0.38466557911908644 leaves 2844 3286\n",
      "0.44847133166062636 trees 7285 3476\n",
      "0.814314237444325 eye 3428 3083\n",
      "0.5595990411854435 arm 2208 2381\n",
      "0.4296990626541688 clouds 1974 2080\n",
      "0.5104790419161677 number 2041 1967\n",
      "0.39550140581068416 windows 1270 1931\n",
      "0.3772557030983998 logo 1410 1527\n",
      "0.6117345302981724 roof 1639 1480\n",
      "0.4372727272727273 legs 788 1412\n",
      "0.17930327868852458 post 527 1425\n",
      "0.3080967402733964 bush 741 1161\n",
      "0.38323353293413176 flowers 935 1236\n",
      "0.20313565098841171 field 314 1153\n",
      "0.6113764654798088 neck 1163 1140\n",
      "0.6536382536382537 pillow 1313 1092\n",
      "0.6333484779645615 wing 1207 994\n",
      "0.2780141843971632 street light 539 871\n",
      "0.4073416222616933 glove 811 878\n",
      "0.33030852994555354 branch 834 819\n",
      "0.25480427046263343 rocks 603 802\n",
      "0.7547869054972204 racket 833 786\n",
      "0.6994535519125683 ceiling 1036 794\n",
      "0.6124704025256512 eyes 489 778\n",
      "0.4026946107784431 wheels 575 761\n",
      "0.279508970727101 hands 323 736\n",
      "0.6952380952380953 surfboard 632 628\n",
      "0.18604651162790697 feet 231 715\n",
      "0.5885841363973314 sink 718 631\n",
      "0.6028257456828886 sock 659 615\n",
      "0.4295081967213115 towel 584 636\n",
      "0.5421089879688605 traffic light 778 635\n",
      "0.5366218236173393 collar 757 581\n",
      "0.3423967774420947 mountain 391 602\n",
      "0.38373305526590196 lid 392 567\n",
      "0.21959858323494685 phone 309 538\n",
      "0.23113207547169812 sticker 353 495\n",
      "0.08554572271386432 branches 148 530\n",
      "0.6748844375963019 license plate 750 548\n",
      "0.12139605462822457 wire 164 495\n",
      "0.4551724137931034 fork 524 491\n",
      "0.26919032597266035 wrist 419 532\n",
      "0.24441524310118268 buildings 227 534\n",
      "0.27329192546583847 cars 290 515\n",
      "0.4776119402985075 ears 319 485\n",
      "0.4959443800695249 tower 375 488\n",
      "0.6576576576576576 faucet 618 492\n",
      "0.25364758698092027 cell phone 453 438\n",
      "0.7163865546218487 keyboard 497 455\n",
      "0.391353811149033 arrow 381 498\n",
      "0.004008016032064129 sneakers 5 494\n",
      "0.36604189636163176 knife 452 455\n",
      "0.0 t-shirt 0 469\n",
      "0.5142857142857143 spots 359 481\n",
      "0.33059788980070337 napkin 387 466\n",
      "0.6076759061833689 cone 459 479\n",
      "0.49056603773584906 bananas 261 269\n",
      "0.03982300884955753 sweater 32 420\n",
      "0.5180840664711632 skis 602 421\n",
      "0.4860050890585242 horn 393 393\n",
      "0.0973630831643002 air 71 422\n",
      "0.454244762954796 trash can 482 425\n",
      "0.1950509461426492 camera 234 453\n",
      "0.13448275862068965 paint 120 460\n",
      "0.3584637268847795 ski 277 426\n",
      "0.14904679376083188 tiles 181 396\n",
      "0.6565272496831432 belt 400 389\n",
      "0.1858267716535433 wires 245 390\n",
      "0.0918580375782881 tray 97 382\n",
      "0.41652892561983473 socks 209 396\n",
      "0.39674796747967483 suit 233 382\n",
      "0.4095238095238095 books 271 359\n",
      "0.24210526315789474 bricks 180 390\n",
      "0.16379310344827588 vest 98 366\n",
      "0.13934426229508198 stick 105 383\n",
      "0.0 pavement 4 370\n",
      "0.5346215780998389 refrigerator 288 333\n",
      "0.6347687400318979 wetsuit 310 317\n",
      "0.33942558746736295 mountains 404 362\n",
      "0.11031175059952038 tree trunk 113 304\n",
      "0.1438202247191011 carpet 98 347\n",
      "0.6773162939297125 fire hydrant 320 306\n",
      "0.2715596330275229 remote control 219 326\n",
      "0.2538293216630197 boots 129 328\n",
      "0.6046511627906976 computer mouse 411 320\n",
      "0.025641025641025644 street sign 9 303\n",
      "0.3653543307086614 outlet 359 276\n",
      "0.4403292181069959 snowboard 215 271\n",
      "0.5030181086519114 net 203 294\n",
      "0.4652014652014652 horns 250 296\n",
      "0.03680981595092025 doors 37 289\n",
      "0.25892857142857145 scarf 154 294\n",
      "0.3485838779956427 graffiti 205 254\n",
      "0.16867469879518074 luggage 126 289\n",
      "0.2772727272727273 bracelet 188 252\n",
      "0.37681159420289856 wristband 173 241\n",
      "0.07947019867549669 parking lot 53 249\n",
      "0.39846743295019155 park 275 247\n",
      "0.4382608695652173 train tracks 321 254\n",
      "0.3221153846153846 statue 163 253\n",
      "0.2236024844720497 arms 67 255\n",
      "0.02877697841726619 skier 32 246\n",
      "0.5045871559633027 teeth 186 250\n",
      "0.09352517985611511 men 42 236\n",
      "0.5350553505535055 chimney 277 265\n",
      "0.1736694677871148 chairs 110 247\n",
      "0.21574344023323616 feathers 138 205\n",
      "0.6891566265060242 home plate 194 221\n",
      "0.3566265060240964 speaker 167 248\n",
      "0.10833333333333334 fingers 33 207\n",
      "0.6457831325301204 catcher 203 212\n",
      "0.1238390092879257 trash 110 213\n",
      "0.044444444444444446 forest 13 212\n",
      "0.3529411764705882 blinds 146 211\n",
      "0.25061425061425063 log 176 231\n",
      "0.5191256830601092 bathtub 168 198\n",
      "0.30303030303030304 cabinets 187 209\n",
      "0.0737704918032787 countertop 26 218\n",
      "0.27011494252873564 tent 141 207\n",
      "0.1559322033898305 curtains 86 209\n",
      "0.13664596273291926 step 159 163\n",
      "0.2593659942363113 pen 132 215\n",
      "0.44835164835164837 light switch 233 222\n",
      "0.23437499999999997 crowd 194 190\n",
      "0.5628140703517589 propeller 197 201\n",
      "0.13157894736842105 tablecloth 47 181\n",
      "0.2662337662337662 train car 135 173\n",
      "0.5648854961832062 microwave 225 168\n",
      "0.6458923512747876 earring 165 188\n",
      "0.26373626373626374 store 98 175\n",
      "0.011627906976744188 spectator 15 157\n",
      "0.5519287833827893 headboard 143 194\n",
      "0.248995983935743 straw 70 179\n",
      "0.26785714285714285 stop sign 83 141\n",
      "0.2986111111111111 pillows 113 175\n",
      "0.12962962962962962 couple 46 170\n",
      "0.20967741935483872 bottles 79 169\n",
      "0.13296398891966757 power lines 195 166\n",
      "0.27906976744186046 tennis ball 136 165\n",
      "0.06217616580310881 papers 37 156\n",
      "0.020618556701030927 decoration 16 178\n",
      "0.4158415841584159 burner 151 152\n",
      "0.24680851063829787 birds 75 160\n",
      "0.6038961038961039 umpire 151 157\n",
      "0.3287671232876712 tongue 62 157\n",
      "0.14705882352941174 wings 49 155\n",
      "0.18400000000000002 controller 80 170\n",
      "0.20408163265306123 spectators 110 135\n",
      "0.2690582959641255 american flag 81 142\n",
      "0.4333333333333333 mask 93 147\n",
      "0.0 stones 4 138\n",
      "0.22580645161290325 batter 48 138\n",
      "0.045112781954887216 wine glass 19 114\n",
      "0.07453416149068322 tank top 33 128\n",
      "0.3277310924369748 scissors 102 136\n",
      "0.0446927374301676 hills 33 146\n",
      "0.15730337078651682 plates 38 140\n",
      "0.3459915611814346 cross 98 139\n",
      "0.2971428571428571 boats 68 107\n",
      "0.0 telephone pole 3 153\n",
      "0.43181818181818177 crosswalk 105 159\n",
      "0.16049382716049382 lips 29 133\n",
      "0.13903743315508021 hay 31 156\n",
      "0.39869281045751637 toilet paper 157 149\n",
      "0.025477707006369428 tape 29 128\n",
      "0.0 hillside 1 137\n",
      "0.025 surfer 13 147\n",
      "0.2679425837320574 apples 87 122\n",
      "0.26556016597510373 donuts 100 141\n",
      "0.4852941176470588 station 126 146\n",
      "0.41904761904761906 mustache 91 119\n",
      "0.015625 children 7 121\n",
      "0.0903954802259887 tires 26 151\n",
      "0.0 walls 0 140\n",
      "0.050314465408805034 flags 50 109\n",
      "0.041666666666666664 boxes 15 129\n",
      "0.032520325203252036 bags 14 109\n",
      "0.08917197452229299 sandals 20 137\n",
      "0.35416666666666663 oranges 88 104\n",
      "0.20765027322404372 paws 81 102\n",
      "0.04687499999999999 houses 11 117\n",
      "0.0774193548387097 baseball bat 32 123\n",
      "0.15757575757575756 moss 59 106\n",
      "0.2637362637362638 apron 57 125\n",
      "0.5175438596491229 airport 107 121\n",
      "0.13333333333333333 light bulb 72 78\n",
      "0.21965317919075145 drawers 47 126\n",
      "0.04477611940298507 shelves 27 107\n",
      "0.24793388429752067 light fixture 112 130\n",
      "0.31884057971014496 umbrellas 76 131\n",
      "0.016666666666666666 fence post 13 107\n",
      "0.09271523178807947 hose 36 115\n",
      "0.04411764705882353 power line 39 97\n",
      "0.0 icing 35 118\n",
      "0.42790697674418604 nightstand 93 122\n",
      "0.017094017094017092 vehicles 15 102\n",
      "0.4396551724137931 magnet 110 122\n",
      "0.10738255033557048 beer 35 114\n",
      "0.22429906542056074 hook 98 116\n",
      "0.0 peppers 1 92\n",
      "0.3618090452261306 coffee table 81 118\n",
      "0.0 sweatshirt 1 111\n",
      "0.3452380952380952 cows 61 107\n",
      "0.2073170731707317 towels 43 121\n",
      "0.19767441860465115 soap 64 108\n",
      "0.45901639344262296 sail 72 111\n",
      "0.36190476190476195 kites 75 135\n",
      "0.2878787878787879 mound 43 89\n",
      "0.0 tree branch 1 85\n",
      "0.56733774088159 376332\n"
     ]
    }
   ],
   "source": [
    "f1_averaged = 0\n",
    "total_instances = 0\n",
    "print(len(list(hierarchy_flat['level1'].keys())))\n",
    "for i, key in enumerate(hierarchy['level1']):\n",
    "    key_number = hierarchy['level1'].index(key)\n",
    "    support_val = (data['levels1']['labels'] == key_number).sum().item()\n",
    "    # print(l1_f1[i], key, l1_sup[i], support_val)\n",
    "    f1_averaged += support_val * l1_f1[i]\n",
    "    total_instances += support_val\n",
    "f1_averaged = f1_averaged / total_instances\n",
    "print(f1_averaged, total_instances)"
   ]
  },
  {
   "cell_type": "code",
   "execution_count": 30,
   "id": "2c0cdbd4-5de9-4a46-b624-9b8b2576c665",
   "metadata": {},
   "outputs": [
    {
     "data": {
      "text/plain": [
       "0"
      ]
     },
     "execution_count": 30,
     "metadata": {},
     "output_type": "execute_result"
    }
   ],
   "source": []
  },
  {
   "cell_type": "code",
   "execution_count": 33,
   "id": "5027c382-1793-45fc-8813-3e5f9be7cac0",
   "metadata": {},
   "outputs": [
    {
     "data": {
      "text/plain": [
       "tensor(611)"
      ]
     },
     "execution_count": 33,
     "metadata": {},
     "output_type": "execute_result"
    }
   ],
   "source": []
  },
  {
   "cell_type": "code",
   "execution_count": null,
   "id": "47b6fe3d-3c91-4b05-a13a-0292da8e3982",
   "metadata": {},
   "outputs": [],
   "source": []
  }
 ],
 "metadata": {
  "kernelspec": {
   "display_name": "Python 3 (ipykernel)",
   "language": "python",
   "name": "python3"
  },
  "language_info": {
   "codemirror_mode": {
    "name": "ipython",
    "version": 3
   },
   "file_extension": ".py",
   "mimetype": "text/x-python",
   "name": "python",
   "nbconvert_exporter": "python",
   "pygments_lexer": "ipython3",
   "version": "3.10.6"
  }
 },
 "nbformat": 4,
 "nbformat_minor": 5
}
