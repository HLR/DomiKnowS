{
 "cells": [
  {
   "cell_type": "code",
   "execution_count": 1,
   "id": "cb10e85e-8183-474e-b2c3-fd6152aace5a",
   "metadata": {},
   "outputs": [],
   "source": [
    "import torch\n",
    "import json"
   ]
  },
  {
   "cell_type": "code",
   "execution_count": 2,
   "id": "3caf2296-ac3b-4117-ad07-4eda8c4e4e39",
   "metadata": {},
   "outputs": [],
   "source": [
    "with open(\"hierarchy_flat.json\") as f:\n",
    "    hierarchy_flat = json.load(f)"
   ]
  },
  {
   "cell_type": "code",
   "execution_count": 3,
   "id": "18c683e7-51c5-4efe-8543-36795e0f5ecc",
   "metadata": {},
   "outputs": [],
   "source": [
    "with open(f\"concepts.json\") as f:\n",
    "    hierarchy = json.load(f)"
   ]
  },
  {
   "cell_type": "code",
   "execution_count": 4,
   "id": "c6f2d38f-2008-4e39-99ef-c153d70b1121",
   "metadata": {},
   "outputs": [],
   "source": [
    "reverse_flat_hierarchy = {\"level1\": {}, \"level2\": {}, \"level3\": {}}\n",
    "for _level in hierarchy_flat.keys():\n",
    "    if _level == \"level4\":\n",
    "        continue\n",
    "    reverse_flat_hierarchy[_level] = {}\n",
    "    for key, value in hierarchy_flat[_level].items():\n",
    "        for val in value:\n",
    "            reverse_flat_hierarchy[_level][val] = key"
   ]
  },
  {
   "cell_type": "code",
   "execution_count": 5,
   "id": "b9182a3f-8600-4258-b4e3-3aefcb5d8273",
   "metadata": {},
   "outputs": [],
   "source": [
    "levels_none_index = {'level1': -1, 'level2': -1, 'level3': -1, 'level4': -1}\n",
    "for key in hierarchy_flat:\n",
    "    if key != \"level1\":\n",
    "        levels_none_index[key] = len(hierarchy_flat[key])"
   ]
  },
  {
   "cell_type": "code",
   "execution_count": 6,
   "id": "93efb9d3-9e89-4330-91a7-1b8c96562699",
   "metadata": {},
   "outputs": [
    {
     "data": {
      "text/plain": [
       "{'level1': -1, 'level2': 157, 'level3': 62, 'level4': 7}"
      ]
     },
     "execution_count": 6,
     "metadata": {},
     "output_type": "execute_result"
    }
   ],
   "source": [
    "levels_none_index"
   ]
  },
  {
   "cell_type": "code",
   "execution_count": 7,
   "id": "e59d72a9-2546-45eb-acd1-8ddf106a3f73",
   "metadata": {},
   "outputs": [],
   "source": [
    "file = \"data/test_logits.pt\"\n",
    "data = torch.load(file)"
   ]
  },
  {
   "cell_type": "code",
   "execution_count": 8,
   "id": "f4a3d5f5-b99a-4bf1-934a-443b22b26b5f",
   "metadata": {},
   "outputs": [
    {
     "name": "stdout",
     "output_type": "stream",
     "text": [
      "dict_keys(['levels1', 'levels2', 'levels3', 'levels4'])\n",
      "dict_keys(['logit', 'labels'])\n"
     ]
    }
   ],
   "source": [
    "print(data.keys())\n",
    "print(data['levels1'].keys())"
   ]
  },
  {
   "cell_type": "code",
   "execution_count": 9,
   "id": "818c42aa-70f5-4f03-8c17-0210695b5084",
   "metadata": {},
   "outputs": [],
   "source": [
    "key_map = {'levels1': 'level1', 'levels2': 'level2', 'levels3': 'level3', 'levels4': 'level4'}"
   ]
  },
  {
   "cell_type": "code",
   "execution_count": 10,
   "id": "41c9a5dc-9cd6-4359-ae16-388b11edfadc",
   "metadata": {},
   "outputs": [],
   "source": [
    "for level in data.keys():\n",
    "    data[level]['preds'] = data[level]['logit'].argmax(-1)\n",
    "    data[level]['labels'][data[level]['labels'] == -1] = levels_none_index[key_map[level]]"
   ]
  },
  {
   "cell_type": "code",
   "execution_count": 11,
   "id": "320e1b6a-33d5-4bba-8d54-bf29f46064dd",
   "metadata": {},
   "outputs": [],
   "source": [
    "back_step = {'levels3': 'levels2', 'levels4': 'levels3'}\n",
    "for level in data.keys():\n",
    "    if level in back_step:\n",
    "        back_step_key = back_step[level]\n",
    "        back_step_none = levels_none_index[key_map[back_step_key]]\n",
    "        current_step_none = levels_none_index[key_map[level]]\n",
    "        data[level]['preds'][data[back_step_key]['preds'] == back_step_none] = current_step_none"
   ]
  },
  {
   "cell_type": "code",
   "execution_count": 12,
   "id": "49ded82d-ea1a-48ff-ac70-7f61de86eec9",
   "metadata": {},
   "outputs": [],
   "source": [
    "reverse_flat_hierarchy_numbered = {'level1': {}, 'level2': {}, 'level3': {}}\n",
    "for level in reverse_flat_hierarchy_numbered:\n",
    "    for key, val in reverse_flat_hierarchy[level].items():\n",
    "        try:\n",
    "            if level == 'level1':\n",
    "                key_space = hierarchy['level2']\n",
    "                val_space = hierarchy['level1']\n",
    "            elif level == 'level2':\n",
    "                key_space = hierarchy['level3']\n",
    "                val_space = hierarchy['level2']\n",
    "            elif level == 'level3':\n",
    "                key_space = hierarchy['level4']\n",
    "                val_space = hierarchy['level3']\n",
    "            key_number = key_space.index(key)\n",
    "            val_number = val_space.index(val)\n",
    "            reverse_flat_hierarchy_numbered[level][key_number] = val_number\n",
    "        except:\n",
    "            print(key, val)\n",
    "            print(level)\n",
    "            print(key_space)\n",
    "            print(val_space)\n",
    "            raise"
   ]
  },
  {
   "cell_type": "code",
   "execution_count": 13,
   "id": "adefcfd5-fc6e-4ff4-862d-9a82ed75f8d5",
   "metadata": {},
   "outputs": [],
   "source": [
    "map_back_step = {'level3': 'level2', 'level4': 'level3', 'level2': 'level1'}\n",
    "map_back_step_original = {'levels3': 'levels2', 'levels4': 'levels3', 'levels2': 'levels1'}\n",
    "for level in ['levels4', 'levels3', 'levels2', 'levels1']:\n",
    "    level_maped = key_map[level] ### levels4 --> level4\n",
    "    if level_maped in map_back_step:\n",
    "        level_back_original = map_back_step_original[level] ### levels4 --> levels3\n",
    "        maped_back_step_level = map_back_step[level_maped] ### level4 --> level3\n",
    "        for key in hierarchy_flat[level_maped]:\n",
    "            if key in reverse_flat_hierarchy[maped_back_step_level]:\n",
    "                key_number = hierarchy[level_maped].index(key)\n",
    "                val_number = reverse_flat_hierarchy_numbered[maped_back_step_level][key_number]\n",
    "                data[level_back_original]['preds'][data[level]['preds'] == key_number] = val_number\n",
    "                \n",
    "                \n",
    "                "
   ]
  },
  {
   "cell_type": "code",
   "execution_count": 14,
   "id": "2162afb2-2b7d-439f-92da-e2e62c1f8a44",
   "metadata": {},
   "outputs": [
    {
     "name": "stdout",
     "output_type": "stream",
     "text": [
      "{'level1': -1, 'level2': 157, 'level3': 62, 'level4': 7}\n"
     ]
    }
   ],
   "source": [
    "print(levels_none_index)\n",
    "for k in range(0, 10):\n",
    "    level1 = data['levels1']['preds'][k].item()\n",
    "    level2 = data['levels2']['preds'][k].item()\n",
    "    level3 = data['levels3']['preds'][k].item()\n",
    "    level4 = data['levels4']['preds'][k].item()\n",
    "    \n",
    "    original_level1 = data['levels1']['logit'].argmax(-1)[k].item()\n",
    "    original_level2 = data['levels2']['logit'].argmax(-1)[k].item()\n",
    "    original_level3 = data['levels3']['logit'].argmax(-1)[k].item()\n",
    "    original_level4 = data['levels4']['logit'].argmax(-1)[k].item()\n",
    "    \n",
    "    if (torch.tensor([level1, level2, level3, level4]) != torch.tensor([original_level1, original_level2, original_level3, original_level4])).sum() != 0:\n",
    "        parents = []\n",
    "        if level4 == len(hierarchy_flat['level4']):\n",
    "            parents.insert(0, level3)\n",
    "        else:\n",
    "            parent_key = reverse_flat_hierarchy_numbered['level3'][level4]\n",
    "            parents.insert(0, parent_key)\n",
    "\n",
    "        if level3 == len(hierarchy_flat['level3']):\n",
    "            parents.insert(0, level2)\n",
    "        else:\n",
    "            parent_key = reverse_flat_hierarchy_numbered['level2'][level3]\n",
    "            parents.insert(0, parent_key)\n",
    "\n",
    "        if level2 == len(hierarchy_flat['level2']):\n",
    "            parents.insert(0, level1)\n",
    "        else:\n",
    "            parent_key = reverse_flat_hierarchy_numbered['level1'][level2]\n",
    "            parents.insert(0, parent_key)\n",
    "\n",
    "        print(f\" {k} updated preds are: {level1}, {level2}, {level3}, {level4}\")\n",
    "        print(f\"original preds were: {original_level1}, {original_level2}, {original_level3}, {original_level4}\")\n",
    "        print(f\"parent are {parents} \\n\")\n",
    "    \n",
    "    "
   ]
  },
  {
   "cell_type": "code",
   "execution_count": 15,
   "id": "57d06f81-12a7-4504-a137-f2596dc19364",
   "metadata": {},
   "outputs": [
    {
     "name": "stdout",
     "output_type": "stream",
     "text": [
      "35\n",
      "ball\n",
      "toy\n"
     ]
    }
   ],
   "source": [
    "print(reverse_flat_hierarchy_numbered['level1'][131])\n",
    "print(hierarchy['level2'][131])\n",
    "print(hierarchy['level1'][reverse_flat_hierarchy_numbered['level1'][131]])"
   ]
  },
  {
   "cell_type": "code",
   "execution_count": 16,
   "id": "e95bd832-6853-4ad7-b346-d563e1da27ce",
   "metadata": {},
   "outputs": [],
   "source": [
    "from sklearn.metrics import precision_recall_fscore_support\n",
    "import numpy as np"
   ]
  },
  {
   "cell_type": "code",
   "execution_count": 17,
   "id": "5437230b-d1de-46d6-8f2b-07a56e14cc19",
   "metadata": {},
   "outputs": [
    {
     "name": "stderr",
     "output_type": "stream",
     "text": [
      "/opt/conda/lib/python3.10/site-packages/sklearn/metrics/_classification.py:1344: UndefinedMetricWarning: Recall and F-score are ill-defined and being set to 0.0 in labels with no true samples. Use `zero_division` parameter to control this behavior.\n",
      "  _warn_prf(average, modifier, msg_start, len(result))\n"
     ]
    }
   ],
   "source": [
    "l1_pr, l1_rec, l1_f1, l1_sup = precision_recall_fscore_support(\n",
    "    np.array(data['levels1']['logit'].argmax(-1)), \n",
    "    np.array(data['levels1']['labels'])\n",
    ")\n",
    "\n",
    "l2_pr, l2_rec, l2_f1, l2_sup = precision_recall_fscore_support(\n",
    "    np.array(data['levels2']['logit'].argmax(-1)), \n",
    "    np.array(data['levels2']['labels'])\n",
    ")\n",
    "\n",
    "l3_pr, l3_rec, l3_f1, l3_sup = precision_recall_fscore_support(\n",
    "    np.array(data['levels3']['logit'].argmax(-1)), \n",
    "    np.array(data['levels3']['labels'])\n",
    ")\n",
    "\n",
    "l4_pr, l4_rec, l4_f1, l4_sup = precision_recall_fscore_support(\n",
    "    np.array(data['levels4']['logit'].argmax(-1)), \n",
    "    np.array(data['levels4']['labels'])\n",
    ")\n",
    "\n"
   ]
  },
  {
   "cell_type": "code",
   "execution_count": 29,
   "id": "cb536158-a968-423a-8244-8c211679e756",
   "metadata": {},
   "outputs": [],
   "source": [
    "def calculate_f1_score(preds, labels, level_key, key_original, hierarchy, data):\n",
    "    l1_pr, l1_rec, l1_f1, l1_sup = precision_recall_fscore_support(\n",
    "        np.array(preds), \n",
    "        np.array(labels)\n",
    "    )\n",
    "    \n",
    "    f1_averaged = 0\n",
    "    total_instances = 0\n",
    "    for i, key in enumerate(hierarchy[level_key]):\n",
    "        key_number = hierarchy[level_key].index(key)\n",
    "        support_val = (data[key_original]['labels'] == key_number).sum().item()\n",
    "        # print(l1_f1[i], key, l1_sup[i], support_val)\n",
    "        f1_averaged += support_val * l1_f1[i]\n",
    "        total_instances += support_val\n",
    "    f1_averaged = f1_averaged / total_instances\n",
    "    print(level_key, f1_averaged, total_instances)\n",
    "    return f1_averaged, total_instances\n",
    "    "
   ]
  },
  {
   "cell_type": "code",
   "execution_count": 30,
   "id": "564854d2-11c8-4be2-9374-2e13676b1173",
   "metadata": {},
   "outputs": [
    {
     "name": "stderr",
     "output_type": "stream",
     "text": [
      "/opt/conda/lib/python3.10/site-packages/sklearn/metrics/_classification.py:1344: UndefinedMetricWarning: Recall and F-score are ill-defined and being set to 0.0 in labels with no true samples. Use `zero_division` parameter to control this behavior.\n",
      "  _warn_prf(average, modifier, msg_start, len(result))\n"
     ]
    },
    {
     "name": "stdout",
     "output_type": "stream",
     "text": [
      "level1 0.56733774088159 376332\n",
      "level2 0.5445647981840609 199265\n"
     ]
    },
    {
     "name": "stderr",
     "output_type": "stream",
     "text": [
      "/opt/conda/lib/python3.10/site-packages/sklearn/metrics/_classification.py:1344: UndefinedMetricWarning: Recall and F-score are ill-defined and being set to 0.0 in labels with no true samples. Use `zero_division` parameter to control this behavior.\n",
      "  _warn_prf(average, modifier, msg_start, len(result))\n"
     ]
    },
    {
     "name": "stdout",
     "output_type": "stream",
     "text": [
      "level3 0.43429322770035084 60746\n",
      "level4 0.1768860196386531 1783\n",
      "0.5464704704000442\n"
     ]
    },
    {
     "name": "stderr",
     "output_type": "stream",
     "text": [
      "/opt/conda/lib/python3.10/site-packages/sklearn/metrics/_classification.py:1344: UndefinedMetricWarning: Recall and F-score are ill-defined and being set to 0.0 in labels with no true samples. Use `zero_division` parameter to control this behavior.\n",
      "  _warn_prf(average, modifier, msg_start, len(result))\n"
     ]
    },
    {
     "name": "stdout",
     "output_type": "stream",
     "text": [
      "level1 0.5581853041826627 376332\n",
      "level2 0.5317166891057793 199265\n"
     ]
    },
    {
     "name": "stderr",
     "output_type": "stream",
     "text": [
      "/opt/conda/lib/python3.10/site-packages/sklearn/metrics/_classification.py:1344: UndefinedMetricWarning: Recall and F-score are ill-defined and being set to 0.0 in labels with no true samples. Use `zero_division` parameter to control this behavior.\n",
      "  _warn_prf(average, modifier, msg_start, len(result))\n"
     ]
    },
    {
     "name": "stdout",
     "output_type": "stream",
     "text": [
      "level3 0.43445783653106423 60746\n",
      "level4 0.24184303151155342 1783\n",
      "0.5372580020425968\n"
     ]
    }
   ],
   "source": [
    "f1_total = 0\n",
    "f1_instances = 0\n",
    "for key, key_org in zip(\n",
    "    ['level1', 'level2', 'level3', 'level4'], \n",
    "    ['levels1', 'levels2', 'levels3', 'levels4']):\n",
    "    f1, instances = calculate_f1_score(\n",
    "        data[key_org]['logit'].argmax(-1),\n",
    "        data[key_org]['labels'],\n",
    "        key, key_org, hierarchy, data)\n",
    "    f1_total += f1 * instances\n",
    "    f1_instances += instances\n",
    "    \n",
    "print(f1_total / f1_instances)\n",
    "\n",
    "    \n",
    "f1_total = 0\n",
    "f1_instances = 0\n",
    "for key, key_org in zip(\n",
    "    ['level1', 'level2', 'level3', 'level4'], \n",
    "    ['levels1', 'levels2', 'levels3', 'levels4']):\n",
    "    f1, instances = calculate_f1_score(\n",
    "        data[key_org]['preds'],\n",
    "        data[key_org]['labels'],\n",
    "        key, key_org, hierarchy, data)\n",
    "    f1_total += f1 * instances\n",
    "    f1_instances += instances\n",
    "    \n",
    "print(f1_total / f1_instances)"
   ]
  },
  {
   "cell_type": "code",
   "execution_count": 30,
   "id": "2c0cdbd4-5de9-4a46-b624-9b8b2576c665",
   "metadata": {},
   "outputs": [
    {
     "data": {
      "text/plain": [
       "0"
      ]
     },
     "execution_count": 30,
     "metadata": {},
     "output_type": "execute_result"
    }
   ],
   "source": []
  },
  {
   "cell_type": "code",
   "execution_count": 33,
   "id": "5027c382-1793-45fc-8813-3e5f9be7cac0",
   "metadata": {},
   "outputs": [
    {
     "data": {
      "text/plain": [
       "tensor(611)"
      ]
     },
     "execution_count": 33,
     "metadata": {},
     "output_type": "execute_result"
    }
   ],
   "source": []
  },
  {
   "cell_type": "code",
   "execution_count": null,
   "id": "47b6fe3d-3c91-4b05-a13a-0292da8e3982",
   "metadata": {},
   "outputs": [],
   "source": []
  }
 ],
 "metadata": {
  "kernelspec": {
   "display_name": "Python 3 (ipykernel)",
   "language": "python",
   "name": "python3"
  },
  "language_info": {
   "codemirror_mode": {
    "name": "ipython",
    "version": 3
   },
   "file_extension": ".py",
   "mimetype": "text/x-python",
   "name": "python",
   "nbconvert_exporter": "python",
   "pygments_lexer": "ipython3",
   "version": "3.10.6"
  }
 },
 "nbformat": 4,
 "nbformat_minor": 5
}
