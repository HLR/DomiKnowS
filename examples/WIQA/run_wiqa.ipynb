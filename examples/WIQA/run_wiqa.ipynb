{
 "cells": [
  {
   "cell_type": "code",
   "execution_count": null,
   "metadata": {},
   "outputs": [
    {
     "name": "stdout",
     "output_type": "stream",
     "text": [
      "Collecting acls==1.0.2 (from -r /home/zhengchen/codes/python_codes/domiknows_project/DomiKnowS/requirements.txt (line 1))\n",
      "  Using cached https://files.pythonhosted.org/packages/0b/03/1ab1f5cdffac551b7351444cccdac01d0b0f3ddf85b84a6a7d4aa858aa65/acls-1.0.2.tar.gz\n",
      "Collecting Owlready2==0.30 (from -r /home/zhengchen/codes/python_codes/domiknows_project/DomiKnowS/requirements.txt (line 2))\n",
      "\u001b[?25l  Downloading https://files.pythonhosted.org/packages/b5/b0/9ebdf9f3c104adac9ff529f7ffd11e70e0d056cebd4446ad8312ab449516/Owlready2-0.30.tar.gz (23.7MB)\n",
      "\u001b[K     |████████████████████████████████| 23.7MB 15.8MB/s eta 0:00:01\n",
      "\u001b[?25hCollecting gurobipy (from -r /home/zhengchen/codes/python_codes/domiknows_project/DomiKnowS/requirements.txt (line 3))\n",
      "\u001b[?25l  Downloading https://files.pythonhosted.org/packages/01/4a/31c1ac445352f5c7e73afe9a0a013b3f4de955826c28bebfc3e44d30b11b/gurobipy-9.1.2-cp37-cp37m-manylinux1_x86_64.whl (11.1MB)\n",
      "\u001b[K     |████████████████████████████████| 11.1MB 39.7MB/s eta 0:00:01\n",
      "\u001b[?25hCollecting pandas>=1.1.5 (from -r /home/zhengchen/codes/python_codes/domiknows_project/DomiKnowS/requirements.txt (line 4))\n",
      "\u001b[?25l  Downloading https://files.pythonhosted.org/packages/99/f0/f99700ef327e51d291efdf4a6de29e685c4d198cbf8531541fc84d169e0e/pandas-1.3.5.tar.gz (4.7MB)\n",
      "\u001b[K     |████████████████████████████████| 4.7MB 38.0MB/s eta 0:00:01\n",
      "\u001b[?25h  Installing build dependencies ... \u001b[?25ldone\n",
      "\u001b[?25h  Getting requirements to build wheel ... \u001b[?25ldone\n",
      "\u001b[?25h    Preparing wheel metadata ... \u001b[?25ldone\n",
      "\u001b[?25hCollecting torch>=1.8.1 (from -r /home/zhengchen/codes/python_codes/domiknows_project/DomiKnowS/requirements.txt (line 5))\n",
      "\u001b[?25l  Downloading https://files.pythonhosted.org/packages/01/73/a8dcb6da2193980309bf2d605d0ff56698a7c6977ea954413b163baddf77/torch-1.10.2-cp37-cp37m-manylinux1_x86_64.whl (881.9MB)\n",
      "\u001b[K     |████████████████████████████████| 881.9MB 55kB/s s eta 0:00:012     |████████████████████████████▎   | 780.0MB 58.1MB/s eta 0:00:02     |████████████████████████████▉   | 795.2MB 58.1MB/s eta 0:00:02     |███████████████████████████████▊| 875.1MB 47.3MB/s eta 0:00:01\n",
      "\u001b[?25hCollecting transformers==4.6 (from -r /home/zhengchen/codes/python_codes/domiknows_project/DomiKnowS/requirements.txt (line 6))\n",
      "\u001b[?25l  Downloading https://files.pythonhosted.org/packages/b0/9e/5b80becd952d5f7250eaf8fc64b957077b12ccfe73e9c03d37146ab29712/transformers-4.6.0-py3-none-any.whl (2.3MB)\n",
      "\u001b[K     |████████████████████████████████| 2.3MB 39.4MB/s eta 0:00:01\n",
      "\u001b[?25hCollecting ordered-set (from -r /home/zhengchen/codes/python_codes/domiknows_project/DomiKnowS/requirements.txt (line 7))\n",
      "  Downloading https://files.pythonhosted.org/packages/33/55/af02708f230eb77084a299d7b08175cff006dea4f2721074b92cdb0296c0/ordered_set-4.1.0-py3-none-any.whl\n",
      "Requirement already satisfied: setuptools in /opt/conda/lib/python3.7/site-packages (from -r /home/zhengchen/codes/python_codes/domiknows_project/DomiKnowS/requirements.txt (line 8)) (41.2.0)\n",
      "Collecting graphviz (from -r /home/zhengchen/codes/python_codes/domiknows_project/DomiKnowS/requirements.txt (line 9))\n",
      "\u001b[?25l  Downloading https://files.pythonhosted.org/packages/9d/fb/886e8ec7862989afc0c35d15813b6c665fe134cc6027cdde2fa300abe9a2/graphviz-0.19.1-py3-none-any.whl (46kB)\n",
      "\u001b[K     |████████████████████████████████| 51kB 17.0MB/s eta 0:00:01\n",
      "\u001b[?25hRequirement already satisfied: pymongo[tls] in /home/zhengchen/.local/lib/python3.7/site-packages (from -r /home/zhengchen/codes/python_codes/domiknows_project/DomiKnowS/requirements.txt (line 10)) (3.11.0)\n",
      "Collecting dnspython (from -r /home/zhengchen/codes/python_codes/domiknows_project/DomiKnowS/requirements.txt (line 11))\n",
      "\u001b[?25l  Downloading https://files.pythonhosted.org/packages/90/ad/013786c1a6ffa9de70bcd852c8a40e8798e25d823ce8497d907e6cd450da/dnspython-2.2.0-py3-none-any.whl (266kB)\n",
      "\u001b[K     |████████████████████████████████| 276kB 70.5MB/s eta 0:00:01\n",
      "\u001b[?25hCollecting numpy>=1.17.3; platform_machine != \"aarch64\" and platform_machine != \"arm64\" and python_version < \"3.10\" (from pandas>=1.1.5->-r /home/zhengchen/codes/python_codes/domiknows_project/DomiKnowS/requirements.txt (line 4))\n",
      "\u001b[?25l  Downloading https://files.pythonhosted.org/packages/50/46/292cff79f5b30151b027400efdb3f740ea03271b600751b6696cf550c10d/numpy-1.21.5-cp37-cp37m-manylinux_2_12_x86_64.manylinux2010_x86_64.whl (15.7MB)\n",
      "\u001b[K     |████████████████████████████████| 15.7MB 60.2MB/s eta 0:00:01\n",
      "\u001b[?25hRequirement already satisfied: pytz>=2017.3 in /opt/conda/lib/python3.7/site-packages (from pandas>=1.1.5->-r /home/zhengchen/codes/python_codes/domiknows_project/DomiKnowS/requirements.txt (line 4)) (2019.2)\n",
      "Requirement already satisfied: python-dateutil>=2.7.3 in /home/zhengchen/.local/lib/python3.7/site-packages (from pandas>=1.1.5->-r /home/zhengchen/codes/python_codes/domiknows_project/DomiKnowS/requirements.txt (line 4)) (2.8.1)\n",
      "Collecting typing-extensions (from torch>=1.8.1->-r /home/zhengchen/codes/python_codes/domiknows_project/DomiKnowS/requirements.txt (line 5))\n",
      "  Using cached https://files.pythonhosted.org/packages/45/6b/44f7f8f1e110027cf88956b59f2fad776cca7e1704396d043f89effd3a0e/typing_extensions-4.1.1-py3-none-any.whl\n",
      "Requirement already satisfied: requests in /home/zhengchen/.local/lib/python3.7/site-packages (from transformers==4.6->-r /home/zhengchen/codes/python_codes/domiknows_project/DomiKnowS/requirements.txt (line 6)) (2.24.0)\n",
      "Collecting tokenizers<0.11,>=0.10.1 (from transformers==4.6->-r /home/zhengchen/codes/python_codes/domiknows_project/DomiKnowS/requirements.txt (line 6))\n",
      "  Using cached https://files.pythonhosted.org/packages/d4/e2/df3543e8ffdab68f5acc73f613de9c2b155ac47f162e725dcac87c521c11/tokenizers-0.10.3-cp37-cp37m-manylinux_2_5_x86_64.manylinux1_x86_64.manylinux_2_12_x86_64.manylinux2010_x86_64.whl\n",
      "Collecting huggingface-hub==0.0.8 (from transformers==4.6->-r /home/zhengchen/codes/python_codes/domiknows_project/DomiKnowS/requirements.txt (line 6))\n",
      "  Downloading https://files.pythonhosted.org/packages/a1/88/7b1e45720ecf59c6c6737ff332f41c955963090a18e72acbcbeac6b25e86/huggingface_hub-0.0.8-py3-none-any.whl\n",
      "Collecting sacremoses (from transformers==4.6->-r /home/zhengchen/codes/python_codes/domiknows_project/DomiKnowS/requirements.txt (line 6))\n",
      "  Using cached https://files.pythonhosted.org/packages/ec/e5/407e634cbd3b96a9ce6960874c5b66829592ead9ac762bd50662244ce20b/sacremoses-0.0.47-py2.py3-none-any.whl\n",
      "Collecting filelock (from transformers==4.6->-r /home/zhengchen/codes/python_codes/domiknows_project/DomiKnowS/requirements.txt (line 6))\n",
      "  Downloading https://files.pythonhosted.org/packages/d4/0b/6cb548cc9bb8450f9823b39f48e397be9fb8d042f7a9c405ba0a53270ad4/filelock-3.5.0-py3-none-any.whl\n",
      "Requirement already satisfied: regex!=2019.12.17 in /opt/conda/lib/python3.7/site-packages (from transformers==4.6->-r /home/zhengchen/codes/python_codes/domiknows_project/DomiKnowS/requirements.txt (line 6)) (2019.8.19)\n",
      "Requirement already satisfied: importlib-metadata; python_version < \"3.8\" in /opt/conda/lib/python3.7/site-packages (from transformers==4.6->-r /home/zhengchen/codes/python_codes/domiknows_project/DomiKnowS/requirements.txt (line 6)) (0.23)\n",
      "Requirement already satisfied: packaging in /opt/conda/lib/python3.7/site-packages (from transformers==4.6->-r /home/zhengchen/codes/python_codes/domiknows_project/DomiKnowS/requirements.txt (line 6)) (19.1)\n",
      "Requirement already satisfied: tqdm>=4.27 in /opt/conda/lib/python3.7/site-packages (from transformers==4.6->-r /home/zhengchen/codes/python_codes/domiknows_project/DomiKnowS/requirements.txt (line 6)) (4.35.0)\n",
      "Requirement already satisfied: six>=1.5 in /home/zhengchen/.local/lib/python3.7/site-packages (from python-dateutil>=2.7.3->pandas>=1.1.5->-r /home/zhengchen/codes/python_codes/domiknows_project/DomiKnowS/requirements.txt (line 4)) (1.15.0)\n",
      "Requirement already satisfied: certifi>=2017.4.17 in /opt/conda/lib/python3.7/site-packages (from requests->transformers==4.6->-r /home/zhengchen/codes/python_codes/domiknows_project/DomiKnowS/requirements.txt (line 6)) (2019.9.11)\n",
      "Requirement already satisfied: chardet<4,>=3.0.2 in /opt/conda/lib/python3.7/site-packages (from requests->transformers==4.6->-r /home/zhengchen/codes/python_codes/domiknows_project/DomiKnowS/requirements.txt (line 6)) (3.0.4)\n",
      "Requirement already satisfied: idna<3,>=2.5 in /opt/conda/lib/python3.7/site-packages (from requests->transformers==4.6->-r /home/zhengchen/codes/python_codes/domiknows_project/DomiKnowS/requirements.txt (line 6)) (2.8)\n",
      "Requirement already satisfied: urllib3!=1.25.0,!=1.25.1,<1.26,>=1.21.1 in /opt/conda/lib/python3.7/site-packages (from requests->transformers==4.6->-r /home/zhengchen/codes/python_codes/domiknows_project/DomiKnowS/requirements.txt (line 6)) (1.25.3)\n",
      "Requirement already satisfied: click in /opt/conda/lib/python3.7/site-packages (from sacremoses->transformers==4.6->-r /home/zhengchen/codes/python_codes/domiknows_project/DomiKnowS/requirements.txt (line 6)) (7.0)\n",
      "Requirement already satisfied: joblib in /opt/conda/lib/python3.7/site-packages (from sacremoses->transformers==4.6->-r /home/zhengchen/codes/python_codes/domiknows_project/DomiKnowS/requirements.txt (line 6)) (0.13.2)\n",
      "Requirement already satisfied: zipp>=0.5 in /opt/conda/lib/python3.7/site-packages (from importlib-metadata; python_version < \"3.8\"->transformers==4.6->-r /home/zhengchen/codes/python_codes/domiknows_project/DomiKnowS/requirements.txt (line 6)) (0.6.0)\n",
      "Requirement already satisfied: pyparsing>=2.0.2 in /opt/conda/lib/python3.7/site-packages (from packaging->transformers==4.6->-r /home/zhengchen/codes/python_codes/domiknows_project/DomiKnowS/requirements.txt (line 6)) (2.4.2)\n",
      "Requirement already satisfied: attrs in /opt/conda/lib/python3.7/site-packages (from packaging->transformers==4.6->-r /home/zhengchen/codes/python_codes/domiknows_project/DomiKnowS/requirements.txt (line 6)) (19.1.0)\n",
      "Requirement already satisfied: more-itertools in /opt/conda/lib/python3.7/site-packages (from zipp>=0.5->importlib-metadata; python_version < \"3.8\"->transformers==4.6->-r /home/zhengchen/codes/python_codes/domiknows_project/DomiKnowS/requirements.txt (line 6)) (7.2.0)\n",
      "Building wheels for collected packages: pandas\n",
      "  Building wheel for pandas (PEP 517) ... \u001b[?25l/"
     ]
    }
   ],
   "source": [
    "!pip install -r /home/zhengchen/codes/python_codes/domiknows_project/DomiKnowS/requirements.txt"
   ]
  },
  {
   "cell_type": "code",
   "execution_count": 2,
   "metadata": {},
   "outputs": [
    {
     "name": "stdout",
     "output_type": "stream",
     "text": [
      "/home/zhengchen/codes/python_codes/domiknows_project/DomiKnowS/examples/WIQA\n"
     ]
    }
   ],
   "source": [
    "!pwd"
   ]
  },
  {
   "cell_type": "code",
   "execution_count": 1,
   "metadata": {},
   "outputs": [
    {
     "name": "stdout",
     "output_type": "stream",
     "text": [
      "Traceback (most recent call last):\n",
      "  File \"WIQA_aug.py\", line 6, in <module>\n",
      "    from transformers import AdamW\n",
      "ModuleNotFoundError: No module named 'transformers'\n"
     ]
    }
   ],
   "source": [
    "!python WIQA_aug.py --cuda 0 --epoch 100 --lr 2e-7 --samplenum 1000000000 --batch 15 --beta 1.0 --pd True"
   ]
  },
  {
   "cell_type": "code",
   "execution_count": 2,
   "metadata": {},
   "outputs": [
    {
     "name": "stdout",
     "output_type": "stream",
     "text": [
      "Requirement already satisfied: networkx in /opt/conda/lib/python3.7/site-packages (2.4)\n",
      "Requirement already satisfied: decorator>=4.3.0 in /opt/conda/lib/python3.7/site-packages (from networkx) (4.4.0)\n",
      "Collecting transformers\n",
      "\u001b[?25l  Downloading https://files.pythonhosted.org/packages/66/43/e657fd438b2e93221ce06ab0db0dcdf61eb33c79a0d3307940b82d554c4e/transformers-4.16.2-py3-none-any.whl (3.5MB)\n",
      "\u001b[K     |████████████████████████████████| 3.6MB 13.6MB/s eta 0:00:01\n",
      "\u001b[?25hCollecting packaging>=20.0 (from transformers)\n",
      "  Using cached https://files.pythonhosted.org/packages/05/8e/8de486cbd03baba4deef4142bd643a3e7bbe954a784dc1bb17142572d127/packaging-21.3-py3-none-any.whl\n",
      "Requirement already satisfied: regex!=2019.12.17 in /opt/conda/lib/python3.7/site-packages (from transformers) (2019.8.19)\n",
      "Collecting filelock (from transformers)\n",
      "  Using cached https://files.pythonhosted.org/packages/d4/0b/6cb548cc9bb8450f9823b39f48e397be9fb8d042f7a9c405ba0a53270ad4/filelock-3.5.0-py3-none-any.whl\n",
      "Collecting tokenizers!=0.11.3,>=0.10.1 (from transformers)\n",
      "\u001b[?25l  Downloading https://files.pythonhosted.org/packages/e7/09/b66323fa08c37636c477d17d376b41c5df9c8fa39b60a32c4453882f6e4e/tokenizers-0.11.4-cp37-cp37m-manylinux_2_12_x86_64.manylinux2010_x86_64.whl (6.8MB)\n",
      "\u001b[K     |████████████████████████████████| 6.8MB 53.8MB/s eta 0:00:01\n",
      "\u001b[?25hRequirement already satisfied: importlib-metadata; python_version < \"3.8\" in /opt/conda/lib/python3.7/site-packages (from transformers) (0.23)\n",
      "Requirement already satisfied: pyyaml>=5.1 in /home/zhengchen/.local/lib/python3.7/site-packages (from transformers) (5.3.1)\n",
      "Requirement already satisfied: numpy>=1.17 in /opt/conda/lib/python3.7/site-packages (from transformers) (1.17.2)\n",
      "Collecting sacremoses (from transformers)\n",
      "  Using cached https://files.pythonhosted.org/packages/ec/e5/407e634cbd3b96a9ce6960874c5b66829592ead9ac762bd50662244ce20b/sacremoses-0.0.47-py2.py3-none-any.whl\n",
      "Requirement already satisfied: requests in /home/zhengchen/.local/lib/python3.7/site-packages (from transformers) (2.24.0)\n",
      "Collecting huggingface-hub<1.0,>=0.1.0 (from transformers)\n",
      "  Using cached https://files.pythonhosted.org/packages/c8/df/1b454741459f6ce75f86534bdad42ca17291b14a83066695f7d2c676e16c/huggingface_hub-0.4.0-py3-none-any.whl\n",
      "Requirement already satisfied: tqdm>=4.27 in /opt/conda/lib/python3.7/site-packages (from transformers) (4.35.0)\n",
      "Requirement already satisfied: pyparsing!=3.0.5,>=2.0.2 in /opt/conda/lib/python3.7/site-packages (from packaging>=20.0->transformers) (2.4.2)\n",
      "Requirement already satisfied: zipp>=0.5 in /opt/conda/lib/python3.7/site-packages (from importlib-metadata; python_version < \"3.8\"->transformers) (0.6.0)\n",
      "Requirement already satisfied: click in /opt/conda/lib/python3.7/site-packages (from sacremoses->transformers) (7.0)\n",
      "Requirement already satisfied: six in /home/zhengchen/.local/lib/python3.7/site-packages (from sacremoses->transformers) (1.15.0)\n",
      "Requirement already satisfied: joblib in /opt/conda/lib/python3.7/site-packages (from sacremoses->transformers) (0.13.2)\n",
      "Requirement already satisfied: urllib3!=1.25.0,!=1.25.1,<1.26,>=1.21.1 in /opt/conda/lib/python3.7/site-packages (from requests->transformers) (1.25.3)\n",
      "Requirement already satisfied: chardet<4,>=3.0.2 in /opt/conda/lib/python3.7/site-packages (from requests->transformers) (3.0.4)\n",
      "Requirement already satisfied: certifi>=2017.4.17 in /opt/conda/lib/python3.7/site-packages (from requests->transformers) (2019.9.11)\n",
      "Requirement already satisfied: idna<3,>=2.5 in /opt/conda/lib/python3.7/site-packages (from requests->transformers) (2.8)\n",
      "Collecting typing-extensions>=3.7.4.3 (from huggingface-hub<1.0,>=0.1.0->transformers)\n",
      "  Using cached https://files.pythonhosted.org/packages/45/6b/44f7f8f1e110027cf88956b59f2fad776cca7e1704396d043f89effd3a0e/typing_extensions-4.1.1-py3-none-any.whl\n",
      "Requirement already satisfied: more-itertools in /opt/conda/lib/python3.7/site-packages (from zipp>=0.5->importlib-metadata; python_version < \"3.8\"->transformers) (7.2.0)\n",
      "\u001b[31mERROR: apache-beam 2.25.0 has requirement typing-extensions<3.8.0,>=3.7.0, but you'll have typing-extensions 4.1.1 which is incompatible.\u001b[0m\n",
      "Installing collected packages: packaging, filelock, tokenizers, sacremoses, typing-extensions, huggingface-hub, transformers\n",
      "  Found existing installation: packaging 19.1\n",
      "    Uninstalling packaging-19.1:\n",
      "      Successfully uninstalled packaging-19.1\n",
      "Successfully installed filelock-3.5.0 huggingface-hub-0.4.0 packaging-21.3 sacremoses-0.0.47 tokenizers-0.11.4 transformers-4.16.2 typing-extensions-4.1.1\n",
      "Requirement already satisfied: torch in /opt/conda/lib/python3.7/site-packages (1.1.0)\n",
      "Requirement already satisfied: numpy in /opt/conda/lib/python3.7/site-packages (from torch) (1.17.2)\n",
      "Collecting wget\n",
      "  Downloading https://files.pythonhosted.org/packages/47/6a/62e288da7bcda82b935ff0c6cfe542970f04e29c756b0e147251b2fb251f/wget-3.2.zip\n",
      "Building wheels for collected packages: wget\n",
      "  Building wheel for wget (setup.py) ... \u001b[?25ldone\n",
      "\u001b[?25h  Created wheel for wget: filename=wget-3.2-cp37-none-any.whl size=9680 sha256=70b4d34d716ac4a0442c8d4df14eacdc82bbb5d482f6dff6a3f01502c6d3a29c\n",
      "  Stored in directory: /home/zhengchen/.cache/pip/wheels/40/15/30/7d8f7cea2902b4db79e3fea550d7d7b85ecb27ef992b618f3f\n",
      "Successfully built wget\n",
      "Installing collected packages: wget\n",
      "Successfully installed wget-3.2\n",
      "Requirement already satisfied: numpy in /opt/conda/lib/python3.7/site-packages (1.17.2)\n",
      "Collecting gitdb\n",
      "\u001b[?25l  Downloading https://files.pythonhosted.org/packages/a3/7c/5d747655049bfbf75b5fcec57c8115896cb78d6fafa84f6d3ef4c0f13a98/gitdb-4.0.9-py3-none-any.whl (63kB)\n",
      "\u001b[K     |████████████████████████████████| 71kB 13.5MB/s eta 0:00:01\n",
      "\u001b[?25hCollecting smmap<6,>=3.0.1 (from gitdb)\n",
      "  Downloading https://files.pythonhosted.org/packages/6d/01/7caa71608bc29952ae09b0be63a539e50d2484bc37747797a66a60679856/smmap-5.0.0-py3-none-any.whl\n",
      "Installing collected packages: smmap, gitdb\n",
      "Successfully installed gitdb-4.0.9 smmap-5.0.0\n",
      "Collecting graphviz\n",
      "  Using cached https://files.pythonhosted.org/packages/9d/fb/886e8ec7862989afc0c35d15813b6c665fe134cc6027cdde2fa300abe9a2/graphviz-0.19.1-py3-none-any.whl\n",
      "Installing collected packages: graphviz\n",
      "Successfully installed graphviz-0.19.1\n"
     ]
    }
   ],
   "source": [
    "!pip install networkx\n",
    "!pip install transformers\n",
    "!pip install torch\n",
    "!pip install wget\n",
    "!pip install numpy\n",
    "!pip install gitdb\n",
    "!pip install graphviz"
   ]
  },
  {
   "cell_type": "code",
   "execution_count": 2,
   "metadata": {},
   "outputs": [
    {
     "name": "stdout",
     "output_type": "stream",
     "text": [
      "/home/zhengchen/codes/python_codes/domiknows_project/DomiKnowS/examples/WIQA\n",
      "* Owlready2 * Warning: optimized Cython parser module 'owlready2_optimized' is not available, defaulting to slower Python implementation\n",
      "Log file for dataNode is in: /home/zhengchen/codes/python_codes/domiknows_project/DomiKnowS/examples/WIQA/logs/datanode.log\n",
      "Graph Declaration:\n",
      "WIQA_aug.py:78: UserWarning: Please use OrderedDict rather than dict to prevent unpredictable order of arguments.For this instance, OrderedDict([('arg1', 'question'), ('arg2', 'question')]) is used.\n",
      "  s_arg1, s_arg2 = symmetric.has_a(arg1=question, arg2=question)\n",
      "WIQA_aug.py:89: UserWarning: Please use OrderedDict rather than dict to prevent unpredictable order of arguments.For this instance, OrderedDict([('arg11', 'question'), ('arg22', 'question'), ('arg33', 'question')]) is used.\n",
      "  t_arg1, t_arg2, t_arg3 = transitive.has_a(arg11=question, arg22=question, arg33=question)\n",
      "Sensor Part:\n",
      "Some weights of the model checkpoint at roberta-base were not used when initializing RobertaModel: ['lm_head.layer_norm.weight', 'lm_head.bias', 'lm_head.decoder.weight', 'lm_head.dense.weight', 'lm_head.dense.bias', 'lm_head.layer_norm.bias']\n",
      "- This IS expected if you are initializing RobertaModel from the checkpoint of a model trained on another task or with another architecture (e.g. initializing a BertForSequenceClassification model from a BertForPreTraining model).\n",
      "- This IS NOT expected if you are initializing RobertaModel from the checkpoint of a model that you expect to be exactly identical (initializing a BertForSequenceClassification model from a BertForSequenceClassification model).\n",
      "primal dual program\n",
      "this epoch is number: 0 &&&&&&&&&&\n",
      "Traceback (most recent call last):\n",
      "  File \"/opt/conda/lib/python3.7/tarfile.py\", line 187, in nti\n",
      "    n = int(s.strip() or \"0\", 8)\n",
      "ValueError: invalid literal for int() with base 8: '.dense.w'\n",
      "\n",
      "During handling of the above exception, another exception occurred:\n",
      "\n",
      "Traceback (most recent call last):\n",
      "  File \"/opt/conda/lib/python3.7/tarfile.py\", line 2289, in next\n",
      "    tarinfo = self.tarinfo.fromtarfile(self)\n",
      "  File \"/opt/conda/lib/python3.7/tarfile.py\", line 1095, in fromtarfile\n",
      "    obj = cls.frombuf(buf, tarfile.encoding, tarfile.errors)\n",
      "  File \"/opt/conda/lib/python3.7/tarfile.py\", line 1037, in frombuf\n",
      "    chksum = nti(buf[148:156])\n",
      "  File \"/opt/conda/lib/python3.7/tarfile.py\", line 189, in nti\n",
      "    raise InvalidHeaderError(\"invalid header\")\n",
      "tarfile.InvalidHeaderError: invalid header\n",
      "\n",
      "During handling of the above exception, another exception occurred:\n",
      "\n",
      "Traceback (most recent call last):\n",
      "  File \"/opt/conda/lib/python3.7/site-packages/torch/serialization.py\", line 556, in _load\n",
      "    return legacy_load(f)\n",
      "  File \"/opt/conda/lib/python3.7/site-packages/torch/serialization.py\", line 467, in legacy_load\n",
      "    with closing(tarfile.open(fileobj=f, mode='r:', format=tarfile.PAX_FORMAT)) as tar, \\\n",
      "  File \"/opt/conda/lib/python3.7/tarfile.py\", line 1591, in open\n",
      "    return func(name, filemode, fileobj, **kwargs)\n",
      "  File \"/opt/conda/lib/python3.7/tarfile.py\", line 1621, in taropen\n",
      "    return cls(name, mode, fileobj, **kwargs)\n",
      "  File \"/opt/conda/lib/python3.7/tarfile.py\", line 1484, in __init__\n",
      "    self.firstmember = self.next()\n",
      "  File \"/opt/conda/lib/python3.7/tarfile.py\", line 2301, in next\n",
      "    raise ReadError(str(e))\n",
      "tarfile.ReadError: invalid header\n",
      "\n",
      "During handling of the above exception, another exception occurred:\n",
      "\n",
      "Traceback (most recent call last):\n",
      "  File \"WIQA_aug.py\", line 207, in <module>\n",
      "    program.load(\"domi_7\") # in case we want to load the model instead of training\n",
      "  File \"../../regr/program/program.py\", line 313, in load\n",
      "    self.model.load_state_dict(torch.load(path,map_location='cpu'))\n",
      "  File \"/opt/conda/lib/python3.7/site-packages/torch/serialization.py\", line 387, in load\n",
      "    return _load(f, map_location, pickle_module, **pickle_load_args)\n",
      "  File \"/opt/conda/lib/python3.7/site-packages/torch/serialization.py\", line 560, in _load\n",
      "    raise RuntimeError(\"{} is a zip archive (did you mean to use torch.jit.load()?)\".format(f.name))\n",
      "RuntimeError: domi_7 is a zip archive (did you mean to use torch.jit.load()?)\n"
     ]
    }
   ],
   "source": [
    "%cd /home/zhengchen/codes/python_codes/domiknows_project/DomiKnowS/examples/WIQA/\n",
    "!python WIQA_aug.py --cuda 0 --epoch 100 --lr 2e-7 --samplenum 1000000000 --batch 15 --beta 1.0 --pd True"
   ]
  },
  {
   "cell_type": "code",
   "execution_count": 4,
   "metadata": {},
   "outputs": [
    {
     "name": "stdout",
     "output_type": "stream",
     "text": [
      "Collecting owlready2\n",
      "\u001b[?25l  Downloading https://files.pythonhosted.org/packages/bc/84/614db92e7009b925e57a73fa3216591d806c7aae7bd415075f0db50b8bba/Owlready2-0.36.tar.gz (23.8MB)\n",
      "\u001b[K     |████████████████████████████████| 23.8MB 14.9MB/s eta 0:00:01\n",
      "\u001b[?25hBuilding wheels for collected packages: owlready2\n",
      "  Building wheel for owlready2 (setup.py) ... \u001b[?25ldone\n",
      "\u001b[?25h  Created wheel for owlready2: filename=Owlready2-0.36-cp37-none-any.whl size=19823784 sha256=1d47888a80cc9b56cad5857a579aefe40af8b176e14a0cae048e5e04be8974bf\n",
      "  Stored in directory: /home/zhengchen/.cache/pip/wheels/b7/f5/bc/3b2de901051a20776211cb4f873185ead713f1108b1a4d2dc9\n",
      "Successfully built owlready2\n",
      "Installing collected packages: owlready2\n",
      "Successfully installed owlready2-0.36\n",
      "Collecting ordered_set\n",
      "  Using cached https://files.pythonhosted.org/packages/33/55/af02708f230eb77084a299d7b08175cff006dea4f2721074b92cdb0296c0/ordered_set-4.1.0-py3-none-any.whl\n",
      "Installing collected packages: ordered-set\n",
      "Successfully installed ordered-set-4.1.0\n",
      "Requirement already satisfied: pandas in /opt/conda/lib/python3.7/site-packages (0.25.3)\n",
      "Requirement already satisfied: pytz>=2017.2 in /opt/conda/lib/python3.7/site-packages (from pandas) (2019.2)\n",
      "Requirement already satisfied: numpy>=1.13.3 in /opt/conda/lib/python3.7/site-packages (from pandas) (1.17.2)\n",
      "Requirement already satisfied: python-dateutil>=2.6.1 in /home/zhengchen/.local/lib/python3.7/site-packages (from pandas) (2.8.1)\n",
      "Requirement already satisfied: six>=1.5 in /home/zhengchen/.local/lib/python3.7/site-packages (from python-dateutil>=2.6.1->pandas) (1.15.0)\n",
      "Collecting gurobipy\n",
      "  Using cached https://files.pythonhosted.org/packages/01/4a/31c1ac445352f5c7e73afe9a0a013b3f4de955826c28bebfc3e44d30b11b/gurobipy-9.1.2-cp37-cp37m-manylinux1_x86_64.whl\n",
      "Installing collected packages: gurobipy\n",
      "Successfully installed gurobipy-9.1.2\n"
     ]
    }
   ],
   "source": [
    "!pip install owlready2\n",
    "!pip install ordered_set\n",
    "!pip install pandas\n",
    "!pip install gurobipy"
   ]
  },
  {
   "cell_type": "code",
   "execution_count": 6,
   "metadata": {},
   "outputs": [
    {
     "name": "stdout",
     "output_type": "stream",
     "text": [
      "* Owlready2 * Warning: optimized Cython parser module 'owlready2_optimized' is not available, defaulting to slower Python implementation\n",
      "Log file for dataNode is in: /home/zhengchen/codes/python_codes/domiknows_project/DomiKnowS/examples/WIQA/logs/datanode.log\n",
      "Graph Declaration:\n",
      "WIQA_aug.py:74: UserWarning: Please use OrderedDict rather than dict to prevent unpredictable order of arguments.For this instance, OrderedDict([('arg1', 'question'), ('arg2', 'question')]) is used.\n",
      "  s_arg1, s_arg2 = symmetric.has_a(arg1=question, arg2=question)\n",
      "WIQA_aug.py:85: UserWarning: Please use OrderedDict rather than dict to prevent unpredictable order of arguments.For this instance, OrderedDict([('arg11', 'question'), ('arg22', 'question'), ('arg33', 'question')]) is used.\n",
      "  t_arg1, t_arg2, t_arg3 = transitive.has_a(arg11=question, arg22=question, arg33=question)\n",
      "Sensor Part:\n",
      "Some weights of the model checkpoint at roberta-base were not used when initializing RobertaModel: ['lm_head.dense.weight', 'lm_head.dense.bias', 'lm_head.bias', 'lm_head.decoder.weight', 'lm_head.layer_norm.weight', 'lm_head.layer_norm.bias']\n",
      "- This IS expected if you are initializing RobertaModel from the checkpoint of a model trained on another task or with another architecture (e.g. initializing a BertForSequenceClassification model from a BertForPreTraining model).\n",
      "- This IS NOT expected if you are initializing RobertaModel from the checkpoint of a model that you expect to be exactly identical (initializing a BertForSequenceClassification model from a BertForSequenceClassification model).\n",
      "primal dual program\n",
      "this epoch is number: 0 &&&&&&&&&&\n",
      "Traceback (most recent call last):\n",
      "  File \"/opt/conda/lib/python3.7/tarfile.py\", line 187, in nti\n",
      "    n = int(s.strip() or \"0\", 8)\n",
      "ValueError: invalid literal for int() with base 8: '.dense.w'\n",
      "\n",
      "During handling of the above exception, another exception occurred:\n",
      "\n",
      "Traceback (most recent call last):\n",
      "  File \"/opt/conda/lib/python3.7/tarfile.py\", line 2289, in next\n",
      "    tarinfo = self.tarinfo.fromtarfile(self)\n",
      "  File \"/opt/conda/lib/python3.7/tarfile.py\", line 1095, in fromtarfile\n",
      "    obj = cls.frombuf(buf, tarfile.encoding, tarfile.errors)\n",
      "  File \"/opt/conda/lib/python3.7/tarfile.py\", line 1037, in frombuf\n",
      "    chksum = nti(buf[148:156])\n",
      "  File \"/opt/conda/lib/python3.7/tarfile.py\", line 189, in nti\n",
      "    raise InvalidHeaderError(\"invalid header\")\n",
      "tarfile.InvalidHeaderError: invalid header\n",
      "\n",
      "During handling of the above exception, another exception occurred:\n",
      "\n",
      "Traceback (most recent call last):\n",
      "  File \"/opt/conda/lib/python3.7/site-packages/torch/serialization.py\", line 556, in _load\n",
      "    return legacy_load(f)\n",
      "  File \"/opt/conda/lib/python3.7/site-packages/torch/serialization.py\", line 467, in legacy_load\n",
      "    with closing(tarfile.open(fileobj=f, mode='r:', format=tarfile.PAX_FORMAT)) as tar, \\\n",
      "  File \"/opt/conda/lib/python3.7/tarfile.py\", line 1591, in open\n",
      "    return func(name, filemode, fileobj, **kwargs)\n",
      "  File \"/opt/conda/lib/python3.7/tarfile.py\", line 1621, in taropen\n",
      "    return cls(name, mode, fileobj, **kwargs)\n",
      "  File \"/opt/conda/lib/python3.7/tarfile.py\", line 1484, in __init__\n",
      "    self.firstmember = self.next()\n",
      "  File \"/opt/conda/lib/python3.7/tarfile.py\", line 2301, in next\n",
      "    raise ReadError(str(e))\n",
      "tarfile.ReadError: invalid header\n",
      "\n",
      "During handling of the above exception, another exception occurred:\n",
      "\n",
      "Traceback (most recent call last):\n",
      "  File \"WIQA_aug.py\", line 203, in <module>\n",
      "    program.load(\"domi_7\") # in case we want to load the model instead of training\n",
      "  File \"../../regr/program/program.py\", line 313, in load\n",
      "    self.model.load_state_dict(torch.load(path,map_location='cpu'))\n",
      "  File \"/opt/conda/lib/python3.7/site-packages/torch/serialization.py\", line 387, in load\n",
      "    return _load(f, map_location, pickle_module, **pickle_load_args)\n",
      "  File \"/opt/conda/lib/python3.7/site-packages/torch/serialization.py\", line 560, in _load\n",
      "    raise RuntimeError(\"{} is a zip archive (did you mean to use torch.jit.load()?)\".format(f.name))\n",
      "RuntimeError: domi_7 is a zip archive (did you mean to use torch.jit.load()?)\n"
     ]
    }
   ],
   "source": [
    "!python WIQA_aug.py --cuda 0 --epoch 100 --lr 2e-7 --samplenum 1000000000 --batch 15 --beta 1.0 --pd True"
   ]
  },
  {
   "cell_type": "code",
   "execution_count": null,
   "metadata": {},
   "outputs": [],
   "source": []
  }
 ],
 "metadata": {
  "kernelspec": {
   "display_name": "Python 3",
   "language": "python",
   "name": "python3"
  },
  "language_info": {
   "codemirror_mode": {
    "name": "ipython",
    "version": 3
   },
   "file_extension": ".py",
   "mimetype": "text/x-python",
   "name": "python",
   "nbconvert_exporter": "python",
   "pygments_lexer": "ipython3",
   "version": "3.7.3"
  }
 },
 "nbformat": 4,
 "nbformat_minor": 4
}
