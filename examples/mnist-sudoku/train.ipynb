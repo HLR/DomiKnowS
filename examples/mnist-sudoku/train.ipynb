{
 "cells": [
  {
   "cell_type": "code",
   "execution_count": 1,
   "id": "6c9065dd",
   "metadata": {
    "scrolled": true
   },
   "outputs": [],
   "source": [
    "%load_ext autoreload\n",
    "%autoreload 2"
   ]
  },
  {
   "cell_type": "markdown",
   "id": "4ede6a20",
   "metadata": {},
   "source": [
    "Completed Sudoku Puzzles: https://www.kaggle.com/datasets/bryanpark/sudoku"
   ]
  },
  {
   "cell_type": "code",
   "execution_count": 2,
   "id": "cdaab010",
   "metadata": {},
   "outputs": [],
   "source": [
    "import numpy as np\n",
    "\n",
    "solutions_9by9 = np.zeros((10000, 81), np.int32)\n",
    "for i, line in enumerate(open('sudoku.csv', 'r').read().splitlines()[1:]):\n",
    "    if i >= solutions_9by9.shape[0]:\n",
    "        break\n",
    "\n",
    "    quiz, solution = line.split(\",\")\n",
    "    for j, q_s in enumerate(zip(quiz, solution)):\n",
    "        q, s = q_s\n",
    "        solutions_9by9[i, j] = s\n",
    "\n",
    "solutions_9by9 = solutions_9by9.reshape((-1, 9, 9))"
   ]
  },
  {
   "cell_type": "code",
   "execution_count": 3,
   "id": "baefb316",
   "metadata": {},
   "outputs": [],
   "source": [
    "solutions_6by6 = solutions_9by9[:,:6,:6]"
   ]
  },
  {
   "cell_type": "code",
   "execution_count": 4,
   "id": "23bf5046",
   "metadata": {},
   "outputs": [],
   "source": [
    "SIZE = 9"
   ]
  },
  {
   "cell_type": "code",
   "execution_count": 5,
   "id": "83d78bf1",
   "metadata": {},
   "outputs": [],
   "source": [
    "if SIZE == 9:\n",
    "    solutions = solutions_9by9\n",
    "elif SIZE == 6:\n",
    "    solutions = solutions_6by6"
   ]
  },
  {
   "cell_type": "code",
   "execution_count": 6,
   "id": "be38ba32",
   "metadata": {},
   "outputs": [],
   "source": [
    "num_train = 10000"
   ]
  },
  {
   "cell_type": "code",
   "execution_count": 7,
   "id": "befb9371",
   "metadata": {},
   "outputs": [],
   "source": [
    "from torchvision import datasets, transforms\n",
    "from torch.utils.data import DataLoader, Dataset\n",
    "from torch.nn import Flatten\n",
    "import torch\n",
    "\n",
    "import random\n",
    "\n",
    "transform = transforms.Compose([transforms.ToTensor(),\n",
    "                          transforms.Normalize((0.5,), (0.5,)),\n",
    "                          Flatten(0)\n",
    "                          ])\n",
    "trainset = datasets.MNIST('data', download=True, train=True, transform=transform)\n",
    "testset = datasets.MNIST('data', download=True, train=False, transform=transform)\n",
    "\n",
    "train_ids = random.sample(range(0, 50000), num_train)"
   ]
  },
  {
   "cell_type": "code",
   "execution_count": 8,
   "id": "8af407b8",
   "metadata": {},
   "outputs": [
    {
     "name": "stdout",
     "output_type": "stream",
     "text": [
      "num digit_ids:  10000\n",
      "solutions:  10000\n"
     ]
    }
   ],
   "source": [
    "class SudokuDataset(Dataset):\n",
    "    def __init__(self, dataset, digit_ids, solutions):\n",
    "        self.dataset = dataset\n",
    "        \n",
    "        self.digit_to_id = {}\n",
    "\n",
    "        for d in range(10):\n",
    "            self.digit_to_id[d] = []\n",
    "\n",
    "        for d_id in digit_ids:\n",
    "            self.digit_to_id[dataset[d_id][1]].append(d_id)\n",
    "    \n",
    "        print('num digit_ids: ', len(digit_ids))\n",
    "        print('solutions: ', len(solutions))\n",
    "        \n",
    "        \n",
    "        self.solution_image_ids = torch.empty((solutions.shape[0],\n",
    "                                               solutions.shape[1] ** 2), dtype=torch.int32) # n x 36 or 81\n",
    "        for i, sol in enumerate(solutions):\n",
    "            for j, digit in enumerate(sol.flatten()):\n",
    "                self.solution_image_ids[i, j] = self.get_id_from_digit(digit)\n",
    "\n",
    "    def get_id_from_digit(self, digit):\n",
    "        return random.sample(self.digit_to_id[digit], 1)[0]\n",
    "    \n",
    "    def __len__(self):\n",
    "        return self.solution_image_ids.shape[0]\n",
    "    \n",
    "    def __getitem__(self, idx):\n",
    "        digit_ids = self.solution_image_ids[idx]\n",
    "        \n",
    "        images = torch.empty((self.solution_image_ids.shape[1], 28 * 28))\n",
    "        labels = torch.empty((self.solution_image_ids.shape[1],))\n",
    "        \n",
    "        for i, d_id in enumerate(digit_ids):\n",
    "            images[i] = self.dataset[d_id][0]\n",
    "            labels[i] = self.dataset[d_id][1]\n",
    "        \n",
    "        images = torch.unsqueeze(images, dim=0)\n",
    "        labels = torch.unsqueeze(labels, dim=0)\n",
    "        \n",
    "        return {'images': images, 'labels': labels}\n",
    "    \n",
    "s_data = SudokuDataset(trainset, train_ids, solutions[:10000])\n"
   ]
  },
  {
   "cell_type": "code",
   "execution_count": 9,
   "id": "49ddb5ce",
   "metadata": {},
   "outputs": [],
   "source": [
    "from matplotlib import pyplot as plt\n",
    "\n",
    "def viz(images):\n",
    "    plt.figure(figsize=(10, 10))\n",
    "    \n",
    "    fig, axes = plt.subplots(SIZE, SIZE)\n",
    "    \n",
    "    for ax, img in zip(axes.flatten(), images[0]):\n",
    "        ax.imshow(img.reshape(28, 28))\n",
    "        ax.set_yticklabels([])\n",
    "        ax.set_xticklabels([])"
   ]
  },
  {
   "cell_type": "code",
   "execution_count": 10,
   "id": "831fb250",
   "metadata": {},
   "outputs": [
    {
     "data": {
      "text/plain": [
       "torch.Size([1, 81])"
      ]
     },
     "execution_count": 10,
     "metadata": {},
     "output_type": "execute_result"
    }
   ],
   "source": [
    "s_data[0]['labels'].shape"
   ]
  },
  {
   "cell_type": "code",
   "execution_count": 11,
   "id": "8dc2cd48",
   "metadata": {
    "scrolled": true
   },
   "outputs": [
    {
     "data": {
      "text/plain": [
       "<Figure size 720x720 with 0 Axes>"
      ]
     },
     "metadata": {},
     "output_type": "display_data"
    },
    {
     "data": {
      "image/png": "[encoded data removed]",
      "text/plain": [
       "<Figure size 432x288 with 81 Axes>"
      ]
     },
     "metadata": {
      "needs_background": "light"
     },
     "output_type": "display_data"
    }
   ],
   "source": [
    "viz(s_data[0]['images'])"
   ]
  },
  {
   "cell_type": "code",
   "execution_count": 12,
   "id": "daeca17e",
   "metadata": {
    "scrolled": false
   },
   "outputs": [
    {
     "name": "stderr",
     "output_type": "stream",
     "text": [
      "* Owlready2 * Warning: optimized Cython parser module 'owlready2_optimized' is not available, defaulting to slower Python implementation\n"
     ]
    },
    {
     "name": "stdout",
     "output_type": "stream",
     "text": [
      "Log file for dataNode is in: /Users/alexanderwan/Documents/alex_fork/DomiKnowS/examples/mnist-sudoku/logs/datanode.log\n"
     ]
    }
   ],
   "source": [
    "import sys\n",
    "sys.path.append('../../')\n",
    "\n",
    "import logging\n",
    "logging.basicConfig(level=logging.INFO)\n",
    "\n",
    "from regr.graph import Graph, Concept, Relation\n",
    "from regr.graph.logicalConstrain import andL, existsL, notL, atMostL, ifL, fixedL, eqL, exactL\n",
    "from regr.graph import EnumConcept\n",
    "from regr.sensor.pytorch.sensors import JointSensor, ReaderSensor, FunctionalSensor\n",
    "from regr.sensor.pytorch.learners import ModuleLearner"
   ]
  },
  {
   "cell_type": "code",
   "execution_count": 13,
   "id": "ecb518d1",
   "metadata": {
    "scrolled": true
   },
   "outputs": [
    {
     "name": "stderr",
     "output_type": "stream",
     "text": [
      "/Users/alexanderwan/miniconda3/envs/domiknows/lib/python3.7/site-packages/ipykernel_launcher.py:12: UserWarning: Please use OrderedDict rather than dict to prevent unpredictable order of arguments.For this instance, OrderedDict([('row1', 'empty_entry'), ('row2', 'empty_entry')]) is used.\n",
      "  if sys.path[0] == '':\n",
      "/Users/alexanderwan/miniconda3/envs/domiknows/lib/python3.7/site-packages/ipykernel_launcher.py:15: UserWarning: Please use OrderedDict rather than dict to prevent unpredictable order of arguments.For this instance, OrderedDict([('col1', 'empty_entry'), ('col2', 'empty_entry')]) is used.\n",
      "  from ipykernel import kernelapp as app\n",
      "/Users/alexanderwan/miniconda3/envs/domiknows/lib/python3.7/site-packages/ipykernel_launcher.py:18: UserWarning: Please use OrderedDict rather than dict to prevent unpredictable order of arguments.For this instance, OrderedDict([('table1', 'empty_entry'), ('table2', 'empty_entry')]) is used.\n"
     ]
    }
   ],
   "source": [
    "Graph.clear()\n",
    "Concept.clear()\n",
    "Relation.clear()\n",
    "\n",
    "with Graph('global') as graph:\n",
    "    sudoku = Concept(\"sodoku\")\n",
    "    \n",
    "    empty_entry = Concept(name='empty_entry')\n",
    "    (empty_rel, ) = sudoku.contains(empty_entry)\n",
    "    \n",
    "    same_row = Concept(name=\"same_row\")\n",
    "    (same_row_arg1, same_row_arg2) = same_row.has_a(row1=empty_entry, row2=empty_entry)\n",
    "    \n",
    "    same_col = Concept(name=\"same_col\")\n",
    "    (same_col_arg1, same_col_arg2) = same_col.has_a(col1=empty_entry, col2=empty_entry)\n",
    "    \n",
    "    same_table = Concept(name=\"same_table\")\n",
    "    (same_table_arg1, same_table_arg2) = same_table.has_a(table1=empty_entry, table2=empty_entry)\n",
    "    \n",
    "    empty_entry_label = empty_entry(name=\"empty_entry_label\", ConceptClass=EnumConcept, \n",
    "                                    values=[f'v{d}' for d in range(SIZE)])\n",
    "    v = [getattr(empty_entry_label, a) for a in ('', *empty_entry_label.enum)]\n",
    "\n",
    "    for row_num in range(SIZE):\n",
    "        for j in range(1, SIZE + 1):\n",
    "            exactL(v[j](path = (eqL(empty_entry, \"rows\", {row_num}))))\n",
    "            exactL(v[j](path = (eqL(empty_entry, \"cols\", {row_num}))))\n",
    "            exactL(v[j](path = (eqL(empty_entry, \"tables\", {row_num}))))"
   ]
  },
  {
   "cell_type": "code",
   "execution_count": 14,
   "id": "dae25146",
   "metadata": {},
   "outputs": [],
   "source": [
    "cols_indices = torch.arange(SIZE).repeat((SIZE, 1)).flatten()\n",
    "rows_indices = torch.arange(SIZE).repeat((SIZE, 1)).T.flatten()\n",
    "cols_indices = cols_indices.unsqueeze(-1)\n",
    "rows_indices = rows_indices.unsqueeze(-1)\n",
    "\n",
    "tables_indices = torch.empty((SIZE, SIZE))\n",
    "\n",
    "for i in range(0, SIZE, 3):\n",
    "    for j in range(0, SIZE, 3):\n",
    "        tables_indices[i:i+3, j:j+3] = i + j//3\n",
    "\n",
    "tables_indices = tables_indices.flatten().unsqueeze(-1) # 81 x 1"
   ]
  },
  {
   "cell_type": "code",
   "execution_count": 15,
   "id": "0d4bfec8",
   "metadata": {
    "scrolled": false
   },
   "outputs": [],
   "source": [
    "from cnn import Net"
   ]
  },
  {
   "cell_type": "code",
   "execution_count": 16,
   "id": "c860404a",
   "metadata": {
    "scrolled": false
   },
   "outputs": [],
   "source": [
    "sudoku['images'] = ReaderSensor(keyword='images') # 1 x 81 x 784\n",
    "sudoku['all_logits'] = ModuleLearner('images', module=Net(SIZE)) # 1 x 81 x 9\n",
    "\n",
    "sudoku['labels'] = ReaderSensor(keyword='labels') # 1 x 81"
   ]
  },
  {
   "cell_type": "code",
   "execution_count": 17,
   "id": "0d10ca8d",
   "metadata": {},
   "outputs": [],
   "source": [
    "def unpack(logits):\n",
    "    return torch.ones((SIZE ** 2, 1)), rows_indices, cols_indices, tables_indices, logits[0]\n"
   ]
  },
  {
   "cell_type": "code",
   "execution_count": 18,
   "id": "445eabf9",
   "metadata": {
    "scrolled": true
   },
   "outputs": [],
   "source": [
    "empty_entry[empty_rel, 'rows', 'cols', 'tables', empty_entry_label] = JointSensor(sudoku['all_logits'],\n",
    "                                                                                 forward=unpack)"
   ]
  },
  {
   "cell_type": "code",
   "execution_count": 19,
   "id": "344fa007",
   "metadata": {},
   "outputs": [],
   "source": [
    "# sanity check\n",
    "#empty_entry[empty_entry_label] = FunctionalSensor('label', forward=lambda x: torch.unsqueeze(x, dim=0), label=True)"
   ]
  },
  {
   "cell_type": "code",
   "execution_count": 20,
   "id": "d9b9f515",
   "metadata": {},
   "outputs": [
    {
     "data": {
      "text/plain": [
       "\"program = SolverPOIProgram(\\n        graph,\\n        poi=(sudoku, empty_entry, same_row, same_col, same_table),\\n        inferTypes=['local/argmax'],\\n        loss=MacroAverageTracker(NBCrossEntropyLoss()),\\n)\""
      ]
     },
     "execution_count": 20,
     "metadata": {},
     "output_type": "execute_result"
    }
   ],
   "source": [
    "from regr.program import SolverPOIProgram\n",
    "from regr.program.metric import MacroAverageTracker\n",
    "from regr.program.loss import NBCrossEntropyLoss\n",
    "\n",
    "'''program = SolverPOIProgram(\n",
    "        graph,\n",
    "        poi=(sudoku, empty_entry, same_row, same_col, same_table),\n",
    "        inferTypes=['local/argmax'],\n",
    "        loss=MacroAverageTracker(NBCrossEntropyLoss()),\n",
    ")'''"
   ]
  },
  {
   "cell_type": "code",
   "execution_count": 35,
   "id": "bfb5711e",
   "metadata": {
    "scrolled": true
   },
   "outputs": [],
   "source": [
    "from regr.program.lossprogram import SampleLossProgram, PrimalDualProgram\n",
    "from regr.program.model.pytorch import SolverModel\n",
    "\n",
    "class CallbackProgram(SampleLossProgram):\n",
    "    def __init__(self, *args, **kwargs):\n",
    "        super().__init__(*args, **kwargs)\n",
    "        self.after_train_epoch = []\n",
    "\n",
    "    def call_epoch(self, name, dataset, epoch_fn, **kwargs):\n",
    "        if name == 'Testing':\n",
    "            for fn in self.after_train_epoch:\n",
    "                fn(kwargs)\n",
    "        else:\n",
    "            super().call_epoch(name, dataset, epoch_fn, **kwargs)\n",
    "\n",
    "\n",
    "program = CallbackProgram(graph, SolverModel,\n",
    "                    poi=(sudoku, empty_entry, same_row, same_col, same_table),\n",
    "                    inferTypes=['local/argmax'],\n",
    "                    sample=True,\n",
    "                    sampleSize=2000,\n",
    "                    sampleGlobalLoss=True,\n",
    "                    beta=1)\n"
   ]
  },
  {
   "cell_type": "code",
   "execution_count": 36,
   "id": "d6163bc0",
   "metadata": {},
   "outputs": [
    {
     "data": {
      "text/plain": [
       "\"class CallbackProgram(PrimalDualProgram):\\n    def __init__(self, *args, **kwargs):\\n        super().__init__(*args, **kwargs)\\n        self.after_train_epoch = []\\n\\n    def call_epoch(self, name, dataset, epoch_fn, **kwargs):\\n        if name == 'Testing':\\n            for fn in self.after_train_epoch:\\n                fn(kwargs)\\n        else:\\n            super().call_epoch(name, dataset, epoch_fn, **kwargs)\\n\\n\\nprogram = CallbackProgram(graph, SolverModel,\\n                    poi=(sudoku, empty_entry, same_row, same_col, same_table),\\n                    inferTypes=['local/argmax'])\""
      ]
     },
     "execution_count": 36,
     "metadata": {},
     "output_type": "execute_result"
    }
   ],
   "source": [
    "'''class CallbackProgram(PrimalDualProgram):\n",
    "    def __init__(self, *args, **kwargs):\n",
    "        super().__init__(*args, **kwargs)\n",
    "        self.after_train_epoch = []\n",
    "\n",
    "    def call_epoch(self, name, dataset, epoch_fn, **kwargs):\n",
    "        if name == 'Testing':\n",
    "            for fn in self.after_train_epoch:\n",
    "                fn(kwargs)\n",
    "        else:\n",
    "            super().call_epoch(name, dataset, epoch_fn, **kwargs)\n",
    "\n",
    "\n",
    "program = CallbackProgram(graph, SolverModel,\n",
    "                    poi=(sudoku, empty_entry, same_row, same_col, same_table),\n",
    "                    inferTypes=['local/argmax'])'''"
   ]
  },
  {
   "cell_type": "code",
   "execution_count": 37,
   "id": "867bd192",
   "metadata": {},
   "outputs": [],
   "source": [
    "from sklearn.metrics import classification_report\n",
    "from tqdm.auto import tqdm\n",
    "\n",
    "def get_classification_report(dataloader, sample_num=10, limit=100, infer_suffixes=['/ILP', '/local/argmax']):\n",
    "    pred_results = {}\n",
    "    \n",
    "    for suffix in infer_suffixes:\n",
    "        pred_results[suffix] = []\n",
    "    \n",
    "    labels_all = []\n",
    "\n",
    "    for d_idx, node in tqdm(enumerate(program.populate(dataloader)), total=min(limit, len(dataloader))):\n",
    "        if d_idx >= limit:\n",
    "            break\n",
    "\n",
    "        node.inferILPResults()\n",
    "        \n",
    "        labels = node.getAttribute('labels')\n",
    "        labels_all.extend(labels.tolist()[0])\n",
    "        \n",
    "        for suffix in infer_suffixes:\n",
    "            preds = torch.empty((SIZE ** 2))\n",
    "\n",
    "            for i, entry in enumerate(node.getChildDataNodes(conceptName=empty_entry)):\n",
    "                entry_pred = torch.argmax(entry.getAttribute('<empty_entry_label>' + suffix), dim=0)\n",
    "\n",
    "                preds[i] = entry_pred\n",
    "\n",
    "            pred_results[suffix].extend(preds.tolist())\n",
    "\n",
    "            if d_idx < sample_num:\n",
    "                print(suffix)\n",
    "                \n",
    "                print(preds.reshape(SIZE, SIZE))\n",
    "\n",
    "                print(labels.reshape(SIZE, SIZE))\n",
    "\n",
    "                print('\\n')\n",
    "\n",
    "        if d_idx < sample_num:\n",
    "            print(\"===========================\")\n",
    "\n",
    "    for suffix, preds in pred_results.items():\n",
    "        print(\"========= %s =========\" % suffix)\n",
    "        print(classification_report(labels_all, preds))\n",
    "        print(\"===========================\")\n",
    "\n",
    "def post_epoch_metrics(kwargs):\n",
    "    get_classification_report(trainloader)"
   ]
  },
  {
   "cell_type": "code",
   "execution_count": 38,
   "id": "d3219de7",
   "metadata": {},
   "outputs": [],
   "source": [
    "program.after_train_epoch = [post_epoch_metrics]"
   ]
  },
  {
   "cell_type": "code",
   "execution_count": 39,
   "id": "9426bd84",
   "metadata": {},
   "outputs": [],
   "source": [
    "trainloader = DataLoader(\n",
    "    s_data,\n",
    "    shuffle=False\n",
    ")"
   ]
  },
  {
   "cell_type": "code",
   "execution_count": 40,
   "id": "4861b4b4",
   "metadata": {},
   "outputs": [],
   "source": [
    "optim = lambda param: torch.optim.Adam(param, lr=0.05)"
   ]
  },
  {
   "cell_type": "code",
   "execution_count": 41,
   "id": "b645dd04",
   "metadata": {
    "scrolled": false
   },
   "outputs": [
    {
     "name": "stderr",
     "output_type": "stream",
     "text": [
      "INFO:regr.program.program:Epoch: 1\n",
      "INFO:regr.program.program:Training:\n",
      "Epoch 1 Training:   0%|          | 0/10000 [00:00<?, ?it/s]INFO:regr.program.model.lossModel:-- number of satisfied constraints are 2\n",
      "INFO:regr.program.model.lossModel:-- number of unstatisfied constraints are 243\n",
      "Epoch 1 Training:   0%|          | 1/10000 [00:00<2:38:15,  1.05it/s]INFO:regr.program.model.lossModel:-- number of satisfied constraints are 2\n",
      "INFO:regr.program.model.lossModel:-- number of unstatisfied constraints are 243\n",
      "Epoch 1 Training:   0%|          | 2/10000 [00:02<3:52:35,  1.40s/it]INFO:regr.program.model.lossModel:-- number of satisfied constraints are 2\n",
      "INFO:regr.program.model.lossModel:-- number of unstatisfied constraints are 243\n",
      "Epoch 1 Training:   0%|          | 3/10000 [00:03<3:22:23,  1.21s/it]INFO:regr.program.model.lossModel:-- number of satisfied constraints are 2\n",
      "INFO:regr.program.model.lossModel:-- number of unstatisfied constraints are 243\n",
      "Epoch 1 Training:   0%|          | 4/10000 [00:04<3:06:01,  1.12s/it]INFO:regr.program.model.lossModel:-- number of satisfied constraints are 2\n",
      "INFO:regr.program.model.lossModel:-- number of unstatisfied constraints are 243\n",
      "Epoch 1 Training:   0%|          | 5/10000 [00:05<2:59:58,  1.08s/it]INFO:regr.program.model.lossModel:-- number of satisfied constraints are 2\n",
      "INFO:regr.program.model.lossModel:-- number of unstatisfied constraints are 243\n",
      "Epoch 1 Training:   0%|          | 6/10000 [00:06<2:52:42,  1.04s/it]INFO:regr.program.model.lossModel:-- number of satisfied constraints are 2\n",
      "INFO:regr.program.model.lossModel:-- number of unstatisfied constraints are 243\n",
      "Epoch 1 Training:   0%|          | 7/10000 [00:07<2:47:43,  1.01s/it]INFO:regr.program.model.lossModel:-- number of satisfied constraints are 2\n",
      "INFO:regr.program.model.lossModel:-- number of unstatisfied constraints are 243\n",
      "Epoch 1 Training:   0%|          | 8/10000 [00:08<2:47:08,  1.00s/it]INFO:regr.program.model.lossModel:-- number of satisfied constraints are 2\n",
      "INFO:regr.program.model.lossModel:-- number of unstatisfied constraints are 243\n",
      "Epoch 1 Training:   0%|          | 9/10000 [00:09<2:45:14,  1.01it/s]INFO:regr.program.model.lossModel:-- number of satisfied constraints are 2\n",
      "INFO:regr.program.model.lossModel:-- number of unstatisfied constraints are 243\n",
      "Epoch 1 Training:   0%|          | 10/10000 [00:10<2:42:39,  1.02it/s]INFO:regr.program.model.lossModel:-- number of satisfied constraints are 2\n",
      "INFO:regr.program.model.lossModel:-- number of unstatisfied constraints are 243\n",
      "Epoch 1 Training:   0%|          | 11/10000 [00:11<2:43:46,  1.02it/s]INFO:regr.program.model.lossModel:-- number of satisfied constraints are 2\n",
      "INFO:regr.program.model.lossModel:-- number of unstatisfied constraints are 243\n",
      "Epoch 1 Training:   0%|          | 12/10000 [00:12<2:41:49,  1.03it/s]INFO:regr.program.model.lossModel:-- number of satisfied constraints are 2\n",
      "INFO:regr.program.model.lossModel:-- number of unstatisfied constraints are 243\n",
      "Epoch 1 Training:   0%|          | 13/10000 [00:13<2:43:10,  1.02it/s]INFO:regr.program.model.lossModel:-- number of satisfied constraints are 2\n",
      "INFO:regr.program.model.lossModel:-- number of unstatisfied constraints are 243\n",
      "Epoch 1 Training:   0%|          | 14/10000 [00:14<2:41:32,  1.03it/s]INFO:regr.program.model.lossModel:-- number of satisfied constraints are 2\n",
      "INFO:regr.program.model.lossModel:-- number of unstatisfied constraints are 243\n",
      "Epoch 1 Training:   0%|          | 15/10000 [00:15<2:40:02,  1.04it/s]INFO:regr.program.model.lossModel:-- number of satisfied constraints are 2\n",
      "INFO:regr.program.model.lossModel:-- number of unstatisfied constraints are 243\n",
      "Epoch 1 Training:   0%|          | 16/10000 [00:16<2:41:52,  1.03it/s]INFO:regr.program.model.lossModel:-- number of satisfied constraints are 2\n",
      "INFO:regr.program.model.lossModel:-- number of unstatisfied constraints are 243\n",
      "Epoch 1 Training:   0%|          | 17/10000 [00:17<2:39:58,  1.04it/s]INFO:regr.program.model.lossModel:-- number of satisfied constraints are 2\n",
      "INFO:regr.program.model.lossModel:-- number of unstatisfied constraints are 243\n",
      "Epoch 1 Training:   0%|          | 18/10000 [00:18<2:38:31,  1.05it/s]INFO:regr.program.model.lossModel:-- number of satisfied constraints are 2\n",
      "INFO:regr.program.model.lossModel:-- number of unstatisfied constraints are 243\n",
      "Epoch 1 Training:   0%|          | 19/10000 [00:19<2:41:13,  1.03it/s]INFO:regr.program.model.lossModel:-- number of satisfied constraints are 2\n",
      "INFO:regr.program.model.lossModel:-- number of unstatisfied constraints are 243\n",
      "Epoch 1 Training:   0%|          | 20/10000 [00:20<2:39:49,  1.04it/s]INFO:regr.program.model.lossModel:-- number of satisfied constraints are 2\n",
      "INFO:regr.program.model.lossModel:-- number of unstatisfied constraints are 243\n",
      "Epoch 1 Training:   0%|          | 21/10000 [00:21<2:50:34,  1.03s/it]\n"
     ]
    },
    {
     "ename": "KeyboardInterrupt",
     "evalue": "",
     "output_type": "error",
     "traceback": [
      "\u001b[0;31m---------------------------------------------------------------------------\u001b[0m",
      "\u001b[0;31mKeyboardInterrupt\u001b[0m                         Traceback (most recent call last)",
      "\u001b[0;32m<ipython-input-41-ac96f5c4f830>\u001b[0m in \u001b[0;36m<module>\u001b[0;34m\u001b[0m\n\u001b[1;32m      4\u001b[0m               \u001b[0mdevice\u001b[0m\u001b[0;34m=\u001b[0m\u001b[0;34m'auto'\u001b[0m\u001b[0;34m,\u001b[0m\u001b[0;34m\u001b[0m\u001b[0;34m\u001b[0m\u001b[0m\n\u001b[1;32m      5\u001b[0m               \u001b[0mtest_every_epoch\u001b[0m\u001b[0;34m=\u001b[0m\u001b[0;32mTrue\u001b[0m\u001b[0;34m,\u001b[0m\u001b[0;34m\u001b[0m\u001b[0;34m\u001b[0m\u001b[0m\n\u001b[0;32m----> 6\u001b[0;31m               \u001b[0mc_warmup_iters\u001b[0m\u001b[0;34m=\u001b[0m\u001b[0;36m0\u001b[0m\u001b[0;34m\u001b[0m\u001b[0;34m\u001b[0m\u001b[0m\n\u001b[0m\u001b[1;32m      7\u001b[0m              )\n",
      "\u001b[0;32m~/Documents/alex_fork/DomiKnowS/regr/program/lossprogram.py\u001b[0m in \u001b[0;36mtrain\u001b[0;34m(self, training_set, valid_set, test_set, c_lr, c_momentum, c_warmup_iters, c_freq, c_freq_increase, c_freq_increase_freq, c_lr_decay, c_lr_decay_param, **kwargs)\u001b[0m\n\u001b[1;32m    297\u001b[0m             \u001b[0mc_lr_decay\u001b[0m\u001b[0;34m=\u001b[0m\u001b[0mc_lr_decay\u001b[0m\u001b[0;34m,\u001b[0m  \u001b[0;31m# strategy\u001b[0m\u001b[0;34m\u001b[0m\u001b[0;34m\u001b[0m\u001b[0m\n\u001b[1;32m    298\u001b[0m             \u001b[0mc_lr_decay_param\u001b[0m\u001b[0;34m=\u001b[0m\u001b[0mc_lr_decay_param\u001b[0m\u001b[0;34m,\u001b[0m  \u001b[0;31m# param in the strategy\u001b[0m\u001b[0;34m\u001b[0m\u001b[0;34m\u001b[0m\u001b[0m\n\u001b[0;32m--> 299\u001b[0;31m             **kwargs)\n\u001b[0m\u001b[1;32m    300\u001b[0m \u001b[0;34m\u001b[0m\u001b[0m\n\u001b[1;32m    301\u001b[0m \u001b[0;34m\u001b[0m\u001b[0m\n",
      "\u001b[0;32m~/Documents/alex_fork/DomiKnowS/regr/program/lossprogram.py\u001b[0m in \u001b[0;36mtrain\u001b[0;34m(self, training_set, valid_set, test_set, c_lr, c_momentum, c_warmup_iters, c_freq, c_freq_increase, c_freq_increase_freq, c_lr_decay, c_lr_decay_param, **kwargs)\u001b[0m\n\u001b[1;32m     96\u001b[0m             \u001b[0mc_lr_decay_param\u001b[0m\u001b[0;34m=\u001b[0m\u001b[0mc_lr_decay_param\u001b[0m\u001b[0;34m,\u001b[0m\u001b[0;34m\u001b[0m\u001b[0;34m\u001b[0m\u001b[0m\n\u001b[1;32m     97\u001b[0m             \u001b[0mc_session\u001b[0m\u001b[0;34m=\u001b[0m\u001b[0mc_session\u001b[0m\u001b[0;34m,\u001b[0m\u001b[0;34m\u001b[0m\u001b[0;34m\u001b[0m\u001b[0m\n\u001b[0;32m---> 98\u001b[0;31m             **kwargs)\n\u001b[0m\u001b[1;32m     99\u001b[0m \u001b[0;34m\u001b[0m\u001b[0m\n\u001b[1;32m    100\u001b[0m     \u001b[0;32mdef\u001b[0m \u001b[0mcall_epoch\u001b[0m\u001b[0;34m(\u001b[0m\u001b[0mself\u001b[0m\u001b[0;34m,\u001b[0m \u001b[0mname\u001b[0m\u001b[0;34m,\u001b[0m \u001b[0mdataset\u001b[0m\u001b[0;34m,\u001b[0m \u001b[0mepoch_fn\u001b[0m\u001b[0;34m,\u001b[0m \u001b[0;34m**\u001b[0m\u001b[0mkwargs\u001b[0m\u001b[0;34m)\u001b[0m\u001b[0;34m:\u001b[0m\u001b[0;34m\u001b[0m\u001b[0;34m\u001b[0m\u001b[0m\n",
      "\u001b[0;32m~/Documents/alex_fork/DomiKnowS/regr/program/program.py\u001b[0m in \u001b[0;36mtrain\u001b[0;34m(self, training_set, valid_set, test_set, device, train_epoch_num, test_every_epoch, Optim, **kwargs)\u001b[0m\n\u001b[1;32m    270\u001b[0m             \u001b[0mself\u001b[0m\u001b[0;34m.\u001b[0m\u001b[0mepoch\u001b[0m \u001b[0;34m+=\u001b[0m \u001b[0;36m1\u001b[0m\u001b[0;34m\u001b[0m\u001b[0;34m\u001b[0m\u001b[0m\n\u001b[1;32m    271\u001b[0m             \u001b[0mself\u001b[0m\u001b[0;34m.\u001b[0m\u001b[0mlogger\u001b[0m\u001b[0;34m.\u001b[0m\u001b[0minfo\u001b[0m\u001b[0;34m(\u001b[0m\u001b[0;34m'Epoch: %d'\u001b[0m\u001b[0;34m,\u001b[0m \u001b[0mself\u001b[0m\u001b[0;34m.\u001b[0m\u001b[0mepoch\u001b[0m\u001b[0;34m)\u001b[0m\u001b[0;34m\u001b[0m\u001b[0;34m\u001b[0m\u001b[0m\n\u001b[0;32m--> 272\u001b[0;31m             \u001b[0mself\u001b[0m\u001b[0;34m.\u001b[0m\u001b[0mcall_epoch\u001b[0m\u001b[0;34m(\u001b[0m\u001b[0;34m'Training'\u001b[0m\u001b[0;34m,\u001b[0m \u001b[0mtraining_set\u001b[0m\u001b[0;34m,\u001b[0m \u001b[0mself\u001b[0m\u001b[0;34m.\u001b[0m\u001b[0mtrain_epoch\u001b[0m\u001b[0;34m,\u001b[0m \u001b[0;34m**\u001b[0m\u001b[0mkwargs\u001b[0m\u001b[0;34m)\u001b[0m\u001b[0;34m\u001b[0m\u001b[0;34m\u001b[0m\u001b[0m\n\u001b[0m\u001b[1;32m    273\u001b[0m             \u001b[0mself\u001b[0m\u001b[0;34m.\u001b[0m\u001b[0mcall_epoch\u001b[0m\u001b[0;34m(\u001b[0m\u001b[0;34m'Validation'\u001b[0m\u001b[0;34m,\u001b[0m \u001b[0mvalid_set\u001b[0m\u001b[0;34m,\u001b[0m \u001b[0mself\u001b[0m\u001b[0;34m.\u001b[0m\u001b[0mtest_epoch\u001b[0m\u001b[0;34m,\u001b[0m \u001b[0;34m**\u001b[0m\u001b[0mkwargs\u001b[0m\u001b[0;34m)\u001b[0m\u001b[0;34m\u001b[0m\u001b[0;34m\u001b[0m\u001b[0m\n\u001b[1;32m    274\u001b[0m             \u001b[0;32mif\u001b[0m \u001b[0mtest_every_epoch\u001b[0m\u001b[0;34m:\u001b[0m\u001b[0;34m\u001b[0m\u001b[0;34m\u001b[0m\u001b[0m\n",
      "\u001b[0;32m<ipython-input-35-2a8d12e815d8>\u001b[0m in \u001b[0;36mcall_epoch\u001b[0;34m(self, name, dataset, epoch_fn, **kwargs)\u001b[0m\n\u001b[1;32m     12\u001b[0m                 \u001b[0mfn\u001b[0m\u001b[0;34m(\u001b[0m\u001b[0mkwargs\u001b[0m\u001b[0;34m)\u001b[0m\u001b[0;34m\u001b[0m\u001b[0;34m\u001b[0m\u001b[0m\n\u001b[1;32m     13\u001b[0m         \u001b[0;32melse\u001b[0m\u001b[0;34m:\u001b[0m\u001b[0;34m\u001b[0m\u001b[0;34m\u001b[0m\u001b[0m\n\u001b[0;32m---> 14\u001b[0;31m             \u001b[0msuper\u001b[0m\u001b[0;34m(\u001b[0m\u001b[0;34m)\u001b[0m\u001b[0;34m.\u001b[0m\u001b[0mcall_epoch\u001b[0m\u001b[0;34m(\u001b[0m\u001b[0mname\u001b[0m\u001b[0;34m,\u001b[0m \u001b[0mdataset\u001b[0m\u001b[0;34m,\u001b[0m \u001b[0mepoch_fn\u001b[0m\u001b[0;34m,\u001b[0m \u001b[0;34m**\u001b[0m\u001b[0mkwargs\u001b[0m\u001b[0;34m)\u001b[0m\u001b[0;34m\u001b[0m\u001b[0;34m\u001b[0m\u001b[0m\n\u001b[0m\u001b[1;32m     15\u001b[0m \u001b[0;34m\u001b[0m\u001b[0m\n\u001b[1;32m     16\u001b[0m \u001b[0;34m\u001b[0m\u001b[0m\n",
      "\u001b[0;32m~/Documents/alex_fork/DomiKnowS/regr/program/lossprogram.py\u001b[0m in \u001b[0;36mcall_epoch\u001b[0;34m(self, name, dataset, epoch_fn, **kwargs)\u001b[0m\n\u001b[1;32m    103\u001b[0m             \u001b[0mdesc\u001b[0m \u001b[0;34m=\u001b[0m \u001b[0mname\u001b[0m \u001b[0;32mif\u001b[0m \u001b[0mself\u001b[0m\u001b[0;34m.\u001b[0m\u001b[0mepoch\u001b[0m \u001b[0;32mis\u001b[0m \u001b[0;32mNone\u001b[0m \u001b[0;32melse\u001b[0m \u001b[0;34mf'Epoch {self.epoch} {name}'\u001b[0m\u001b[0;34m\u001b[0m\u001b[0;34m\u001b[0m\u001b[0m\n\u001b[1;32m    104\u001b[0m \u001b[0;34m\u001b[0m\u001b[0m\n\u001b[0;32m--> 105\u001b[0;31m             \u001b[0mconsume\u001b[0m\u001b[0;34m(\u001b[0m\u001b[0mtqdm\u001b[0m\u001b[0;34m(\u001b[0m\u001b[0mepoch_fn\u001b[0m\u001b[0;34m(\u001b[0m\u001b[0mdataset\u001b[0m\u001b[0;34m,\u001b[0m \u001b[0;34m**\u001b[0m\u001b[0mkwargs\u001b[0m\u001b[0;34m)\u001b[0m\u001b[0;34m,\u001b[0m \u001b[0mtotal\u001b[0m\u001b[0;34m=\u001b[0m\u001b[0mget_len\u001b[0m\u001b[0;34m(\u001b[0m\u001b[0mdataset\u001b[0m\u001b[0;34m)\u001b[0m\u001b[0;34m,\u001b[0m \u001b[0mdesc\u001b[0m\u001b[0;34m=\u001b[0m\u001b[0mdesc\u001b[0m\u001b[0;34m)\u001b[0m\u001b[0;34m)\u001b[0m\u001b[0;34m\u001b[0m\u001b[0;34m\u001b[0m\u001b[0m\n\u001b[0m\u001b[1;32m    106\u001b[0m \u001b[0;34m\u001b[0m\u001b[0m\n\u001b[1;32m    107\u001b[0m             \u001b[0;32mif\u001b[0m \u001b[0mself\u001b[0m\u001b[0;34m.\u001b[0m\u001b[0mmodel\u001b[0m\u001b[0;34m.\u001b[0m\u001b[0mloss\u001b[0m\u001b[0;34m:\u001b[0m\u001b[0;34m\u001b[0m\u001b[0;34m\u001b[0m\u001b[0m\n",
      "\u001b[0;32m~/Documents/alex_fork/DomiKnowS/regr/utils.py\u001b[0m in \u001b[0;36mconsume\u001b[0;34m(it)\u001b[0m\n\u001b[1;32m    297\u001b[0m     \u001b[0;32mimport\u001b[0m \u001b[0mcollections\u001b[0m\u001b[0;34m\u001b[0m\u001b[0;34m\u001b[0m\u001b[0m\n\u001b[1;32m    298\u001b[0m     \u001b[0;32mdef\u001b[0m \u001b[0mconsume\u001b[0m\u001b[0;34m(\u001b[0m\u001b[0mit\u001b[0m\u001b[0;34m)\u001b[0m\u001b[0;34m:\u001b[0m\u001b[0;34m\u001b[0m\u001b[0;34m\u001b[0m\u001b[0m\n\u001b[0;32m--> 299\u001b[0;31m         \u001b[0mcollections\u001b[0m\u001b[0;34m.\u001b[0m\u001b[0mdeque\u001b[0m\u001b[0;34m(\u001b[0m\u001b[0mit\u001b[0m\u001b[0;34m,\u001b[0m \u001b[0mmaxlen\u001b[0m\u001b[0;34m=\u001b[0m\u001b[0;36m0\u001b[0m\u001b[0;34m)\u001b[0m\u001b[0;34m\u001b[0m\u001b[0;34m\u001b[0m\u001b[0m\n\u001b[0m\u001b[1;32m    300\u001b[0m \u001b[0;32melse\u001b[0m\u001b[0;34m:\u001b[0m\u001b[0;34m\u001b[0m\u001b[0;34m\u001b[0m\u001b[0m\n\u001b[1;32m    301\u001b[0m     \u001b[0;32mdef\u001b[0m \u001b[0mconsume\u001b[0m\u001b[0;34m(\u001b[0m\u001b[0mit\u001b[0m\u001b[0;34m)\u001b[0m\u001b[0;34m:\u001b[0m\u001b[0;34m\u001b[0m\u001b[0;34m\u001b[0m\u001b[0m\n",
      "\u001b[0;32m~/miniconda3/envs/domiknows/lib/python3.7/site-packages/tqdm/std.py\u001b[0m in \u001b[0;36m__iter__\u001b[0;34m(self)\u001b[0m\n\u001b[1;32m   1183\u001b[0m \u001b[0;34m\u001b[0m\u001b[0m\n\u001b[1;32m   1184\u001b[0m         \u001b[0;32mtry\u001b[0m\u001b[0;34m:\u001b[0m\u001b[0;34m\u001b[0m\u001b[0;34m\u001b[0m\u001b[0m\n\u001b[0;32m-> 1185\u001b[0;31m             \u001b[0;32mfor\u001b[0m \u001b[0mobj\u001b[0m \u001b[0;32min\u001b[0m \u001b[0miterable\u001b[0m\u001b[0;34m:\u001b[0m\u001b[0;34m\u001b[0m\u001b[0;34m\u001b[0m\u001b[0m\n\u001b[0m\u001b[1;32m   1186\u001b[0m                 \u001b[0;32myield\u001b[0m \u001b[0mobj\u001b[0m\u001b[0;34m\u001b[0m\u001b[0;34m\u001b[0m\u001b[0m\n\u001b[1;32m   1187\u001b[0m                 \u001b[0;31m# Update and possibly print the progressbar.\u001b[0m\u001b[0;34m\u001b[0m\u001b[0;34m\u001b[0m\u001b[0;34m\u001b[0m\u001b[0m\n",
      "\u001b[0;32m~/Documents/alex_fork/DomiKnowS/regr/program/lossprogram.py\u001b[0m in \u001b[0;36mtrain_epoch\u001b[0;34m(self, dataset, c_warmup_iters, c_session, **kwargs)\u001b[0m\n\u001b[1;32m    322\u001b[0m                 \u001b[0mloss\u001b[0m \u001b[0;34m=\u001b[0m \u001b[0mmloss\u001b[0m\u001b[0;34m\u001b[0m\u001b[0;34m\u001b[0m\u001b[0m\n\u001b[1;32m    323\u001b[0m             \u001b[0;32melse\u001b[0m\u001b[0;34m:\u001b[0m\u001b[0;34m\u001b[0m\u001b[0;34m\u001b[0m\u001b[0m\n\u001b[0;32m--> 324\u001b[0;31m                 \u001b[0mcloss\u001b[0m\u001b[0;34m,\u001b[0m \u001b[0;34m*\u001b[0m\u001b[0m_\u001b[0m \u001b[0;34m=\u001b[0m \u001b[0mself\u001b[0m\u001b[0;34m.\u001b[0m\u001b[0mcmodel\u001b[0m\u001b[0;34m(\u001b[0m\u001b[0moutput\u001b[0m\u001b[0;34m[\u001b[0m\u001b[0;36m1\u001b[0m\u001b[0;34m]\u001b[0m\u001b[0;34m)\u001b[0m\u001b[0;34m\u001b[0m\u001b[0;34m\u001b[0m\u001b[0m\n\u001b[0m\u001b[1;32m    325\u001b[0m                 \u001b[0;32mif\u001b[0m \u001b[0mtorch\u001b[0m\u001b[0;34m.\u001b[0m\u001b[0mis_tensor\u001b[0m\u001b[0;34m(\u001b[0m\u001b[0mcloss\u001b[0m\u001b[0;34m)\u001b[0m\u001b[0;34m:\u001b[0m\u001b[0;34m\u001b[0m\u001b[0;34m\u001b[0m\u001b[0m\n\u001b[1;32m    326\u001b[0m                     \u001b[0mloss\u001b[0m \u001b[0;34m=\u001b[0m \u001b[0mmloss\u001b[0m \u001b[0;34m+\u001b[0m \u001b[0mself\u001b[0m\u001b[0;34m.\u001b[0m\u001b[0mbeta\u001b[0m \u001b[0;34m*\u001b[0m \u001b[0mcloss\u001b[0m\u001b[0;34m\u001b[0m\u001b[0;34m\u001b[0m\u001b[0m\n",
      "\u001b[0;32m~/miniconda3/envs/domiknows/lib/python3.7/site-packages/torch/nn/modules/module.py\u001b[0m in \u001b[0;36m_call_impl\u001b[0;34m(self, *input, **kwargs)\u001b[0m\n\u001b[1;32m    887\u001b[0m             \u001b[0mresult\u001b[0m \u001b[0;34m=\u001b[0m \u001b[0mself\u001b[0m\u001b[0;34m.\u001b[0m\u001b[0m_slow_forward\u001b[0m\u001b[0;34m(\u001b[0m\u001b[0;34m*\u001b[0m\u001b[0minput\u001b[0m\u001b[0;34m,\u001b[0m \u001b[0;34m**\u001b[0m\u001b[0mkwargs\u001b[0m\u001b[0;34m)\u001b[0m\u001b[0;34m\u001b[0m\u001b[0;34m\u001b[0m\u001b[0m\n\u001b[1;32m    888\u001b[0m         \u001b[0;32melse\u001b[0m\u001b[0;34m:\u001b[0m\u001b[0;34m\u001b[0m\u001b[0;34m\u001b[0m\u001b[0m\n\u001b[0;32m--> 889\u001b[0;31m             \u001b[0mresult\u001b[0m \u001b[0;34m=\u001b[0m \u001b[0mself\u001b[0m\u001b[0;34m.\u001b[0m\u001b[0mforward\u001b[0m\u001b[0;34m(\u001b[0m\u001b[0;34m*\u001b[0m\u001b[0minput\u001b[0m\u001b[0;34m,\u001b[0m \u001b[0;34m**\u001b[0m\u001b[0mkwargs\u001b[0m\u001b[0;34m)\u001b[0m\u001b[0;34m\u001b[0m\u001b[0;34m\u001b[0m\u001b[0m\n\u001b[0m\u001b[1;32m    890\u001b[0m         for hook in itertools.chain(\n\u001b[1;32m    891\u001b[0m                 \u001b[0m_global_forward_hooks\u001b[0m\u001b[0;34m.\u001b[0m\u001b[0mvalues\u001b[0m\u001b[0;34m(\u001b[0m\u001b[0;34m)\u001b[0m\u001b[0;34m,\u001b[0m\u001b[0;34m\u001b[0m\u001b[0;34m\u001b[0m\u001b[0m\n",
      "\u001b[0;32m~/Documents/alex_fork/DomiKnowS/regr/program/model/lossModel.py\u001b[0m in \u001b[0;36mforward\u001b[0;34m(self, builder, build)\u001b[0m\n\u001b[1;32m    162\u001b[0m \u001b[0;34m\u001b[0m\u001b[0m\n\u001b[1;32m    163\u001b[0m         \u001b[0;31m# Call the loss calculation returns a dictionary, keys are matching the constraints\u001b[0m\u001b[0;34m\u001b[0m\u001b[0;34m\u001b[0m\u001b[0;34m\u001b[0m\u001b[0m\n\u001b[0;32m--> 164\u001b[0;31m         \u001b[0mconstr_loss\u001b[0m \u001b[0;34m=\u001b[0m \u001b[0mdatanode\u001b[0m\u001b[0;34m.\u001b[0m\u001b[0mcalculateLcLoss\u001b[0m\u001b[0;34m(\u001b[0m\u001b[0mtnorm\u001b[0m\u001b[0;34m=\u001b[0m\u001b[0mself\u001b[0m\u001b[0;34m.\u001b[0m\u001b[0mtnorm\u001b[0m\u001b[0;34m,\u001b[0m \u001b[0msample\u001b[0m\u001b[0;34m=\u001b[0m\u001b[0mself\u001b[0m\u001b[0;34m.\u001b[0m\u001b[0msample\u001b[0m\u001b[0;34m,\u001b[0m \u001b[0msampleSize\u001b[0m \u001b[0;34m=\u001b[0m \u001b[0mself\u001b[0m\u001b[0;34m.\u001b[0m\u001b[0msampleSize\u001b[0m\u001b[0;34m,\u001b[0m \u001b[0msampleGlobalLoss\u001b[0m \u001b[0;34m=\u001b[0m \u001b[0mself\u001b[0m\u001b[0;34m.\u001b[0m\u001b[0msampleGlobalLoss\u001b[0m\u001b[0;34m)\u001b[0m\u001b[0;34m\u001b[0m\u001b[0;34m\u001b[0m\u001b[0m\n\u001b[0m\u001b[1;32m    165\u001b[0m         \u001b[0;32mimport\u001b[0m \u001b[0mmath\u001b[0m\u001b[0;34m\u001b[0m\u001b[0;34m\u001b[0m\u001b[0m\n\u001b[1;32m    166\u001b[0m         \u001b[0mlmbd_loss\u001b[0m \u001b[0;34m=\u001b[0m \u001b[0;34m[\u001b[0m\u001b[0;34m]\u001b[0m\u001b[0;34m\u001b[0m\u001b[0;34m\u001b[0m\u001b[0m\n",
      "\u001b[0;32m~/Documents/alex_fork/DomiKnowS/regr/graph/dataNode.py\u001b[0m in \u001b[0;36mcalculateLcLoss\u001b[0;34m(self, tnorm, sample, sampleSize, sampleGlobalLoss)\u001b[0m\n\u001b[1;32m   1143\u001b[0m \u001b[0;34m\u001b[0m\u001b[0m\n\u001b[1;32m   1144\u001b[0m         \u001b[0mself\u001b[0m\u001b[0;34m.\u001b[0m\u001b[0minferLocal\u001b[0m\u001b[0;34m(\u001b[0m\u001b[0;34m)\u001b[0m\u001b[0;34m\u001b[0m\u001b[0;34m\u001b[0m\u001b[0m\n\u001b[0;32m-> 1145\u001b[0;31m         \u001b[0mlcResult\u001b[0m \u001b[0;34m=\u001b[0m \u001b[0mmyilpOntSolver\u001b[0m\u001b[0;34m.\u001b[0m\u001b[0mcalculateLcLoss\u001b[0m\u001b[0;34m(\u001b[0m\u001b[0mself\u001b[0m\u001b[0;34m,\u001b[0m \u001b[0mtnorm\u001b[0m \u001b[0;34m=\u001b[0m \u001b[0mtnorm\u001b[0m\u001b[0;34m,\u001b[0m \u001b[0msample\u001b[0m \u001b[0;34m=\u001b[0m \u001b[0msample\u001b[0m\u001b[0;34m,\u001b[0m \u001b[0msampleSize\u001b[0m \u001b[0;34m=\u001b[0m \u001b[0msampleSize\u001b[0m\u001b[0;34m,\u001b[0m \u001b[0msampleGlobalLoss\u001b[0m \u001b[0;34m=\u001b[0m \u001b[0msampleGlobalLoss\u001b[0m\u001b[0;34m)\u001b[0m\u001b[0;34m\u001b[0m\u001b[0;34m\u001b[0m\u001b[0m\n\u001b[0m\u001b[1;32m   1146\u001b[0m \u001b[0;34m\u001b[0m\u001b[0m\n\u001b[1;32m   1147\u001b[0m         \u001b[0;32mreturn\u001b[0m \u001b[0mlcResult\u001b[0m\u001b[0;34m\u001b[0m\u001b[0;34m\u001b[0m\u001b[0m\n",
      "\u001b[0;32m~/Documents/alex_fork/DomiKnowS/regr/solver/gurobiILPOntSolver.py\u001b[0m in \u001b[0;36mcalculateLcLoss\u001b[0;34m(self, dn, tnorm, sample, sampleSize, sampleGlobalLoss)\u001b[0m\n\u001b[1;32m   1450\u001b[0m \u001b[0;34m\u001b[0m\u001b[0m\n\u001b[1;32m   1451\u001b[0m                 \u001b[0mlcCounter\u001b[0m \u001b[0;34m+=\u001b[0m  \u001b[0;36m1\u001b[0m\u001b[0;34m\u001b[0m\u001b[0;34m\u001b[0m\u001b[0m\n\u001b[0;32m-> 1452\u001b[0;31m                 \u001b[0mself\u001b[0m\u001b[0;34m.\u001b[0m\u001b[0mmyLogger\u001b[0m\u001b[0;34m.\u001b[0m\u001b[0minfo\u001b[0m\u001b[0;34m(\u001b[0m\u001b[0;34m'Processing Logical Constrain %s(%s) - %s'\u001b[0m\u001b[0;34m%\u001b[0m\u001b[0;34m(\u001b[0m\u001b[0mlc\u001b[0m\u001b[0;34m.\u001b[0m\u001b[0mlcName\u001b[0m\u001b[0;34m,\u001b[0m \u001b[0mlc\u001b[0m\u001b[0;34m,\u001b[0m \u001b[0mlc\u001b[0m\u001b[0;34m.\u001b[0m\u001b[0mstrEs\u001b[0m\u001b[0;34m(\u001b[0m\u001b[0;34m)\u001b[0m\u001b[0;34m)\u001b[0m\u001b[0;34m)\u001b[0m\u001b[0;34m\u001b[0m\u001b[0;34m\u001b[0m\u001b[0m\n\u001b[0m\u001b[1;32m   1453\u001b[0m \u001b[0;34m\u001b[0m\u001b[0m\n\u001b[1;32m   1454\u001b[0m                 \u001b[0mlcName\u001b[0m \u001b[0;34m=\u001b[0m \u001b[0mlc\u001b[0m\u001b[0;34m.\u001b[0m\u001b[0mlcName\u001b[0m\u001b[0;34m\u001b[0m\u001b[0;34m\u001b[0m\u001b[0m\n",
      "\u001b[0;32m~/miniconda3/envs/domiknows/lib/python3.7/logging/__init__.py\u001b[0m in \u001b[0;36minfo\u001b[0;34m(self, msg, *args, **kwargs)\u001b[0m\n\u001b[1;32m   1376\u001b[0m         \"\"\"\n\u001b[1;32m   1377\u001b[0m         \u001b[0;32mif\u001b[0m \u001b[0mself\u001b[0m\u001b[0;34m.\u001b[0m\u001b[0misEnabledFor\u001b[0m\u001b[0;34m(\u001b[0m\u001b[0mINFO\u001b[0m\u001b[0;34m)\u001b[0m\u001b[0;34m:\u001b[0m\u001b[0;34m\u001b[0m\u001b[0;34m\u001b[0m\u001b[0m\n\u001b[0;32m-> 1378\u001b[0;31m             \u001b[0mself\u001b[0m\u001b[0;34m.\u001b[0m\u001b[0m_log\u001b[0m\u001b[0;34m(\u001b[0m\u001b[0mINFO\u001b[0m\u001b[0;34m,\u001b[0m \u001b[0mmsg\u001b[0m\u001b[0;34m,\u001b[0m \u001b[0margs\u001b[0m\u001b[0;34m,\u001b[0m \u001b[0;34m**\u001b[0m\u001b[0mkwargs\u001b[0m\u001b[0;34m)\u001b[0m\u001b[0;34m\u001b[0m\u001b[0;34m\u001b[0m\u001b[0m\n\u001b[0m\u001b[1;32m   1379\u001b[0m \u001b[0;34m\u001b[0m\u001b[0m\n\u001b[1;32m   1380\u001b[0m     \u001b[0;32mdef\u001b[0m \u001b[0mwarning\u001b[0m\u001b[0;34m(\u001b[0m\u001b[0mself\u001b[0m\u001b[0;34m,\u001b[0m \u001b[0mmsg\u001b[0m\u001b[0;34m,\u001b[0m \u001b[0;34m*\u001b[0m\u001b[0margs\u001b[0m\u001b[0;34m,\u001b[0m \u001b[0;34m**\u001b[0m\u001b[0mkwargs\u001b[0m\u001b[0;34m)\u001b[0m\u001b[0;34m:\u001b[0m\u001b[0;34m\u001b[0m\u001b[0;34m\u001b[0m\u001b[0m\n",
      "\u001b[0;32m~/miniconda3/envs/domiknows/lib/python3.7/logging/__init__.py\u001b[0m in \u001b[0;36m_log\u001b[0;34m(self, level, msg, args, exc_info, extra, stack_info)\u001b[0m\n\u001b[1;32m   1512\u001b[0m         record = self.makeRecord(self.name, level, fn, lno, msg, args,\n\u001b[1;32m   1513\u001b[0m                                  exc_info, func, extra, sinfo)\n\u001b[0;32m-> 1514\u001b[0;31m         \u001b[0mself\u001b[0m\u001b[0;34m.\u001b[0m\u001b[0mhandle\u001b[0m\u001b[0;34m(\u001b[0m\u001b[0mrecord\u001b[0m\u001b[0;34m)\u001b[0m\u001b[0;34m\u001b[0m\u001b[0;34m\u001b[0m\u001b[0m\n\u001b[0m\u001b[1;32m   1515\u001b[0m \u001b[0;34m\u001b[0m\u001b[0m\n\u001b[1;32m   1516\u001b[0m     \u001b[0;32mdef\u001b[0m \u001b[0mhandle\u001b[0m\u001b[0;34m(\u001b[0m\u001b[0mself\u001b[0m\u001b[0;34m,\u001b[0m \u001b[0mrecord\u001b[0m\u001b[0;34m)\u001b[0m\u001b[0;34m:\u001b[0m\u001b[0;34m\u001b[0m\u001b[0;34m\u001b[0m\u001b[0m\n",
      "\u001b[0;32m~/miniconda3/envs/domiknows/lib/python3.7/logging/__init__.py\u001b[0m in \u001b[0;36mhandle\u001b[0;34m(self, record)\u001b[0m\n\u001b[1;32m   1522\u001b[0m         \"\"\"\n\u001b[1;32m   1523\u001b[0m         \u001b[0;32mif\u001b[0m \u001b[0;34m(\u001b[0m\u001b[0;32mnot\u001b[0m \u001b[0mself\u001b[0m\u001b[0;34m.\u001b[0m\u001b[0mdisabled\u001b[0m\u001b[0;34m)\u001b[0m \u001b[0;32mand\u001b[0m \u001b[0mself\u001b[0m\u001b[0;34m.\u001b[0m\u001b[0mfilter\u001b[0m\u001b[0;34m(\u001b[0m\u001b[0mrecord\u001b[0m\u001b[0;34m)\u001b[0m\u001b[0;34m:\u001b[0m\u001b[0;34m\u001b[0m\u001b[0;34m\u001b[0m\u001b[0m\n\u001b[0;32m-> 1524\u001b[0;31m             \u001b[0mself\u001b[0m\u001b[0;34m.\u001b[0m\u001b[0mcallHandlers\u001b[0m\u001b[0;34m(\u001b[0m\u001b[0mrecord\u001b[0m\u001b[0;34m)\u001b[0m\u001b[0;34m\u001b[0m\u001b[0;34m\u001b[0m\u001b[0m\n\u001b[0m\u001b[1;32m   1525\u001b[0m \u001b[0;34m\u001b[0m\u001b[0m\n\u001b[1;32m   1526\u001b[0m     \u001b[0;32mdef\u001b[0m \u001b[0maddHandler\u001b[0m\u001b[0;34m(\u001b[0m\u001b[0mself\u001b[0m\u001b[0;34m,\u001b[0m \u001b[0mhdlr\u001b[0m\u001b[0;34m)\u001b[0m\u001b[0;34m:\u001b[0m\u001b[0;34m\u001b[0m\u001b[0;34m\u001b[0m\u001b[0m\n",
      "\u001b[0;32m~/miniconda3/envs/domiknows/lib/python3.7/logging/__init__.py\u001b[0m in \u001b[0;36mcallHandlers\u001b[0;34m(self, record)\u001b[0m\n\u001b[1;32m   1584\u001b[0m                 \u001b[0mfound\u001b[0m \u001b[0;34m=\u001b[0m \u001b[0mfound\u001b[0m \u001b[0;34m+\u001b[0m \u001b[0;36m1\u001b[0m\u001b[0;34m\u001b[0m\u001b[0;34m\u001b[0m\u001b[0m\n\u001b[1;32m   1585\u001b[0m                 \u001b[0;32mif\u001b[0m \u001b[0mrecord\u001b[0m\u001b[0;34m.\u001b[0m\u001b[0mlevelno\u001b[0m \u001b[0;34m>=\u001b[0m \u001b[0mhdlr\u001b[0m\u001b[0;34m.\u001b[0m\u001b[0mlevel\u001b[0m\u001b[0;34m:\u001b[0m\u001b[0;34m\u001b[0m\u001b[0;34m\u001b[0m\u001b[0m\n\u001b[0;32m-> 1586\u001b[0;31m                     \u001b[0mhdlr\u001b[0m\u001b[0;34m.\u001b[0m\u001b[0mhandle\u001b[0m\u001b[0;34m(\u001b[0m\u001b[0mrecord\u001b[0m\u001b[0;34m)\u001b[0m\u001b[0;34m\u001b[0m\u001b[0;34m\u001b[0m\u001b[0m\n\u001b[0m\u001b[1;32m   1587\u001b[0m             \u001b[0;32mif\u001b[0m \u001b[0;32mnot\u001b[0m \u001b[0mc\u001b[0m\u001b[0;34m.\u001b[0m\u001b[0mpropagate\u001b[0m\u001b[0;34m:\u001b[0m\u001b[0;34m\u001b[0m\u001b[0;34m\u001b[0m\u001b[0m\n\u001b[1;32m   1588\u001b[0m                 \u001b[0mc\u001b[0m \u001b[0;34m=\u001b[0m \u001b[0;32mNone\u001b[0m    \u001b[0;31m#break out\u001b[0m\u001b[0;34m\u001b[0m\u001b[0;34m\u001b[0m\u001b[0m\n",
      "\u001b[0;32m~/miniconda3/envs/domiknows/lib/python3.7/logging/__init__.py\u001b[0m in \u001b[0;36mhandle\u001b[0;34m(self, record)\u001b[0m\n\u001b[1;32m    892\u001b[0m             \u001b[0mself\u001b[0m\u001b[0;34m.\u001b[0m\u001b[0macquire\u001b[0m\u001b[0;34m(\u001b[0m\u001b[0;34m)\u001b[0m\u001b[0;34m\u001b[0m\u001b[0;34m\u001b[0m\u001b[0m\n\u001b[1;32m    893\u001b[0m             \u001b[0;32mtry\u001b[0m\u001b[0;34m:\u001b[0m\u001b[0;34m\u001b[0m\u001b[0;34m\u001b[0m\u001b[0m\n\u001b[0;32m--> 894\u001b[0;31m                 \u001b[0mself\u001b[0m\u001b[0;34m.\u001b[0m\u001b[0memit\u001b[0m\u001b[0;34m(\u001b[0m\u001b[0mrecord\u001b[0m\u001b[0;34m)\u001b[0m\u001b[0;34m\u001b[0m\u001b[0;34m\u001b[0m\u001b[0m\n\u001b[0m\u001b[1;32m    895\u001b[0m             \u001b[0;32mfinally\u001b[0m\u001b[0;34m:\u001b[0m\u001b[0;34m\u001b[0m\u001b[0;34m\u001b[0m\u001b[0m\n\u001b[1;32m    896\u001b[0m                 \u001b[0mself\u001b[0m\u001b[0;34m.\u001b[0m\u001b[0mrelease\u001b[0m\u001b[0;34m(\u001b[0m\u001b[0;34m)\u001b[0m\u001b[0;34m\u001b[0m\u001b[0;34m\u001b[0m\u001b[0m\n",
      "\u001b[0;32m~/miniconda3/envs/domiknows/lib/python3.7/logging/handlers.py\u001b[0m in \u001b[0;36memit\u001b[0;34m(self, record)\u001b[0m\n\u001b[1;32m     69\u001b[0m             \u001b[0;32mif\u001b[0m \u001b[0mself\u001b[0m\u001b[0;34m.\u001b[0m\u001b[0mshouldRollover\u001b[0m\u001b[0;34m(\u001b[0m\u001b[0mrecord\u001b[0m\u001b[0;34m)\u001b[0m\u001b[0;34m:\u001b[0m\u001b[0;34m\u001b[0m\u001b[0;34m\u001b[0m\u001b[0m\n\u001b[1;32m     70\u001b[0m                 \u001b[0mself\u001b[0m\u001b[0;34m.\u001b[0m\u001b[0mdoRollover\u001b[0m\u001b[0;34m(\u001b[0m\u001b[0;34m)\u001b[0m\u001b[0;34m\u001b[0m\u001b[0;34m\u001b[0m\u001b[0m\n\u001b[0;32m---> 71\u001b[0;31m             \u001b[0mlogging\u001b[0m\u001b[0;34m.\u001b[0m\u001b[0mFileHandler\u001b[0m\u001b[0;34m.\u001b[0m\u001b[0memit\u001b[0m\u001b[0;34m(\u001b[0m\u001b[0mself\u001b[0m\u001b[0;34m,\u001b[0m \u001b[0mrecord\u001b[0m\u001b[0;34m)\u001b[0m\u001b[0;34m\u001b[0m\u001b[0;34m\u001b[0m\u001b[0m\n\u001b[0m\u001b[1;32m     72\u001b[0m         \u001b[0;32mexcept\u001b[0m \u001b[0mException\u001b[0m\u001b[0;34m:\u001b[0m\u001b[0;34m\u001b[0m\u001b[0;34m\u001b[0m\u001b[0m\n\u001b[1;32m     73\u001b[0m             \u001b[0mself\u001b[0m\u001b[0;34m.\u001b[0m\u001b[0mhandleError\u001b[0m\u001b[0;34m(\u001b[0m\u001b[0mrecord\u001b[0m\u001b[0;34m)\u001b[0m\u001b[0;34m\u001b[0m\u001b[0;34m\u001b[0m\u001b[0m\n",
      "\u001b[0;32m~/miniconda3/envs/domiknows/lib/python3.7/logging/__init__.py\u001b[0m in \u001b[0;36memit\u001b[0;34m(self, record)\u001b[0m\n\u001b[1;32m   1125\u001b[0m         \u001b[0;32mif\u001b[0m \u001b[0mself\u001b[0m\u001b[0;34m.\u001b[0m\u001b[0mstream\u001b[0m \u001b[0;32mis\u001b[0m \u001b[0;32mNone\u001b[0m\u001b[0;34m:\u001b[0m\u001b[0;34m\u001b[0m\u001b[0;34m\u001b[0m\u001b[0m\n\u001b[1;32m   1126\u001b[0m             \u001b[0mself\u001b[0m\u001b[0;34m.\u001b[0m\u001b[0mstream\u001b[0m \u001b[0;34m=\u001b[0m \u001b[0mself\u001b[0m\u001b[0;34m.\u001b[0m\u001b[0m_open\u001b[0m\u001b[0;34m(\u001b[0m\u001b[0;34m)\u001b[0m\u001b[0;34m\u001b[0m\u001b[0;34m\u001b[0m\u001b[0m\n\u001b[0;32m-> 1127\u001b[0;31m         \u001b[0mStreamHandler\u001b[0m\u001b[0;34m.\u001b[0m\u001b[0memit\u001b[0m\u001b[0;34m(\u001b[0m\u001b[0mself\u001b[0m\u001b[0;34m,\u001b[0m \u001b[0mrecord\u001b[0m\u001b[0;34m)\u001b[0m\u001b[0;34m\u001b[0m\u001b[0;34m\u001b[0m\u001b[0m\n\u001b[0m\u001b[1;32m   1128\u001b[0m \u001b[0;34m\u001b[0m\u001b[0m\n\u001b[1;32m   1129\u001b[0m     \u001b[0;32mdef\u001b[0m \u001b[0m__repr__\u001b[0m\u001b[0;34m(\u001b[0m\u001b[0mself\u001b[0m\u001b[0;34m)\u001b[0m\u001b[0;34m:\u001b[0m\u001b[0;34m\u001b[0m\u001b[0;34m\u001b[0m\u001b[0m\n",
      "\u001b[0;32m~/miniconda3/envs/domiknows/lib/python3.7/logging/__init__.py\u001b[0m in \u001b[0;36memit\u001b[0;34m(self, record)\u001b[0m\n\u001b[1;32m   1027\u001b[0m             \u001b[0;31m# issue 35046: merged two stream.writes into one.\u001b[0m\u001b[0;34m\u001b[0m\u001b[0;34m\u001b[0m\u001b[0;34m\u001b[0m\u001b[0m\n\u001b[1;32m   1028\u001b[0m             \u001b[0mstream\u001b[0m\u001b[0;34m.\u001b[0m\u001b[0mwrite\u001b[0m\u001b[0;34m(\u001b[0m\u001b[0mmsg\u001b[0m \u001b[0;34m+\u001b[0m \u001b[0mself\u001b[0m\u001b[0;34m.\u001b[0m\u001b[0mterminator\u001b[0m\u001b[0;34m)\u001b[0m\u001b[0;34m\u001b[0m\u001b[0;34m\u001b[0m\u001b[0m\n\u001b[0;32m-> 1029\u001b[0;31m             \u001b[0mself\u001b[0m\u001b[0;34m.\u001b[0m\u001b[0mflush\u001b[0m\u001b[0;34m(\u001b[0m\u001b[0;34m)\u001b[0m\u001b[0;34m\u001b[0m\u001b[0;34m\u001b[0m\u001b[0m\n\u001b[0m\u001b[1;32m   1030\u001b[0m         \u001b[0;32mexcept\u001b[0m \u001b[0mRecursionError\u001b[0m\u001b[0;34m:\u001b[0m  \u001b[0;31m# See issue 36272\u001b[0m\u001b[0;34m\u001b[0m\u001b[0;34m\u001b[0m\u001b[0m\n\u001b[1;32m   1031\u001b[0m             \u001b[0;32mraise\u001b[0m\u001b[0;34m\u001b[0m\u001b[0;34m\u001b[0m\u001b[0m\n",
      "\u001b[0;32m~/miniconda3/envs/domiknows/lib/python3.7/logging/__init__.py\u001b[0m in \u001b[0;36mflush\u001b[0;34m(self)\u001b[0m\n\u001b[1;32m   1007\u001b[0m         \u001b[0;32mtry\u001b[0m\u001b[0;34m:\u001b[0m\u001b[0;34m\u001b[0m\u001b[0;34m\u001b[0m\u001b[0m\n\u001b[1;32m   1008\u001b[0m             \u001b[0;32mif\u001b[0m \u001b[0mself\u001b[0m\u001b[0;34m.\u001b[0m\u001b[0mstream\u001b[0m \u001b[0;32mand\u001b[0m \u001b[0mhasattr\u001b[0m\u001b[0;34m(\u001b[0m\u001b[0mself\u001b[0m\u001b[0;34m.\u001b[0m\u001b[0mstream\u001b[0m\u001b[0;34m,\u001b[0m \u001b[0;34m\"flush\"\u001b[0m\u001b[0;34m)\u001b[0m\u001b[0;34m:\u001b[0m\u001b[0;34m\u001b[0m\u001b[0;34m\u001b[0m\u001b[0m\n\u001b[0;32m-> 1009\u001b[0;31m                 \u001b[0mself\u001b[0m\u001b[0;34m.\u001b[0m\u001b[0mstream\u001b[0m\u001b[0;34m.\u001b[0m\u001b[0mflush\u001b[0m\u001b[0;34m(\u001b[0m\u001b[0;34m)\u001b[0m\u001b[0;34m\u001b[0m\u001b[0;34m\u001b[0m\u001b[0m\n\u001b[0m\u001b[1;32m   1010\u001b[0m         \u001b[0;32mfinally\u001b[0m\u001b[0;34m:\u001b[0m\u001b[0;34m\u001b[0m\u001b[0;34m\u001b[0m\u001b[0m\n\u001b[1;32m   1011\u001b[0m             \u001b[0mself\u001b[0m\u001b[0;34m.\u001b[0m\u001b[0mrelease\u001b[0m\u001b[0;34m(\u001b[0m\u001b[0;34m)\u001b[0m\u001b[0;34m\u001b[0m\u001b[0;34m\u001b[0m\u001b[0m\n",
      "\u001b[0;31mKeyboardInterrupt\u001b[0m: "
     ]
    }
   ],
   "source": [
    "program.train(trainloader,\n",
    "              train_epoch_num=10,\n",
    "              Optim=optim,\n",
    "              device='auto',\n",
    "              test_every_epoch=True,\n",
    "              c_warmup_iters=0\n",
    "             )"
   ]
  }
 ],
 "metadata": {
  "kernelspec": {
   "display_name": "Python 3",
   "language": "python",
   "name": "python3"
  },
  "language_info": {
   "codemirror_mode": {
    "name": "ipython",
    "version": 3
   },
   "file_extension": ".py",
   "mimetype": "text/x-python",
   "name": "python",
   "nbconvert_exporter": "python",
   "pygments_lexer": "ipython3",
   "version": "3.7.11"
  }
 },
 "nbformat": 4,
 "nbformat_minor": 5
}
