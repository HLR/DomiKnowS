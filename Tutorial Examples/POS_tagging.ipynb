{
  "nbformat": 4,
  "nbformat_minor": 0,
  "metadata": {
    "colab": {
      "provenance": []
    },
    "kernelspec": {
      "name": "python3",
      "display_name": "Python 3"
    },
    "language_info": {
      "name": "python"
    }
  },
  "cells": [
    {
      "cell_type": "markdown",
      "metadata": {
        "id": "4OkZ_5qn6nnc"
      },
      "source": [
        "# POS Tagging\n",
        "This examples uses a simple LSTM on brown corpus for POS tagging."
      ]
    },
    {
      "cell_type": "code",
      "metadata": {
        "id": "5cyaZPKKxIZv"
      },
      "source": [
        "!git clone https://github.com/HLR/DomiKnowS.git\n",
        "%cd DomiKnowS\n",
        "!git checkout origin/Tasks\n",
        "!pip install DomiKnowS\n",
        "\n",
        "import logging\n",
        "logging.basicConfig(level=logging.INFO)\n",
        "\n",
        "import __main__\n",
        "__main__.__file__=\"POS_tagging.py\"\n",
        "%cd POS_tagging"
      ],
      "execution_count": null,
      "outputs": []
    },
    {
      "cell_type": "markdown",
      "metadata": {
        "id": "ulzQQt0nzN5M"
      },
      "source": [
        "# Meta Aruguments\n",
        "First we have to define the meta arguments. Here we set the cuda we want to use and the number of maximum epochs we want to train our model.\n",
        "\n",
        "cuda_number: the gpu number that we intend to use\n",
        "\n",
        "epoch: number of epochs that we want to train the model\n",
        "\n",
        "learning_rate: the learning rate of the model\n",
        "\n",
        "samplenum=1000: the number of sentences that we want to use\n",
        "\n",
        "embedding_dim: the size of embedding for each token\n",
        "\n",
        "hidden_dim: size of the hidden layer of the LSTM\n",
        "\n",
        "top_pos: the top most frequent POS that we want to use. every other POS will be put in the \"other\" cathegory\n",
        "\n",
        "max_sentence_length: maximom size of a sentence that is allowed"
      ]
    },
    {
      "cell_type": "code",
      "metadata": {
        "id": "zwJppgE_9UVU",
        "colab": {
          "base_uri": "https://localhost:8080/"
        },
        "outputId": "e540a43d-40e5-4610-8019-79c1e8066789"
      },
      "source": [
        "import torch\n",
        "from torch.optim import SGD\n",
        "from domiknows.program import SolverPOIProgram\n",
        "from domiknows.graph import Graph, Concept, EnumConcept, Relation\n",
        "from domiknows.sensor.pytorch.sensors import ReaderSensor, JointSensor, FunctionalSensor\n",
        "from domiknows.sensor.pytorch.learners import ModuleLearner\n",
        "from domiknows.program.loss import NBCrossEntropyLoss\n",
        "from domiknows.program.metric import MacroAverageTracker, PRF1Tracker, DatanodeCMMetric\n",
        "from models import POSLSTM, HeadLayer\n",
        "import logging\n",
        "from argparse import Namespace\n",
        "from utils import LabelReader, make_words, create_reader_and_vocuabulary\n",
        "import random\n",
        "args = Namespace(\n",
        "cuda_number=0,\n",
        "epoch=5,\n",
        "learning_rate=2e-3,\n",
        "samplenum=1000,\n",
        "embedding_dim=200,\n",
        "hidden_dim=200,\n",
        "top_pos=1000,\n",
        "max_sentence_length=30,\n",
        ")\n",
        "import warnings\n",
        "warnings.filterwarnings('ignore')\n",
        "logging.basicConfig(level=logging.INFO)\n",
        "\n",
        "args.device=\"cuda:\"+str(args.cuda_number) if torch.cuda.is_available() else 'cpu'\n",
        "print(\"device is :\",args.device)\n"
      ],
      "execution_count": null,
      "outputs": [
        {
          "output_type": "stream",
          "name": "stdout",
          "text": [
            "device is : cpu\n"
          ]
        }
      ]
    },
    {
      "cell_type": "markdown",
      "metadata": {
        "id": "TNIB2t6izf4-"
      },
      "source": [
        "# Reader\n",
        "Our reader is a list of dictionaries and each dictionary has the attributes for the root node to read. We need one reader for each train, dev and test."
      ]
    },
    {
      "cell_type": "code",
      "metadata": {
        "id": "242tlpuIzgWK",
        "colab": {
          "base_uri": "https://localhost:8080/"
        },
        "outputId": "2793f8e7-3c33-44a3-e713-09e9a011eebe"
      },
      "source": [
        "\n",
        "vocabulary,tag_list,reader=create_reader_and_vocuabulary(samplenum=args.samplenum,top_pos=args.top_pos,max_sentence_length=args.max_sentence_length)\n",
        "\n",
        "random.seed(2021)\n",
        "random.shuffle(reader)\n",
        "train_reader,dev_reader,test_reader=reader[:len(reader)//10*6],reader[len(reader)//10*6:len(reader)//10*8],reader[len(reader)//10*8:]\n",
        "\n",
        "print(train_reader[0])\n"
      ],
      "execution_count": null,
      "outputs": [
        {
          "output_type": "stream",
          "name": "stdout",
          "text": [
            "10 most frequent tags:  [('nn', 1846), ('in', 1455), ('at', 1171), ('.', 1114), ('jj', 830), (',', 742), ('rb', 716), ('nns', 568), ('vb', 558), ('cc', 464)]\n",
            "Size of the vocabulary 3574\n",
            "{'sentecne': ['He asked her severely .'], 'tags': ['pps vbd ppo rb .']}\n"
          ]
        }
      ]
    },
    {
      "cell_type": "markdown",
      "metadata": {
        "id": "eepGcummzy5O"
      },
      "source": [
        "# Graph\n",
        "We reset the graph for our peace of mind and define it in the next lines."
      ]
    },
    {
      "cell_type": "code",
      "metadata": {
        "colab": {
          "base_uri": "https://localhost:8080/"
        },
        "id": "1ctx7RgAzzJ0",
        "outputId": "3259c1f8-3b79-4c33-aa68-b14628adfde9"
      },
      "source": [
        "print(\"Graph Declaration:\")\n",
        "\n",
        "Graph.clear()\n",
        "Concept.clear()\n",
        "Relation.clear()\n",
        "\n",
        "with Graph('POS_Graph') as graph:\n",
        "    Sentence = Concept(name='sentence') # sentence is the root Concept of our model\n",
        "    Word = Concept(name='word') # we also define a concept for every word in our sentence\n",
        "    sent_word_contains, = Sentence.contains(Word) # the relationship between setnence and word on defined here that is a sentence contains some words\n",
        "    Tag = Word(name=\"tag\", ConceptClass=EnumConcept, values=tag_list) # tag is the possible label of a word\n",
        "\n"
      ],
      "execution_count": null,
      "outputs": [
        {
          "output_type": "stream",
          "name": "stdout",
          "text": [
            "Graph Declaration:\n"
          ]
        }
      ]
    },
    {
      "cell_type": "markdown",
      "metadata": {
        "id": "pITSYJrP0MEV"
      },
      "source": [
        "# Visualization\n",
        "\n",
        "The conceptual Graph is depicted in this section."
      ]
    },
    {
      "cell_type": "code",
      "metadata": {
        "colab": {
          "base_uri": "https://localhost:8080/",
          "height": 222
        },
        "id": "MET4WWUE0MZp",
        "outputId": "73830f25-01ba-4ed4-f328-46a52df86bd1"
      },
      "source": [
        "from IPython.display import Image\n",
        "graph.visualize(\"./image\")\n",
        "Image(filename='image.png')\n",
        "\n"
      ],
      "execution_count": null,
      "outputs": [
        {
          "output_type": "execute_result",
          "data": {
            "image/png": "[encoded data removed]",
            "text/plain": [
              "<IPython.core.display.Image object>"
            ]
          },
          "metadata": {},
          "execution_count": 9
        }
      ]
    },
    {
      "cell_type": "markdown",
      "metadata": {
        "id": "1GdT3AFE0Rbb"
      },
      "source": [
        "# Sensors\n",
        "\n",
        "The reader and learner Sensors are defined in the next section."
      ]
    },
    {
      "cell_type": "code",
      "metadata": {
        "id": "79Ywmz4s0Rrj"
      },
      "source": [
        "# Fixed Sensors\n",
        "Sentence['tokenized_text'] = ReaderSensor(keyword='sentecne')\n",
        "Sentence['tokenized_pos'] = ReaderSensor(keyword='tags')\n",
        "Word[sent_word_contains, \"token\", 'pos'] = JointSensor(Sentence['tokenized_text'],Sentence['tokenized_pos'],forward=make_words)\n",
        "Word[Tag] = FunctionalSensor(sent_word_contains, \"pos\", forward=LabelReader(device=args.device,tag_list=tag_list), label=True)\n",
        "\n",
        "# Trainable Sensors\n",
        "Word[\"hidden_layer\"]=ModuleLearner(\"token\", module=POSLSTM(embedding_dim=args.embedding_dim, hidden_dim=args.hidden_dim, vocab_size=len(vocabulary),vocabulary=vocabulary,device=args.device))\n",
        "Word[Tag] = ModuleLearner(\"hidden_layer\", module=HeadLayer( hidden_dim=args.hidden_dim, target_size=len(tag_list)))"
      ],
      "execution_count": null,
      "outputs": []
    },
    {
      "cell_type": "markdown",
      "metadata": {
        "id": "qolN3Te20cxL"
      },
      "source": [
        "# Program\n",
        "\n",
        "We use a simple POI program here since we have not defined any important constraint that would take advantage of IML and PD programs.\n",
        "\n",
        "Other inputs are graph, loss function and the metric."
      ]
    },
    {
      "cell_type": "code",
      "metadata": {
        "colab": {
          "base_uri": "https://localhost:8080/"
        },
        "id": "QUHHoFWE0dDI",
        "outputId": "e26f2b13-80dd-46f1-ec55-e37a71cf4e35"
      },
      "source": [
        "\n",
        "program = SolverPOIProgram(graph,inferTypes=['local/argmax'],loss=MacroAverageTracker(NBCrossEntropyLoss()), metric=PRF1Tracker(DatanodeCMMetric('local/argmax')))\n",
        "\n",
        "program.train(reader[:len(reader)//10*8],valid_set=reader[len(reader)//10*8:], train_epoch_num=args.epoch, Optim=lambda param: SGD(param, lr=args.learning_rate),device=args.device)\n",
        "program.train(reader[:len(reader)//10*8])\n",
        "\n",
        "word_results=[]\n",
        "word_labels=[]\n",
        "for pic_num, sentence in enumerate(program.populate(reader[:len(reader)//10*8], device=args.device)):\n",
        "    for word in sentence.getChildDataNodes():\n",
        "        word_results.append(int(torch.argmax(word.getAttribute(Tag, \"local/argmax\"))))\n",
        "        word_labels.append(int(word.getAttribute(Tag, \"label\").item()))\n",
        "\n",
        "print(\"Final model accuracy is :\",sum([i==j for i,j in zip(word_results,word_labels)])/len(word_results))"
      ],
      "execution_count": null,
      "outputs": [
        {
          "output_type": "stream",
          "name": "stderr",
          "text": [
            "Epoch 1 Training: 100%|██████████| 800/800 [16:09<00:00,  1.21s/it]\n",
            "Epoch 1 Validation: 100%|██████████| 200/200 [03:58<00:00,  1.19s/it]\n",
            "Epoch 2 Training: 100%|██████████| 800/800 [15:57<00:00,  1.20s/it]\n",
            "Epoch 2 Validation: 100%|██████████| 200/200 [04:00<00:00,  1.20s/it]\n",
            "Epoch 3 Training: 100%|██████████| 800/800 [16:01<00:00,  1.20s/it]\n",
            "Epoch 3 Validation: 100%|██████████| 200/200 [03:56<00:00,  1.18s/it]\n",
            "Epoch 4 Training: 100%|██████████| 800/800 [16:07<00:00,  1.21s/it]\n",
            "Epoch 4 Validation: 100%|██████████| 200/200 [04:07<00:00,  1.24s/it]\n",
            "Epoch 5 Training: 100%|██████████| 800/800 [16:15<00:00,  1.22s/it]\n",
            "Epoch 5 Validation: 100%|██████████| 200/200 [03:55<00:00,  1.18s/it]\n",
            "Epoch 1 Training: 100%|██████████| 800/800 [16:16<00:00,  1.22s/it]\n",
            "800it [00:46, 17.16it/s]"
          ]
        },
        {
          "output_type": "stream",
          "name": "stdout",
          "text": [
            "Final model accuracy is : 0.33900481540930977\n"
          ]
        },
        {
          "output_type": "stream",
          "name": "stderr",
          "text": [
            "\n"
          ]
        }
      ]
    }
  ]
}