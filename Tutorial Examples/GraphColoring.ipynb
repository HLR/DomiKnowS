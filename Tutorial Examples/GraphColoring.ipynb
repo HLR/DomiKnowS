{
  "nbformat": 4,
  "nbformat_minor": 0,
  "metadata": {
    "kernelspec": {
      "display_name": "Python 3",
      "language": "python",
      "name": "python3"
    },
    "language_info": {
      "codemirror_mode": {
        "name": "ipython",
        "version": 3
      },
      "file_extension": ".py",
      "mimetype": "text/x-python",
      "name": "python",
      "nbconvert_exporter": "python",
      "pygments_lexer": "ipython3",
      "version": "3.7.10"
    },
    "colab": {
      "provenance": []
    },
    "accelerator": "GPU"
  },
  "cells": [
    {
      "cell_type": "markdown",
      "metadata": {
        "id": "cg5_lfTjRIyA"
      },
      "source": [
        "# Graph Coloring Tutorial\n",
        "\n",
        "\n",
        "\n",
        "This tutorial is to show how to use DomiKnows constrints solver to solve an example of the graph coloring problem."
      ]
    },
    {
      "cell_type": "markdown",
      "metadata": {
        "id": "LsSnpr4uVA1W"
      },
      "source": [
        "First dowload DomiKnows and prepare the environment to execute the example."
      ]
    },
    {
      "cell_type": "code",
      "metadata": {
        "id": "qy4xjGDhiMlF"
      },
      "source": [
        "!git clone https://github.com/HLR/DomiKnowS.git\n",
        "%cd DomiKnowS \n",
        "!git checkout origin/Tasks\n",
        "!pip install DomiKnowS\n",
        "\n",
        "import logging\n",
        "logging.basicConfig(level=logging.INFO)\n",
        "\n",
        "import __main__\n",
        "__main__.__file__=\"graphcoloring.py\""
      ],
      "execution_count": null,
      "outputs": []
    },
    {
      "cell_type": "markdown",
      "metadata": {
        "id": "PT_HvHjDRIyD"
      },
      "source": [
        "## Task\n",
        "\n",
        "The example task is to find minimal allocation of fire stations to partially interconnected cities obeying certain constraints."
      ]
    },
    {
      "cell_type": "markdown",
      "metadata": {
        "id": "wY4UQANSRIyE"
      },
      "source": [
        "## The Graph\n",
        "\n",
        "We define the DomiKnows graph that captures the knowledge for this problem.\n",
        "The graph defines concepts for *world*, *city* and type *firestationCity* of the *city* concept. If city is of this type then it has a fire station.\n",
        "\n",
        "Additionaly, it defines the relation *neighbor*, which will be used to specyfies connections between cities. To introduce the domain and range constraints for relationships, we use the **has_a** graph structure.\n"
      ]
    },
    {
      "cell_type": "code",
      "metadata": {
        "id": "SfOTYkxARIyE",
        "colab": {
          "base_uri": "https://localhost:8080/"
        },
        "outputId": "144c1c3c-6b7e-4dba-aa72-912a72199a86"
      },
      "source": [
        "from domiknows.graph import Graph, Concept, Relation\n",
        "\n",
        "Graph.clear()\n",
        "Concept.clear()\n",
        "Relation.clear()\n",
        "\n",
        "with Graph('global') as graph:\n",
        "    world = Concept(name='world')\n",
        "    city = Concept(name='city')\n",
        "    (world_contains_city,) = world.contains(city)\n",
        "     \n",
        "    neighbor = Concept(name='neighbor')\n",
        "    (city1, city2) = neighbor.has_a(arg1=city, arg2=city)\n",
        "    \n",
        "    firestationCity = city(name='firestationCity')"
      ],
      "execution_count": 2,
      "outputs": [
        {
          "output_type": "stream",
          "name": "stdout",
          "text": [
            "Log file for dataNode is in: /content/DomiKnowS/logs/datanode.log\n"
          ]
        },
        {
          "output_type": "stream",
          "name": "stderr",
          "text": [
            "<ipython-input-2-7ee974d8a431>:15: UserWarning: Please use OrderedDict rather than dict to prevent unpredictable order of arguments.For this instance, OrderedDict([('arg1', 'city'), ('arg2', 'city')]) is used.\n",
            "  (city1, city2) = neighbor.has_a(arg1=city, arg2=city)\n"
          ]
        }
      ]
    },
    {
      "cell_type": "markdown",
      "metadata": {
        "id": "J5K2vv4jRIyG"
      },
      "source": [
        "### Visualize\n",
        "We can use the graph method *visualize* to display the graph."
      ]
    },
    {
      "cell_type": "code",
      "metadata": {
        "id": "Cji2t_26RIyH",
        "colab": {
          "base_uri": "https://localhost:8080/",
          "height": 222
        },
        "outputId": "35832d8a-1c6b-455d-fd8e-91c17339163f"
      },
      "source": [
        "from IPython.display import Image\n",
        "graph.visualize(\"./image\")\n",
        "Image(filename='image.png') "
      ],
      "execution_count": 3,
      "outputs": [
        {
          "output_type": "execute_result",
          "data": {
            "image/png": "[encoded data removed]",
            "text/plain": [
              "<IPython.core.display.Image object>"
            ]
          },
          "metadata": {},
          "execution_count": 3
        }
      ]
    },
    {
      "cell_type": "markdown",
      "metadata": {
        "id": "zFGHvvHZRIyE"
      },
      "source": [
        "## The Constrain\n",
        "\n",
        "The constrain chosen for this example states that **for each city either a city has a fire station or exists a neighbor city which has a fire station**.\n",
        "\n",
        "To define it, we use nested constraint *existL* inside the *orL* constraint."
      ]
    },
    {
      "cell_type": "code",
      "metadata": {
        "id": "UHor-ukSRIyF"
      },
      "source": [
        "from domiknows.graph.logicalConstrain import orL, existsL\n",
        "\n",
        "with graph:\n",
        "  orL(firestationCity('x'), existsL(firestationCity('y', path=('x', neighbor.name, city2.name))))"
      ],
      "execution_count": 4,
      "outputs": []
    },
    {
      "cell_type": "markdown",
      "metadata": {
        "id": "pXbMUXqKRIyH"
      },
      "source": [
        "## Data and Data Reader\n",
        "\n",
        "Here we use a simple reader to define cities of our example and their connections. The reader defines the number of cities and their connections. **You can modify the data to solve different world of cities or neighbors connections.**"
      ]
    },
    {
      "cell_type": "code",
      "metadata": {
        "id": "FmeeglgsRIyH"
      },
      "source": [
        "class CityReader:\n",
        "    def __init__(self,):\n",
        "        self.data = [[1, 2, 3, 4, 5, 6, 7, 8, 9]]\n",
        "        self.links = [{\n",
        "            1: [1, 2, 3, 4, 5],\n",
        "            2: [1, 2, 6],\n",
        "            3: [1, 3],\n",
        "            4: [1, 4],\n",
        "            5: [1, 5],\n",
        "            6: [6, 7, 8, 9, 2],\n",
        "            7: [6, 7],\n",
        "            8: [6, 8],\n",
        "            9: [6, 9]\n",
        "        }]\n",
        "\n",
        "    def run(self,):\n",
        "        for i in range(len(self.data)):\n",
        "            item = {'world':[0], 'city': self.data[i], 'links': self.links[i]}\n",
        "            yield item"
      ],
      "execution_count": 5,
      "outputs": []
    },
    {
      "cell_type": "markdown",
      "metadata": {
        "id": "J0iIXU-nRIyI"
      },
      "source": [
        "## Model Declaration\n",
        "\n",
        "In this section, we start by defining example sensors and required toolkits and then start connecting the sensors and learners to their right place in the DomiKnows graph.\n",
        "\n",
        "\n",
        "In this example we not using learning but only constraints solution. Thus, we will define a dummy learner initialize all output for cities to 1 and handling the problem of finding the allocation of firestation to cities to the constraint’s solver."
      ]
    },
    {
      "cell_type": "code",
      "metadata": {
        "id": "NS8HYUAIm57d"
      },
      "source": [
        "from domiknows.sensor.pytorch.learners import TorchLearner\n",
        "import torch\n",
        "\n",
        "class DummyCityLearner(TorchLearner):\n",
        "    def forward(self, x):\n",
        "        result = torch.zeros(len(x), 2)\n",
        "\n",
        "        # Initially all cities are firestation cities\n",
        "        result[:, 1] = 1\n",
        "        \n",
        "        return result"
      ],
      "execution_count": 7,
      "outputs": []
    },
    {
      "cell_type": "markdown",
      "metadata": {
        "id": "jpbsfe01RIyJ"
      },
      "source": [
        "Next we import a set of our predefined basic sensors which enables us to use the functionality of the DomiKnows declarative sensor and learner definition."
      ]
    },
    {
      "cell_type": "code",
      "metadata": {
        "id": "ffX_NWHpRIyJ"
      },
      "source": [
        "from domiknows.sensor.pytorch.sensors import ReaderSensor\n",
        "from domiknows.sensor.pytorch.relation_sensors import EdgeSensor, CompositionCandidateReaderSensor\n",
        "\n",
        "graph.detach()"
      ],
      "execution_count": 8,
      "outputs": []
    },
    {
      "cell_type": "markdown",
      "metadata": {
        "id": "HRhC13yDRIyJ"
      },
      "source": [
        "Then we start by defining  **ReaderSensor**s to connect our *CityReader* DataLoader with properties in the graph by using approperiate *keyword*s."
      ]
    },
    {
      "cell_type": "code",
      "metadata": {
        "id": "CqKYjOdbRIyJ"
      },
      "source": [
        "world['index'] = ReaderSensor(keyword='world')\n",
        "city['index'] = ReaderSensor(keyword='city')\n",
        "city[world_contains_city] = EdgeSensor(city['index'], world['index'], relation=world_contains_city, forward=lambda x, _: torch.ones_like(x).unsqueeze(-1))"
      ],
      "execution_count": 9,
      "outputs": []
    },
    {
      "cell_type": "markdown",
      "metadata": {
        "id": "lx1hDdrtRIyK"
      },
      "source": [
        "Next, we define the pair concept and use the **CompositionCandidateReaderSensor** to generate pair candidates based on *links* in provided data. This sensor receives two cities at a time and return **True** to make a candidate pair for that combination of cities or **False** to skip the combination."
      ]
    },
    {
      "cell_type": "code",
      "metadata": {
        "id": "XA8-r93XRIyK"
      },
      "source": [
        "def readNeighbors(index, data, arg1, arg2):\n",
        "        city1, city2 = arg1, arg2\n",
        "        if city1.getAttribute('index') in data[int(city2.getAttribute('index'))]:\n",
        "            return True\n",
        "        else:\n",
        "            return False\n",
        "\n",
        "neighbor[city1.reversed, city2.reversed] = CompositionCandidateReaderSensor(city['index'], keyword='links', relations=(city1.reversed, city2.reversed), forward=readNeighbors)"
      ],
      "execution_count": 10,
      "outputs": []
    },
    {
      "cell_type": "markdown",
      "metadata": {
        "id": "zfyvE-QtRIyL"
      },
      "source": [
        "Finnaly, we initialized a *DummyCityLearner* learner on top of the *firestationCity* concept."
      ]
    },
    {
      "cell_type": "code",
      "metadata": {
        "id": "dQLEIGLwRIyL"
      },
      "source": [
        "city[firestationCity] = DummyCityLearner('index')"
      ],
      "execution_count": 11,
      "outputs": []
    },
    {
      "cell_type": "markdown",
      "metadata": {
        "id": "nr0yaHtC69T3"
      },
      "source": [
        "After connecting all the sensors and learner to the graph, we have to define a Program instance to be able to autoamtically train and test our models. Here, we use the **LearningBasedProgram**. "
      ]
    },
    {
      "cell_type": "code",
      "metadata": {
        "id": "-cnFyU_8RIyM"
      },
      "source": [
        "from domiknows.program import LearningBasedProgram\n",
        "from domiknows.program.model.pytorch import model_helper, PoiModel\n",
        "\n",
        "program = LearningBasedProgram(graph, model_helper(PoiModel, poi=[world, city, city[firestationCity], neighbor]))"
      ],
      "execution_count": 12,
      "outputs": []
    },
    {
      "cell_type": "markdown",
      "metadata": {
        "id": "aHtACvVhRIyM"
      },
      "source": [
        " To start we run the *CityReader* to load the example data and then *populate* the sensors. The result ofthis action is a *datanode* structure which in the graph form stores all the example data and sensors outputs."
      ]
    },
    {
      "cell_type": "code",
      "metadata": {
        "id": "KPVx4Z8URIyM",
        "outputId": "2a4d676d-2966-42c0-b3cb-ca90d1029346",
        "colab": {
          "base_uri": "https://localhost:8080/"
        }
      },
      "source": [
        "dataset = CityReader().run()  # Adding the info on the reader\n",
        "\n",
        "datanode = next(program.populate(dataset=dataset), None)"
      ],
      "execution_count": 13,
      "outputs": [
        {
          "output_type": "stream",
          "name": "stderr",
          "text": [
            "0it [00:00, ?it/s]\n"
          ]
        }
      ]
    },
    {
      "cell_type": "markdown",
      "metadata": {
        "id": "DoTQYrEIX2aX"
      },
      "source": [
        "Let's display the initial assignment of fire stations to cities."
      ]
    },
    {
      "cell_type": "code",
      "metadata": {
        "colab": {
          "base_uri": "https://localhost:8080/"
        },
        "id": "o0lC3Ov9X2nR",
        "outputId": "bda59475-88b1-483c-db68-9fb19bab0870"
      },
      "source": [
        "for child_node in datanode.getChildDataNodes():\n",
        "    if child_node.getAttribute('<' + firestationCity.name + '>')[1].item() == 1:\n",
        "      print(\"City %s has fire station \"%(child_node.getAttribute(\"index\").item()))"
      ],
      "execution_count": 14,
      "outputs": [
        {
          "output_type": "stream",
          "name": "stdout",
          "text": [
            "City 1 has fire station \n",
            "City 2 has fire station \n",
            "City 3 has fire station \n",
            "City 4 has fire station \n",
            "City 5 has fire station \n",
            "City 6 has fire station \n",
            "City 7 has fire station \n",
            "City 8 has fire station \n",
            "City 9 has fire station \n"
          ]
        }
      ]
    },
    {
      "cell_type": "markdown",
      "metadata": {
        "id": "7o59gHhXH9qy"
      },
      "source": [
        " ## DomiKnows constraints solver \n",
        "\n"
      ]
    },
    {
      "cell_type": "markdown",
      "metadata": {
        "id": "Snrh8CtTOxvP"
      },
      "source": [
        "The solver is invoked by calling the *inferILPResults* method on *datanode*. The method takes collection of concepts for which the constraints should be solved.\n",
        "In the case on this example, we also use the solver to minimize the objective - we want to find the minimal set of fire station fulfilling the constrain requirements.\n"
      ]
    },
    {
      "cell_type": "code",
      "metadata": {
        "colab": {
          "base_uri": "https://localhost:8080/"
        },
        "id": "eIIiaxjpH9-Z",
        "outputId": "84549224-3027-45a1-cf4f-30bfad9f64dd"
      },
      "source": [
        "conceptsRelations = (firestationCity)  \n",
        "datanode.inferILPResults(*conceptsRelations, fun=None, minimizeObjective=True) "
      ],
      "execution_count": 15,
      "outputs": [
        {
          "output_type": "stream",
          "name": "stdout",
          "text": [
            "Log file for ilpOntSolver is in: /content/DomiKnowS/logs/ilpOntSolver.log\n",
            "Log file for ilpOntSolverTime is in: /content/DomiKnowS/logs/ilpOntSolver.log\n"
          ]
        }
      ]
    },
    {
      "cell_type": "markdown",
      "metadata": {
        "id": "tYegdZvgIENW"
      },
      "source": [
        "The fire stations minimal allocation to cities, obeying the constrain, is:"
      ]
    },
    {
      "cell_type": "code",
      "metadata": {
        "colab": {
          "base_uri": "https://localhost:8080/"
        },
        "id": "SnvB2lagIEWw",
        "outputId": "9e4ebbca-1989-460b-e08c-71594820ddce"
      },
      "source": [
        "for child_node in datanode.getChildDataNodes():\n",
        "    if child_node.getAttribute(firestationCity, 'ILP').item() == 1:\n",
        "      print(\"City %s has fire station \"%(child_node.getAttribute(\"index\").item()))"
      ],
      "execution_count": 16,
      "outputs": [
        {
          "output_type": "stream",
          "name": "stdout",
          "text": [
            "City 1 has fire station \n",
            "City 6 has fire station \n"
          ]
        }
      ]
    },
    {
      "cell_type": "markdown",
      "metadata": {
        "id": "fVLA1DQMXbgn"
      },
      "source": [
        "##Additional constraint"
      ]
    },
    {
      "cell_type": "markdown",
      "metadata": {
        "id": "UyWXVSkjYQ7E"
      },
      "source": [
        "We can modify or introduce additional constraint to our example and this will change the calculated results. For instance, additional constraints can require that **each city has no more than 4 neighbors which are not firestationCity**."
      ]
    },
    {
      "cell_type": "code",
      "metadata": {
        "id": "w1LP61eTXbz9"
      },
      "source": [
        "from domiknows.graph.logicalConstrain import ifL, atMostL, notL, eqL\n",
        "\n",
        "with graph:\n",
        "    ifL(city('x'), atMostL(notL(firestationCity( path=('x', neighbor.name, city2.name) )), 3))"
      ],
      "execution_count": 17,
      "outputs": []
    },
    {
      "cell_type": "markdown",
      "metadata": {
        "id": "inLyh0PmYdKg"
      },
      "source": [
        "Invoke the solver to recalculate the solution."
      ]
    },
    {
      "cell_type": "code",
      "metadata": {
        "id": "b1jjlKNKYc-s"
      },
      "source": [
        "datanode.inferILPResults(*conceptsRelations, fun=None, minimizeObjective=True) "
      ],
      "execution_count": 18,
      "outputs": []
    },
    {
      "cell_type": "markdown",
      "metadata": {
        "id": "Um2mKLX2YlwK"
      },
      "source": [
        "The fire stations minimal allocation to cities, obeying the updated constrain, is:"
      ]
    },
    {
      "cell_type": "code",
      "metadata": {
        "colab": {
          "base_uri": "https://localhost:8080/"
        },
        "id": "A1JMfV7-Yl3P",
        "outputId": "fd2a75d6-4c2d-4cc0-d047-24c0a9a5ebcf"
      },
      "source": [
        "for child_node in datanode.getChildDataNodes():\n",
        "    if child_node.getAttribute(firestationCity, 'ILP').item() == 1:\n",
        "      print(\"City %s has fire station \"%(child_node.getAttribute(\"index\").item()))"
      ],
      "execution_count": 19,
      "outputs": [
        {
          "output_type": "stream",
          "name": "stdout",
          "text": [
            "City 1 has fire station \n",
            "City 2 has fire station \n",
            "City 6 has fire station \n"
          ]
        }
      ]
    }
  ]
}