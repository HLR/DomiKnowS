{
 "cells": [
  {
   "cell_type": "code",
   "execution_count": 1,
   "id": "5d6ff029",
   "metadata": {},
   "outputs": [],
   "source": [
    "class ParseError(Exception):\n",
    "    pass"
   ]
  },
  {
   "cell_type": "code",
   "execution_count": 2,
   "id": "07f060d5",
   "metadata": {},
   "outputs": [],
   "source": [
    "import sys\n",
    "sys.path.insert(0, 'sly/')\n",
    "\n",
    "from sly import Lexer, Parser\n",
    "\n",
    "class Lexer(Lexer):\n",
    "    tokens = {A, B}\n",
    "    ignore = ' \\t'\n",
    "\n",
    "    # Tokens\n",
    "    A = r'[aA]'\n",
    "    B = r'[bB]'\n",
    "\n",
    "    # Ignored pattern\n",
    "    ignore_newline = r'\\n+'\n",
    "\n",
    "    # Extra action for newlines\n",
    "    def ignore_newline(self, t):\n",
    "        self.lineno += t.value.count('\\n')\n",
    "    \n",
    "    def error(self, t):\n",
    "        raise ParseError()\n",
    "        \n",
    "class Parser(Parser):\n",
    "    tokens = Lexer.tokens\n",
    "\n",
    "    precedence = (\n",
    "       ('left', A, B),\n",
    "    )\n",
    "\n",
    "    def __init__(self):\n",
    "        self.names = { }\n",
    "        \n",
    "    def error(self, t):\n",
    "        raise ParseError()\n",
    "    \n",
    "    # S <- S a S b S\n",
    "    @_('statement A statement B statement')\n",
    "    def statement(self, p):\n",
    "        return (p[0], p[1], p[2], p[3], p[4])\n",
    "    \n",
    "    # S <- S b S a S\n",
    "    @_('statement B statement A statement')\n",
    "    def statement(self, p):\n",
    "        return (p[0], p[1], p[2], p[3], p[4])\n",
    "    \n",
    "    # S <- ''\n",
    "    @_('')\n",
    "    def statement(self, p):\n",
    "        return ()"
   ]
  },
  {
   "cell_type": "code",
   "execution_count": 3,
   "id": "be3b3af4",
   "metadata": {},
   "outputs": [],
   "source": [
    "lexer = Lexer()\n",
    "parser = Parser()\n",
    "\n",
    "def is_valid(text, min_length=5):\n",
    "    if len(text) < min_length:\n",
    "        return False\n",
    "\n",
    "    try:\n",
    "        return isinstance(parser.parse(lexer.tokenize(text)), tuple)\n",
    "    except ParseError:\n",
    "        return False\n"
   ]
  },
  {
   "cell_type": "code",
   "execution_count": 4,
   "id": "37c7d6d8",
   "metadata": {
    "scrolled": true
   },
   "outputs": [
    {
     "data": {
      "text/plain": [
       "False"
      ]
     },
     "execution_count": 4,
     "metadata": {},
     "output_type": "execute_result"
    }
   ],
   "source": [
    "is_valid('abc')"
   ]
  },
  {
   "cell_type": "code",
   "execution_count": 5,
   "id": "cf081c90",
   "metadata": {},
   "outputs": [],
   "source": [
    "import torch.nn as nn\n",
    "import torch\n",
    "\n",
    "class RNNDec(nn.Module):\n",
    "    def __init__(self,\n",
    "                 input_size=4,\n",
    "                 noise_size=4,\n",
    "                 hidden_size=20,\n",
    "                 vocab_size=4):\n",
    "\n",
    "        super().__init__()\n",
    "        \n",
    "        self.input_size = input_size\n",
    "        self.noise_size = noise_size\n",
    "        self.hidden_size = hidden_size\n",
    "        self.vocab_size = vocab_size\n",
    "        self.rnn_dec = nn.RNN(input_size=self.input_size + self.noise_size, hidden_size=self.hidden_size, num_layers=1)\n",
    "        \n",
    "        self.lin_output = nn.Linear(self.hidden_size, self.vocab_size)\n",
    "        self.embed = nn.Embedding(self.vocab_size, self.input_size)\n",
    "        \n",
    "        self.softmax = nn.Softmax(dim=1)\n",
    "        self.relu = nn.ReLU()\n",
    "        \n",
    "    def forward(self, x, noise, h):\n",
    "        x = self.embed(x).reshape(1, 1, -1) # 1 x 1 x input_size\n",
    "        x = self.relu(x)\n",
    "        \n",
    "        x = torch.cat((x, noise), dim=2) # 1 x 1 x noise_size + input_size\n",
    "        \n",
    "        dec_out, dec_hidden = self.rnn_dec(x, h)\n",
    "        dec_out = self.relu(dec_out)\n",
    "        \n",
    "        logits = self.lin_output(dec_out.squeeze(0))\n",
    "        \n",
    "        return logits, dec_hidden\n"
   ]
  },
  {
   "cell_type": "code",
   "execution_count": 6,
   "id": "fdee382e",
   "metadata": {},
   "outputs": [],
   "source": [
    "# 0 SOS\n",
    "# 1 EOS\n",
    "# 2 a\n",
    "# 3 b"
   ]
  },
  {
   "cell_type": "code",
   "execution_count": 7,
   "id": "13bfd23f",
   "metadata": {},
   "outputs": [],
   "source": [
    "from torch import optim\n",
    "\n",
    "lstm = RNNDec()\n",
    "opt_dec = optim.Adam(lstm.parameters(), lr=1e-3)\n",
    "\n",
    "ce_loss = nn.CrossEntropyLoss()"
   ]
  },
  {
   "cell_type": "code",
   "execution_count": 8,
   "id": "3eed8a39",
   "metadata": {},
   "outputs": [],
   "source": [
    "import torch.nn.functional as F\n",
    "\n",
    "def model_forward(noise, sos_id = 0, eos_id = 1, sample=True):\n",
    "    all_logits = []\n",
    "    pred_ids = []\n",
    "    \n",
    "    prev = torch.tensor(sos_id)\n",
    "    h = torch.zeros((1, 1, 20))\n",
    "    for i in range(20):\n",
    "        logits, h = lstm(prev, noise, h)\n",
    "        \n",
    "        if not sample:\n",
    "            prev = torch.argmax(logits, dim=1)[0]\n",
    "        else:\n",
    "            probs = F.softmax(logits, dim=1)\n",
    "            prev = torch.multinomial(probs[0], 1)[0]\n",
    "        \n",
    "        pred_ids.append(prev)\n",
    "\n",
    "        all_logits.append(logits)\n",
    "        \n",
    "        if prev == eos_id:\n",
    "            break\n",
    "    \n",
    "    return pred_ids, all_logits"
   ]
  },
  {
   "cell_type": "code",
   "execution_count": 9,
   "id": "abd4d334",
   "metadata": {},
   "outputs": [],
   "source": [
    "import pickle\n",
    "\n",
    "with open('train.pkl', 'rb') as file_in:\n",
    "    train_data = pickle.load(file_in)"
   ]
  },
  {
   "cell_type": "code",
   "execution_count": 10,
   "id": "ba697bdb",
   "metadata": {},
   "outputs": [],
   "source": [
    "char_to_id = {\n",
    "    'a': 2,\n",
    "    'b': 3,\n",
    "    '!': 1,\n",
    "    '^': 0\n",
    "}\n",
    "\n",
    "id_to_char = {\n",
    "    0: '^',\n",
    "    1: '!',\n",
    "    2: 'a',\n",
    "    3: 'b'\n",
    "}"
   ]
  },
  {
   "cell_type": "code",
   "execution_count": 11,
   "id": "d3ad084e",
   "metadata": {},
   "outputs": [],
   "source": [
    "MAX_SAMPLE = 1000\n",
    "MIN_LENGTH = 0"
   ]
  },
  {
   "cell_type": "code",
   "execution_count": 12,
   "id": "1664e544",
   "metadata": {
    "scrolled": true
   },
   "outputs": [
    {
     "name": "stderr",
     "output_type": "stream",
     "text": [
      "loss 7.003281116485596:   0%|          | 3/5000 [00:00<08:20,  9.99it/s]"
     ]
    },
    {
     "name": "stdout",
     "output_type": "stream",
     "text": [
      "\n",
      "TARGET abba! | IS_VALID True\n",
      "PRED bbbbbbbbbbbbbbbbbbbb | IS_VALID False\n",
      "loss 7.003281116485596\n"
     ]
    },
    {
     "name": "stderr",
     "output_type": "stream",
     "text": [
      "loss 5.711129665374756:   2%|▏         | 105/5000 [00:03<01:47, 45.66it/s]"
     ]
    },
    {
     "name": "stdout",
     "output_type": "stream",
     "text": [
      "\n",
      "TARGET bbaa! | IS_VALID True\n",
      "PRED bbbbbbbbbbbbbbbbbbbb | IS_VALID False\n",
      "loss 5.711129665374756\n"
     ]
    },
    {
     "name": "stderr",
     "output_type": "stream",
     "text": [
      "loss 7.0570902824401855:   4%|▍         | 212/5000 [00:05<01:10, 68.04it/s]"
     ]
    },
    {
     "name": "stdout",
     "output_type": "stream",
     "text": [
      "\n",
      "TARGET baabba! | IS_VALID True\n",
      "PRED bbbaaaaaaaaaaaaaaaaa | IS_VALID False\n",
      "loss 7.0570902824401855\n"
     ]
    },
    {
     "name": "stderr",
     "output_type": "stream",
     "text": [
      "loss 10.404998779296875:   6%|▌         | 310/5000 [00:07<01:36, 48.36it/s]"
     ]
    },
    {
     "name": "stdout",
     "output_type": "stream",
     "text": [
      "\n",
      "TARGET abababbbaa! | IS_VALID True\n",
      "PRED bbbbbbaaaaaaaaaaaaaa | IS_VALID False\n",
      "loss 10.404998779296875\n"
     ]
    },
    {
     "name": "stderr",
     "output_type": "stream",
     "text": [
      "loss 14.475054740905762:   8%|▊         | 407/5000 [00:09<01:17, 59.22it/s]"
     ]
    },
    {
     "name": "stdout",
     "output_type": "stream",
     "text": [
      "\n",
      "TARGET baaabababbbbaabaabab | IS_VALID True\n",
      "PRED bbbaaaaaaaaaaaaaaaaa | IS_VALID False\n",
      "loss 14.475054740905762\n"
     ]
    },
    {
     "name": "stderr",
     "output_type": "stream",
     "text": [
      "loss 14.182671546936035:  10%|█         | 511/5000 [00:11<01:18, 57.30it/s]"
     ]
    },
    {
     "name": "stdout",
     "output_type": "stream",
     "text": [
      "\n",
      "TARGET abbaababbbabbabaaaab | IS_VALID True\n",
      "PRED bbbbbbbbbbbbbbbbbbbb | IS_VALID False\n",
      "loss 14.182671546936035\n"
     ]
    },
    {
     "name": "stderr",
     "output_type": "stream",
     "text": [
      "loss 14.019584655761719:  12%|█▏        | 606/5000 [00:13<01:10, 62.04it/s]"
     ]
    },
    {
     "name": "stdout",
     "output_type": "stream",
     "text": [
      "\n",
      "TARGET bbbabbaaabaabbaaaabb | IS_VALID True\n",
      "PRED abababababababababab | IS_VALID True\n",
      "loss 14.019584655761719\n"
     ]
    },
    {
     "name": "stderr",
     "output_type": "stream",
     "text": [
      "loss 13.997797012329102:  14%|█▍        | 706/5000 [00:14<01:15, 57.06it/s]"
     ]
    },
    {
     "name": "stdout",
     "output_type": "stream",
     "text": [
      "\n",
      "TARGET abbabbabbaabbaabaaab | IS_VALID True\n",
      "PRED abaabaabaabaabaabaab | IS_VALID False\n",
      "loss 13.997797012329102\n"
     ]
    },
    {
     "name": "stderr",
     "output_type": "stream",
     "text": [
      "loss 13.928204536437988:  16%|█▌        | 811/5000 [00:17<01:24, 49.77it/s]"
     ]
    },
    {
     "name": "stdout",
     "output_type": "stream",
     "text": [
      "\n",
      "TARGET aabababaaaabbaabbbbb | IS_VALID True\n",
      "PRED babababababababababa | IS_VALID True\n",
      "loss 13.928204536437988\n"
     ]
    },
    {
     "name": "stderr",
     "output_type": "stream",
     "text": [
      "loss 13.906786918640137:  18%|█▊        | 907/5000 [00:18<01:17, 52.61it/s]"
     ]
    },
    {
     "name": "stdout",
     "output_type": "stream",
     "text": [
      "\n",
      "TARGET abaaaabaabaabbbbbbab | IS_VALID True\n",
      "PRED aaaaaaaaaaaaaaaaaaaa | IS_VALID False\n",
      "loss 13.906786918640137\n"
     ]
    },
    {
     "name": "stderr",
     "output_type": "stream",
     "text": [
      "loss 13.920077323913574:  20%|██        | 1004/5000 [00:20<01:07, 59.02it/s]"
     ]
    },
    {
     "name": "stdout",
     "output_type": "stream",
     "text": [
      "\n",
      "TARGET aaaabbbbbbbaaabbaaab | IS_VALID True\n",
      "PRED abbbbbbbbbbbbbbbbbbb | IS_VALID False\n",
      "loss 13.920077323913574\n"
     ]
    },
    {
     "name": "stderr",
     "output_type": "stream",
     "text": [
      "loss 13.865534782409668:  22%|██▏       | 1110/5000 [00:22<01:05, 59.66it/s]"
     ]
    },
    {
     "name": "stdout",
     "output_type": "stream",
     "text": [
      "\n",
      "TARGET abbaabbbbbaaaababbaa | IS_VALID True\n",
      "PRED aabababababababababa | IS_VALID False\n",
      "loss 13.865534782409668\n"
     ]
    },
    {
     "name": "stderr",
     "output_type": "stream",
     "text": [
      "loss 13.892086029052734:  24%|██▍       | 1209/5000 [00:24<01:03, 60.08it/s]"
     ]
    },
    {
     "name": "stdout",
     "output_type": "stream",
     "text": [
      "\n",
      "TARGET bbbbabbabbbaaaaaabaa | IS_VALID True\n",
      "PRED bbbbbbbbbbbbbbbbbbbb | IS_VALID False\n",
      "loss 13.892086029052734\n"
     ]
    },
    {
     "name": "stderr",
     "output_type": "stream",
     "text": [
      "loss 13.923922538757324:  26%|██▌       | 1312/5000 [00:26<01:05, 56.57it/s]"
     ]
    },
    {
     "name": "stdout",
     "output_type": "stream",
     "text": [
      "\n",
      "TARGET abbbababaaabaababbba | IS_VALID True\n",
      "PRED bbababbababbababbaba | IS_VALID False\n",
      "loss 13.923922538757324\n"
     ]
    },
    {
     "name": "stderr",
     "output_type": "stream",
     "text": [
      "loss 13.917999267578125:  28%|██▊       | 1406/5000 [00:28<01:13, 48.57it/s]"
     ]
    },
    {
     "name": "stdout",
     "output_type": "stream",
     "text": [
      "\n",
      "TARGET babbbabaabbabaaabaab | IS_VALID True\n",
      "PRED aaaaaaaaaaaaaaaaaaaa | IS_VALID False\n",
      "loss 13.917999267578125\n"
     ]
    },
    {
     "name": "stderr",
     "output_type": "stream",
     "text": [
      "loss 13.910967826843262:  30%|███       | 1508/5000 [00:30<01:17, 44.92it/s]"
     ]
    },
    {
     "name": "stdout",
     "output_type": "stream",
     "text": [
      "\n",
      "TARGET bbbbaaabbababaaaabba | IS_VALID True\n",
      "PRED aaaaaaaaaaaaaaaaaaaa | IS_VALID False\n",
      "loss 13.910967826843262\n"
     ]
    },
    {
     "name": "stderr",
     "output_type": "stream",
     "text": [
      "loss 13.92878246307373:  32%|███▏      | 1608/5000 [00:32<01:09, 48.72it/s] "
     ]
    },
    {
     "name": "stdout",
     "output_type": "stream",
     "text": [
      "\n",
      "TARGET abaabaabaaabbbabbabb | IS_VALID True\n",
      "PRED babaaaabaaaaabaaaaab | IS_VALID False\n",
      "loss 13.92878246307373\n"
     ]
    },
    {
     "name": "stderr",
     "output_type": "stream",
     "text": [
      "loss 13.864365577697754:  34%|███▍      | 1708/5000 [00:34<01:05, 50.24it/s]"
     ]
    },
    {
     "name": "stdout",
     "output_type": "stream",
     "text": [
      "\n",
      "TARGET bbaaaabbbaabbababaab | IS_VALID True\n",
      "PRED babaaabaabaabaabaaba | IS_VALID False\n",
      "loss 13.864365577697754\n"
     ]
    },
    {
     "name": "stderr",
     "output_type": "stream",
     "text": [
      "loss 13.804220199584961:  36%|███▌      | 1809/5000 [00:36<00:58, 54.82it/s]"
     ]
    },
    {
     "name": "stdout",
     "output_type": "stream",
     "text": [
      "\n",
      "TARGET bbbaabababaabbbaaaab | IS_VALID True\n",
      "PRED baaaaaaaaaaaaaaaaaaa | IS_VALID False\n",
      "loss 13.804220199584961\n"
     ]
    },
    {
     "name": "stderr",
     "output_type": "stream",
     "text": [
      "loss 14.013626098632812:  38%|███▊      | 1911/5000 [00:38<00:55, 55.32it/s]"
     ]
    },
    {
     "name": "stdout",
     "output_type": "stream",
     "text": [
      "\n",
      "TARGET aabbbbbaaabbbaabbaaa | IS_VALID True\n",
      "PRED baaaaaaaaaaaaaaaaaaa | IS_VALID False\n",
      "loss 14.013626098632812\n"
     ]
    },
    {
     "name": "stderr",
     "output_type": "stream",
     "text": [
      "loss 13.98786735534668:  40%|████      | 2011/5000 [00:40<00:57, 51.92it/s] "
     ]
    },
    {
     "name": "stdout",
     "output_type": "stream",
     "text": [
      "\n",
      "TARGET aabababbaababbbbbaaa | IS_VALID True\n",
      "PRED baaaaaaaaaaaaaaaaaaa | IS_VALID False\n",
      "loss 13.98786735534668\n"
     ]
    },
    {
     "name": "stderr",
     "output_type": "stream",
     "text": [
      "loss 13.848282814025879:  42%|████▏     | 2111/5000 [00:42<00:49, 58.52it/s]"
     ]
    },
    {
     "name": "stdout",
     "output_type": "stream",
     "text": [
      "\n",
      "TARGET bbabbbabbbaaaabbaaaa | IS_VALID True\n",
      "PRED babaababaababaababaa | IS_VALID False\n",
      "loss 13.848282814025879\n"
     ]
    },
    {
     "name": "stderr",
     "output_type": "stream",
     "text": [
      "loss 13.889286041259766:  44%|████▍     | 2209/5000 [00:43<00:49, 56.17it/s]"
     ]
    },
    {
     "name": "stdout",
     "output_type": "stream",
     "text": [
      "\n",
      "TARGET abbabbbaabaabababaab | IS_VALID True\n",
      "PRED babababababababababa | IS_VALID True\n",
      "loss 13.889286041259766\n"
     ]
    },
    {
     "name": "stderr",
     "output_type": "stream",
     "text": [
      "loss 13.865967750549316:  46%|████▌     | 2310/5000 [00:45<00:52, 51.67it/s]"
     ]
    },
    {
     "name": "stdout",
     "output_type": "stream",
     "text": [
      "\n",
      "TARGET bababbaababaabbaabab | IS_VALID True\n",
      "PRED baaaaaaaaaaaaaaaaaaa | IS_VALID False\n",
      "loss 13.865967750549316\n"
     ]
    },
    {
     "name": "stderr",
     "output_type": "stream",
     "text": [
      "loss 13.925074577331543:  48%|████▊     | 2411/5000 [00:47<00:46, 55.38it/s]"
     ]
    },
    {
     "name": "stdout",
     "output_type": "stream",
     "text": [
      "\n",
      "TARGET abbbabaabbababbbaaaa | IS_VALID True\n",
      "PRED babababababababababa | IS_VALID True\n",
      "loss 13.925074577331543\n"
     ]
    },
    {
     "name": "stderr",
     "output_type": "stream",
     "text": [
      "loss 13.872604370117188:  50%|█████     | 2507/5000 [00:49<00:46, 53.31it/s]"
     ]
    },
    {
     "name": "stdout",
     "output_type": "stream",
     "text": [
      "\n",
      "TARGET aabbbaabbaabbbaaaabb | IS_VALID True\n",
      "PRED babababababababababa | IS_VALID True\n",
      "loss 13.872604370117188\n"
     ]
    },
    {
     "name": "stderr",
     "output_type": "stream",
     "text": [
      "loss 13.83946704864502:  52%|█████▏    | 2605/5000 [00:51<00:51, 46.50it/s] "
     ]
    },
    {
     "name": "stdout",
     "output_type": "stream",
     "text": [
      "\n",
      "TARGET ababaaababbbbaaabbab | IS_VALID True\n",
      "PRED abbbbbbbbbbbbbbbbbbb | IS_VALID False\n",
      "loss 13.83946704864502\n"
     ]
    },
    {
     "name": "stderr",
     "output_type": "stream",
     "text": [
      "loss 13.830720901489258:  54%|█████▍    | 2711/5000 [00:53<00:43, 52.62it/s]"
     ]
    },
    {
     "name": "stdout",
     "output_type": "stream",
     "text": [
      "\n",
      "TARGET aaabbbabbbbbbabaaaaa | IS_VALID True\n",
      "PRED abbbbbbbbbbbbbbbbbbb | IS_VALID False\n",
      "loss 13.830720901489258\n"
     ]
    },
    {
     "name": "stderr",
     "output_type": "stream",
     "text": [
      "loss 13.941015243530273:  56%|█████▌    | 2805/5000 [00:55<00:48, 45.39it/s]"
     ]
    },
    {
     "name": "stdout",
     "output_type": "stream",
     "text": [
      "\n",
      "TARGET baaababbbbaaaabbbaab | IS_VALID True\n",
      "PRED aabababababababababa | IS_VALID False\n",
      "loss 13.941015243530273\n"
     ]
    },
    {
     "name": "stderr",
     "output_type": "stream",
     "text": [
      "loss 13.814008712768555:  58%|█████▊    | 2905/5000 [00:57<00:45, 45.57it/s]"
     ]
    },
    {
     "name": "stdout",
     "output_type": "stream",
     "text": [
      "\n",
      "TARGET abaabbbaabbabbbaabaa | IS_VALID True\n",
      "PRED aabaabaabaabaabaabaa | IS_VALID False\n",
      "loss 13.814008712768555\n"
     ]
    },
    {
     "name": "stderr",
     "output_type": "stream",
     "text": [
      "loss 13.905647277832031:  60%|██████    | 3006/5000 [00:59<00:46, 42.60it/s]"
     ]
    },
    {
     "name": "stdout",
     "output_type": "stream",
     "text": [
      "\n",
      "TARGET bababaabbbbbaababaaa | IS_VALID True\n",
      "PRED abbbbbbbbbbbbbbbbbbb | IS_VALID False\n",
      "loss 13.905647277832031\n"
     ]
    },
    {
     "name": "stderr",
     "output_type": "stream",
     "text": [
      "loss 13.814897537231445:  62%|██████▏   | 3109/5000 [01:01<00:35, 53.70it/s]"
     ]
    },
    {
     "name": "stdout",
     "output_type": "stream",
     "text": [
      "\n",
      "TARGET aaabbabababbbaaababb | IS_VALID True\n",
      "PRED aaababababababababab | IS_VALID False\n",
      "loss 13.814897537231445\n"
     ]
    },
    {
     "name": "stderr",
     "output_type": "stream",
     "text": [
      "loss 13.919590950012207:  64%|██████▍   | 3209/5000 [01:03<00:36, 49.23it/s]"
     ]
    },
    {
     "name": "stdout",
     "output_type": "stream",
     "text": [
      "\n",
      "TARGET baabaababbbbaaabbbaa | IS_VALID True\n",
      "PRED abbbbbbbbbbbbbbbbbbb | IS_VALID False\n",
      "loss 13.919590950012207\n"
     ]
    },
    {
     "name": "stderr",
     "output_type": "stream",
     "text": [
      "loss 13.789899826049805:  66%|██████▌   | 3309/5000 [01:05<00:33, 50.02it/s]"
     ]
    },
    {
     "name": "stdout",
     "output_type": "stream",
     "text": [
      "\n",
      "TARGET aabaabbbabbbbbaaabaa | IS_VALID True\n",
      "PRED abbbbbbbbbbbbbbbbbbb | IS_VALID False\n",
      "loss 13.789899826049805\n"
     ]
    },
    {
     "name": "stderr",
     "output_type": "stream",
     "text": [
      "loss 13.783748626708984:  68%|██████▊   | 3408/5000 [01:07<00:29, 54.39it/s]"
     ]
    },
    {
     "name": "stdout",
     "output_type": "stream",
     "text": [
      "\n",
      "TARGET aaaabbabbabbabaababb | IS_VALID True\n",
      "PRED aaaaaaaaaaaaaaaaaaaa | IS_VALID False\n",
      "loss 13.783748626708984\n"
     ]
    },
    {
     "name": "stderr",
     "output_type": "stream",
     "text": [
      "loss 13.993729591369629:  70%|███████   | 3507/5000 [01:09<00:27, 55.04it/s]"
     ]
    },
    {
     "name": "stdout",
     "output_type": "stream",
     "text": [
      "\n",
      "TARGET bababaaaabaababbbbab | IS_VALID True\n",
      "PRED aaaaaabababababababa | IS_VALID False\n",
      "loss 13.993729591369629\n"
     ]
    },
    {
     "name": "stderr",
     "output_type": "stream",
     "text": [
      "loss 13.801933288574219:  72%|███████▏  | 3612/5000 [01:11<00:24, 56.23it/s]"
     ]
    },
    {
     "name": "stdout",
     "output_type": "stream",
     "text": [
      "\n",
      "TARGET ababaabbabbbaabbaaba | IS_VALID True\n",
      "PRED abbbbbbbbbbbbbbbbbbb | IS_VALID False\n",
      "loss 13.801933288574219\n"
     ]
    },
    {
     "name": "stderr",
     "output_type": "stream",
     "text": [
      "loss 14.153421401977539:  74%|███████▍  | 3709/5000 [01:13<00:21, 58.98it/s]"
     ]
    },
    {
     "name": "stdout",
     "output_type": "stream",
     "text": [
      "\n",
      "TARGET bbbabaabaababbaabaab | IS_VALID True\n",
      "PRED aabbbbbbbbbbbbbbbbbb | IS_VALID False\n",
      "loss 14.153421401977539\n"
     ]
    },
    {
     "name": "stderr",
     "output_type": "stream",
     "text": [
      "loss 14.01131820678711:  76%|███████▌  | 3808/5000 [01:15<00:18, 63.16it/s] "
     ]
    },
    {
     "name": "stdout",
     "output_type": "stream",
     "text": [
      "\n",
      "TARGET baaaabbbbaaaababbabb | IS_VALID True\n",
      "PRED abbbbbbbbbbbbbbbbbbb | IS_VALID False\n",
      "loss 14.01131820678711\n"
     ]
    },
    {
     "name": "stderr",
     "output_type": "stream",
     "text": [
      "loss 13.746254920959473:  78%|███████▊  | 3908/5000 [01:16<00:19, 55.45it/s]"
     ]
    },
    {
     "name": "stdout",
     "output_type": "stream",
     "text": [
      "\n",
      "TARGET abbaababaabbabbbaaba | IS_VALID True\n",
      "PRED abbbbbbbbbbbbbbbbbbb | IS_VALID False\n",
      "loss 13.746254920959473\n"
     ]
    },
    {
     "name": "stderr",
     "output_type": "stream",
     "text": [
      "loss 13.808451652526855:  80%|████████  | 4005/5000 [01:18<00:20, 48.62it/s]"
     ]
    },
    {
     "name": "stdout",
     "output_type": "stream",
     "text": [
      "\n",
      "TARGET abbbabaaabababbababa | IS_VALID True\n",
      "PRED abbbbbbbbbbbbbbbbbbb | IS_VALID False\n",
      "loss 13.808451652526855\n"
     ]
    },
    {
     "name": "stderr",
     "output_type": "stream",
     "text": [
      "loss 13.931153297424316:  82%|████████▏ | 4107/5000 [01:20<00:14, 59.60it/s]"
     ]
    },
    {
     "name": "stdout",
     "output_type": "stream",
     "text": [
      "\n",
      "TARGET baabaaababbabbbbabaa | IS_VALID True\n",
      "PRED abbbbbbbbbbbbbbbbbbb | IS_VALID False\n",
      "loss 13.931153297424316\n"
     ]
    },
    {
     "name": "stderr",
     "output_type": "stream",
     "text": [
      "loss 14.00516128540039:  84%|████████▍ | 4213/5000 [01:22<00:14, 55.44it/s] "
     ]
    },
    {
     "name": "stdout",
     "output_type": "stream",
     "text": [
      "\n",
      "TARGET bbbaabaababbaabaabba | IS_VALID True\n",
      "PRED aabbbbbbbbbbbbbbbbbb | IS_VALID False\n",
      "loss 14.00516128540039\n"
     ]
    },
    {
     "name": "stderr",
     "output_type": "stream",
     "text": [
      "loss 13.739208221435547:  86%|████████▌ | 4306/5000 [01:24<00:12, 54.79it/s]"
     ]
    },
    {
     "name": "stdout",
     "output_type": "stream",
     "text": [
      "\n",
      "TARGET aaabababbaaabbaabbbb | IS_VALID True\n",
      "PRED abbbbbbbbbbbbbbbbbbb | IS_VALID False\n",
      "loss 13.739208221435547\n"
     ]
    },
    {
     "name": "stderr",
     "output_type": "stream",
     "text": [
      "loss 13.76596450805664:  88%|████████▊ | 4408/5000 [01:26<00:10, 55.15it/s] "
     ]
    },
    {
     "name": "stdout",
     "output_type": "stream",
     "text": [
      "\n",
      "TARGET aabbaabaababbbabaabb | IS_VALID True\n",
      "PRED abbbbbbbbbbbbbbbbbbb | IS_VALID False\n",
      "loss 13.76596450805664\n"
     ]
    },
    {
     "name": "stderr",
     "output_type": "stream",
     "text": [
      "loss 13.795591354370117:  90%|█████████ | 4506/5000 [01:27<00:09, 49.96it/s]"
     ]
    },
    {
     "name": "stdout",
     "output_type": "stream",
     "text": [
      "\n",
      "TARGET aabbbaaaaaaabbbbabbb | IS_VALID True\n",
      "PRED abbbbbbbbbbbbbbbbbbb | IS_VALID False\n",
      "loss 13.795591354370117\n"
     ]
    },
    {
     "name": "stderr",
     "output_type": "stream",
     "text": [
      "loss 13.911282539367676:  92%|█████████▏| 4613/5000 [01:30<00:06, 55.52it/s]"
     ]
    },
    {
     "name": "stdout",
     "output_type": "stream",
     "text": [
      "\n",
      "TARGET bbbbabaaababbaaabbaa | IS_VALID True\n",
      "PRED abbabbabbabbabbabbab | IS_VALID False\n",
      "loss 13.911282539367676\n"
     ]
    },
    {
     "name": "stderr",
     "output_type": "stream",
     "text": [
      "loss 13.828496932983398:  94%|█████████▍| 4706/5000 [01:32<00:07, 40.12it/s]"
     ]
    },
    {
     "name": "stdout",
     "output_type": "stream",
     "text": [
      "\n",
      "TARGET abaaaabbaabbabaabbbb | IS_VALID True\n",
      "PRED abbbbbbbbbbbbbbbbbbb | IS_VALID False\n",
      "loss 13.828496932983398\n"
     ]
    },
    {
     "name": "stderr",
     "output_type": "stream",
     "text": [
      "loss 13.936583518981934:  96%|█████████▌| 4808/5000 [01:34<00:03, 52.44it/s]"
     ]
    },
    {
     "name": "stdout",
     "output_type": "stream",
     "text": [
      "\n",
      "TARGET babaabbbbaaaabbbabaa | IS_VALID True\n",
      "PRED abbbbbbbbbbbbbbbbbbb | IS_VALID False\n",
      "loss 13.936583518981934\n"
     ]
    },
    {
     "name": "stderr",
     "output_type": "stream",
     "text": [
      "loss 13.899224281311035:  98%|█████████▊| 4906/5000 [01:36<00:02, 44.82it/s]"
     ]
    },
    {
     "name": "stdout",
     "output_type": "stream",
     "text": [
      "\n",
      "TARGET bbababaaaaabaabbbabb | IS_VALID True\n",
      "PRED abbbbbbbbbbbbbbbbbbb | IS_VALID False\n",
      "loss 13.899224281311035\n"
     ]
    },
    {
     "name": "stderr",
     "output_type": "stream",
     "text": [
      "loss 13.848118782043457: 100%|██████████| 5000/5000 [01:38<00:00, 50.84it/s]\n"
     ]
    },
    {
     "name": "stdout",
     "output_type": "stream",
     "text": [
      "\n"
     ]
    },
    {
     "name": "stderr",
     "output_type": "stream",
     "text": [
      "loss 13.835051536560059:   0%|          | 6/5000 [00:00<02:13, 37.49it/s]"
     ]
    },
    {
     "name": "stdout",
     "output_type": "stream",
     "text": [
      "\n",
      "TARGET baabbaabbabbaababbaa | IS_VALID True\n",
      "PRED bbabbabbabbabbabbabb | IS_VALID False\n",
      "loss 13.835051536560059\n"
     ]
    },
    {
     "name": "stderr",
     "output_type": "stream",
     "text": [
      "loss 13.882760047912598:   2%|▏         | 107/5000 [00:02<01:44, 46.60it/s]"
     ]
    },
    {
     "name": "stdout",
     "output_type": "stream",
     "text": [
      "\n",
      "TARGET baaabbabbabaaabbbaab | IS_VALID True\n",
      "PRED aaaaaaaaaaaaaaaaaaaa | IS_VALID False\n",
      "loss 13.882760047912598\n"
     ]
    },
    {
     "name": "stderr",
     "output_type": "stream",
     "text": [
      "loss 13.871371269226074:   4%|▍         | 211/5000 [00:04<01:23, 57.69it/s]"
     ]
    },
    {
     "name": "stdout",
     "output_type": "stream",
     "text": [
      "\n",
      "TARGET abbbaababaabbaaabbba | IS_VALID True\n",
      "PRED bbbbbbbbbbbbbbbbbbbb | IS_VALID False\n",
      "loss 13.871371269226074\n"
     ]
    },
    {
     "name": "stderr",
     "output_type": "stream",
     "text": [
      "loss 13.877580642700195:   6%|▌         | 307/5000 [00:06<01:39, 46.95it/s]"
     ]
    },
    {
     "name": "stdout",
     "output_type": "stream",
     "text": [
      "\n",
      "TARGET bbaabaaababbabaaabbb | IS_VALID True\n",
      "PRED abbbbbbbbbbbbbbbbbbb | IS_VALID False\n",
      "loss 13.877580642700195\n"
     ]
    },
    {
     "name": "stderr",
     "output_type": "stream",
     "text": [
      "loss 13.804475784301758:   8%|▊         | 405/5000 [00:08<01:37, 47.04it/s]"
     ]
    },
    {
     "name": "stdout",
     "output_type": "stream",
     "text": [
      "\n",
      "TARGET aaaabaabbbbabaababbb | IS_VALID True\n",
      "PRED aaaaaaaaaaaaaaaaaaaa | IS_VALID False\n",
      "loss 13.804475784301758\n"
     ]
    },
    {
     "name": "stderr",
     "output_type": "stream",
     "text": [
      "loss 13.911113739013672:  10%|█         | 508/5000 [00:10<01:27, 51.11it/s]"
     ]
    },
    {
     "name": "stdout",
     "output_type": "stream",
     "text": [
      "\n",
      "TARGET bbbbbbaabaaabbaaaaab | IS_VALID True\n",
      "PRED abbbbbbbbbbbbbbbbbbb | IS_VALID False\n",
      "loss 13.911113739013672\n"
     ]
    },
    {
     "name": "stderr",
     "output_type": "stream",
     "text": [
      "loss 13.81848430633545:  12%|█▏        | 609/5000 [00:12<01:21, 53.93it/s] "
     ]
    },
    {
     "name": "stdout",
     "output_type": "stream",
     "text": [
      "\n",
      "TARGET aaabbbaabbbaabababba | IS_VALID True\n",
      "PRED abbbbbbbbbbbbbbbbbbb | IS_VALID False\n",
      "loss 13.81848430633545\n"
     ]
    },
    {
     "name": "stderr",
     "output_type": "stream",
     "text": [
      "loss 13.966556549072266:  14%|█▍        | 707/5000 [00:14<01:22, 51.78it/s]"
     ]
    },
    {
     "name": "stdout",
     "output_type": "stream",
     "text": [
      "\n",
      "TARGET bbabbaaabbabababaaba | IS_VALID True\n",
      "PRED abbbbbbbbbbbbbbbbbbb | IS_VALID False\n",
      "loss 13.966556549072266\n"
     ]
    },
    {
     "name": "stderr",
     "output_type": "stream",
     "text": [
      "loss 14.02968692779541:  16%|█▌        | 807/5000 [00:16<01:49, 38.27it/s] "
     ]
    },
    {
     "name": "stdout",
     "output_type": "stream",
     "text": [
      "\n",
      "TARGET babbaaaabbbabbbaabaa | IS_VALID True\n",
      "PRED abbbbbbbbbbbbbbbbbbb | IS_VALID False\n",
      "loss 14.02968692779541\n"
     ]
    },
    {
     "name": "stderr",
     "output_type": "stream",
     "text": [
      "loss 13.943397521972656:  18%|█▊        | 908/5000 [00:18<01:17, 52.64it/s]"
     ]
    },
    {
     "name": "stdout",
     "output_type": "stream",
     "text": [
      "\n",
      "TARGET bbbbabaaaabaabbbaaba | IS_VALID True\n",
      "PRED abababababababababab | IS_VALID True\n",
      "loss 13.943397521972656\n"
     ]
    },
    {
     "name": "stderr",
     "output_type": "stream",
     "text": [
      "loss 13.768930435180664:  20%|██        | 1005/5000 [00:20<01:11, 55.95it/s]"
     ]
    },
    {
     "name": "stdout",
     "output_type": "stream",
     "text": [
      "\n",
      "TARGET aaaabbbaabbbaaabbbba | IS_VALID True\n",
      "PRED abababababababababab | IS_VALID True\n",
      "loss 13.768930435180664\n"
     ]
    },
    {
     "name": "stderr",
     "output_type": "stream",
     "text": [
      "loss 13.98726749420166:  22%|██▏       | 1111/5000 [00:22<01:12, 53.53it/s] "
     ]
    },
    {
     "name": "stdout",
     "output_type": "stream",
     "text": [
      "\n",
      "TARGET bbaaaaaaabbbbbbaabba | IS_VALID True\n",
      "PRED abbbbbbbbbbbbbbbbbbb | IS_VALID False\n",
      "loss 13.98726749420166\n"
     ]
    },
    {
     "name": "stderr",
     "output_type": "stream",
     "text": [
      "loss 13.751503944396973:  24%|██▍       | 1206/5000 [00:24<01:12, 52.14it/s]"
     ]
    },
    {
     "name": "stdout",
     "output_type": "stream",
     "text": [
      "\n",
      "TARGET ababbbaaabaababbbaab | IS_VALID True\n",
      "PRED aabababababababababa | IS_VALID False\n",
      "loss 13.751503944396973\n"
     ]
    },
    {
     "name": "stderr",
     "output_type": "stream",
     "text": [
      "loss 13.779778480529785:  26%|██▌       | 1310/5000 [00:26<01:06, 55.19it/s]"
     ]
    },
    {
     "name": "stdout",
     "output_type": "stream",
     "text": [
      "\n",
      "TARGET aabaaabaaabbbaabbbbb | IS_VALID True\n",
      "PRED abababababababababab | IS_VALID True\n",
      "loss 13.779778480529785\n"
     ]
    },
    {
     "name": "stderr",
     "output_type": "stream",
     "text": [
      "loss 13.741257667541504:  28%|██▊       | 1413/5000 [00:28<01:05, 54.65it/s]"
     ]
    },
    {
     "name": "stdout",
     "output_type": "stream",
     "text": [
      "\n",
      "TARGET ababaababaabbabbabab | IS_VALID True\n",
      "PRED abbbbbbbbbbbbbbbbbbb | IS_VALID False\n",
      "loss 13.741257667541504\n"
     ]
    },
    {
     "name": "stderr",
     "output_type": "stream",
     "text": [
      "loss 13.58202075958252:  30%|███       | 1510/5000 [00:30<00:59, 58.26it/s] "
     ]
    },
    {
     "name": "stdout",
     "output_type": "stream",
     "text": [
      "\n",
      "TARGET aabaabbbabbaaabbbbaa | IS_VALID True\n",
      "PRED aabbbbbbbbbbbbbbbbbb | IS_VALID False\n",
      "loss 13.58202075958252\n"
     ]
    },
    {
     "name": "stderr",
     "output_type": "stream",
     "text": [
      "loss 14.34288215637207:  32%|███▏      | 1606/5000 [00:31<01:10, 48.47it/s] "
     ]
    },
    {
     "name": "stdout",
     "output_type": "stream",
     "text": [
      "\n",
      "TARGET bbaababbbbabbaaaaaba | IS_VALID True\n",
      "PRED aabbbbbbbbbbbbbbbbbb | IS_VALID False\n",
      "loss 14.34288215637207\n"
     ]
    },
    {
     "name": "stderr",
     "output_type": "stream",
     "text": [
      "loss 14.027146339416504:  34%|███▍      | 1709/5000 [00:33<01:02, 53.07it/s]"
     ]
    },
    {
     "name": "stdout",
     "output_type": "stream",
     "text": [
      "\n",
      "TARGET babaabbabbababaaaabb | IS_VALID True\n",
      "PRED aabbabbabbabbabbabba | IS_VALID False\n",
      "loss 14.027146339416504\n"
     ]
    },
    {
     "name": "stderr",
     "output_type": "stream",
     "text": [
      "loss 13.533245086669922:  36%|███▌      | 1809/5000 [00:35<01:08, 46.86it/s]"
     ]
    },
    {
     "name": "stdout",
     "output_type": "stream",
     "text": [
      "\n",
      "TARGET aababbbbbbabaaabbaaa | IS_VALID True\n",
      "PRED aaabbbabbabbabbabbab | IS_VALID False\n",
      "loss 13.533245086669922\n"
     ]
    },
    {
     "name": "stderr",
     "output_type": "stream",
     "text": [
      "loss 13.20407485961914:  38%|███▊      | 1912/5000 [00:37<00:57, 53.53it/s] "
     ]
    },
    {
     "name": "stdout",
     "output_type": "stream",
     "text": [
      "\n",
      "TARGET aaababbaababbbaabbba | IS_VALID True\n",
      "PRED aabbbbbbbbbbbbbbbbbb | IS_VALID False\n",
      "loss 13.20407485961914\n"
     ]
    },
    {
     "name": "stderr",
     "output_type": "stream",
     "text": [
      "loss 13.15839958190918:  40%|████      | 2006/5000 [00:39<00:53, 55.53it/s] "
     ]
    },
    {
     "name": "stdout",
     "output_type": "stream",
     "text": [
      "\n",
      "TARGET aabbbbababbaababbaaa | IS_VALID True\n",
      "PRED aabbbbbbbbbbbbbbbbbb | IS_VALID False\n",
      "loss 13.15839958190918\n"
     ]
    },
    {
     "name": "stderr",
     "output_type": "stream",
     "text": [
      "loss 14.385509490966797:  42%|████▏     | 2111/5000 [00:42<01:02, 45.90it/s]"
     ]
    },
    {
     "name": "stdout",
     "output_type": "stream",
     "text": [
      "\n",
      "TARGET baabaaabbababaababbb | IS_VALID True\n",
      "PRED aabbbbbbbbbbbbbbbbbb | IS_VALID False\n",
      "loss 14.385509490966797\n"
     ]
    },
    {
     "name": "stderr",
     "output_type": "stream",
     "text": [
      "loss 14.89614486694336:  44%|████▍     | 2208/5000 [00:43<00:45, 60.93it/s] "
     ]
    },
    {
     "name": "stdout",
     "output_type": "stream",
     "text": [
      "\n",
      "TARGET bbaaabaaaababbbabbba | IS_VALID True\n",
      "PRED aabbbbbbbbbbbbbbbbbb | IS_VALID False\n",
      "loss 14.89614486694336\n"
     ]
    },
    {
     "name": "stderr",
     "output_type": "stream",
     "text": [
      "loss 13.441516876220703:  46%|████▌     | 2304/5000 [00:45<00:58, 45.73it/s]"
     ]
    },
    {
     "name": "stdout",
     "output_type": "stream",
     "text": [
      "\n",
      "TARGET aabababaabbabaabbbba | IS_VALID True\n",
      "PRED abbbbbbbbbbbbbbbbbbb | IS_VALID False\n",
      "loss 13.441516876220703\n"
     ]
    },
    {
     "name": "stderr",
     "output_type": "stream",
     "text": [
      "loss 13.40461540222168:  48%|████▊     | 2410/5000 [00:47<00:46, 55.13it/s] "
     ]
    },
    {
     "name": "stdout",
     "output_type": "stream",
     "text": [
      "\n",
      "TARGET abbabbbabbbaabaaabaa | IS_VALID True\n",
      "PRED abbbbbbbbbbbbbbbbbbb | IS_VALID False\n",
      "loss 13.40461540222168\n"
     ]
    },
    {
     "name": "stderr",
     "output_type": "stream",
     "text": [
      "loss 13.242219924926758:  50%|█████     | 2505/5000 [00:49<00:50, 49.54it/s]"
     ]
    },
    {
     "name": "stdout",
     "output_type": "stream",
     "text": [
      "\n",
      "TARGET aaabbabbbaaaaabbabbb | IS_VALID True\n",
      "PRED aabbbbbbbbbbbbbbbbbb | IS_VALID False\n",
      "loss 13.242219924926758\n"
     ]
    },
    {
     "name": "stderr",
     "output_type": "stream",
     "text": [
      "loss 13.467808723449707:  52%|█████▏    | 2613/5000 [00:51<00:39, 59.69it/s]"
     ]
    },
    {
     "name": "stdout",
     "output_type": "stream",
     "text": [
      "\n",
      "TARGET abaaaabbaabababbabbb | IS_VALID True\n",
      "PRED aabbbbbbbbbbbbbbbbbb | IS_VALID False\n",
      "loss 13.467808723449707\n"
     ]
    },
    {
     "name": "stderr",
     "output_type": "stream",
     "text": [
      "loss 13.70055103302002:  54%|█████▍    | 2711/5000 [00:53<00:38, 59.98it/s] "
     ]
    },
    {
     "name": "stdout",
     "output_type": "stream",
     "text": [
      "\n",
      "TARGET abbbaabbbbaabaababaa | IS_VALID True\n",
      "PRED aabbbbbbbbbbbbbbbbbb | IS_VALID False\n",
      "loss 13.70055103302002\n"
     ]
    },
    {
     "name": "stderr",
     "output_type": "stream",
     "text": [
      "loss 13.100295066833496:  56%|█████▌    | 2807/5000 [00:55<00:39, 55.75it/s]"
     ]
    },
    {
     "name": "stdout",
     "output_type": "stream",
     "text": [
      "\n",
      "TARGET aabbabaaabaaabbbbbab | IS_VALID True\n",
      "PRED aaabbbbbbbbbbbbbbbbb | IS_VALID False\n",
      "loss 13.100295066833496\n"
     ]
    },
    {
     "name": "stderr",
     "output_type": "stream",
     "text": [
      "loss 13.863274574279785:  58%|█████▊    | 2906/5000 [00:56<00:42, 49.32it/s]"
     ]
    },
    {
     "name": "stdout",
     "output_type": "stream",
     "text": [
      "\n",
      "TARGET ababaababbbababaaabb | IS_VALID True\n",
      "PRED aaabbbbbbbbbbbbbbbbb | IS_VALID False\n",
      "loss 13.863274574279785\n"
     ]
    },
    {
     "name": "stderr",
     "output_type": "stream",
     "text": [
      "loss 13.546793937683105:  60%|██████    | 3007/5000 [00:58<00:36, 54.74it/s]"
     ]
    },
    {
     "name": "stdout",
     "output_type": "stream",
     "text": [
      "\n",
      "TARGET aabbbaaaaaabbbaabbbb | IS_VALID True\n",
      "PRED aaaabbbbbbbbbbbbbbbb | IS_VALID False\n",
      "loss 13.546793937683105\n"
     ]
    },
    {
     "name": "stderr",
     "output_type": "stream",
     "text": [
      "loss 13.135368347167969:  62%|██████▏   | 3107/5000 [01:00<00:32, 58.58it/s]"
     ]
    },
    {
     "name": "stdout",
     "output_type": "stream",
     "text": [
      "\n",
      "TARGET aabbbabaababaabababb | IS_VALID True\n",
      "PRED aaabbbbbbbbbbbbbbbbb | IS_VALID False\n",
      "loss 13.135368347167969\n"
     ]
    },
    {
     "name": "stderr",
     "output_type": "stream",
     "text": [
      "loss 9.181452751159668:  64%|██████▍   | 3210/5000 [01:02<00:43, 41.36it/s] "
     ]
    },
    {
     "name": "stdout",
     "output_type": "stream",
     "text": [
      "\n",
      "TARGET aaaaaaababbbbabbabbb | IS_VALID True\n",
      "PRED aaaaaaabbbbbbbbbbbbb | IS_VALID False\n",
      "loss 9.181452751159668\n"
     ]
    },
    {
     "name": "stderr",
     "output_type": "stream",
     "text": [
      "loss 9.300986289978027:  66%|██████▌   | 3309/5000 [01:04<00:29, 56.42it/s] "
     ]
    },
    {
     "name": "stdout",
     "output_type": "stream",
     "text": [
      "\n",
      "TARGET baaaaaaaababbbbbabbb | IS_VALID True\n",
      "PRED aaaaaaaaaabbbbbbbbbb | IS_VALID True\n",
      "loss 9.300986289978027\n"
     ]
    },
    {
     "name": "stderr",
     "output_type": "stream",
     "text": [
      "loss 13.121443748474121:  68%|██████▊   | 3405/5000 [01:06<00:29, 53.44it/s]"
     ]
    },
    {
     "name": "stdout",
     "output_type": "stream",
     "text": [
      "\n",
      "TARGET abaaaababababbbababb | IS_VALID True\n",
      "PRED aaaaaaabbbbbbbbbbbbb | IS_VALID False\n",
      "loss 13.121443748474121\n"
     ]
    },
    {
     "name": "stderr",
     "output_type": "stream",
     "text": [
      "loss 10.221230506896973:  70%|███████   | 3509/5000 [01:08<00:26, 55.30it/s]"
     ]
    },
    {
     "name": "stdout",
     "output_type": "stream",
     "text": [
      "\n",
      "TARGET aaaaababbbbabaabbbab | IS_VALID True\n",
      "PRED aaaaabbbbbbbbbbbbbbb | IS_VALID False\n",
      "loss 10.221230506896973\n"
     ]
    },
    {
     "name": "stderr",
     "output_type": "stream",
     "text": [
      "loss 9.661948204040527:  72%|███████▏  | 3612/5000 [01:10<00:23, 59.56it/s] "
     ]
    },
    {
     "name": "stdout",
     "output_type": "stream",
     "text": [
      "\n",
      "TARGET aaaaaabbbbbabbaaabbb | IS_VALID True\n",
      "PRED aaaaabbbbbbbbbbbbbbb | IS_VALID False\n",
      "loss 9.661948204040527\n"
     ]
    },
    {
     "name": "stderr",
     "output_type": "stream",
     "text": [
      "loss 10.373619079589844:  74%|███████▍  | 3709/5000 [01:12<00:27, 46.29it/s]"
     ]
    },
    {
     "name": "stdout",
     "output_type": "stream",
     "text": [
      "\n",
      "TARGET aaaaabbbabbaabbbbbaa | IS_VALID True\n",
      "PRED aaaaabbbbbbbbbbbbbbb | IS_VALID False\n",
      "loss 10.373619079589844\n"
     ]
    },
    {
     "name": "stderr",
     "output_type": "stream",
     "text": [
      "loss 12.68416976928711:  76%|███████▌  | 3808/5000 [01:14<00:21, 55.48it/s] "
     ]
    },
    {
     "name": "stdout",
     "output_type": "stream",
     "text": [
      "\n",
      "TARGET aaabbbabababbbaaabba | IS_VALID True\n",
      "PRED aaaabbbbbbbbbbbbbbbb | IS_VALID False\n",
      "loss 12.68416976928711\n"
     ]
    },
    {
     "name": "stderr",
     "output_type": "stream",
     "text": [
      "loss 11.470392227172852:  78%|███████▊  | 3906/5000 [01:16<00:22, 49.49it/s]"
     ]
    },
    {
     "name": "stdout",
     "output_type": "stream",
     "text": [
      "\n",
      "TARGET aaaaaabbaabbbabbbbba | IS_VALID True\n",
      "PRED aaaabbbbbbbbbbbbbbbb | IS_VALID False\n",
      "loss 11.470392227172852\n"
     ]
    },
    {
     "name": "stderr",
     "output_type": "stream",
     "text": [
      "loss 11.853826522827148:  80%|████████  | 4008/5000 [01:18<00:18, 54.16it/s]"
     ]
    },
    {
     "name": "stdout",
     "output_type": "stream",
     "text": [
      "\n",
      "TARGET aaabbbabbbbaaabbbaaa | IS_VALID True\n",
      "PRED aaabbbbbbbbbbbbbbbbb | IS_VALID False\n",
      "loss 11.853826522827148\n"
     ]
    },
    {
     "name": "stderr",
     "output_type": "stream",
     "text": [
      "loss 11.846385955810547:  82%|████████▏ | 4109/5000 [01:20<00:19, 46.84it/s]"
     ]
    },
    {
     "name": "stdout",
     "output_type": "stream",
     "text": [
      "\n",
      "TARGET aaabbaaabbabbbbaabba | IS_VALID True\n",
      "PRED aaabbbbbbbbbbbbbbbbb | IS_VALID False\n",
      "loss 11.846385955810547\n"
     ]
    },
    {
     "name": "stderr",
     "output_type": "stream",
     "text": [
      "loss 11.844088554382324:  84%|████████▍ | 4206/5000 [01:22<00:15, 50.65it/s]"
     ]
    },
    {
     "name": "stdout",
     "output_type": "stream",
     "text": [
      "\n",
      "TARGET aaabbabaabbabbaabbab | IS_VALID True\n",
      "PRED aaabbbbbbbbbbbbbbbbb | IS_VALID False\n",
      "loss 11.844088554382324\n"
     ]
    },
    {
     "name": "stderr",
     "output_type": "stream",
     "text": [
      "loss 10.554317474365234:  86%|████████▌ | 4306/5000 [01:24<00:13, 51.55it/s]"
     ]
    },
    {
     "name": "stdout",
     "output_type": "stream",
     "text": [
      "\n",
      "TARGET aaaaabaabbabbbbababb | IS_VALID True\n",
      "PRED aaaaabbbbbbbbbbbbbbb | IS_VALID False\n",
      "loss 10.554317474365234\n"
     ]
    },
    {
     "name": "stderr",
     "output_type": "stream",
     "text": [
      "loss 11.172748565673828:  88%|████████▊ | 4407/5000 [01:26<00:12, 46.15it/s]"
     ]
    },
    {
     "name": "stdout",
     "output_type": "stream",
     "text": [
      "\n",
      "TARGET aaaabbbababbabbbabaa | IS_VALID True\n",
      "PRED aaaaabbbbbbbbbbbbbbb | IS_VALID False\n",
      "loss 11.172748565673828\n"
     ]
    },
    {
     "name": "stderr",
     "output_type": "stream",
     "text": [
      "loss 8.300292015075684:  90%|█████████ | 4514/5000 [01:28<00:07, 69.18it/s] "
     ]
    },
    {
     "name": "stdout",
     "output_type": "stream",
     "text": [
      "\n",
      "TARGET aaaaaaabbbaabbbbabbb | IS_VALID True\n",
      "PRED aaaaaaaabbbbbbbbbbbb | IS_VALID False\n",
      "loss 8.300292015075684\n"
     ]
    },
    {
     "name": "stderr",
     "output_type": "stream",
     "text": [
      "loss 9.741425514221191:  92%|█████████▏| 4612/5000 [01:29<00:05, 68.79it/s]"
     ]
    },
    {
     "name": "stdout",
     "output_type": "stream",
     "text": [
      "\n",
      "TARGET aaaaaababbbbabbabbab | IS_VALID True\n",
      "PRED aaaaaaaabbbbbbbbbbbb | IS_VALID False\n",
      "loss 9.741425514221191\n"
     ]
    },
    {
     "name": "stderr",
     "output_type": "stream",
     "text": [
      "loss 9.351035118103027:  94%|█████████▍| 4709/5000 [01:31<00:04, 59.68it/s]"
     ]
    },
    {
     "name": "stdout",
     "output_type": "stream",
     "text": [
      "\n",
      "TARGET aaaaabaaabbabbabbbbb | IS_VALID True\n",
      "PRED aaaaaaaaabbbbbbbbbbb | IS_VALID False\n",
      "loss 9.351035118103027\n"
     ]
    },
    {
     "name": "stderr",
     "output_type": "stream",
     "text": [
      "loss 7.640926361083984:  96%|█████████▌| 4812/5000 [01:33<00:03, 51.57it/s] "
     ]
    },
    {
     "name": "stdout",
     "output_type": "stream",
     "text": [
      "\n",
      "TARGET aaaaaaabbabbbbbbabab | IS_VALID True\n",
      "PRED aaaaaaabbbbbbbbbbbbb | IS_VALID False\n",
      "loss 7.640926361083984\n"
     ]
    },
    {
     "name": "stderr",
     "output_type": "stream",
     "text": [
      "loss 9.872668266296387:  98%|█████████▊| 4909/5000 [01:35<00:01, 62.14it/s]"
     ]
    },
    {
     "name": "stdout",
     "output_type": "stream",
     "text": [
      "\n",
      "TARGET aaaaaabababababbbbbb | IS_VALID True\n",
      "PRED aaaaaaabbbbbbbbbbbbb | IS_VALID False\n",
      "loss 9.872668266296387\n"
     ]
    },
    {
     "name": "stderr",
     "output_type": "stream",
     "text": [
      "loss 6.71006441116333: 100%|██████████| 5000/5000 [01:36<00:00, 51.89it/s] \n"
     ]
    },
    {
     "name": "stdout",
     "output_type": "stream",
     "text": [
      "\n"
     ]
    },
    {
     "name": "stderr",
     "output_type": "stream",
     "text": [
      "loss 6.576465129852295:   0%|          | 7/5000 [00:00<01:33, 53.14it/s]"
     ]
    },
    {
     "name": "stdout",
     "output_type": "stream",
     "text": [
      "\n",
      "TARGET aaaaaaaabbbbbbabbbba | IS_VALID True\n",
      "PRED aaaaaaabbbbbbbbbbbbb | IS_VALID False\n",
      "loss 6.576465129852295\n"
     ]
    },
    {
     "name": "stderr",
     "output_type": "stream",
     "text": [
      "loss 12.919867515563965:   2%|▏         | 105/5000 [00:01<01:19, 61.63it/s]"
     ]
    },
    {
     "name": "stdout",
     "output_type": "stream",
     "text": [
      "\n",
      "TARGET aaaabaabbbababbbbbaa | IS_VALID True\n",
      "PRED aaaaaabbbbbbbbbbbbbb | IS_VALID False\n",
      "loss 12.919867515563965\n"
     ]
    },
    {
     "name": "stderr",
     "output_type": "stream",
     "text": [
      "loss 10.658400535583496:   4%|▍         | 206/5000 [00:03<01:16, 62.77it/s]"
     ]
    },
    {
     "name": "stdout",
     "output_type": "stream",
     "text": [
      "\n",
      "TARGET aaaaaabbbbbaababbbba | IS_VALID True\n",
      "PRED aaaabbbbbbbbbbbbbbbb | IS_VALID False\n",
      "loss 10.658400535583496\n"
     ]
    },
    {
     "name": "stderr",
     "output_type": "stream",
     "text": [
      "loss 10.798050880432129:   6%|▌         | 311/5000 [00:05<01:25, 54.96it/s]"
     ]
    },
    {
     "name": "stdout",
     "output_type": "stream",
     "text": [
      "\n",
      "TARGET aaaabaabbbbbaaabbabb | IS_VALID True\n",
      "PRED aaaabbbbbbbbbbbbbbbb | IS_VALID False\n",
      "loss 10.798050880432129\n"
     ]
    },
    {
     "name": "stderr",
     "output_type": "stream",
     "text": [
      "loss 10.986551284790039:   8%|▊         | 411/5000 [00:07<01:26, 53.14it/s]"
     ]
    },
    {
     "name": "stdout",
     "output_type": "stream",
     "text": [
      "\n",
      "TARGET aaaababababbbbabaabb | IS_VALID True\n",
      "PRED aaaabbbbbbbbbbbbbbbb | IS_VALID False\n",
      "loss 10.986551284790039\n"
     ]
    },
    {
     "name": "stderr",
     "output_type": "stream",
     "text": [
      "loss 11.68371295928955:  10%|█         | 510/5000 [00:09<01:19, 56.43it/s] "
     ]
    },
    {
     "name": "stdout",
     "output_type": "stream",
     "text": [
      "\n",
      "TARGET aaabbabaaabaababbbbb | IS_VALID True\n",
      "PRED aaabbbbbbbbbbbbbbbbb | IS_VALID False\n",
      "loss 11.68371295928955\n"
     ]
    },
    {
     "name": "stderr",
     "output_type": "stream",
     "text": [
      "loss 11.686046600341797:  12%|█▏        | 608/5000 [00:10<01:15, 58.21it/s]"
     ]
    },
    {
     "name": "stdout",
     "output_type": "stream",
     "text": [
      "\n",
      "TARGET aaabbbabbbaababbbaaa | IS_VALID True\n",
      "PRED aaabbbbbbbbbbbbbbbbb | IS_VALID False\n",
      "loss 11.686046600341797\n"
     ]
    },
    {
     "name": "stderr",
     "output_type": "stream",
     "text": [
      "loss 11.461624145507812:  14%|█▍        | 709/5000 [00:12<01:12, 59.46it/s]"
     ]
    },
    {
     "name": "stdout",
     "output_type": "stream",
     "text": [
      "\n",
      "TARGET aaaaabbaabbbbbbbaaab | IS_VALID True\n",
      "PRED aaabbbbbbbbbbbbbbbbb | IS_VALID False\n",
      "loss 11.461624145507812\n"
     ]
    },
    {
     "name": "stderr",
     "output_type": "stream",
     "text": [
      "loss 11.672161102294922:  16%|█▌        | 810/5000 [00:14<01:14, 55.88it/s]"
     ]
    },
    {
     "name": "stdout",
     "output_type": "stream",
     "text": [
      "\n",
      "TARGET aaabaabaaababbbbbabb | IS_VALID True\n",
      "PRED aaabbbbbbbbbbbbbbbbb | IS_VALID False\n",
      "loss 11.672161102294922\n"
     ]
    },
    {
     "name": "stderr",
     "output_type": "stream",
     "text": [
      "loss 10.996116638183594:  18%|█▊        | 910/5000 [00:16<01:18, 51.80it/s]"
     ]
    },
    {
     "name": "stdout",
     "output_type": "stream",
     "text": [
      "\n",
      "TARGET aaaaabbbabbababababb | IS_VALID True\n",
      "PRED aaaabbbbbbbbbbbbbbbb | IS_VALID False\n",
      "loss 10.996116638183594\n"
     ]
    },
    {
     "name": "stderr",
     "output_type": "stream",
     "text": [
      "loss 10.753231048583984:  20%|██        | 1008/5000 [00:18<01:20, 49.39it/s]"
     ]
    },
    {
     "name": "stdout",
     "output_type": "stream",
     "text": [
      "\n",
      "TARGET aaaabbbbbabaabbbabaa | IS_VALID True\n",
      "PRED aaaabbbbbbbbbbbbbbbb | IS_VALID False\n",
      "loss 10.753231048583984\n"
     ]
    },
    {
     "name": "stderr",
     "output_type": "stream",
     "text": [
      "loss 9.74445629119873:  22%|██▏       | 1108/5000 [00:20<01:14, 52.20it/s]  "
     ]
    },
    {
     "name": "stdout",
     "output_type": "stream",
     "text": [
      "\n",
      "TARGET aaaaaabababbbbbabbab | IS_VALID True\n",
      "PRED aaaaabbbbbbbbbbbbbbb | IS_VALID False\n",
      "loss 9.74445629119873\n"
     ]
    },
    {
     "name": "stderr",
     "output_type": "stream",
     "text": [
      "loss 9.45804214477539:  24%|██▍       | 1206/5000 [00:21<01:17, 48.66it/s]  "
     ]
    },
    {
     "name": "stdout",
     "output_type": "stream",
     "text": [
      "\n",
      "TARGET aaaaaabbabbababbbbab | IS_VALID True\n",
      "PRED aaaaabbbbbbbbbbbbbbb | IS_VALID False\n",
      "loss 9.45804214477539\n"
     ]
    },
    {
     "name": "stderr",
     "output_type": "stream",
     "text": [
      "loss 9.632019996643066:  26%|██▌       | 1304/5000 [00:23<00:58, 63.67it/s] "
     ]
    },
    {
     "name": "stdout",
     "output_type": "stream",
     "text": [
      "\n",
      "TARGET aaaaaabababbababbbbb | IS_VALID True\n",
      "PRED aaaaabbbbbbbbbbbbbbb | IS_VALID False\n",
      "loss 9.632019996643066\n"
     ]
    },
    {
     "name": "stderr",
     "output_type": "stream",
     "text": [
      "loss 8.293359756469727:  28%|██▊       | 1411/5000 [00:25<00:49, 72.62it/s]"
     ]
    },
    {
     "name": "stdout",
     "output_type": "stream",
     "text": [
      "\n",
      "TARGET aaaaaaabbbbbbbababab | IS_VALID True\n",
      "PRED aaaaaabbbbbbbbbbbbbb | IS_VALID False\n",
      "loss 8.293359756469727\n"
     ]
    },
    {
     "name": "stderr",
     "output_type": "stream",
     "text": [
      "loss 12.678954124450684:  30%|███       | 1512/5000 [00:26<00:50, 68.97it/s]"
     ]
    },
    {
     "name": "stdout",
     "output_type": "stream",
     "text": [
      "\n",
      "TARGET aaaaababbbbabbbbaaba | IS_VALID True\n",
      "PRED aaaaaaabbbbbbbbbbbbb | IS_VALID False\n",
      "loss 12.678954124450684\n"
     ]
    },
    {
     "name": "stderr",
     "output_type": "stream",
     "text": [
      "loss 8.744120597839355:  32%|███▏      | 1608/5000 [00:28<00:55, 60.62it/s] "
     ]
    },
    {
     "name": "stdout",
     "output_type": "stream",
     "text": [
      "\n",
      "TARGET aaaaaababbbbaabbabbb | IS_VALID True\n",
      "PRED aaaaaabbbbbbbbbbbbbb | IS_VALID False\n",
      "loss 8.744120597839355\n"
     ]
    },
    {
     "name": "stderr",
     "output_type": "stream",
     "text": [
      "loss 10.046284675598145:  34%|███▍      | 1708/5000 [00:30<01:01, 53.88it/s]"
     ]
    },
    {
     "name": "stdout",
     "output_type": "stream",
     "text": [
      "\n",
      "TARGET aaaaabbababbbbaabbab | IS_VALID True\n",
      "PRED aaaaaabbbbbbbbbbbbbb | IS_VALID False\n",
      "loss 10.046284675598145\n"
     ]
    },
    {
     "name": "stderr",
     "output_type": "stream",
     "text": [
      "loss 9.56550407409668:  36%|███▌      | 1808/5000 [00:31<00:54, 58.30it/s]  "
     ]
    },
    {
     "name": "stdout",
     "output_type": "stream",
     "text": [
      "\n",
      "TARGET aaaaaaaabbbabbabbbbb | IS_VALID True\n",
      "PRED aaaaabbbbbbbbbbbbbbb | IS_VALID False\n",
      "loss 9.56550407409668\n"
     ]
    },
    {
     "name": "stderr",
     "output_type": "stream",
     "text": [
      "loss 9.709251403808594:  38%|███▊      | 1912/5000 [00:33<00:52, 58.84it/s]"
     ]
    },
    {
     "name": "stdout",
     "output_type": "stream",
     "text": [
      "\n",
      "TARGET aaaaabbabbbabbaabbab | IS_VALID True\n",
      "PRED aaaaabbbbbbbbbbbbbbb | IS_VALID False\n",
      "loss 9.709251403808594\n"
     ]
    },
    {
     "name": "stderr",
     "output_type": "stream",
     "text": [
      "loss 8.376261711120605:  40%|████      | 2006/5000 [00:35<00:53, 56.16it/s] "
     ]
    },
    {
     "name": "stdout",
     "output_type": "stream",
     "text": [
      "\n",
      "TARGET aaaaaaababbabbbbabbb | IS_VALID True\n",
      "PRED aaaaaabbbbbbbbbbbbbb | IS_VALID False\n",
      "loss 8.376261711120605\n"
     ]
    },
    {
     "name": "stderr",
     "output_type": "stream",
     "text": [
      "loss 8.546496391296387:  42%|████▏     | 2111/5000 [00:36<00:52, 54.84it/s] "
     ]
    },
    {
     "name": "stdout",
     "output_type": "stream",
     "text": [
      "\n",
      "TARGET aaaaaababbbaabbbbbab | IS_VALID True\n",
      "PRED aaaaaabbbbbbbbbbbbbb | IS_VALID False\n",
      "loss 8.546496391296387\n"
     ]
    },
    {
     "name": "stderr",
     "output_type": "stream",
     "text": [
      "loss 9.720762252807617:  44%|████▍     | 2208/5000 [00:38<00:39, 71.33it/s] "
     ]
    },
    {
     "name": "stdout",
     "output_type": "stream",
     "text": [
      "\n",
      "TARGET aaaaabaabbaabbbbabbb | IS_VALID True\n",
      "PRED aaaaabbbbbbbbbbbbbbb | IS_VALID False\n",
      "loss 9.720762252807617\n"
     ]
    },
    {
     "name": "stderr",
     "output_type": "stream",
     "text": [
      "loss 12.349578857421875:  46%|████▋     | 2314/5000 [00:40<00:45, 59.15it/s]"
     ]
    },
    {
     "name": "stdout",
     "output_type": "stream",
     "text": [
      "\n",
      "TARGET aaaabbbaaaabbbabbbba | IS_VALID True\n",
      "PRED aaaaabbbbbbbbbbbbbbb | IS_VALID False\n",
      "loss 12.349578857421875\n"
     ]
    },
    {
     "name": "stderr",
     "output_type": "stream",
     "text": [
      "loss 10.689533233642578:  48%|████▊     | 2407/5000 [00:41<00:41, 62.03it/s]"
     ]
    },
    {
     "name": "stdout",
     "output_type": "stream",
     "text": [
      "\n",
      "TARGET aaaabababaabbabbbbab | IS_VALID True\n",
      "PRED aaaabbbbbbbbbbbbbbbb | IS_VALID False\n",
      "loss 10.689533233642578\n"
     ]
    },
    {
     "name": "stderr",
     "output_type": "stream",
     "text": [
      "loss 9.72632884979248:  50%|█████     | 2512/5000 [00:43<00:42, 58.63it/s]  "
     ]
    },
    {
     "name": "stdout",
     "output_type": "stream",
     "text": [
      "\n",
      "TARGET aaaaabbbbbababaabbab | IS_VALID True\n",
      "PRED aaaaabbbbbbbbbbbbbbb | IS_VALID False\n",
      "loss 9.72632884979248\n"
     ]
    },
    {
     "name": "stderr",
     "output_type": "stream",
     "text": [
      "loss 8.858837127685547:  52%|█████▏    | 2607/5000 [00:45<00:36, 65.98it/s]"
     ]
    },
    {
     "name": "stdout",
     "output_type": "stream",
     "text": [
      "\n",
      "TARGET aaaaaaabbabbabbbbbab | IS_VALID True\n",
      "PRED aaaaaabbbbbbbbbbbbbb | IS_VALID False\n",
      "loss 8.858837127685547\n"
     ]
    },
    {
     "name": "stderr",
     "output_type": "stream",
     "text": [
      "loss 5.753631591796875:  54%|█████▍    | 2711/5000 [00:46<00:31, 73.46it/s]"
     ]
    },
    {
     "name": "stdout",
     "output_type": "stream",
     "text": [
      "\n",
      "TARGET aaaaaaaababbbbabbbbb | IS_VALID True\n",
      "PRED aaaaaaaabbbbbbbbbbbb | IS_VALID False\n",
      "loss 5.753631591796875\n"
     ]
    },
    {
     "name": "stderr",
     "output_type": "stream",
     "text": [
      "loss 6.915733337402344:  56%|█████▌    | 2808/5000 [00:48<00:35, 61.93it/s]"
     ]
    },
    {
     "name": "stdout",
     "output_type": "stream",
     "text": [
      "\n",
      "TARGET aaaaaaaabbbbabbbabbb | IS_VALID True\n",
      "PRED aaaaaaabbbbbbbbbbbbb | IS_VALID False\n",
      "loss 6.915733337402344\n"
     ]
    },
    {
     "name": "stderr",
     "output_type": "stream",
     "text": [
      "loss 6.563383102416992:  58%|█████▊    | 2905/5000 [00:49<00:32, 63.87it/s] "
     ]
    },
    {
     "name": "stdout",
     "output_type": "stream",
     "text": [
      "\n",
      "TARGET aaaaaaaabbbababbbbbb | IS_VALID True\n",
      "PRED aaaaaaaaabbbbbbbbbbb | IS_VALID False\n",
      "loss 6.563383102416992\n"
     ]
    },
    {
     "name": "stderr",
     "output_type": "stream",
     "text": [
      "loss 4.288351058959961:  60%|██████    | 3007/5000 [00:51<00:27, 73.57it/s] "
     ]
    },
    {
     "name": "stdout",
     "output_type": "stream",
     "text": [
      "\n",
      "TARGET aaaaaaaaabbbbbabbbbb | IS_VALID True\n",
      "PRED aaaaaaaabbbbbbbbbbbb | IS_VALID False\n",
      "loss 4.288351058959961\n"
     ]
    },
    {
     "name": "stderr",
     "output_type": "stream",
     "text": [
      "loss 3.6460940837860107:  62%|██████▏   | 3110/5000 [00:52<00:23, 82.14it/s]"
     ]
    },
    {
     "name": "stdout",
     "output_type": "stream",
     "text": [
      "\n",
      "TARGET aaaaaaaaabbbabbbbbbb | IS_VALID True\n",
      "PRED aaaaaaaaabbbbbbbbbbb | IS_VALID False\n",
      "loss 3.6460940837860107\n"
     ]
    },
    {
     "name": "stderr",
     "output_type": "stream",
     "text": [
      "loss 3.6215524673461914:  64%|██████▍   | 3210/5000 [00:53<00:22, 81.17it/s]"
     ]
    },
    {
     "name": "stdout",
     "output_type": "stream",
     "text": [
      "\n",
      "TARGET aaaaaaaaabbabbbbbbbb | IS_VALID True\n",
      "PRED aaaaaaaaabbbbbbbbbbb | IS_VALID False\n",
      "loss 3.6215524673461914\n"
     ]
    },
    {
     "name": "stderr",
     "output_type": "stream",
     "text": [
      "loss 6.480281352996826:  66%|██████▌   | 3309/5000 [00:55<00:20, 82.42it/s] "
     ]
    },
    {
     "name": "stdout",
     "output_type": "stream",
     "text": [
      "\n",
      "TARGET aaaaaaaabbbbbbabbbba | IS_VALID True\n",
      "PRED aaaaaaabbbbbbbbbbbbb | IS_VALID False\n",
      "loss 6.480281352996826\n"
     ]
    },
    {
     "name": "stderr",
     "output_type": "stream",
     "text": [
      "loss 7.443695068359375:  68%|██████▊   | 3406/5000 [00:56<00:28, 55.74it/s]"
     ]
    },
    {
     "name": "stdout",
     "output_type": "stream",
     "text": [
      "\n",
      "TARGET aaaaaaabbbbbbbbbaaab | IS_VALID True\n",
      "PRED aaaaaaabbbbbbbbbbbbb | IS_VALID False\n",
      "loss 7.443695068359375\n"
     ]
    },
    {
     "name": "stderr",
     "output_type": "stream",
     "text": [
      "loss 7.3462066650390625:  70%|███████   | 3512/5000 [00:58<00:22, 67.01it/s]"
     ]
    },
    {
     "name": "stdout",
     "output_type": "stream",
     "text": [
      "\n",
      "TARGET aaaaaaabbbbbbbbbaaba | IS_VALID True\n",
      "PRED aaaaaaabbbbbbbbbbbbb | IS_VALID False\n",
      "loss 7.3462066650390625\n"
     ]
    },
    {
     "name": "stderr",
     "output_type": "stream",
     "text": [
      "loss 7.886553764343262:  72%|███████▏  | 3610/5000 [01:00<00:21, 65.29it/s] "
     ]
    },
    {
     "name": "stdout",
     "output_type": "stream",
     "text": [
      "\n",
      "TARGET aaaaaaaabbabbbbbabbb | IS_VALID True\n",
      "PRED aaaaaabbbbbbbbbbbbbb | IS_VALID False\n",
      "loss 7.886553764343262\n"
     ]
    },
    {
     "name": "stderr",
     "output_type": "stream",
     "text": [
      "loss 8.007560729980469:  74%|███████▍  | 3710/5000 [01:01<00:20, 62.12it/s]"
     ]
    },
    {
     "name": "stdout",
     "output_type": "stream",
     "text": [
      "\n",
      "TARGET aaaaaaaabbbbbbbbabab | IS_VALID True\n",
      "PRED aaaaaabbbbbbbbbbbbbb | IS_VALID False\n",
      "loss 8.007560729980469\n"
     ]
    },
    {
     "name": "stderr",
     "output_type": "stream",
     "text": [
      "loss 8.679834365844727:  76%|███████▌  | 3812/5000 [01:03<00:17, 67.76it/s]"
     ]
    },
    {
     "name": "stdout",
     "output_type": "stream",
     "text": [
      "\n",
      "TARGET aaaaaabbabbababbbbba | IS_VALID True\n",
      "PRED aaaaaabbbbbbbbbbbbbb | IS_VALID False\n",
      "loss 8.679834365844727\n"
     ]
    },
    {
     "name": "stderr",
     "output_type": "stream",
     "text": [
      "loss 8.692977905273438:  78%|███████▊  | 3908/5000 [01:04<00:16, 67.21it/s]"
     ]
    },
    {
     "name": "stdout",
     "output_type": "stream",
     "text": [
      "\n",
      "TARGET aaaaaabbabababbbbbba | IS_VALID True\n",
      "PRED aaaaaabbbbbbbbbbbbbb | IS_VALID False\n",
      "loss 8.692977905273438\n"
     ]
    },
    {
     "name": "stderr",
     "output_type": "stream",
     "text": [
      "loss 7.271552562713623:  80%|████████  | 4015/5000 [01:06<00:13, 70.72it/s]"
     ]
    },
    {
     "name": "stdout",
     "output_type": "stream",
     "text": [
      "\n",
      "TARGET aaaaaaaababbbabbbbbb | IS_VALID True\n",
      "PRED aaaaaaabbbbbbbbbbbbb | IS_VALID False\n",
      "loss 7.271552562713623\n"
     ]
    },
    {
     "name": "stderr",
     "output_type": "stream",
     "text": [
      "loss 1.177972435951233:  82%|████████▏ | 4111/5000 [01:07<00:12, 73.84it/s]"
     ]
    },
    {
     "name": "stdout",
     "output_type": "stream",
     "text": [
      "\n",
      "TARGET aaaaaaaaaabbbbbbbbbb | IS_VALID True\n",
      "PRED aaaaaaaaaabbbbbbbbbb | IS_VALID True\n",
      "loss 1.177972435951233\n"
     ]
    },
    {
     "name": "stderr",
     "output_type": "stream",
     "text": [
      "loss 0.34442946314811707:  84%|████████▍ | 4217/5000 [01:08<00:07, 102.31it/s]"
     ]
    },
    {
     "name": "stdout",
     "output_type": "stream",
     "text": [
      "\n",
      "TARGET aaaaaaaaaabbbbbbbbbb | IS_VALID True\n",
      "PRED aaaaaaaaaabbbbbbbbbb | IS_VALID True\n",
      "loss 0.3621271848678589\n"
     ]
    },
    {
     "name": "stderr",
     "output_type": "stream",
     "text": [
      "loss 0.21687203645706177:  86%|████████▋ | 4322/5000 [01:09<00:05, 113.45it/s]"
     ]
    },
    {
     "name": "stdout",
     "output_type": "stream",
     "text": [
      "\n",
      "TARGET aaaaaaaaaabbbbbbbbbb | IS_VALID True\n",
      "PRED aaaaaaaaaabbbbbbbbbb | IS_VALID True\n",
      "loss 0.23751316964626312\n"
     ]
    },
    {
     "name": "stderr",
     "output_type": "stream",
     "text": [
      "loss 0.17366033792495728:  88%|████████▊ | 4419/5000 [01:10<00:05, 114.77it/s]"
     ]
    },
    {
     "name": "stdout",
     "output_type": "stream",
     "text": [
      "\n",
      "TARGET aaaaaaaaaabbbbbbbbbb | IS_VALID True\n",
      "PRED aaaaaaaaaabbbbbbbbbb | IS_VALID True\n",
      "loss 0.19515012204647064\n"
     ]
    },
    {
     "name": "stderr",
     "output_type": "stream",
     "text": [
      "loss 0.13675709068775177:  90%|█████████ | 4518/5000 [01:11<00:04, 117.12it/s]"
     ]
    },
    {
     "name": "stdout",
     "output_type": "stream",
     "text": [
      "\n",
      "TARGET aaaaaaaaaabbbbbbbbbb | IS_VALID True\n",
      "PRED aaaaaaaaaabbbbbbbbbb | IS_VALID True\n",
      "loss 0.14726440608501434\n"
     ]
    },
    {
     "name": "stderr",
     "output_type": "stream",
     "text": [
      "loss 10.361542701721191:  92%|█████████▏| 4617/5000 [01:12<00:03, 118.30it/s] "
     ]
    },
    {
     "name": "stdout",
     "output_type": "stream",
     "text": [
      "\n",
      "TARGET aaaaaaaaaabbbbbbbbbb | IS_VALID True\n",
      "PRED aaaaaaaaaabbbbbbbbbb | IS_VALID True\n",
      "loss 0.1279984712600708\n"
     ]
    },
    {
     "name": "stderr",
     "output_type": "stream",
     "text": [
      "loss 0.10341481864452362:  94%|█████████▍| 4715/5000 [01:13<00:02, 117.24it/s]"
     ]
    },
    {
     "name": "stdout",
     "output_type": "stream",
     "text": [
      "\n",
      "TARGET aaaaaaaaaabbbbbbbbbb | IS_VALID True\n",
      "PRED aaaaaaaaaabbbbbbbbbb | IS_VALID True\n",
      "loss 0.10766055434942245\n"
     ]
    },
    {
     "name": "stderr",
     "output_type": "stream",
     "text": [
      "loss 0.09210120141506195:  96%|█████████▋| 4817/5000 [01:14<00:01, 119.22it/s]"
     ]
    },
    {
     "name": "stdout",
     "output_type": "stream",
     "text": [
      "\n",
      "TARGET aaaaaaaaaabbbbbbbbbb | IS_VALID True\n",
      "PRED aaaaaaaaaabbbbbbbbbb | IS_VALID True\n",
      "loss 0.09265118837356567\n"
     ]
    },
    {
     "name": "stderr",
     "output_type": "stream",
     "text": [
      "loss 0.0743565633893013:  98%|█████████▊| 4920/5000 [01:14<00:00, 120.57it/s] "
     ]
    },
    {
     "name": "stdout",
     "output_type": "stream",
     "text": [
      "\n",
      "TARGET aaaaaaaaaabbbbbbbbbb | IS_VALID True\n",
      "PRED aaaaaaaaaabbbbbbbbbb | IS_VALID True\n",
      "loss 0.08333981782197952\n"
     ]
    },
    {
     "name": "stderr",
     "output_type": "stream",
     "text": [
      "loss 0.06903284788131714: 100%|██████████| 5000/5000 [01:15<00:00, 66.21it/s] \n"
     ]
    },
    {
     "name": "stdout",
     "output_type": "stream",
     "text": [
      "\n"
     ]
    },
    {
     "name": "stderr",
     "output_type": "stream",
     "text": [
      "loss 0.06662608683109283:   0%|          | 12/5000 [00:00<00:43, 114.92it/s]"
     ]
    },
    {
     "name": "stdout",
     "output_type": "stream",
     "text": [
      "\n",
      "TARGET aaaaaaaaaabbbbbbbbbb | IS_VALID True\n",
      "PRED aaaaaaaaaabbbbbbbbbb | IS_VALID True\n",
      "loss 0.06557310372591019\n"
     ]
    },
    {
     "name": "stderr",
     "output_type": "stream",
     "text": [
      "loss 0.06313411891460419:   2%|▏         | 112/5000 [00:01<00:40, 120.86it/s] "
     ]
    },
    {
     "name": "stdout",
     "output_type": "stream",
     "text": [
      "\n",
      "TARGET aaaaaaaaaabbbbbbbbbb | IS_VALID True\n",
      "PRED aaaaaaaaaabbbbbbbbbb | IS_VALID True\n",
      "loss 0.061213187873363495\n"
     ]
    },
    {
     "name": "stderr",
     "output_type": "stream",
     "text": [
      "loss 0.05123640596866608:   4%|▍         | 216/5000 [00:01<00:39, 120.08it/s]"
     ]
    },
    {
     "name": "stdout",
     "output_type": "stream",
     "text": [
      "\n",
      "TARGET aaaaaaaaaabbbbbbbbbb | IS_VALID True\n",
      "PRED aaaaaaaaaabbbbbbbbbb | IS_VALID True\n",
      "loss 0.05436752736568451\n"
     ]
    },
    {
     "name": "stderr",
     "output_type": "stream",
     "text": [
      "loss 0.04638746380805969:   6%|▋         | 319/5000 [00:02<00:39, 117.77it/s] "
     ]
    },
    {
     "name": "stdout",
     "output_type": "stream",
     "text": [
      "\n",
      "TARGET aaaaaaaaaabbbbbbbbbb | IS_VALID True\n",
      "PRED aaaaaaaaaabbbbbbbbbb | IS_VALID True\n",
      "loss 0.04856318235397339\n"
     ]
    },
    {
     "name": "stderr",
     "output_type": "stream",
     "text": [
      "loss 0.046386584639549255:   8%|▊         | 423/5000 [00:03<00:38, 119.73it/s]"
     ]
    },
    {
     "name": "stdout",
     "output_type": "stream",
     "text": [
      "\n",
      "TARGET aaaaaaaaaabbbbbbbbbb | IS_VALID True\n",
      "PRED aaaaaaaaaabbbbbbbbbb | IS_VALID True\n",
      "loss 0.04256622865796089\n"
     ]
    },
    {
     "name": "stderr",
     "output_type": "stream",
     "text": [
      "loss 0.036578208208084106:  10%|█         | 514/5000 [00:04<00:36, 121.90it/s]"
     ]
    },
    {
     "name": "stdout",
     "output_type": "stream",
     "text": [
      "\n",
      "TARGET aaaaaaaaaabbbbbbbbbb | IS_VALID True\n",
      "PRED aaaaaaaaaabbbbbbbbbb | IS_VALID True\n",
      "loss 0.04114660620689392\n"
     ]
    },
    {
     "name": "stderr",
     "output_type": "stream",
     "text": [
      "loss 0.0336802676320076:  12%|█▏        | 617/5000 [00:05<00:36, 120.06it/s]  "
     ]
    },
    {
     "name": "stdout",
     "output_type": "stream",
     "text": [
      "\n",
      "TARGET aaaaaaaaaabbbbbbbbbb | IS_VALID True\n",
      "PRED aaaaaaaaaabbbbbbbbbb | IS_VALID True\n",
      "loss 0.03544679284095764\n"
     ]
    },
    {
     "name": "stderr",
     "output_type": "stream",
     "text": [
      "loss 0.031439002603292465:  14%|█▍        | 720/5000 [00:06<00:35, 121.70it/s]"
     ]
    },
    {
     "name": "stdout",
     "output_type": "stream",
     "text": [
      "\n",
      "TARGET aaaaaaaaaabbbbbbbbbb | IS_VALID True\n",
      "PRED aaaaaaaaaabbbbbbbbbb | IS_VALID True\n",
      "loss 0.03159722313284874\n"
     ]
    },
    {
     "name": "stderr",
     "output_type": "stream",
     "text": [
      "loss 0.02977241389453411:  16%|█▋        | 824/5000 [00:06<00:34, 121.63it/s] "
     ]
    },
    {
     "name": "stdout",
     "output_type": "stream",
     "text": [
      "\n",
      "TARGET aaaaaaaaaabbbbbbbbbb | IS_VALID True\n",
      "PRED aaaaaaaaaabbbbbbbbbb | IS_VALID True\n",
      "loss 0.03056219220161438\n"
     ]
    },
    {
     "name": "stderr",
     "output_type": "stream",
     "text": [
      "loss 0.02950422279536724:  18%|█▊        | 915/5000 [00:07<00:33, 122.60it/s] "
     ]
    },
    {
     "name": "stdout",
     "output_type": "stream",
     "text": [
      "\n",
      "TARGET aaaaaaaaaabbbbbbbbbb | IS_VALID True\n",
      "PRED aaaaaaaaaabbbbbbbbbb | IS_VALID True\n",
      "loss 0.026487698778510094\n"
     ]
    },
    {
     "name": "stderr",
     "output_type": "stream",
     "text": [
      "loss 0.0280764102935791:  20%|██        | 1019/5000 [00:08<00:32, 121.09it/s] "
     ]
    },
    {
     "name": "stdout",
     "output_type": "stream",
     "text": [
      "\n",
      "TARGET aaaaaaaaaabbbbbbbbbb | IS_VALID True\n",
      "PRED aaaaaaaaaabbbbbbbbbb | IS_VALID True\n",
      "loss 0.02431938610970974\n"
     ]
    },
    {
     "name": "stderr",
     "output_type": "stream",
     "text": [
      "loss 0.021654389798641205:  22%|██▏       | 1123/5000 [00:09<00:31, 122.23it/s]"
     ]
    },
    {
     "name": "stdout",
     "output_type": "stream",
     "text": [
      "\n",
      "TARGET aaaaaaaaaabbbbbbbbbb | IS_VALID True\n",
      "PRED aaaaaaaaaabbbbbbbbbb | IS_VALID True\n",
      "loss 0.022552479058504105\n"
     ]
    },
    {
     "name": "stderr",
     "output_type": "stream",
     "text": [
      "loss 0.020337581634521484:  24%|██▍       | 1214/5000 [00:10<00:31, 122.01it/s]"
     ]
    },
    {
     "name": "stdout",
     "output_type": "stream",
     "text": [
      "\n",
      "TARGET aaaaaaaaaabbbbbbbbbb | IS_VALID True\n",
      "PRED aaaaaaaaaabbbbbbbbbb | IS_VALID True\n",
      "loss 0.02615674026310444\n"
     ]
    },
    {
     "name": "stderr",
     "output_type": "stream",
     "text": [
      "loss 0.020898915827274323:  26%|██▋       | 1318/5000 [00:10<00:30, 120.93it/s]"
     ]
    },
    {
     "name": "stdout",
     "output_type": "stream",
     "text": [
      "\n",
      "TARGET aaaaaaaaaabbbbbbbbbb | IS_VALID True\n",
      "PRED aaaaaaaaaabbbbbbbbbb | IS_VALID True\n",
      "loss 0.018666110932826996\n"
     ]
    },
    {
     "name": "stderr",
     "output_type": "stream",
     "text": [
      "loss 0.017474869266152382:  28%|██▊       | 1422/5000 [00:11<00:29, 121.82it/s]"
     ]
    },
    {
     "name": "stdout",
     "output_type": "stream",
     "text": [
      "\n",
      "TARGET aaaaaaaaaabbbbbbbbbb | IS_VALID True\n",
      "PRED aaaaaaaaaabbbbbbbbbb | IS_VALID True\n",
      "loss 0.018173346295952797\n"
     ]
    },
    {
     "name": "stderr",
     "output_type": "stream",
     "text": [
      "loss 0.01860828697681427:  30%|███       | 1513/5000 [00:12<00:28, 121.48it/s] "
     ]
    },
    {
     "name": "stdout",
     "output_type": "stream",
     "text": [
      "\n",
      "TARGET aaaaaaaaaabbbbbbbbbb | IS_VALID True\n",
      "PRED aaaaaaaaaabbbbbbbbbb | IS_VALID True\n",
      "loss 0.015932472422719002\n"
     ]
    },
    {
     "name": "stderr",
     "output_type": "stream",
     "text": [
      "loss 0.015141296200454235:  32%|███▏      | 1617/5000 [00:13<00:27, 121.54it/s]"
     ]
    },
    {
     "name": "stdout",
     "output_type": "stream",
     "text": [
      "\n",
      "TARGET aaaaaaaaaabbbbbbbbbb | IS_VALID True\n",
      "PRED aaaaaaaaaabbbbbbbbbb | IS_VALID True\n",
      "loss 0.014958104118704796\n"
     ]
    },
    {
     "name": "stderr",
     "output_type": "stream",
     "text": [
      "loss 0.013699958100914955:  34%|███▍      | 1721/5000 [00:14<00:26, 121.72it/s]"
     ]
    },
    {
     "name": "stdout",
     "output_type": "stream",
     "text": [
      "\n",
      "TARGET aaaaaaaaaabbbbbbbbbb | IS_VALID True\n",
      "PRED aaaaaaaaaabbbbbbbbbb | IS_VALID True\n",
      "loss 0.014662742614746094\n"
     ]
    },
    {
     "name": "stderr",
     "output_type": "stream",
     "text": [
      "loss 0.01285252533853054:  36%|███▋      | 1825/5000 [00:15<00:25, 122.84it/s] "
     ]
    },
    {
     "name": "stdout",
     "output_type": "stream",
     "text": [
      "\n",
      "TARGET aaaaaaaaaabbbbbbbbbb | IS_VALID True\n",
      "PRED aaaaaaaaaabbbbbbbbbb | IS_VALID True\n",
      "loss 0.014615805819630623\n"
     ]
    },
    {
     "name": "stderr",
     "output_type": "stream",
     "text": [
      "loss 0.012469870038330555:  38%|███▊      | 1916/5000 [00:15<00:25, 121.51it/s]"
     ]
    },
    {
     "name": "stdout",
     "output_type": "stream",
     "text": [
      "\n",
      "TARGET aaaaaaaaaabbbbbbbbbb | IS_VALID True\n",
      "PRED aaaaaaaaaabbbbbbbbbb | IS_VALID True\n",
      "loss 0.012582110241055489\n"
     ]
    },
    {
     "name": "stderr",
     "output_type": "stream",
     "text": [
      "loss 0.011366576887667179:  40%|████      | 2020/5000 [00:16<00:24, 122.25it/s]"
     ]
    },
    {
     "name": "stdout",
     "output_type": "stream",
     "text": [
      "\n",
      "TARGET aaaaaaaaaabbbbbbbbbb | IS_VALID True\n",
      "PRED aaaaaaaaaabbbbbbbbbb | IS_VALID True\n",
      "loss 0.011564714834094048\n"
     ]
    },
    {
     "name": "stderr",
     "output_type": "stream",
     "text": [
      "loss 0.010963681153953075:  42%|████▏     | 2124/5000 [00:17<00:23, 122.15it/s]"
     ]
    },
    {
     "name": "stdout",
     "output_type": "stream",
     "text": [
      "\n",
      "TARGET aaaaaaaaaabbbbbbbbbb | IS_VALID True\n",
      "PRED aaaaaaaaaabbbbbbbbbb | IS_VALID True\n",
      "loss 0.010786830447614193\n"
     ]
    },
    {
     "name": "stderr",
     "output_type": "stream",
     "text": [
      "loss 0.009686341509222984:  44%|████▍     | 2215/5000 [00:18<00:22, 123.05it/s]"
     ]
    },
    {
     "name": "stdout",
     "output_type": "stream",
     "text": [
      "\n",
      "TARGET aaaaaaaaaabbbbbbbbbb | IS_VALID True\n",
      "PRED aaaaaaaaaabbbbbbbbbb | IS_VALID True\n",
      "loss 0.010558763518929482\n"
     ]
    },
    {
     "name": "stderr",
     "output_type": "stream",
     "text": [
      "loss 0.009604674763977528:  46%|████▋     | 2319/5000 [00:19<00:21, 122.17it/s]"
     ]
    },
    {
     "name": "stdout",
     "output_type": "stream",
     "text": [
      "\n",
      "TARGET aaaaaaaaaabbbbbbbbbb | IS_VALID True\n",
      "PRED aaaaaaaaaabbbbbbbbbb | IS_VALID True\n",
      "loss 0.009854641743004322\n"
     ]
    },
    {
     "name": "stderr",
     "output_type": "stream",
     "text": [
      "loss 0.010023115202784538:  48%|████▊     | 2423/5000 [00:19<00:21, 122.68it/s]"
     ]
    },
    {
     "name": "stdout",
     "output_type": "stream",
     "text": [
      "\n",
      "TARGET aaaaaaaaaabbbbbbbbbb | IS_VALID True\n",
      "PRED aaaaaaaaaabbbbbbbbbb | IS_VALID True\n",
      "loss 0.008755228482186794\n"
     ]
    },
    {
     "name": "stderr",
     "output_type": "stream",
     "text": [
      "loss 0.00833942461758852:  50%|█████     | 2514/5000 [00:20<00:20, 122.90it/s] "
     ]
    },
    {
     "name": "stdout",
     "output_type": "stream",
     "text": [
      "\n",
      "TARGET aaaaaaaaaabbbbbbbbbb | IS_VALID True\n",
      "PRED aaaaaaaaaabbbbbbbbbb | IS_VALID True\n",
      "loss 0.008347385562956333\n"
     ]
    },
    {
     "name": "stderr",
     "output_type": "stream",
     "text": [
      "loss 0.007597502786666155:  52%|█████▏    | 2618/5000 [00:21<00:19, 121.62it/s]"
     ]
    },
    {
     "name": "stdout",
     "output_type": "stream",
     "text": [
      "\n",
      "TARGET aaaaaaaaaabbbbbbbbbb | IS_VALID True\n",
      "PRED aaaaaaaaaabbbbbbbbbb | IS_VALID True\n",
      "loss 0.008497119881212711\n"
     ]
    },
    {
     "name": "stderr",
     "output_type": "stream",
     "text": [
      "loss 0.007943665608763695:  54%|█████▍    | 2722/5000 [00:22<00:18, 121.24it/s]"
     ]
    },
    {
     "name": "stdout",
     "output_type": "stream",
     "text": [
      "\n",
      "TARGET aaaaaaaaaabbbbbbbbbb | IS_VALID True\n",
      "PRED aaaaaaaaaabbbbbbbbbb | IS_VALID True\n",
      "loss 0.007200546097010374\n"
     ]
    },
    {
     "name": "stderr",
     "output_type": "stream",
     "text": [
      "loss 0.007000331301242113:  56%|█████▋    | 2813/5000 [00:23<00:18, 121.01it/s]"
     ]
    },
    {
     "name": "stdout",
     "output_type": "stream",
     "text": [
      "\n",
      "TARGET aaaaaaaaaabbbbbbbbbb | IS_VALID True\n",
      "PRED aaaaaaaaaabbbbbbbbbb | IS_VALID True\n",
      "loss 0.006986832246184349\n"
     ]
    },
    {
     "name": "stderr",
     "output_type": "stream",
     "text": [
      "loss 0.006368948146700859:  58%|█████▊    | 2917/5000 [00:24<00:17, 121.99it/s] "
     ]
    },
    {
     "name": "stdout",
     "output_type": "stream",
     "text": [
      "\n",
      "TARGET aaaaaaaaaabbbbbbbbbb | IS_VALID True\n",
      "PRED aaaaaaaaaabbbbbbbbbb | IS_VALID True\n",
      "loss 0.006572008598595858\n"
     ]
    },
    {
     "name": "stderr",
     "output_type": "stream",
     "text": [
      "loss 0.005995897576212883:  60%|██████    | 3021/5000 [00:24<00:16, 119.61it/s]"
     ]
    },
    {
     "name": "stdout",
     "output_type": "stream",
     "text": [
      "\n",
      "TARGET aaaaaaaaaabbbbbbbbbb | IS_VALID True\n",
      "PRED aaaaaaaaaabbbbbbbbbb | IS_VALID True\n",
      "loss 0.005972850136458874\n"
     ]
    },
    {
     "name": "stderr",
     "output_type": "stream",
     "text": [
      "loss 0.005683079827576876:  62%|██████▏   | 3124/5000 [00:25<00:15, 122.65it/s] "
     ]
    },
    {
     "name": "stdout",
     "output_type": "stream",
     "text": [
      "\n",
      "TARGET aaaaaaaaaabbbbbbbbbb | IS_VALID True\n",
      "PRED aaaaaaaaaabbbbbbbbbb | IS_VALID True\n",
      "loss 0.005604839883744717\n"
     ]
    },
    {
     "name": "stderr",
     "output_type": "stream",
     "text": [
      "loss 0.006931785494089127:  64%|██████▍   | 3215/5000 [00:26<00:14, 122.33it/s]"
     ]
    },
    {
     "name": "stdout",
     "output_type": "stream",
     "text": [
      "\n",
      "TARGET aaaaaaaaaabbbbbbbbbb | IS_VALID True\n",
      "PRED aaaaaaaaaabbbbbbbbbb | IS_VALID True\n",
      "loss 0.005592909641563892\n"
     ]
    },
    {
     "name": "stderr",
     "output_type": "stream",
     "text": [
      "loss 0.005220367573201656:  66%|██████▋   | 3319/5000 [00:27<00:13, 123.01it/s]"
     ]
    },
    {
     "name": "stdout",
     "output_type": "stream",
     "text": [
      "\n",
      "TARGET aaaaaaaaaabbbbbbbbbb | IS_VALID True\n",
      "PRED aaaaaaaaaabbbbbbbbbb | IS_VALID True\n",
      "loss 0.005145650822669268\n"
     ]
    },
    {
     "name": "stderr",
     "output_type": "stream",
     "text": [
      "loss 0.004813879728317261:  68%|██████▊   | 3423/5000 [00:28<00:12, 121.45it/s]"
     ]
    },
    {
     "name": "stdout",
     "output_type": "stream",
     "text": [
      "\n",
      "TARGET aaaaaaaaaabbbbbbbbbb | IS_VALID True\n",
      "PRED aaaaaaaaaabbbbbbbbbb | IS_VALID True\n",
      "loss 0.004797222092747688\n"
     ]
    },
    {
     "name": "stderr",
     "output_type": "stream",
     "text": [
      "loss 0.004751852247864008:  70%|███████   | 3514/5000 [00:28<00:12, 122.08it/s]"
     ]
    },
    {
     "name": "stdout",
     "output_type": "stream",
     "text": [
      "\n",
      "TARGET aaaaaaaaaabbbbbbbbbb | IS_VALID True\n",
      "PRED aaaaaaaaaabbbbbbbbbb | IS_VALID True\n",
      "loss 0.004796766676008701\n"
     ]
    },
    {
     "name": "stderr",
     "output_type": "stream",
     "text": [
      "loss 0.004293397534638643:  72%|███████▏  | 3618/5000 [00:29<00:11, 122.12it/s] "
     ]
    },
    {
     "name": "stdout",
     "output_type": "stream",
     "text": [
      "\n",
      "TARGET aaaaaaaaaabbbbbbbbbb | IS_VALID True\n",
      "PRED aaaaaaaaaabbbbbbbbbb | IS_VALID True\n",
      "loss 0.00428776815533638\n"
     ]
    },
    {
     "name": "stderr",
     "output_type": "stream",
     "text": [
      "loss 0.004123487509787083:  74%|███████▍  | 3722/5000 [00:30<00:10, 122.25it/s] "
     ]
    },
    {
     "name": "stdout",
     "output_type": "stream",
     "text": [
      "\n",
      "TARGET aaaaaaaaaabbbbbbbbbb | IS_VALID True\n",
      "PRED aaaaaaaaaabbbbbbbbbb | IS_VALID True\n",
      "loss 0.0039625028148293495\n"
     ]
    },
    {
     "name": "stderr",
     "output_type": "stream",
     "text": [
      "loss 0.003682555165141821:  76%|███████▋  | 3813/5000 [00:31<00:09, 120.01it/s]"
     ]
    },
    {
     "name": "stdout",
     "output_type": "stream",
     "text": [
      "\n",
      "TARGET aaaaaaaaaabbbbbbbbbb | IS_VALID True\n",
      "PRED aaaaaaaaaabbbbbbbbbb | IS_VALID True\n",
      "loss 0.00447245454415679\n"
     ]
    },
    {
     "name": "stderr",
     "output_type": "stream",
     "text": [
      "loss 0.003839530050754547:  78%|███████▊  | 3914/5000 [00:32<00:09, 119.94it/s] "
     ]
    },
    {
     "name": "stdout",
     "output_type": "stream",
     "text": [
      "\n",
      "TARGET aaaaaaaaaabbbbbbbbbb | IS_VALID True\n",
      "PRED aaaaaaaaaabbbbbbbbbb | IS_VALID True\n",
      "loss 0.003611951833590865\n"
     ]
    },
    {
     "name": "stderr",
     "output_type": "stream",
     "text": [
      "loss 0.003377629444003105:  80%|████████  | 4010/5000 [00:33<00:13, 75.58it/s]  "
     ]
    },
    {
     "name": "stdout",
     "output_type": "stream",
     "text": [
      "\n",
      "TARGET aaaaaaaaaabbbbbbbbbb | IS_VALID True\n",
      "PRED aaaaaaaaaabbbbbbbbbb | IS_VALID True\n",
      "loss 0.003377629444003105\n"
     ]
    },
    {
     "name": "stderr",
     "output_type": "stream",
     "text": [
      "loss 0.003141579683870077:  82%|████████▏ | 4108/5000 [00:34<00:07, 116.28it/s] "
     ]
    },
    {
     "name": "stdout",
     "output_type": "stream",
     "text": [
      "\n",
      "TARGET aaaaaaaaaabbbbbbbbbb | IS_VALID True\n",
      "PRED aaaaaaaaaabbbbbbbbbb | IS_VALID True\n",
      "loss 0.003141579683870077\n"
     ]
    },
    {
     "name": "stderr",
     "output_type": "stream",
     "text": [
      "loss 0.003189488546922803:  84%|████████▍ | 4223/5000 [00:35<00:06, 115.06it/s] "
     ]
    },
    {
     "name": "stdout",
     "output_type": "stream",
     "text": [
      "\n",
      "TARGET aaaaaaaaaabbbbbbbbbb | IS_VALID True\n",
      "PRED aaaaaaaaaabbbbbbbbbb | IS_VALID True\n",
      "loss 0.003282425459474325\n"
     ]
    },
    {
     "name": "stderr",
     "output_type": "stream",
     "text": [
      "loss 0.003061584196984768:  86%|████████▋ | 4314/5000 [00:36<00:05, 121.75it/s] "
     ]
    },
    {
     "name": "stdout",
     "output_type": "stream",
     "text": [
      "\n",
      "TARGET aaaaaaaaaabbbbbbbbbb | IS_VALID True\n",
      "PRED aaaaaaaaaabbbbbbbbbb | IS_VALID True\n",
      "loss 0.0028751236386597157\n"
     ]
    },
    {
     "name": "stderr",
     "output_type": "stream",
     "text": [
      "loss 0.0027606477960944176:  88%|████████▊ | 4416/5000 [00:36<00:04, 121.25it/s]"
     ]
    },
    {
     "name": "stdout",
     "output_type": "stream",
     "text": [
      "\n",
      "TARGET aaaaaaaaaabbbbbbbbbb | IS_VALID True\n",
      "PRED aaaaaaaaaabbbbbbbbbb | IS_VALID True\n",
      "loss 0.0026675520930439234\n"
     ]
    },
    {
     "name": "stderr",
     "output_type": "stream",
     "text": [
      "loss 0.0028912024572491646:  90%|█████████ | 4514/5000 [00:37<00:04, 104.87it/s]"
     ]
    },
    {
     "name": "stdout",
     "output_type": "stream",
     "text": [
      "\n",
      "TARGET aaaaaaaaaabbbbbbbbbb | IS_VALID True\n",
      "PRED aaaaaaaaaabbbbbbbbbb | IS_VALID True\n",
      "loss 0.0025962567888200283\n"
     ]
    },
    {
     "name": "stderr",
     "output_type": "stream",
     "text": [
      "loss 0.0024970651138573885:  92%|█████████▏| 4615/5000 [00:38<00:03, 99.66it/s] "
     ]
    },
    {
     "name": "stdout",
     "output_type": "stream",
     "text": [
      "\n",
      "TARGET aaaaaaaaaabbbbbbbbbb | IS_VALID True\n",
      "PRED aaaaaaaaaabbbbbbbbbb | IS_VALID True\n",
      "loss 0.0024143029004335403\n"
     ]
    },
    {
     "name": "stderr",
     "output_type": "stream",
     "text": [
      "loss 0.002327042631804943:  94%|█████████▍| 4720/5000 [00:39<00:02, 104.83it/s] "
     ]
    },
    {
     "name": "stdout",
     "output_type": "stream",
     "text": [
      "\n",
      "TARGET aaaaaaaaaabbbbbbbbbb | IS_VALID True\n",
      "PRED aaaaaaaaaabbbbbbbbbb | IS_VALID True\n",
      "loss 0.0023195543326437473\n"
     ]
    },
    {
     "name": "stderr",
     "output_type": "stream",
     "text": [
      "loss 0.0024169764947146177:  96%|█████████▋| 4820/5000 [00:40<00:01, 102.07it/s]"
     ]
    },
    {
     "name": "stdout",
     "output_type": "stream",
     "text": [
      "\n",
      "TARGET aaaaaaaaaabbbbbbbbbb | IS_VALID True\n",
      "PRED aaaaaaaaaabbbbbbbbbb | IS_VALID True\n",
      "loss 0.0024169764947146177\n"
     ]
    },
    {
     "name": "stderr",
     "output_type": "stream",
     "text": [
      "loss 0.002053425647318363:  98%|█████████▊| 4915/5000 [00:41<00:00, 108.19it/s] "
     ]
    },
    {
     "name": "stdout",
     "output_type": "stream",
     "text": [
      "\n",
      "TARGET aaaaaaaaaabbbbbbbbbb | IS_VALID True\n",
      "PRED aaaaaaaaaabbbbbbbbbb | IS_VALID True\n",
      "loss 0.0021133546251803637\n"
     ]
    },
    {
     "name": "stderr",
     "output_type": "stream",
     "text": [
      "loss 0.0020263688638806343: 100%|██████████| 5000/5000 [00:42<00:00, 118.22it/s]\n"
     ]
    },
    {
     "name": "stdout",
     "output_type": "stream",
     "text": [
      "\n"
     ]
    },
    {
     "name": "stderr",
     "output_type": "stream",
     "text": [
      "loss 0.0020270640961825848:   0%|          | 13/5000 [00:00<00:40, 123.47it/s]"
     ]
    },
    {
     "name": "stdout",
     "output_type": "stream",
     "text": [
      "\n",
      "TARGET aaaaaaaaaabbbbbbbbbb | IS_VALID True\n",
      "PRED aaaaaaaaaabbbbbbbbbb | IS_VALID True\n",
      "loss 0.001919373171404004\n"
     ]
    },
    {
     "name": "stderr",
     "output_type": "stream",
     "text": [
      "loss 0.0019757018890231848:   2%|▏         | 117/5000 [00:00<00:39, 123.47it/s]"
     ]
    },
    {
     "name": "stdout",
     "output_type": "stream",
     "text": [
      "\n",
      "TARGET aaaaaaaaaabbbbbbbbbb | IS_VALID True\n",
      "PRED aaaaaaaaaabbbbbbbbbb | IS_VALID True\n",
      "loss 0.0019478058675304055\n"
     ]
    },
    {
     "name": "stderr",
     "output_type": "stream",
     "text": [
      "loss 0.0016842366894707084:   4%|▍         | 221/5000 [00:01<00:38, 124.67it/s]"
     ]
    },
    {
     "name": "stdout",
     "output_type": "stream",
     "text": [
      "\n",
      "TARGET aaaaaaaaaabbbbbbbbbb | IS_VALID True\n",
      "PRED aaaaaaaaaabbbbbbbbbb | IS_VALID True\n",
      "loss 0.0020152830984443426\n"
     ]
    },
    {
     "name": "stderr",
     "output_type": "stream",
     "text": [
      "loss 0.0021720656659454107:   6%|▋         | 325/5000 [00:02<00:37, 124.38it/s]"
     ]
    },
    {
     "name": "stdout",
     "output_type": "stream",
     "text": [
      "\n",
      "TARGET aaaaaaaaaabbbbbbbbbb | IS_VALID True\n",
      "PRED aaaaaaaaaabbbbbbbbbb | IS_VALID True\n",
      "loss 0.0016532461158931255\n"
     ]
    },
    {
     "name": "stderr",
     "output_type": "stream",
     "text": [
      "loss 0.0016734895762056112:   8%|▊         | 416/5000 [00:03<00:36, 124.35it/s]"
     ]
    },
    {
     "name": "stdout",
     "output_type": "stream",
     "text": [
      "\n",
      "TARGET aaaaaaaaaabbbbbbbbbb | IS_VALID True\n",
      "PRED aaaaaaaaaabbbbbbbbbb | IS_VALID True\n",
      "loss 0.00154657824896276\n"
     ]
    },
    {
     "name": "stderr",
     "output_type": "stream",
     "text": [
      "loss 0.001485428074374795:  10%|█         | 520/5000 [00:04<00:35, 124.50it/s] "
     ]
    },
    {
     "name": "stdout",
     "output_type": "stream",
     "text": [
      "\n",
      "TARGET aaaaaaaaaabbbbbbbbbb | IS_VALID True\n",
      "PRED aaaaaaaaaabbbbbbbbbb | IS_VALID True\n",
      "loss 0.0017898037331178784\n"
     ]
    },
    {
     "name": "stderr",
     "output_type": "stream",
     "text": [
      "loss 0.001409151591360569:  12%|█▏        | 624/5000 [00:05<00:35, 122.33it/s] "
     ]
    },
    {
     "name": "stdout",
     "output_type": "stream",
     "text": [
      "\n",
      "TARGET aaaaaaaaaabbbbbbbbbb | IS_VALID True\n",
      "PRED aaaaaaaaaabbbbbbbbbb | IS_VALID True\n",
      "loss 0.0014071266632527113\n"
     ]
    },
    {
     "name": "stderr",
     "output_type": "stream",
     "text": [
      "loss 0.0013465804513543844:  14%|█▍        | 715/5000 [00:05<00:34, 124.16it/s]"
     ]
    },
    {
     "name": "stdout",
     "output_type": "stream",
     "text": [
      "\n",
      "TARGET aaaaaaaaaabbbbbbbbbb | IS_VALID True\n",
      "PRED aaaaaaaaaabbbbbbbbbb | IS_VALID True\n",
      "loss 0.0014091423945501447\n"
     ]
    },
    {
     "name": "stderr",
     "output_type": "stream",
     "text": [
      "loss 0.001457269536331296:  16%|█▋        | 819/5000 [00:06<00:33, 124.77it/s] "
     ]
    },
    {
     "name": "stdout",
     "output_type": "stream",
     "text": [
      "\n",
      "TARGET aaaaaaaaaabbbbbbbbbb | IS_VALID True\n",
      "PRED aaaaaaaaaabbbbbbbbbb | IS_VALID True\n",
      "loss 0.0012575468281283975\n"
     ]
    },
    {
     "name": "stderr",
     "output_type": "stream",
     "text": [
      "loss 0.0013433382846415043:  18%|█▊        | 923/5000 [00:07<00:32, 124.39it/s]"
     ]
    },
    {
     "name": "stdout",
     "output_type": "stream",
     "text": [
      "\n",
      "TARGET aaaaaaaaaabbbbbbbbbb | IS_VALID True\n",
      "PRED aaaaaaaaaabbbbbbbbbb | IS_VALID True\n",
      "loss 0.0011840082006528974\n"
     ]
    },
    {
     "name": "stderr",
     "output_type": "stream",
     "text": [
      "loss 0.001256548217497766:  20%|██        | 1014/5000 [00:08<00:32, 123.80it/s]"
     ]
    },
    {
     "name": "stdout",
     "output_type": "stream",
     "text": [
      "\n",
      "TARGET aaaaaaaaaabbbbbbbbbb | IS_VALID True\n",
      "PRED aaaaaaaaaabbbbbbbbbb | IS_VALID True\n",
      "loss 0.001147053437307477\n"
     ]
    },
    {
     "name": "stderr",
     "output_type": "stream",
     "text": [
      "loss 0.06860730051994324:  21%|██        | 1053/5000 [00:08<00:31, 124.02it/s]  "
     ]
    },
    {
     "name": "stdout",
     "output_type": "stream",
     "text": [
      "WARNING: exceeded max sample number\n",
      "WARNING: exceeded max sample number\n",
      "WARNING: exceeded max sample number\n",
      "WARNING: exceeded max sample number\n"
     ]
    },
    {
     "name": "stderr",
     "output_type": "stream",
     "text": [
      "\r",
      "loss 0.06860730051994324:  21%|██▏       | 1066/5000 [00:19<17:34,  3.73it/s] "
     ]
    },
    {
     "name": "stdout",
     "output_type": "stream",
     "text": [
      "WARNING: exceeded max sample number\n"
     ]
    },
    {
     "name": "stderr",
     "output_type": "stream",
     "text": [
      "\r",
      "loss 0.06860730051994324:  21%|██▏       | 1067/5000 [00:22<21:45,  3.01it/s]"
     ]
    },
    {
     "name": "stdout",
     "output_type": "stream",
     "text": [
      "WARNING: exceeded max sample number\n",
      "WARNING: exceeded max sample number\n",
      "WARNING: exceeded max sample number\n",
      "WARNING: exceeded max sample number\n",
      "WARNING: exceeded max sample number\n",
      "WARNING: exceeded max sample number\n",
      "WARNING: exceeded max sample number\n"
     ]
    },
    {
     "name": "stderr",
     "output_type": "stream",
     "text": [
      "loss 0.06860730051994324:  21%|██▏       | 1074/5000 [00:37<52:20,  1.25it/s]"
     ]
    },
    {
     "name": "stdout",
     "output_type": "stream",
     "text": [
      "WARNING: exceeded max sample number\n"
     ]
    },
    {
     "name": "stderr",
     "output_type": "stream",
     "text": [
      "\r",
      "loss 0.06860730051994324:  22%|██▏       | 1075/5000 [00:40<56:50,  1.15it/s]"
     ]
    },
    {
     "name": "stdout",
     "output_type": "stream",
     "text": [
      "WARNING: exceeded max sample number\n",
      "WARNING: exceeded max sample number\n",
      "WARNING: exceeded max sample number\n",
      "WARNING: exceeded max sample number\n",
      "WARNING: exceeded max sample number\n",
      "WARNING: exceeded max sample number\n"
     ]
    },
    {
     "name": "stderr",
     "output_type": "stream",
     "text": [
      "\r",
      "loss 0.02486608736217022:  22%|██▏       | 1075/5000 [00:53<56:50,  1.15it/s]"
     ]
    },
    {
     "name": "stdout",
     "output_type": "stream",
     "text": [
      "WARNING: exceeded max sample number\n"
     ]
    },
    {
     "name": "stderr",
     "output_type": "stream",
     "text": [
      "\r",
      "loss 0.02486608736217022:  22%|██▏       | 1082/5000 [00:56<1:26:08,  1.32s/it]"
     ]
    },
    {
     "name": "stdout",
     "output_type": "stream",
     "text": [
      "WARNING: exceeded max sample number\n"
     ]
    },
    {
     "name": "stderr",
     "output_type": "stream",
     "text": [
      "\r",
      "loss 0.02486608736217022:  22%|██▏       | 1083/5000 [00:58<1:29:54,  1.38s/it]"
     ]
    },
    {
     "name": "stdout",
     "output_type": "stream",
     "text": [
      "WARNING: exceeded max sample number\n",
      "WARNING: exceeded max sample number\n",
      "WARNING: exceeded max sample number\n",
      "WARNING: exceeded max sample number\n",
      "WARNING: exceeded max sample number\n"
     ]
    },
    {
     "name": "stderr",
     "output_type": "stream",
     "text": [
      "\r",
      "loss 0.02486608736217022:  22%|██▏       | 1088/5000 [01:09<1:47:37,  1.65s/it]"
     ]
    },
    {
     "name": "stdout",
     "output_type": "stream",
     "text": [
      "WARNING: exceeded max sample number\n"
     ]
    },
    {
     "name": "stderr",
     "output_type": "stream",
     "text": [
      "\r",
      "loss 0.02486608736217022:  22%|██▏       | 1089/5000 [01:12<1:50:58,  1.70s/it]"
     ]
    },
    {
     "name": "stdout",
     "output_type": "stream",
     "text": [
      "WARNING: exceeded max sample number\n",
      "WARNING: exceeded max sample number\n",
      "WARNING: exceeded max sample number\n",
      "WARNING: exceeded max sample number\n"
     ]
    },
    {
     "name": "stderr",
     "output_type": "stream",
     "text": [
      "\r",
      "loss 0.02486608736217022:  22%|██▏       | 1093/5000 [01:21<2:02:29,  1.88s/it]"
     ]
    },
    {
     "name": "stdout",
     "output_type": "stream",
     "text": [
      "WARNING: exceeded max sample number\n",
      "WARNING: exceeded max sample number\n",
      "WARNING: exceeded max sample number\n"
     ]
    },
    {
     "name": "stderr",
     "output_type": "stream",
     "text": [
      "\r",
      "loss 0.02486608736217022:  22%|██▏       | 1096/5000 [01:28<2:08:56,  1.98s/it]"
     ]
    },
    {
     "name": "stdout",
     "output_type": "stream",
     "text": [
      "WARNING: exceeded max sample number\n",
      "WARNING: exceeded max sample number\n"
     ]
    },
    {
     "name": "stderr",
     "output_type": "stream",
     "text": [
      "\r",
      "loss 0.02486608736217022:  22%|██▏       | 1098/5000 [01:32<2:12:28,  2.04s/it]"
     ]
    },
    {
     "name": "stdout",
     "output_type": "stream",
     "text": [
      "WARNING: exceeded max sample number\n",
      "WARNING: exceeded max sample number\n"
     ]
    },
    {
     "name": "stderr",
     "output_type": "stream",
     "text": [
      "\r",
      "loss 0.02486608736217022:  22%|██▏       | 1100/5000 [01:37<2:17:15,  2.11s/it]"
     ]
    },
    {
     "name": "stdout",
     "output_type": "stream",
     "text": [
      "WARNING: exceeded max sample number\n"
     ]
    },
    {
     "name": "stderr",
     "output_type": "stream",
     "text": [
      "loss 0.0021773900371044874:  22%|██▏       | 1101/5000 [01:39<2:19:19,  2.14s/it]"
     ]
    },
    {
     "name": "stdout",
     "output_type": "stream",
     "text": [
      "WARNING: exceeded max sample number\n",
      "\n",
      "TARGET aaaaaaabbbbbbbbbbbbb | IS_VALID False\n",
      "PRED aaaaaaabbbbbbbbbbbbb | IS_VALID False\n",
      "loss 0.0021773900371044874\n"
     ]
    },
    {
     "name": "stderr",
     "output_type": "stream",
     "text": [
      "loss 0.0021773900371044874:  22%|██▏       | 1101/5000 [01:40<05:55, 10.97it/s]  \n"
     ]
    },
    {
     "ename": "KeyboardInterrupt",
     "evalue": "",
     "output_type": "error",
     "traceback": [
      "\u001b[0;31m---------------------------------------------------------------------------\u001b[0m",
      "\u001b[0;31mKeyboardInterrupt\u001b[0m                         Traceback (most recent call last)",
      "\u001b[0;32m<ipython-input-12-70ad83d55e6f>\u001b[0m in \u001b[0;36m<module>\u001b[0;34m\u001b[0m\n\u001b[1;32m     15\u001b[0m \u001b[0;34m\u001b[0m\u001b[0m\n\u001b[1;32m     16\u001b[0m             \u001b[0;32mwith\u001b[0m \u001b[0mtorch\u001b[0m\u001b[0;34m.\u001b[0m\u001b[0mno_grad\u001b[0m\u001b[0;34m(\u001b[0m\u001b[0;34m)\u001b[0m\u001b[0;34m:\u001b[0m\u001b[0;34m\u001b[0m\u001b[0;34m\u001b[0m\u001b[0m\n\u001b[0;32m---> 17\u001b[0;31m                 \u001b[0ms_pred_ids\u001b[0m\u001b[0;34m,\u001b[0m \u001b[0m_\u001b[0m \u001b[0;34m=\u001b[0m \u001b[0mmodel_forward\u001b[0m\u001b[0;34m(\u001b[0m\u001b[0mnoise_x\u001b[0m\u001b[0;34m,\u001b[0m \u001b[0msample\u001b[0m\u001b[0;34m=\u001b[0m\u001b[0;32mTrue\u001b[0m\u001b[0;34m)\u001b[0m\u001b[0;34m\u001b[0m\u001b[0;34m\u001b[0m\u001b[0m\n\u001b[0m\u001b[1;32m     18\u001b[0m \u001b[0;34m\u001b[0m\u001b[0m\n\u001b[1;32m     19\u001b[0m             \u001b[0msampled_label\u001b[0m \u001b[0;34m=\u001b[0m \u001b[0;34m''\u001b[0m\u001b[0;34m.\u001b[0m\u001b[0mjoin\u001b[0m\u001b[0;34m(\u001b[0m\u001b[0;34m[\u001b[0m\u001b[0mid_to_char\u001b[0m\u001b[0;34m[\u001b[0m\u001b[0mp\u001b[0m\u001b[0;34m.\u001b[0m\u001b[0mitem\u001b[0m\u001b[0;34m(\u001b[0m\u001b[0;34m)\u001b[0m\u001b[0;34m]\u001b[0m \u001b[0;32mfor\u001b[0m \u001b[0mp\u001b[0m \u001b[0;32min\u001b[0m \u001b[0ms_pred_ids\u001b[0m\u001b[0;34m]\u001b[0m\u001b[0;34m)\u001b[0m\u001b[0;34m\u001b[0m\u001b[0;34m\u001b[0m\u001b[0m\n",
      "\u001b[0;32m<ipython-input-8-8f5c82ebe233>\u001b[0m in \u001b[0;36mmodel_forward\u001b[0;34m(noise, sos_id, eos_id, sample)\u001b[0m\n\u001b[1;32m     14\u001b[0m         \u001b[0;32melse\u001b[0m\u001b[0;34m:\u001b[0m\u001b[0;34m\u001b[0m\u001b[0;34m\u001b[0m\u001b[0m\n\u001b[1;32m     15\u001b[0m             \u001b[0mprobs\u001b[0m \u001b[0;34m=\u001b[0m \u001b[0mF\u001b[0m\u001b[0;34m.\u001b[0m\u001b[0msoftmax\u001b[0m\u001b[0;34m(\u001b[0m\u001b[0mlogits\u001b[0m\u001b[0;34m,\u001b[0m \u001b[0mdim\u001b[0m\u001b[0;34m=\u001b[0m\u001b[0;36m1\u001b[0m\u001b[0;34m)\u001b[0m\u001b[0;34m\u001b[0m\u001b[0;34m\u001b[0m\u001b[0m\n\u001b[0;32m---> 16\u001b[0;31m             \u001b[0mprev\u001b[0m \u001b[0;34m=\u001b[0m \u001b[0mtorch\u001b[0m\u001b[0;34m.\u001b[0m\u001b[0mmultinomial\u001b[0m\u001b[0;34m(\u001b[0m\u001b[0mprobs\u001b[0m\u001b[0;34m[\u001b[0m\u001b[0;36m0\u001b[0m\u001b[0;34m]\u001b[0m\u001b[0;34m,\u001b[0m \u001b[0;36m1\u001b[0m\u001b[0;34m)\u001b[0m\u001b[0;34m[\u001b[0m\u001b[0;36m0\u001b[0m\u001b[0;34m]\u001b[0m\u001b[0;34m\u001b[0m\u001b[0;34m\u001b[0m\u001b[0m\n\u001b[0m\u001b[1;32m     17\u001b[0m \u001b[0;34m\u001b[0m\u001b[0m\n\u001b[1;32m     18\u001b[0m         \u001b[0mpred_ids\u001b[0m\u001b[0;34m.\u001b[0m\u001b[0mappend\u001b[0m\u001b[0;34m(\u001b[0m\u001b[0mprev\u001b[0m\u001b[0;34m)\u001b[0m\u001b[0;34m\u001b[0m\u001b[0;34m\u001b[0m\u001b[0m\n",
      "\u001b[0;31mKeyboardInterrupt\u001b[0m: "
     ]
    }
   ],
   "source": [
    "from tqdm import tqdm\n",
    "\n",
    "for epoch_idx in range(100):\n",
    "    pbar = tqdm(train_data)\n",
    "    for iter_idx, (noise_x, _) in enumerate(pbar):\n",
    "        noise_x = torch.tensor(noise_x).reshape(1, 1, -1).float()\n",
    "        \n",
    "        sampled_label = None\n",
    "        \n",
    "        sample_count = 0 \n",
    "        while sampled_label is None or not is_valid(sampled_label.replace('!', ''), min_length=MIN_LENGTH):\n",
    "            if sample_count >= MAX_SAMPLE:\n",
    "                print('WARNING: exceeded max sample number')\n",
    "                break\n",
    "\n",
    "            with torch.no_grad():\n",
    "                s_pred_ids, _ = model_forward(noise_x, sample=True)\n",
    "\n",
    "            sampled_label = ''.join([id_to_char[p.item()] for p in s_pred_ids])\n",
    "        \n",
    "            sample_count += 1\n",
    "            \n",
    "            #print('sampled: %s, is_valid: %s' % (sampled_label, is_valid(sampled_label.replace('!', ''), min_length=MIN_LENGTH)))\n",
    "        \n",
    "        pred_ids, all_logits = model_forward(noise_x, sample=False)\n",
    "        \n",
    "        loss = 0.0\n",
    "        for i in range(min(len(all_logits), len(sampled_label))):\n",
    "            logits = all_logits[i]\n",
    "            y = sampled_label[i]\n",
    "            pred = pred_ids[i]\n",
    "\n",
    "            loss_single = ce_loss(logits, torch.tensor([char_to_id[y]], dtype=torch.long))\n",
    "            \n",
    "            loss += loss_single\n",
    "\n",
    "        if iter_idx % 20 == 0:\n",
    "            pbar.set_description(\"loss %s\" % str(loss.item()))\n",
    "        \n",
    "        if iter_idx % 100 == 0:\n",
    "            print('\\nTARGET %s | IS_VALID %s' % (sampled_label, is_valid(sampled_label.replace('!', ''), min_length=MIN_LENGTH)))\n",
    "            \n",
    "            pred_str = ''.join([id_to_char[p.item()] for p in pred_ids])\n",
    "            \n",
    "            print('PRED %s | IS_VALID %s' % (pred_str, is_valid(pred_str, min_length=MIN_LENGTH)))\n",
    "            print('loss', loss.item())\n",
    "        \n",
    "        loss /= len(all_logits)\n",
    "\n",
    "        loss.backward()\n",
    "\n",
    "        opt_dec.step()\n",
    "\n",
    "        opt_dec.zero_grad()\n",
    "    \n",
    "    print()"
   ]
  }
 ],
 "metadata": {
  "kernelspec": {
   "display_name": "Python 3 (ipykernel)",
   "language": "python",
   "name": "python3"
  },
  "language_info": {
   "codemirror_mode": {
    "name": "ipython",
    "version": 3
   },
   "file_extension": ".py",
   "mimetype": "text/x-python",
   "name": "python",
   "nbconvert_exporter": "python",
   "pygments_lexer": "ipython3",
   "version": "3.7.13"
  }
 },
 "nbformat": 4,
 "nbformat_minor": 5
}
