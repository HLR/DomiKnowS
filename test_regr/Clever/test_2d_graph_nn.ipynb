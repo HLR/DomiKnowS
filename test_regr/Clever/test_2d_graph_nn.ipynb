{
 "cells": [
  {
   "cell_type": "code",
   "execution_count": 1,
   "id": "afd5af4b",
   "metadata": {},
   "outputs": [
    {
     "name": "stderr",
     "output_type": "stream",
     "text": [
      "[nltk_data] Downloading package punkt_tab to\n",
      "[nltk_data]     /localscratch/premsrit/nltk_data...\n",
      "[nltk_data]   Package punkt_tab is already up-to-date!\n",
      "/localscratch2/premsrit/DomiKnowS/test_regr/Clever/../../domiknows/solver/ilpOntSolver.py:3: UserWarning: pkg_resources is deprecated as an API. See https://setuptools.pypa.io/en/latest/pkg_resources.html. The pkg_resources package is slated for removal as early as 2025-11-30. Refrain from using this package or pin to Setuptools<81.\n",
      "  from pkg_resources import resource_filename\n"
     ]
    },
    {
     "name": "stdout",
     "output_type": "stream",
     "text": [
      "Log file for dataNode is in: /localscratch2/premsrit/DomiKnowS/test_regr/Clever/logs/datanode.log\n"
     ]
    },
    {
     "name": "stderr",
     "output_type": "stream",
     "text": [
      "[nltk_data] Downloading package punkt to\n",
      "[nltk_data]     /localscratch/premsrit/nltk_data...\n",
      "[nltk_data]   Package punkt is already up-to-date!\n",
      "[nltk_data] Downloading package punkt_tab to\n",
      "[nltk_data]     /localscratch/premsrit/nltk_data...\n",
      "[nltk_data]   Package punkt_tab is already up-to-date!\n"
     ]
    }
   ],
   "source": [
    "import sys\n",
    "sys.path.append('../../../')\n",
    "sys.path.append('../../')\n",
    "sys.path.append('../')\n",
    "sys.path.append('./')\n",
    "import nltk\n",
    "import jactorch\n",
    "nltk.download('punkt_tab')\n",
    "#export GRB_LICENSE_FILE=$HOME/gurobi.lic\n",
    "from domiknows.sensor.pytorch import EdgeSensor, ModuleLearner\n",
    "from domiknows.sensor.pytorch.sensors import ReaderSensor, FunctionalSensor, FunctionalReaderSensor\n",
    "from domiknows.program.lossprogram import InferenceProgram\n",
    "from domiknows.program.model.pytorch import SolverModel\n",
    "from preprocess import preprocess_dataset\n",
    "from graph import create_graph\n",
    "from pathlib import Path\n",
    "from modules import ResNetPatcher, DummyLinearLearner\n",
    "import argparse, torch, logging\n",
    "\n",
    "sys.argv = ['notebook', \"--dummy\"]\n",
    "parser = argparse.ArgumentParser(description=\"Logic-guided VQA training / evaluation\")\n",
    "parser.add_argument(\"--train-size\", type=int, default=10,help=\"Number of training examples to sample (default: use full set)\")\n",
    "parser.add_argument(\"--test-size\", type=int, default=10,help=\"Number of test examples to sample (default: use full set)\")\n",
    "parser.add_argument(\"--epochs\", type=int, default=4,help=\"Number of training epochs\")\n",
    "parser.add_argument(\"--lr\", \"--learning-rate\", type=float, default=1e-6,help=\"Learning rate\")\n",
    "parser.add_argument(\"--batch-size\", type=int, default=1,help=\"Mini-batch size\")\n",
    "parser.add_argument(\"--eval-only\", action=\"store_true\",help=\"Skip training; just load a checkpoint and evaluate\")\n",
    "parser.add_argument(\"--dummy\", action=\"store_true\",help=\"Use the lightweight dummy configuration\")\n",
    "parser.add_argument(\"--tnorm\", choices=[\"G\", \"P\", \"L\"], default=\"G\",help=\"T-norm used inside InferenceProgram\")\n",
    "args=parser.parse_args()\n",
    "\n",
    "CACHE_DIR      = Path(\"dataset_cache2\")\n",
    "CACHE_DIR.mkdir(exist_ok=True)\n",
    "NUM_INSTANCES  = 10\n",
    "device = \"cpu\""
   ]
  },
  {
   "cell_type": "code",
   "execution_count": 2,
   "id": "dc311a6e",
   "metadata": {},
   "outputs": [
    {
     "name": "stdout",
     "output_type": "stream",
     "text": [
      "re-loaded dataset_cache2/instance_0.pkl\n",
      "re-loaded dataset_cache2/instance_1.pkl\n",
      "re-loaded dataset_cache2/instance_2.pkl\n",
      "re-loaded dataset_cache2/instance_3.pkl\n",
      "re-loaded dataset_cache2/instance_4.pkl\n",
      "re-loaded dataset_cache2/instance_5.pkl\n",
      "re-loaded dataset_cache2/instance_6.pkl\n",
      "re-loaded dataset_cache2/instance_7.pkl\n",
      "re-loaded dataset_cache2/instance_8.pkl\n",
      "re-loaded dataset_cache2/instance_9.pkl\n",
      "Dataset length: 10\n"
     ]
    }
   ],
   "source": [
    "dataset = preprocess_dataset(args,NUM_INSTANCES,CACHE_DIR)"
   ]
  },
  {
   "cell_type": "code",
   "execution_count": 3,
   "id": "acf221b8",
   "metadata": {},
   "outputs": [],
   "source": [
    "image=dataset[0]"
   ]
  },
  {
   "cell_type": "code",
   "execution_count": 4,
   "id": "d203691f",
   "metadata": {},
   "outputs": [],
   "source": [
    "from modules import ResnetLEFT, LEFTObjectEMB, LEFTRelationEMB\n",
    "\n",
    "resnet = ResnetLEFT(\"cpu\")\n",
    "object_feature_extraction = LEFTObjectEMB(device=\"cpu\")\n",
    "relation_feature_extraction = LEFTRelationEMB(device=\"cpu\")"
   ]
  },
  {
   "cell_type": "code",
   "execution_count": 5,
   "id": "66012810",
   "metadata": {},
   "outputs": [],
   "source": [
    "scene_emb = resnet(99,image[\"pil_image\"])"
   ]
  },
  {
   "cell_type": "code",
   "execution_count": null,
   "id": "3af7e3f4",
   "metadata": {},
   "outputs": [],
   "source": []
  }
 ],
 "metadata": {
  "kernelspec": {
   "display_name": "Python 3",
   "language": "python",
   "name": "python3"
  },
  "language_info": {
   "codemirror_mode": {
    "name": "ipython",
    "version": 3
   },
   "file_extension": ".py",
   "mimetype": "text/x-python",
   "name": "python",
   "nbconvert_exporter": "python",
   "pygments_lexer": "ipython3",
   "version": "3.10.18"
  }
 },
 "nbformat": 4,
 "nbformat_minor": 5
}
