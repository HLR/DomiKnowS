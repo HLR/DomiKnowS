{
 "cells": [
  {
   "cell_type": "code",
   "execution_count": 2,
   "id": "promising-horizontal",
   "metadata": {},
   "outputs": [],
   "source": [
    "import json\n",
    "import torch"
   ]
  },
  {
   "cell_type": "code",
   "execution_count": 3,
   "id": "organized-suffering",
   "metadata": {},
   "outputs": [],
   "source": [
    "entities = [\"location\", \"people\", \"organization\", \"other\"]\n",
    "relations = [\"work_for\", \"located_in\", \"live_in\", \"orgbase_on\", \"kill\"]    "
   ]
  },
  {
   "cell_type": "code",
   "execution_count": 4,
   "id": "authentic-river",
   "metadata": {},
   "outputs": [],
   "source": [
    "def compute_scores(item, name, criteria=\"P\", ILP=False):\n",
    "    if ILP:\n",
    "        state = \"After\"\n",
    "    else:\n",
    "        state = \"before\"\n",
    "        \n",
    "    print(\"----------------\\n\")\n",
    "    print(f'Results {state} ILP for the {name} in terms of {criteria}')\n",
    "    sum_entity = 0\n",
    "    sum_relations = 0\n",
    "    precision_entity = 0\n",
    "    precision_relations = 0\n",
    "    normal_precision_entity = 0\n",
    "    normal_precision_relations = 0\n",
    "    sum_all = 0\n",
    "    precision_all = 0\n",
    "    normal_precision_all = 0\n",
    "    for key in entities:\n",
    "        sum_entity += instances[key]\n",
    "        precision_entity += instances[key] * item[key][criteria]\n",
    "        normal_precision_entity += item[key][criteria]\n",
    "\n",
    "    for key in relations:\n",
    "        sum_relations += instances[key]\n",
    "        precision_relations += instances[key] * item[key][criteria]\n",
    "        normal_precision_relations += item[key][criteria]\n",
    "\n",
    "    sum_all = sum_relations + sum_entity\n",
    "    precision_all = precision_entity + precision_relations\n",
    "    normal_precision_all = normal_precision_relations + normal_precision_entity\n",
    "    \n",
    "    if criteria == \"P\":\n",
    "        print(\"\\n--Micro--\")\n",
    "        print(\"Micro Presicion for Entities: \", precision_entity / sum_entity)\n",
    "        print(\"Micro Presicion for Relations: \", precision_relations / sum_relations)\n",
    "        print(\"Micro Presicion for All: \", precision_all / sum_all)\n",
    "    print(\"\\n--Macro--\")\n",
    "    print(\"Macro Precision for Entities: \", normal_precision_entity / len(entities))\n",
    "    print(\"Macro Precision for Relations: \", normal_precision_relations / len(relations))\n",
    "    print(\"Macro Precision for All: \", normal_precision_all / (len(entities) + len(relations)))"
   ]
  },
  {
   "cell_type": "markdown",
   "id": "banner-enclosure",
   "metadata": {},
   "source": [
    "# Old Results"
   ]
  },
  {
   "cell_type": "code",
   "execution_count": 47,
   "id": "military-beach",
   "metadata": {},
   "outputs": [],
   "source": [
    "instances = {\"location\": 951, \"people\": 824, \"organization\": 508, \"other\": 609, \"work_for\": 70, \"located_in\": 69, \"live_in\": 99, \"orgbase_on\": 118, \"kill\": 60}"
   ]
  },
  {
   "cell_type": "code",
   "execution_count": 48,
   "id": "defined-commitment",
   "metadata": {},
   "outputs": [],
   "source": [
    "result_ILP = {'people': {'P':  (0.9549), 'R':  (0.9260), 'F1':  (0.9402)},\n",
    "          'organization': {'P':  (0.9009), 'R':  (0.7520), 'F1':  (0.8197)}, \n",
    "          'location': {'P':  (0.9251), 'R':  (0.9222), 'F1':  (0.9236)}, \n",
    "          'other': {'P':  (0.9620), 'R':  (0.6240), 'F1':  (0.7570)}, \n",
    "          'O': {'P':  (0.9915), 'R':  (0.9936), 'F1':  (0.9926)}, \n",
    "          'work_for': {'P':  (0.9375), 'R':  (0.8571), 'F1':  (0.8955)}, \n",
    "          'located_in': {'P':  (1.), 'R':  (0.8551), 'F1':  (0.9219)}, \n",
    "          'live_in': {'P':  (0.9888), 'R':  (0.8889), 'F1':  (0.9362)}, \n",
    "          'orgbase_on': {'P':  (0.9821), 'R':  (0.9322), 'F1':  (0.9565)}, \n",
    "          'kill': {'P':  (1.), 'R':  (0.9833), 'F1':  (0.9916)}}\n",
    "\n",
    "result_argmax = {'people': {'P':  (0.9491), 'R':  (0.9272), 'F1':  (0.9380)},\n",
    "                 'organization': {'P':  (0.8756), 'R':  (0.7343), 'F1':  (0.7987)},\n",
    "                 'location': {'P':  (0.9027), 'R':  (0.9169), 'F1':  (0.9098)},\n",
    "                 'other': {'P':  (0.9200), 'R':  (0.6420), 'F1':  (0.7563)},\n",
    "                 'O': {'P':  (0.9901), 'R':  (0.9939), 'F1':  (0.9920)},\n",
    "                 'work_for': {'P':  (0.9275), 'R':  (0.9143), 'F1':  (0.9209)},\n",
    "                 'located_in': {'P':  (0.9683), 'R':  (0.8841), 'F1':  (0.9242)},\n",
    "                 'live_in': {'P':  (0.8654), 'R':  (0.9091), 'F1':  (0.8867)},\n",
    "                 'orgbase_on': {'P':  (0.9823), 'R':  (0.9407), 'F1':  (0.9610)},\n",
    "                 'kill': {'P':  (1.), 'R':  (0.9833), 'F1':  (0.9916)}}"
   ]
  },
  {
   "cell_type": "code",
   "execution_count": 21,
   "id": "refined-bailey",
   "metadata": {},
   "outputs": [
    {
     "name": "stdout",
     "output_type": "stream",
     "text": [
      "----------------\n",
      "\n",
      "Results After ILP for the Normal in terms of P\n",
      "\n",
      "--Micro--\n",
      "Micro Presicion for Entities:  0.9371102697095437\n",
      "Micro Presicion for Relations:  0.9817403846153846\n",
      "Micro Presicion for All:  0.9427227629987909\n",
      "\n",
      "--Macro--\n",
      "Macro Precision for Entities:  0.9357249999999999\n",
      "Macro Precision for Relations:  0.9816800000000001\n",
      "Macro Precision for All:  0.9612555555555554\n",
      "----------------\n",
      "\n",
      "Results After ILP for the Normal in terms of R\n",
      "\n",
      "--Macro--\n",
      "Macro Precision for Entities:  0.80605\n",
      "Macro Precision for Relations:  0.9033199999999999\n",
      "Macro Precision for All:  0.8600888888888889\n",
      "----------------\n",
      "\n",
      "Results After ILP for the Normal in terms of F1\n",
      "\n",
      "--Macro--\n",
      "Macro Precision for Entities:  0.860125\n",
      "Macro Precision for Relations:  0.9403400000000002\n",
      "Macro Precision for All:  0.904688888888889\n"
     ]
    }
   ],
   "source": [
    "compute_scores(result_ILP, name=\"Normal\", ILP=True, criteria=\"P\")\n",
    "compute_scores(result_ILP, name=\"Normal\", ILP=True, criteria=\"R\")\n",
    "compute_scores(result_ILP, name=\"Normal\", ILP=True, criteria=\"F1\")"
   ]
  },
  {
   "cell_type": "code",
   "execution_count": 22,
   "id": "attractive-motion",
   "metadata": {},
   "outputs": [
    {
     "name": "stdout",
     "output_type": "stream",
     "text": [
      "----------------\n",
      "\n",
      "Results before ILP for the Normal in terms of P\n",
      "\n",
      "--Micro--\n",
      "Micro Presicion for Entities:  0.9148032157676348\n",
      "Micro Presicion for Relations:  0.9454896634615385\n",
      "Micro Presicion for All:  0.9186622128174122\n",
      "\n",
      "--Macro--\n",
      "Macro Precision for Entities:  0.9118499999999999\n",
      "Macro Precision for Relations:  0.9486999999999999\n",
      "Macro Precision for All:  0.932322222222222\n",
      "----------------\n",
      "\n",
      "Results before ILP for the Normal in terms of R\n",
      "\n",
      "--Macro--\n",
      "Macro Precision for Entities:  0.8051\n",
      "Macro Precision for Relations:  0.9263\n",
      "Macro Precision for All:  0.8724333333333334\n",
      "----------------\n",
      "\n",
      "Results before ILP for the Normal in terms of F1\n",
      "\n",
      "--Macro--\n",
      "Macro Precision for Entities:  0.8506999999999999\n",
      "Macro Precision for Relations:  0.93688\n",
      "Macro Precision for All:  0.8985777777777777\n"
     ]
    }
   ],
   "source": [
    "compute_scores(result_argmax, name=\"Normal\", ILP=False)\n",
    "compute_scores(result_argmax, name=\"Normal\", ILP=False, criteria=\"R\")\n",
    "compute_scores(result_argmax, name=\"Normal\", ILP=False, criteria=\"F1\")"
   ]
  },
  {
   "cell_type": "code",
   "execution_count": 23,
   "id": "appropriate-school",
   "metadata": {},
   "outputs": [],
   "source": [
    "result_ILP_IML = {'people': {'P':  (0.9515), 'R':  (0.8568), 'F1':  (0.9017)}, \n",
    "                  'organization': {'P':  (0.8889), 'R':  (0.6457), 'F1':  (0.7480)},\n",
    "                  'location': {'P':  (0.9190), 'R':  (0.8948), 'F1':  (0.9068)},\n",
    "                  'other': {'P':  (0.9631), 'R':  (0.5993), 'F1':  (0.7389)},\n",
    "                  'O': {'P':  (0.9897), 'R':  (0.9916), 'F1':  (0.9907)},\n",
    "                  'work_for': {'P':  (0.9286), 'R':  (0.7429), 'F1':  (0.8254)},\n",
    "                  'located_in': {'P':  (1.), 'R':  (0.8261), 'F1':  (0.9048)},\n",
    "                  'live_in': {'P':  (0.9310), 'R':  (0.8182), 'F1':  (0.8710)},\n",
    "                  'orgbase_on': {'P':  (0.9804), 'R':  (0.8475), 'F1':  (0.9091)},\n",
    "                  'kill': {'P':  (1.), 'R':  (0.9500), 'F1':  (0.9744)}}\n",
    "\n",
    "result_argmax_IML = {'people': {'P':  (0.9469), 'R':  (0.8434), 'F1':  (0.8922)},\n",
    "                     'organization': {'P':  (0.8556), 'R':  (0.6181), 'F1':  (0.7177)},\n",
    "                     'location': {'P':  (0.8898), 'R':  (0.8833), 'F1':  (0.8865)},\n",
    "                     'other': {'P':  (0.9227), 'R':  (0.6076), 'F1':  (0.7327)},\n",
    "                     'O': {'P':  (0.9889), 'R':  (0.9919), 'F1':  (0.9904)},\n",
    "                     'work_for': {'P':  (0.9286), 'R':  (0.9286), 'F1':  (0.9286)},\n",
    "                     'located_in': {'P':  (0.9516), 'R':  (0.8551), 'F1':  (0.9008)},\n",
    "                     'live_in': {'P':  (0.8350), 'R':  (0.8687), 'F1':  (0.8515)},\n",
    "                     'orgbase_on': {'P':  (0.9821), 'R':  (0.9322), 'F1':  (0.9565)},\n",
    "                     'kill': {'P':  (1.), 'R':  (0.9833), 'F1':  (0.9916)}}"
   ]
  },
  {
   "cell_type": "code",
   "execution_count": 24,
   "id": "military-checkout",
   "metadata": {},
   "outputs": [
    {
     "name": "stdout",
     "output_type": "stream",
     "text": [
      "----------------\n",
      "\n",
      "Results After ILP for the IML in terms of P\n",
      "\n",
      "--Micro--\n",
      "Micro Presicion for Entities:  0.9322593706777318\n",
      "Micro Presicion for Relations:  0.9660052884615384\n",
      "Micro Presicion for All:  0.9365031136638453\n",
      "\n",
      "--Macro--\n",
      "Macro Precision for Entities:  0.930625\n",
      "Macro Precision for Relations:  0.968\n",
      "Macro Precision for All:  0.9513888888888888\n",
      "----------------\n",
      "\n",
      "Results After ILP for the IML in terms of R\n",
      "\n",
      "--Macro--\n",
      "Macro Precision for Entities:  0.74915\n",
      "Macro Precision for Relations:  0.83694\n",
      "Macro Precision for All:  0.7979222222222222\n",
      "----------------\n",
      "\n",
      "Results After ILP for the IML in terms of F1\n",
      "\n",
      "--Macro--\n",
      "Macro Precision for Entities:  0.82385\n",
      "Macro Precision for Relations:  0.8969400000000001\n",
      "Macro Precision for All:  0.8644555555555555\n"
     ]
    }
   ],
   "source": [
    "compute_scores(result_ILP_IML, name=\"IML\", ILP=True)\n",
    "compute_scores(result_ILP_IML, name=\"IML\", ILP=True, criteria=\"R\")\n",
    "compute_scores(result_ILP_IML, name=\"IML\", ILP=True, criteria=\"F1\")"
   ]
  },
  {
   "cell_type": "code",
   "execution_count": 25,
   "id": "integrated-trademark",
   "metadata": {},
   "outputs": [
    {
     "name": "stdout",
     "output_type": "stream",
     "text": [
      "----------------\n",
      "\n",
      "Results before ILP for the IML in terms of P\n",
      "\n",
      "--Micro--\n",
      "Micro Presicion for Entities:  0.9069897994467497\n",
      "Micro Presicion for Relations:  0.9356134615384615\n",
      "Micro Presicion for All:  0.9105893893591295\n",
      "\n",
      "--Macro--\n",
      "Macro Precision for Entities:  0.9037499999999999\n",
      "Macro Precision for Relations:  0.9394600000000001\n",
      "Macro Precision for All:  0.9235888888888889\n",
      "----------------\n",
      "\n",
      "Results before ILP for the IML in terms of R\n",
      "\n",
      "--Macro--\n",
      "Macro Precision for Entities:  0.7381000000000001\n",
      "Macro Precision for Relations:  0.91358\n",
      "Macro Precision for All:  0.8355888888888889\n",
      "----------------\n",
      "\n",
      "Results before ILP for the IML in terms of F1\n",
      "\n",
      "--Macro--\n",
      "Macro Precision for Entities:  0.807275\n",
      "Macro Precision for Relations:  0.9258000000000001\n",
      "Macro Precision for All:  0.8731222222222222\n"
     ]
    }
   ],
   "source": [
    "compute_scores(result_argmax_IML, name=\"IML\", ILP=False)\n",
    "compute_scores(result_argmax_IML, name=\"IML\", ILP=False, criteria=\"R\")\n",
    "compute_scores(result_argmax_IML, name=\"IML\", ILP=False, criteria=\"F1\")\n"
   ]
  },
  {
   "cell_type": "code",
   "execution_count": 26,
   "id": "legitimate-assault",
   "metadata": {},
   "outputs": [],
   "source": [
    "result_PD = {'people': {'P':  (0.9039), 'R':  (0.9017), 'F1':  (0.9028)}, \n",
    "             'organization': {'P':  (0.6430), 'R':  (0.6063), 'F1':  (0.6241)}, \n",
    "             'location': {'P':  (0.8342), 'R':  (0.8780), 'F1':  (0.8555)}, \n",
    "             'other': {'P':  (0.7316), 'R':  (0.6847), 'F1':  (0.7074)}, \n",
    "             'O': {'P':  (0.9890), 'R':  (0.9910), 'F1':  (0.9900)}, \n",
    "             'work_for': {'P':  (0.8800), 'R':  (0.6286), 'F1':  (0.7333)}, \n",
    "             'located_in': {'P':  (0.6625), 'R':  (0.7681), 'F1':  (0.7114)}, \n",
    "             'live_in': {'P':  (0.8118), 'R':  (0.6970), 'F1':  (0.7500)}, \n",
    "             'orgbase_on': {'P':  (0.8529), 'R':  (0.7373), 'F1':  (0.7909)}, \n",
    "             'kill': {'P':  (1.), 'R':  (0.9833), 'F1':  (0.9916)}}"
   ]
  },
  {
   "cell_type": "code",
   "execution_count": 28,
   "id": "heavy-beauty",
   "metadata": {},
   "outputs": [
    {
     "name": "stdout",
     "output_type": "stream",
     "text": [
      "----------------\n",
      "\n",
      "Results before ILP for the PD in terms of P\n",
      "\n",
      "--Micro--\n",
      "Micro Presicion for Entities:  0.7988679806362379\n",
      "Micro Presicion for Relations:  0.8373146634615385\n",
      "Micro Presicion for All:  0.8037028718258767\n",
      "\n",
      "--Macro--\n",
      "Macro Precision for Entities:  0.7781750000000001\n",
      "Macro Precision for Relations:  0.8414400000000001\n",
      "Macro Precision for All:  0.8133222222222223\n",
      "----------------\n",
      "\n",
      "Results before ILP for the PD in terms of R\n",
      "\n",
      "--Macro--\n",
      "Macro Precision for Entities:  0.767675\n",
      "Macro Precision for Relations:  0.76286\n",
      "Macro Precision for All:  0.765\n",
      "----------------\n",
      "\n",
      "Results before ILP for the PD in terms of F1\n",
      "\n",
      "--Macro--\n",
      "Macro Precision for Entities:  0.7724500000000001\n",
      "Macro Precision for Relations:  0.79544\n",
      "Macro Precision for All:  0.7852222222222223\n"
     ]
    }
   ],
   "source": [
    "compute_scores(result_PD, name=\"PD\", ILP=False)\n",
    "compute_scores(result_PD, name=\"PD\", ILP=False, criteria=\"R\")\n",
    "compute_scores(result_PD, name=\"PD\", ILP=False, criteria=\"F1\")"
   ]
  },
  {
   "cell_type": "code",
   "execution_count": 29,
   "id": "silver-capitol",
   "metadata": {},
   "outputs": [],
   "source": [
    "result_IML_ILP_6 = {'people': {'P':  (0.9510), 'R':  (0.8714), 'F1':  (0.9094)}, \n",
    "                    'organization': {'P':  (0.9017), 'R':  (0.6319), 'F1':  (0.7431)}, \n",
    "                    'location': {'P':  (0.9227), 'R':  (0.9033), 'F1':  (0.9129)}, \n",
    "                    'other': {'P':  (0.9623), 'R':  (0.5862), 'F1':  (0.7286)}, \n",
    "                    'O': {'P':  (0.9897), 'R':  (0.9919), 'F1':  (0.9908)}, \n",
    "                    'work_for': {'P':  (0.9259), 'R':  (0.7143), 'F1':  (0.8065)}, \n",
    "                    'located_in': {'P':  (1.), 'R':  (0.8406), 'F1':  (0.9134)}, \n",
    "                    'live_in': {'P':  (0.9529), 'R':  (0.8182), 'F1':  (0.8804)}, \n",
    "                    'orgbase_on': {'P':  (1.), 'R':  (0.8559), 'F1':  (0.9224)}, \n",
    "                    'kill': {'P':  (1.), 'R':  (0.9667), 'F1':  (0.9831)}}\n",
    "result_IML_argmax_6 = {'people': {'P':  (0.9450), 'R':  (0.8556), 'F1':  (0.8981)}, \n",
    "                       'organization': {'P':  (0.8619), 'R':  (0.6142), 'F1':  (0.7172)},\n",
    "                       'location': {'P':  (0.8915), 'R':  (0.8896), 'F1':  (0.8905)},\n",
    "                       'other': {'P':  (0.9351), 'R':  (0.5911), 'F1':  (0.7243)}, \n",
    "                       'O': {'P':  (0.9893), 'R':  (0.9921), 'F1':  (0.9907)}, \n",
    "                       'work_for': {'P':  (0.9286), 'R':  (0.9286), 'F1':  (0.9286)},\n",
    "                       'located_in': {'P':  (0.9375), 'R':  (0.8696), 'F1':  (0.9023)},\n",
    "                       'live_in': {'P':  (0.8515), 'R':  (0.8687), 'F1':  (0.8600)}, \n",
    "                       'orgbase_on': {'P':  (0.9821), 'R':  (0.9322), 'F1':  (0.9565)},\n",
    "                       'kill': {'P':  (1.), 'R':  (0.9833), 'F1':  (0.9916)}}\n"
   ]
  },
  {
   "cell_type": "code",
   "execution_count": 30,
   "id": "indie-monster",
   "metadata": {},
   "outputs": [
    {
     "name": "stdout",
     "output_type": "stream",
     "text": [
      "----------------\n",
      "\n",
      "Results After ILP for the IML in terms of P\n",
      "\n",
      "--Micro--\n",
      "Micro Presicion for Entities:  0.9354135546334716\n",
      "Micro Presicion for Relations:  0.9763223557692307\n",
      "Micro Presicion for All:  0.9405580713422006\n",
      "\n",
      "--Macro--\n",
      "Macro Precision for Entities:  0.934425\n",
      "Macro Precision for Relations:  0.97576\n",
      "Macro Precision for All:  0.957388888888889\n",
      "----------------\n",
      "\n",
      "Results After ILP for the IML in terms of R\n",
      "\n",
      "--Macro--\n",
      "Macro Precision for Entities:  0.7482\n",
      "Macro Precision for Relations:  0.8391400000000001\n",
      "Macro Precision for All:  0.7987222222222222\n",
      "----------------\n",
      "\n",
      "Results After ILP for the IML in terms of F1\n",
      "\n",
      "--Macro--\n",
      "Macro Precision for Entities:  0.8235\n",
      "Macro Precision for Relations:  0.90116\n",
      "Macro Precision for All:  0.8666444444444443\n"
     ]
    }
   ],
   "source": [
    "compute_scores(result_IML_ILP_6, name=\"IML\", ILP=True)\n",
    "compute_scores(result_IML_ILP_6, name=\"IML\", ILP=True, criteria=\"R\")\n",
    "compute_scores(result_IML_ILP_6, name=\"IML\", ILP=True, criteria=\"F1\")"
   ]
  },
  {
   "cell_type": "code",
   "execution_count": 31,
   "id": "important-bidder",
   "metadata": {},
   "outputs": [
    {
     "name": "stdout",
     "output_type": "stream",
     "text": [
      "----------------\n",
      "\n",
      "Results before ILP for the IML in terms of P\n",
      "\n",
      "--Micro--\n",
      "Micro Presicion for Entities:  0.9107253112033195\n",
      "Micro Presicion for Relations:  0.9372014423076924\n",
      "Micro Presicion for All:  0.9140548367593713\n",
      "\n",
      "--Macro--\n",
      "Macro Precision for Entities:  0.9083749999999999\n",
      "Macro Precision for Relations:  0.93994\n",
      "Macro Precision for All:  0.9259111111111111\n",
      "----------------\n",
      "\n",
      "Results before ILP for the IML in terms of R\n",
      "\n",
      "--Macro--\n",
      "Macro Precision for Entities:  0.737625\n",
      "Macro Precision for Relations:  0.91648\n",
      "Macro Precision for All:  0.8369888888888889\n",
      "----------------\n",
      "\n",
      "Results before ILP for the IML in terms of F1\n",
      "\n",
      "--Macro--\n",
      "Macro Precision for Entities:  0.8075249999999999\n",
      "Macro Precision for Relations:  0.9278000000000001\n",
      "Macro Precision for All:  0.8743444444444444\n"
     ]
    }
   ],
   "source": [
    "compute_scores(result_IML_argmax_6, name=\"IML\", ILP=False)\n",
    "compute_scores(result_IML_argmax_6, name=\"IML\", ILP=False, criteria=\"R\")\n",
    "compute_scores(result_IML_argmax_6, name=\"IML\", ILP=False, criteria=\"F1\")"
   ]
  },
  {
   "cell_type": "markdown",
   "id": "offensive-survivor",
   "metadata": {},
   "source": [
    "# New Results"
   ]
  },
  {
   "cell_type": "code",
   "execution_count": 6,
   "id": "liberal-breakfast",
   "metadata": {},
   "outputs": [],
   "source": [
    "instances = {\"location\": 915, \"people\": 774, \"organization\": 504, \"other\": 635, \"work_for\": 71, \"located_in\": 89, \"live_in\": 81, \"orgbase_on\": 70, \"kill\": 62}"
   ]
  },
  {
   "cell_type": "code",
   "execution_count": 7,
   "id": "biblical-macro",
   "metadata": {},
   "outputs": [],
   "source": [
    "result_25_ILP = {'people': {'P':  (0.9458), 'R':  (0.9251), 'F1':  (0.9353)}, 'organization': {'P':  (0.8036), 'R':  (0.8036), 'F1':  (0.8036)}, 'location': {'P':  (0.8891), 'R':  (0.9202), 'F1':  (0.9044)}, 'other': {'P':  (0.9489), 'R':  (0.6142), 'F1':  (0.7457)}, 'O': {'P':  (0.9870), 'R':  (0.9957), 'F1':  (0.9913)}, 'work_for': {'P':  (0.9828), 'R':  (0.8028), 'F1':  (0.8837)}, 'located_in': {'P':  (1.), 'R':  (0.6143), 'F1':  (0.7611)}, 'live_in': {'P':  (0.9841), 'R':  (0.6813), 'F1':  (0.8052)}, 'orgbase_on': {'P':  (0.9639), 'R':  (0.8989), 'F1':  (0.9302)}, 'kill': {'P':  (1.), 'R':  (0.8548), 'F1':  (0.9217)}}\n",
    "result_25_argmax = {'people': {'P':  (0.9488), 'R':  (0.8618), 'F1':  (0.9032)}, 'organization': {'P':  (0.8166), 'R':  (0.7421), 'F1':  (0.7775)}, 'location': {'P':  (0.9068), 'R':  (0.8831), 'F1':  (0.8948)}, 'other': {'P':  (0.9223), 'R':  (0.5606), 'F1':  (0.6974)}, 'O': {'P':  (0.9889), 'R':  (0.9927), 'F1':  (0.9908)}, 'work_for': {'P':  (0.9385), 'R':  (0.8592), 'F1':  (0.8971)}, 'located_in': {'P':  (1.), 'R':  (0.6429), 'F1':  (0.7826)}, 'live_in': {'P':  (0.9306), 'R':  (0.7363), 'F1':  (0.8221)}, 'orgbase_on': {'P':  (0.9333), 'R':  (0.9438), 'F1':  (0.9385)}, 'kill': {'P':  (1.), 'R':  (0.8548), 'F1':  (0.9217)}}"
   ]
  },
  {
   "cell_type": "code",
   "execution_count": 8,
   "id": "fewer-conflict",
   "metadata": {},
   "outputs": [
    {
     "name": "stdout",
     "output_type": "stream",
     "text": [
      "----------------\n",
      "\n",
      "Results After ILP for the Normal in terms of P\n",
      "\n",
      "--Micro--\n",
      "Micro Presicion for Entities:  0.9028082036775106\n",
      "Micro Presicion for Relations:  0.9864983914209114\n",
      "Micro Presicion for All:  0.9125602936582317\n",
      "\n",
      "--Macro--\n",
      "Macro Precision for Entities:  0.89685\n",
      "Macro Precision for Relations:  0.9861599999999999\n",
      "Macro Precision for All:  0.9464666666666667\n",
      "----------------\n",
      "\n",
      "Results After ILP for the Normal in terms of R\n",
      "\n",
      "--Macro--\n",
      "Macro Precision for Entities:  0.8157749999999999\n",
      "Macro Precision for Relations:  0.77042\n",
      "Macro Precision for All:  0.7905777777777777\n",
      "----------------\n",
      "\n",
      "Results After ILP for the Normal in terms of F1\n",
      "\n",
      "--Macro--\n",
      "Macro Precision for Entities:  0.8472500000000001\n",
      "Macro Precision for Relations:  0.8603799999999999\n",
      "Macro Precision for All:  0.8545444444444444\n"
     ]
    }
   ],
   "source": [
    "compute_scores(result_25_ILP, name=\"Normal\", ILP=True)\n",
    "compute_scores(result_25_ILP, name=\"Normal\", ILP=True, criteria=\"R\")\n",
    "compute_scores(result_25_ILP, name=\"Normal\", ILP=True, criteria=\"F1\")"
   ]
  },
  {
   "cell_type": "code",
   "execution_count": 9,
   "id": "pregnant-performance",
   "metadata": {},
   "outputs": [
    {
     "name": "stdout",
     "output_type": "stream",
     "text": [
      "----------------\n",
      "\n",
      "Results before ILP for the Normal in terms of P\n",
      "\n",
      "--Micro--\n",
      "Micro Presicion for Entities:  0.9057001768033945\n",
      "Micro Presicion for Relations:  0.9607053619302949\n",
      "Micro Presicion for All:  0.9121097157138394\n",
      "\n",
      "--Macro--\n",
      "Macro Precision for Entities:  0.898625\n",
      "Macro Precision for Relations:  0.9604800000000001\n",
      "Macro Precision for All:  0.932988888888889\n",
      "----------------\n",
      "\n",
      "Results before ILP for the Normal in terms of R\n",
      "\n",
      "--Macro--\n",
      "Macro Precision for Entities:  0.7619\n",
      "Macro Precision for Relations:  0.8074\n",
      "Macro Precision for All:  0.7871777777777778\n",
      "----------------\n",
      "\n",
      "Results before ILP for the Normal in terms of F1\n",
      "\n",
      "--Macro--\n",
      "Macro Precision for Entities:  0.818225\n",
      "Macro Precision for Relations:  0.8724000000000001\n",
      "Macro Precision for All:  0.8483222222222222\n"
     ]
    }
   ],
   "source": [
    "compute_scores(result_25_argmax, name=\"Normal\", ILP=False)\n",
    "compute_scores(result_25_argmax, name=\"Normal\", ILP=False, criteria=\"R\")\n",
    "compute_scores(result_25_argmax, name=\"Normal\", ILP=False, criteria=\"F1\")"
   ]
  },
  {
   "cell_type": "code",
   "execution_count": 10,
   "id": "standing-period",
   "metadata": {},
   "outputs": [],
   "source": [
    "result_IML_25_ILP = {'people': {'P':  (0.9255), 'R':  (0.8501), 'F1':  (0.8862)}, 'organization': {'P':  (0.8152), 'R':  (0.7004), 'F1':  (0.7535)}, 'location': {'P':  (0.8493), 'R':  (0.8929), 'F1':  (0.8705)}, 'other': {'P':  (0.9504), 'R':  (0.5433), 'F1':  (0.6914)}, 'O': {'P':  (0.9810), 'R':  (0.9957), 'F1':  (0.9883)}, 'work_for': {'P':  (0.9815), 'R':  (0.7465), 'F1':  (0.8480)}, 'located_in': {'P':  (1.), 'R':  (0.5429), 'F1':  (0.7037)}, 'live_in': {'P':  (0.9672), 'R':  (0.6484), 'F1':  (0.7763)}, 'orgbase_on': {'P':  (0.9487), 'R':  (0.8315), 'F1':  (0.8862)}, 'kill': {'P':  (1.), 'R':  (0.7903), 'F1':  (0.8829)}}\n",
    "result_IML_25_argmax = {'people': {'P':  (0.9428), 'R':  (0.7235), 'F1':  (0.8187)}, 'organization': {'P':  (0.8410), 'R':  (0.5774), 'F1':  (0.6847)}, 'location': {'P':  (0.8919), 'R':  (0.7847), 'F1':  (0.8349)}, 'other': {'P':  (0.9003), 'R':  (0.5118), 'F1':  (0.6526)}, 'O': {'P':  (0.9862), 'R':  (0.9926), 'F1':  (0.9894)}, 'work_for': {'P':  (0.9231), 'R':  (0.8451), 'F1':  (0.8824)}, 'located_in': {'P':  (1.), 'R':  (0.5857), 'F1':  (0.7387)}, 'live_in': {'P':  (0.9412), 'R':  (0.7033), 'F1':  (0.8050)}, 'orgbase_on': {'P':  (0.9149), 'R':  (0.9663), 'F1':  (0.9399)}, 'kill': {'P':  (1.), 'R':  (0.8387), 'F1':  (0.9123)}}"
   ]
  },
  {
   "cell_type": "code",
   "execution_count": 11,
   "id": "printable-lingerie",
   "metadata": {},
   "outputs": [
    {
     "name": "stdout",
     "output_type": "stream",
     "text": [
      "----------------\n",
      "\n",
      "Results After ILP for the IML in terms of P\n",
      "\n",
      "--Micro--\n",
      "Micro Presicion for Entities:  0.8867791018387553\n",
      "Micro Presicion for Relations:  0.9797284182305631\n",
      "Micro Presicion for All:  0.897610121836926\n",
      "\n",
      "--Macro--\n",
      "Macro Precision for Entities:  0.8851\n",
      "Macro Precision for Relations:  0.97948\n",
      "Macro Precision for All:  0.9375333333333332\n",
      "----------------\n",
      "\n",
      "Results After ILP for the IML in terms of R\n",
      "\n",
      "--Macro--\n",
      "Macro Precision for Entities:  0.746675\n",
      "Macro Precision for Relations:  0.7119200000000001\n",
      "Macro Precision for All:  0.7273666666666667\n",
      "----------------\n",
      "\n",
      "Results After ILP for the IML in terms of F1\n",
      "\n",
      "--Macro--\n",
      "Macro Precision for Entities:  0.8004\n",
      "Macro Precision for Relations:  0.81942\n",
      "Macro Precision for All:  0.8109666666666667\n"
     ]
    }
   ],
   "source": [
    "compute_scores(result_IML_25_ILP, name=\"IML\", ILP=True)\n",
    "compute_scores(result_IML_25_ILP, name=\"IML\", ILP=True, criteria=\"R\")\n",
    "compute_scores(result_IML_25_ILP, name=\"IML\", ILP=True, criteria=\"F1\")"
   ]
  },
  {
   "cell_type": "code",
   "execution_count": 12,
   "id": "quiet-aerospace",
   "metadata": {},
   "outputs": [
    {
     "name": "stdout",
     "output_type": "stream",
     "text": [
      "----------------\n",
      "\n",
      "Results before ILP for the IML in terms of P\n",
      "\n",
      "--Micro--\n",
      "Micro Presicion for Entities:  0.8986457567185291\n",
      "Micro Presicion for Relations:  0.9566227882037532\n",
      "Micro Presicion for All:  0.9054015932521088\n",
      "\n",
      "--Macro--\n",
      "Macro Precision for Entities:  0.894\n",
      "Macro Precision for Relations:  0.95584\n",
      "Macro Precision for All:  0.9283555555555556\n",
      "----------------\n",
      "\n",
      "Results before ILP for the IML in terms of R\n",
      "\n",
      "--Macro--\n",
      "Macro Precision for Entities:  0.64935\n",
      "Macro Precision for Relations:  0.78782\n",
      "Macro Precision for All:  0.7262777777777778\n",
      "----------------\n",
      "\n",
      "Results before ILP for the IML in terms of F1\n",
      "\n",
      "--Macro--\n",
      "Macro Precision for Entities:  0.747725\n",
      "Macro Precision for Relations:  0.85566\n",
      "Macro Precision for All:  0.8076888888888889\n"
     ]
    }
   ],
   "source": [
    "compute_scores(result_IML_25_argmax, name=\"IML\", ILP=False)\n",
    "compute_scores(result_IML_25_argmax, name=\"IML\", ILP=False, criteria=\"R\")\n",
    "compute_scores(result_IML_25_argmax, name=\"IML\", ILP=False, criteria=\"F1\")"
   ]
  },
  {
   "cell_type": "code",
   "execution_count": 13,
   "id": "another-cooperative",
   "metadata": {},
   "outputs": [],
   "source": [
    "result_PD_25_argmax = {'people': {'P':  (0.9506), 'R':  (0.8695), 'F1':  (0.9082)}, 'organization': {'P':  (0.8304), 'R':  (0.7381), 'F1':  (0.7815)}, 'location': {'P':  (0.8972), 'R':  (0.8874), 'F1':  (0.8923)}, 'other': {'P':  (0.9231), 'R':  (0.5669), 'F1':  (0.7024)}, 'O': {'P':  (0.9887), 'R':  (0.9929), 'F1':  (0.9908)}, 'work_for': {'P':  (0.9375), 'R':  (0.8451), 'F1':  (0.8889)}, 'located_in': {'P':  (1.), 'R':  (0.6286), 'F1':  (0.7719)}, 'live_in': {'P':  (0.9054), 'R':  (0.7363), 'F1':  (0.8121)}, 'orgbase_on': {'P':  (0.9195), 'R':  (0.8989), 'F1':  (0.9091)}, 'kill': {'P':  (1.), 'R':  (0.8387), 'F1':  (0.9123)}}"
   ]
  },
  {
   "cell_type": "code",
   "execution_count": 14,
   "id": "synthetic-calcium",
   "metadata": {},
   "outputs": [
    {
     "name": "stdout",
     "output_type": "stream",
     "text": [
      "----------------\n",
      "\n",
      "Results before ILP for the PD in terms of P\n",
      "\n",
      "--Micro--\n",
      "Micro Presicion for Entities:  0.9057257779349364\n",
      "Micro Presicion for Relations:  0.9524528150134048\n",
      "Micro Presicion for All:  0.9111706966572947\n",
      "\n",
      "--Macro--\n",
      "Macro Precision for Entities:  0.900325\n",
      "Macro Precision for Relations:  0.9524800000000001\n",
      "Macro Precision for All:  0.9293000000000001\n",
      "----------------\n",
      "\n",
      "Results before ILP for the PD in terms of R\n",
      "\n",
      "--Macro--\n",
      "Macro Precision for Entities:  0.765475\n",
      "Macro Precision for Relations:  0.7895200000000001\n",
      "Macro Precision for All:  0.7788333333333335\n",
      "----------------\n",
      "\n",
      "Results before ILP for the PD in terms of F1\n",
      "\n",
      "--Macro--\n",
      "Macro Precision for Entities:  0.8210999999999999\n",
      "Macro Precision for Relations:  0.85886\n",
      "Macro Precision for All:  0.8420777777777777\n"
     ]
    }
   ],
   "source": [
    "compute_scores(result_PD_25_argmax, name=\"PD\", ILP=False)\n",
    "compute_scores(result_PD_25_argmax, name=\"PD\", ILP=False, criteria=\"R\")\n",
    "compute_scores(result_PD_25_argmax, name=\"PD\", ILP=False, criteria=\"F1\")"
   ]
  },
  {
   "cell_type": "code",
   "execution_count": 15,
   "id": "united-kenya",
   "metadata": {},
   "outputs": [],
   "source": [
    "result_PD_argmax = {'people': {'P':  (0.9499), 'R':  (0.9315), 'F1':  (0.9406)}, 'organization': {'P':  (0.8343), 'R':  (0.8393), 'F1':  (0.8368)}, 'location': {'P':  (0.9336), 'R':  (0.8907), 'F1':  (0.9116)}, 'other': {'P':  (0.9236), 'R':  (0.6472), 'F1':  (0.7611)}, 'O': {'P':  (0.9902), 'R':  (0.9937), 'F1':  (0.9920)}, 'work_for': {'P':  (0.9296), 'R':  (0.9296), 'F1':  (0.9296)}, 'located_in': {'P':  (0.9412), 'R':  (0.9143), 'F1':  (0.9275)}, 'live_in': {'P':  (0.8764), 'R':  (0.8571), 'F1':  (0.8667)}, 'orgbase_on': {'P':  (0.9213), 'R':  (0.9213), 'F1':  (0.9213)}, 'kill': {'P':  (1.), 'R':  (0.9516), 'F1':  (0.9752)}} "
   ]
  },
  {
   "cell_type": "code",
   "execution_count": 16,
   "id": "organizational-bottle",
   "metadata": {},
   "outputs": [
    {
     "name": "stdout",
     "output_type": "stream",
     "text": [
      "----------------\n",
      "\n",
      "Results before ILP for the PD in terms of P\n",
      "\n",
      "--Micro--\n",
      "Micro Presicion for Entities:  0.9181187411598303\n",
      "Micro Presicion for Relations:  0.9309592493297587\n",
      "Micro Presicion for All:  0.9196149953139644\n",
      "\n",
      "--Macro--\n",
      "Macro Precision for Entities:  0.91035\n",
      "Macro Precision for Relations:  0.9337\n",
      "Macro Precision for All:  0.9233222222222222\n",
      "----------------\n",
      "\n",
      "Results before ILP for the PD in terms of R\n",
      "\n",
      "--Macro--\n",
      "Macro Precision for Entities:  0.827175\n",
      "Macro Precision for Relations:  0.91478\n",
      "Macro Precision for All:  0.8758444444444444\n",
      "----------------\n",
      "\n",
      "Results before ILP for the PD in terms of F1\n",
      "\n",
      "--Macro--\n",
      "Macro Precision for Entities:  0.862525\n",
      "Macro Precision for Relations:  0.9240599999999999\n",
      "Macro Precision for All:  0.896711111111111\n"
     ]
    }
   ],
   "source": [
    "compute_scores(result_PD_argmax, name=\"PD\", ILP=False)\n",
    "compute_scores(result_PD_argmax, name=\"PD\", ILP=False, criteria=\"R\")\n",
    "compute_scores(result_PD_argmax, name=\"PD\", ILP=False, criteria=\"F1\")"
   ]
  },
  {
   "cell_type": "code",
   "execution_count": 17,
   "id": "beautiful-subject",
   "metadata": {},
   "outputs": [],
   "source": [
    "result_argmax = {'people': {'P':  (0.9485), 'R':  (0.9289), 'F1':  (0.9386)}, 'organization': {'P':  (0.8330), 'R':  (0.8413), 'F1':  (0.8371)}, 'location': {'P':  (0.9291), 'R':  (0.8874), 'F1':  (0.9078)}, 'other': {'P':  (0.9247), 'R':  (0.6378), 'F1':  (0.7549)}, 'O': {'P':  (0.9901), 'R':  (0.9940), 'F1':  (0.9921)}, 'work_for': {'P':  (0.9559), 'R':  (0.9155), 'F1':  (0.9353)}, 'located_in': {'P':  (0.9552), 'R':  (0.9143), 'F1':  (0.9343)}, 'live_in': {'P':  (0.9080), 'R':  (0.8681), 'F1':  (0.8876)}, 'orgbase_on': {'P':  (0.9535), 'R':  (0.9213), 'F1':  (0.9371)}, 'kill': {'P':  (1.), 'R':  (0.9516), 'F1':  (0.9752)}} \n",
    "result_ILP = {'people': {'P':  (0.9447), 'R':  (0.9483), 'F1':  (0.9465)}, 'organization': {'P':  (0.8387), 'R':  (0.8770), 'F1':  (0.8574)}, 'location': {'P':  (0.9237), 'R':  (0.9388), 'F1':  (0.9312)}, 'other': {'P':  (0.9371), 'R':  (0.6567), 'F1':  (0.7722)}, 'O': {'P':  (0.9896), 'R':  (0.9957), 'F1':  (0.9927)}, 'work_for': {'P':  (0.9841), 'R':  (0.8732), 'F1':  (0.9254)}, 'located_in': {'P':  (0.9846), 'R':  (0.9143), 'F1':  (0.9481)}, 'live_in': {'P':  (1.), 'R':  (0.8681), 'F1':  (0.9294)}, 'orgbase_on': {'P':  (0.9759), 'R':  (0.9101), 'F1':  (0.9419)}, 'kill': {'P':  (1.), 'R':  (0.9516), 'F1':  (0.9752)}}"
   ]
  },
  {
   "cell_type": "code",
   "execution_count": 18,
   "id": "neutral-syndrome",
   "metadata": {},
   "outputs": [
    {
     "name": "stdout",
     "output_type": "stream",
     "text": [
      "----------------\n",
      "\n",
      "Results After ILP for the Normal in terms of P\n",
      "\n",
      "--Micro--\n",
      "Micro Presicion for Entities:  0.9173078500707214\n",
      "Micro Presicion for Relations:  0.9887761394101876\n",
      "Micro Presicion for All:  0.9256357700718526\n",
      "\n",
      "--Macro--\n",
      "Macro Precision for Entities:  0.9110499999999999\n",
      "Macro Precision for Relations:  0.98892\n",
      "Macro Precision for All:  0.954311111111111\n",
      "----------------\n",
      "\n",
      "Results After ILP for the Normal in terms of R\n",
      "\n",
      "--Macro--\n",
      "Macro Precision for Entities:  0.8552\n",
      "Macro Precision for Relations:  0.9034600000000002\n",
      "Macro Precision for All:  0.8820111111111112\n",
      "----------------\n",
      "\n",
      "Results After ILP for the Normal in terms of F1\n",
      "\n",
      "--Macro--\n",
      "Macro Precision for Entities:  0.876825\n",
      "Macro Precision for Relations:  0.944\n",
      "Macro Precision for All:  0.9141444444444444\n"
     ]
    }
   ],
   "source": [
    "compute_scores(result_ILP, name=\"Normal\", ILP=True)\n",
    "compute_scores(result_ILP, name=\"Normal\", ILP=True, criteria=\"R\")\n",
    "compute_scores(result_ILP, name=\"Normal\", ILP=True, criteria=\"F1\")"
   ]
  },
  {
   "cell_type": "code",
   "execution_count": 19,
   "id": "comic-copper",
   "metadata": {},
   "outputs": [
    {
     "name": "stdout",
     "output_type": "stream",
     "text": [
      "----------------\n",
      "\n",
      "Results before ILP for the Normal in terms of P\n",
      "\n",
      "--Micro--\n",
      "Micro Presicion for Entities:  0.9162949080622347\n",
      "Micro Presicion for Relations:  0.9522109919571047\n",
      "Micro Presicion for All:  0.9204800687285223\n",
      "\n",
      "--Macro--\n",
      "Macro Precision for Entities:  0.9088250000000001\n",
      "Macro Precision for Relations:  0.9545200000000001\n",
      "Macro Precision for All:  0.9342111111111113\n",
      "----------------\n",
      "\n",
      "Results before ILP for the Normal in terms of R\n",
      "\n",
      "--Macro--\n",
      "Macro Precision for Entities:  0.82385\n",
      "Macro Precision for Relations:  0.9141600000000001\n",
      "Macro Precision for All:  0.8740222222222223\n",
      "----------------\n",
      "\n",
      "Results before ILP for the Normal in terms of F1\n",
      "\n",
      "--Macro--\n",
      "Macro Precision for Entities:  0.8596\n",
      "Macro Precision for Relations:  0.9339000000000001\n",
      "Macro Precision for All:  0.9008777777777779\n"
     ]
    }
   ],
   "source": [
    "compute_scores(result_argmax, name=\"Normal\", ILP=False)\n",
    "compute_scores(result_argmax, name=\"Normal\", ILP=False, criteria=\"R\")\n",
    "compute_scores(result_argmax, name=\"Normal\", ILP=False, criteria=\"F1\")"
   ]
  },
  {
   "cell_type": "code",
   "execution_count": 21,
   "id": "chief-forth",
   "metadata": {},
   "outputs": [],
   "source": [
    "result_iml_ILP = {'people': {'P':  (0.9461), 'R':  (0.9302), 'F1':  (0.9381)}, 'organization': {'P':  (0.8340), 'R':  (0.8472), 'F1':  (0.8406)}, 'location': {'P':  (0.9098), 'R':  (0.9257), 'F1':  (0.9177)}, 'other': {'P':  (0.9294), 'R':  (0.6220), 'F1':  (0.7453)}, 'O': {'P':  (0.9874), 'R':  (0.9956), 'F1':  (0.9915)}, 'work_for': {'P':  (0.9844), 'R':  (0.8873), 'F1':  (0.9333)}, 'located_in': {'P':  (0.9833), 'R':  (0.8429), 'F1':  (0.9077)}, 'live_in': {'P':  (1.), 'R':  (0.8352), 'F1':  (0.9102)}, 'orgbase_on': {'P':  (0.9762), 'R':  (0.9213), 'F1':  (0.9480)}, 'kill': {'P':  (1.), 'R':  (0.9355), 'F1':  (0.9667)}}\n",
    "result_iml_argmax = {'people': {'P':  (0.9471), 'R':  (0.8786), 'F1':  (0.9115)}, 'organization': {'P':  (0.8340), 'R':  (0.7778), 'F1':  (0.8049)}, 'location': {'P':  (0.9152), 'R':  (0.8732), 'F1':  (0.8937)}, 'other': {'P':  (0.8902), 'R':  (0.5874), 'F1':  (0.7078)}, 'O': {'P':  (0.9888), 'R':  (0.9931), 'F1':  (0.9909)}, 'work_for': {'P':  (0.9429), 'R':  (0.9296), 'F1':  (0.9362)}, 'located_in': {'P':  (0.9385), 'R':  (0.8714), 'F1':  (0.9037)}, 'live_in': {'P':  (0.9268), 'R':  (0.8352), 'F1':  (0.8786)}, 'orgbase_on': {'P':  (0.9333), 'R':  (0.9438), 'F1':  (0.9385)}, 'kill': {'P':  (1.), 'R':  (0.9355), 'F1':  (0.9667)}} "
   ]
  },
  {
   "cell_type": "code",
   "execution_count": 22,
   "id": "conservative-terrorism",
   "metadata": {},
   "outputs": [
    {
     "name": "stdout",
     "output_type": "stream",
     "text": [
      "----------------\n",
      "\n",
      "Results After ILP for the IML in terms of P\n",
      "\n",
      "--Micro--\n",
      "Micro Presicion for Entities:  0.9106270862800566\n",
      "Micro Presicion for Relations:  0.9885793565683646\n",
      "Micro Presicion for All:  0.9197105592002499\n",
      "\n",
      "--Macro--\n",
      "Macro Precision for Entities:  0.904825\n",
      "Macro Precision for Relations:  0.9887799999999999\n",
      "Macro Precision for All:  0.9514666666666665\n",
      "----------------\n",
      "\n",
      "Results After ILP for the IML in terms of R\n",
      "\n",
      "--Macro--\n",
      "Macro Precision for Entities:  0.831275\n",
      "Macro Precision for Relations:  0.88444\n",
      "Macro Precision for All:  0.8608111111111111\n",
      "----------------\n",
      "\n",
      "Results After ILP for the IML in terms of F1\n",
      "\n",
      "--Macro--\n",
      "Macro Precision for Entities:  0.8604249999999999\n",
      "Macro Precision for Relations:  0.9331799999999999\n",
      "Macro Precision for All:  0.9008444444444444\n"
     ]
    }
   ],
   "source": [
    "compute_scores(result_iml_ILP, name=\"IML\", ILP=True)\n",
    "compute_scores(result_iml_ILP, name=\"IML\", ILP=True, criteria=\"R\")\n",
    "compute_scores(result_iml_ILP, name=\"IML\", ILP=True, criteria=\"F1\")"
   ]
  },
  {
   "cell_type": "code",
   "execution_count": 23,
   "id": "emotional-connecticut",
   "metadata": {},
   "outputs": [
    {
     "name": "stdout",
     "output_type": "stream",
     "text": [
      "----------------\n",
      "\n",
      "Results before ILP for the IML in terms of P\n",
      "\n",
      "--Micro--\n",
      "Micro Presicion for Entities:  0.9038459688826025\n",
      "Micro Presicion for Relations:  0.9460434316353886\n",
      "Micro Presicion for All:  0.9087630740393627\n",
      "\n",
      "--Macro--\n",
      "Macro Precision for Entities:  0.896625\n",
      "Macro Precision for Relations:  0.9483\n",
      "Macro Precision for All:  0.9253333333333332\n",
      "----------------\n",
      "\n",
      "Results before ILP for the IML in terms of R\n",
      "\n",
      "--Macro--\n",
      "Macro Precision for Entities:  0.7792500000000001\n",
      "Macro Precision for Relations:  0.9031\n",
      "Macro Precision for All:  0.8480555555555556\n",
      "----------------\n",
      "\n",
      "Results before ILP for the IML in terms of F1\n",
      "\n",
      "--Macro--\n",
      "Macro Precision for Entities:  0.829475\n",
      "Macro Precision for Relations:  0.9247400000000001\n",
      "Macro Precision for All:  0.8824000000000001\n"
     ]
    }
   ],
   "source": [
    "compute_scores(result_iml_argmax, name=\"IML\", ILP=False)\n",
    "compute_scores(result_iml_argmax, name=\"IML\", ILP=False, criteria=\"R\")\n",
    "compute_scores(result_iml_argmax, name=\"IML\", ILP=False, criteria=\"F1\")"
   ]
  },
  {
   "cell_type": "markdown",
   "id": "confused-garage",
   "metadata": {},
   "source": [
    "# The new benchmark "
   ]
  },
  {
   "cell_type": "code",
   "execution_count": 9,
   "id": "shared-generation",
   "metadata": {},
   "outputs": [],
   "source": [
    "instances = {\"location\": 976, \"people\": 831, \"organization\": 601, \"other\": 512, \n",
    "             \"work_for\": 81, \"located_in\": 83, \"live_in\": 101, \"orgbase_on\": 101, \"kill\": 57}\n"
   ]
  },
  {
   "cell_type": "code",
   "execution_count": 31,
   "id": "painted-resident",
   "metadata": {},
   "outputs": [],
   "source": [
    "result_25_ILP = {'people': {'P': 0.9597989949748744, 'R': 0.9845360824742269, 'F1': 0.9720101781170485, 'accuracy': 0.990909090909091}, 'organization': {'P': 0.8860759493670886, 'R': 0.9459459459459459, 'F1': 0.9150326797385621, 'accuracy': 0.9892561983471074}, 'location': {'P': 0.9529411764705882, 'R': 0.9878048780487805, 'F1': 0.9700598802395209, 'accuracy': 0.9917355371900827}, 'other': {'P': 0.3157894736842105, 'R': 0.6666666666666666, 'F1': 0.42857142857142855, 'accuracy': 0.9867768595041322}, 'O': {'P': 0.9973082099596231, 'R': 0.9635890767230169, 'F1': 0.9801587301587301, 'accuracy': 0.9752066115702479}, 'work_for': {'P': 1.0, 'R': 0.9444444444444444, 'F1': 0.9714285714285714, 'accuracy': 0.991869918699187}, 'located_in': {'P': 1.0, 'R': 1.0, 'F1': 1.0, 'accuracy': 1.0}, 'live_in': {'P': 0.918918918918919, 'R': 1.0, 'F1': 0.9577464788732395, 'accuracy': 0.975609756097561}, 'orgbase_on': {'P': 1.0, 'R': 0.9285714285714286, 'F1': 0.962962962962963, 'accuracy': 0.983739837398374}, 'kill': {'P': 1.0, 'R': 1.0, 'F1': 1.0,\n",
    "'accuracy': 1.0}}\n",
    "\n",
    "result_25_argmax = {'people': {'P': 0.9732620320855615, 'R': 0.9381443298969072, 'F1': 0.9553805774278216, 'accuracy': 0.9859504132231405}, 'organization': {'P': 0.9193548387096774, 'R': 0.7702702702702703, 'F1': 0.8382352941176471, 'accuracy': 0.9818181818181818}, 'location': {'P': 0.9463087248322147, 'R': 0.8597560975609756, 'F1': 0.9009584664536741, 'accuracy': 0.9743801652892562}, 'other': {'P': 0.5714285714285714, 'R': 0.4444444444444444, 'F1': 0.5, 'accuracy': 0.9933884297520661}, 'O': {'P': 0.9707379134860051, 'R': 0.9921976592977894, 'F1': 0.9813504823151126, 'accuracy': 0.9760330578512396}, 'work_for': {'P': 0.8666666666666667, 'R': 0.7222222222222222, 'F1': 0.7878787878787877, 'accuracy': 0.943089430894309}, 'located_in': {'P': 0.9545454545454546, 'R': 0.8076923076923077, 'F1': 0.875, 'accuracy': 0.9512195121951219}, 'live_in': {'P': 0.8, 'R': 0.47058823529411764, 'F1': 0.5925925925925927, 'accuracy': 0.8211382113821138}, 'orgbase_on': {'P': 0.9285714285714286, 'R': 0.9285714285714286, 'F1': 0.9285714285714286, 'accuracy': 0.967479674796748}, 'kill': {'P': 1.0, 'R': 1.0, 'F1': 1.0, 'accuracy': 1.0}}\n"
   ]
  },
  {
   "cell_type": "code",
   "execution_count": 11,
   "id": "pharmaceutical-listing",
   "metadata": {},
   "outputs": [
    {
     "name": "stdout",
     "output_type": "stream",
     "text": [
      "----------------\n",
      "\n",
      "Results before ILP for the Normal in terms of P\n",
      "\n",
      "--Micro--\n",
      "Micro Presicion for Entities:  0.8826992297038656\n",
      "Micro Presicion for Relations:  0.9007399220165178\n",
      "Micro Presicion for All:  0.8849819736010395\n",
      "\n",
      "--Macro--\n",
      "Macro Precision for Entities:  0.8525885417640062\n",
      "Macro Precision for Relations:  0.90995670995671\n",
      "Macro Precision for All:  0.8844597463155083\n",
      "----------------\n",
      "\n",
      "Results before ILP for the Normal in terms of R\n",
      "\n",
      "--Macro--\n",
      "Macro Precision for Entities:  0.7531537855431494\n",
      "Macro Precision for Relations:  0.7858148387560153\n",
      "Macro Precision for All:  0.7712988151058526\n",
      "----------------\n",
      "\n",
      "Results before ILP for the Normal in terms of F1\n",
      "\n",
      "--Macro--\n",
      "Macro Precision for Entities:  0.7986435844997857\n",
      "Macro Precision for Relations:  0.8368085618085617\n",
      "Macro Precision for All:  0.819846349671328\n"
     ]
    }
   ],
   "source": [
    "compute_scores(result_25_argmax, name=\"Normal\", ILP=False, criteria=\"P\")\n",
    "compute_scores(result_25_argmax, name=\"Normal\", ILP=False, criteria=\"R\")\n",
    "compute_scores(result_25_argmax, name=\"Normal\", ILP=False, criteria=\"F1\")"
   ]
  },
  {
   "cell_type": "code",
   "execution_count": 32,
   "id": "simple-brass",
   "metadata": {},
   "outputs": [
    {
     "name": "stdout",
     "output_type": "stream",
     "text": [
      "----------------\n",
      "\n",
      "Results After ILP for the Normal in terms of P\n",
      "\n",
      "--Micro--\n",
      "Micro Presicion for Entities:  0.8294107565600517\n",
      "Micro Presicion for Relations:  0.980640214682768\n",
      "Micro Presicion for All:  0.8485462817727076\n",
      "\n",
      "--Macro--\n",
      "Macro Precision for Entities:  0.7786513986241904\n",
      "Macro Precision for Relations:  0.9837837837837838\n",
      "Macro Precision for All:  0.8926138348239646\n",
      "----------------\n",
      "\n",
      "Results After ILP for the Normal in terms of R\n",
      "\n",
      "--Macro--\n",
      "Macro Precision for Entities:  0.896238393283905\n",
      "Macro Precision for Relations:  0.9746031746031747\n",
      "Macro Precision for All:  0.9397743829057215\n",
      "----------------\n",
      "\n",
      "Results After ILP for the Normal in terms of F1\n",
      "\n",
      "--Macro--\n",
      "Macro Precision for Entities:  0.82141854166664\n",
      "Macro Precision for Relations:  0.9784276026529548\n",
      "Macro Precision for All:  0.9086457977701481\n"
     ]
    }
   ],
   "source": [
    "compute_scores(result_25_ILP, name=\"Normal\", ILP=True, criteria=\"P\")\n",
    "compute_scores(result_25_ILP, name=\"Normal\", ILP=True, criteria=\"R\")\n",
    "compute_scores(result_25_ILP, name=\"Normal\", ILP=True, criteria=\"F1\")"
   ]
  },
  {
   "cell_type": "code",
   "execution_count": 54,
   "id": "valued-rover",
   "metadata": {},
   "outputs": [],
   "source": [
    "# result_25_pd = {'people': {'P': 0.9601494396014943, 'R': 0.927797833935018, 'F1': 0.9436964504283966, 'accuracy': 0.9965122450526954},'organization': {'P': 0.8144329896907216, 'R': 0.771484375, 'F1': 0.7923771313941825, 'accuracy': 0.9921525513685647}, 'location': {'P': 0.8900883218842002, 'R': 0.9293032786885246, 'F1': 0.9092731829573933, 'accuracy': 0.9931382212449769}, 'other': {'P': 0.8097251585623678, 'R': 0.6372712146422629, 'F1': 0.713221601489758, 'accuracy': 0.9883236030025021}, 'O': {'P': 0.9894177645558861, 'R': 0.9924545997101202, 'F1': 0.9909338554524559, 'accuracy': 0.9838501781787854}, 'work_for': {'P': 0.9, 'R': 0.7777777777777778, 'F1': 0.8344370860927153, 'accuracy': 0.9408983451536643}, 'located_in': {'P': 0.8717948717948718, 'R': 0.8192771084337349, 'F1': 0.84472049689441, 'accuracy': 0.9408983451536643}, 'live_in': {'P': 0.9649122807017544, 'R': 0.5445544554455446, 'F1': 0.6962025316455697, 'accuracy': 0.8865248226950354}, 'orgbase_on': {'P': 0.9183673469387755, 'R': 0.8910891089108911, 'F1': 0.9045226130653267, 'accuracy': 0.9550827423167849}, 'kill': {'P': 1.0, 'R': 0.9649122807017544, 'F1': 0.9821428571428572, 'accuracy': 0.9952718676122931}}\n",
    "result_25_pd = {'people': {'P': 0.9388235294117647, 'R': 0.9602888086642599, 'F1': 0.9494348602022605, 'accuracy': 0.9967776177117295}, 'organization': {'P': 0.7399328859060402, 'R': 0.861328125, 'F1': 0.796028880866426, 'accuracy': 0.9914322541511866}, 'location': {'P': 0.8305084745762712, 'R': 0.9538934426229508, 'F1': 0.887935145445875, 'accuracy': 0.9910910607324286}, 'other': {'P': 0.5550351288056206, 'R': 0.7886855241264559, 'F1': 0.6515463917525773, 'accuracy': 0.9807794374099629}, 'O': {'P': 0.9943086276031561, 'R': 0.9830761360729815, 'F1': 0.9886604788750508, 'accuracy': 0.9799454090529988}, 'work_for': {'P': 0.9104477611940298, 'R': 0.7530864197530864, 'F1': 0.8243243243243243, 'accuracy': 0.9385342789598109}, 'located_in': {'P': 0.8933333333333333, 'R': 0.8072289156626506, 'F1': 0.8481012658227848, 'accuracy': 0.9432624113475178}, 'live_in': {'P': 0.868421052631579, 'R': 0.6534653465346535, 'F1': 0.7457627118644069, 'accuracy': 0.8936170212765957}, 'orgbase_on': {'P': 0.9270833333333334, 'R': 0.8811881188118812, 'F1': 0.9035532994923858, 'accuracy': 0.9550827423167849}, 'kill': {'P': 1.0, 'R': 0.9824561403508771, 'F1': 0.9911504424778761, 'accuracy': 0.9976359338061466}}\n"
   ]
  },
  {
   "cell_type": "code",
   "execution_count": 55,
   "id": "immediate-shock",
   "metadata": {},
   "outputs": [
    {
     "name": "stdout",
     "output_type": "stream",
     "text": [
      "----------------\n",
      "\n",
      "Results before ILP for the PD in terms of P\n",
      "\n",
      "--Micro--\n",
      "Micro Presicion for Entities:  0.7943891351046662\n",
      "Micro Presicion for Relations:  0.9130942749547027\n",
      "Micro Presicion for All:  0.8094092589923615\n",
      "\n",
      "--Macro--\n",
      "Macro Precision for Entities:  0.7660750046749242\n",
      "Macro Precision for Relations:  0.9198570960984551\n",
      "Macro Precision for All:  0.8515094999102192\n",
      "----------------\n",
      "\n",
      "Results before ILP for the PD in terms of R\n",
      "\n",
      "--Macro--\n",
      "Macro Precision for Entities:  0.8910489751034167\n",
      "Macro Precision for Relations:  0.8154849882226298\n",
      "Macro Precision for All:  0.8490689823918685\n",
      "----------------\n",
      "\n",
      "Results before ILP for the PD in terms of F1\n",
      "\n",
      "--Macro--\n",
      "Macro Precision for Entities:  0.8212363195667848\n",
      "Macro Precision for Relations:  0.8625784087963556\n",
      "Macro Precision for All:  0.8442041469165464\n"
     ]
    }
   ],
   "source": [
    "compute_scores(result_25_pd, name=\"PD\", ILP=False, criteria=\"P\")\n",
    "compute_scores(result_25_pd, name=\"PD\", ILP=False, criteria=\"R\")\n",
    "compute_scores(result_25_pd, name=\"PD\", ILP=False, criteria=\"F1\")"
   ]
  },
  {
   "cell_type": "code",
   "execution_count": 60,
   "id": "gentle-chocolate",
   "metadata": {},
   "outputs": [],
   "source": [
    "result_25_sampling = {'people': {'P': 0.9506781750924784, 'R': 0.927797833935018, 'F1': 0.9390986601705237, 'accuracy': 0.9962089620137994},\n",
    "'organization': {'P': 0.8315565031982942, 'R': 0.76171875, 'F1': 0.7951070336391437, 'accuracy': 0.9923800136477368}, 'location': {'P': 0.8918650793650794, 'R': 0.9211065573770492, 'F1': 0.9062500000000001, 'accuracy': 0.9929486693456668}, 'other': {'P': 0.8201284796573876, 'R': 0.6372712146422629, 'F1': 0.7172284644194756, 'accuracy': 0.9885510652816741}, 'O': {'P': 0.989709571799124, 'R': 0.9921988234291074, 'F1': 0.9909526343799894, 'accuracy': 0.9838880885586474}, 'work_for': {'P': 0.9178082191780822, 'R': 0.8271604938271605, 'F1': 0.8701298701298701, 'accuracy': 0.9527186761229315}, 'located_in': {'P': 0.8831168831168831, 'R': 0.8192771084337349, 'F1': 0.85, 'accuracy': 0.9432624113475178}, 'live_in': {'P': 0.8888888888888888, 'R': 0.6336633663366337, 'F1': 0.7398843930635838, 'accuracy': 0.8936170212765957}, 'orgbase_on': {'P': 0.90625, 'R': 0.8613861386138614, 'F1': 0.883248730964467, 'accuracy': 0.9456264775413712}, 'kill': {'P': 1.0, 'R': 0.9649122807017544, 'F1': 0.9821428571428572, 'accuracy': 0.9952718676122931}}"
   ]
  },
  {
   "cell_type": "code",
   "execution_count": 62,
   "id": "immediate-authentication",
   "metadata": {},
   "outputs": [
    {
     "name": "stdout",
     "output_type": "stream",
     "text": [
      "----------------\n",
      "\n",
      "Results before ILP for the Sampling in terms of P\n",
      "\n",
      "--Micro--\n",
      "Micro Presicion for Entities:  0.883611342797577\n",
      "Micro Presicion for Relations:  0.9124118081085194\n",
      "Micro Presicion for All:  0.8872555536341097\n",
      "\n",
      "--Macro--\n",
      "Macro Precision for Entities:  0.8735570593283098\n",
      "Macro Precision for Relations:  0.9192127982367708\n",
      "Macro Precision for All:  0.8989213587218993\n",
      "----------------\n",
      "\n",
      "Results before ILP for the Sampling in terms of R\n",
      "\n",
      "--Macro--\n",
      "Macro Precision for Entities:  0.8119735889885825\n",
      "Macro Precision for Relations:  0.821279877582629\n",
      "Macro Precision for All:  0.8171437493186082\n",
      "----------------\n",
      "\n",
      "Results before ILP for the Sampling in terms of F1\n",
      "\n",
      "--Macro--\n",
      "Macro Precision for Entities:  0.8394210395572859\n",
      "Macro Precision for Relations:  0.8650811702601555\n",
      "Macro Precision for All:  0.8536766677255467\n"
     ]
    }
   ],
   "source": [
    "compute_scores(result_25_sampling, name=\"Sampling\", ILP=False, criteria=\"P\")\n",
    "compute_scores(result_25_sampling, name=\"Sampling\", ILP=False, criteria=\"R\")\n",
    "compute_scores(result_25_sampling, name=\"Sampling\", ILP=False, criteria=\"F1\")"
   ]
  },
  {
   "cell_type": "code",
   "execution_count": 29,
   "id": "wired-wheat",
   "metadata": {},
   "outputs": [],
   "source": [
    "results_argmax = {'people': {'P': 0.9689119170984456, 'R': 0.9639175257731959, 'F1': 0.9664082687338501, 'accuracy': 0.9892561983471074}, 'organization': {'P': 0.9393939393939394, 'R': 0.8378378378378378, 'F1': 0.8857142857142858, 'accuracy': 0.9867768595041322}, 'location': {'P': 0.9515151515151515, 'R': 0.9573170731707317, 'F1': 0.9544072948328268, 'accuracy': 0.987603305785124}, 'other': {'P': 0.8571428571428571, 'R': 0.6666666666666666, 'F1': 0.75, 'accuracy': 0.996694214876033}, 'O': {'P': 0.9818417639429312, 'R': 0.9843953185955787, 'F1': 0.9831168831168832, 'accuracy': 0.9785123966942149}, 'work_for': {'P': 0.8421052631578947, 'R': 0.8888888888888888, 'F1': 0.8648648648648649, 'accuracy': 0.959349593495935}, 'located_in': {'P': 0.9230769230769231, 'R': 0.9230769230769231, 'F1': 0.9230769230769231, 'accuracy': 0.967479674796748}, 'live_in': {'P': 0.8928571428571429, 'R': 0.7352941176470589, 'F1': 0.806451612903226, 'accuracy': 0.9024390243902439}, 'orgbase_on': {'P': 1.0, 'R': 0.9285714285714286, 'F1': 0.962962962962963, 'accuracy': 0.983739837398374}, 'kill': {'P': 1.0, 'R': 1.0, 'F1': 1.0, 'accuracy': 1.0}}\n"
   ]
  },
  {
   "cell_type": "code",
   "execution_count": 30,
   "id": "classified-channels",
   "metadata": {},
   "outputs": [
    {
     "name": "stdout",
     "output_type": "stream",
     "text": [
      "----------------\n",
      "\n",
      "Results before ILP for the normal in terms of P\n",
      "\n",
      "--Micro--\n",
      "Micro Presicion for Entities:  0.9374237984316769\n",
      "Micro Presicion for Relations:  0.9290886107795402\n",
      "Micro Presicion for All:  0.9363691216811971\n",
      "\n",
      "--Macro--\n",
      "Macro Precision for Entities:  0.9292409662875984\n",
      "Macro Precision for Relations:  0.9316078658183923\n",
      "Macro Precision for All:  0.9305559104713728\n",
      "----------------\n",
      "\n",
      "Results before ILP for the normal in terms of R\n",
      "\n",
      "--Macro--\n",
      "Macro Precision for Entities:  0.8564347758621079\n",
      "Macro Precision for Relations:  0.8951662716368599\n",
      "Macro Precision for All:  0.8779522735147479\n",
      "----------------\n",
      "\n",
      "Results before ILP for the normal in terms of F1\n",
      "\n",
      "--Macro--\n",
      "Macro Precision for Entities:  0.8891324623202407\n",
      "Macro Precision for Relations:  0.9114712727615955\n",
      "Macro Precision for All:  0.9015429125654377\n"
     ]
    }
   ],
   "source": [
    "compute_scores(results_argmax, name=\"normal\", ILP=False, criteria=\"P\")\n",
    "compute_scores(results_argmax, name=\"normal\", ILP=False, criteria=\"R\")\n",
    "compute_scores(results_argmax, name=\"normal\", ILP=False, criteria=\"F1\")"
   ]
  },
  {
   "cell_type": "code",
   "execution_count": 46,
   "id": "significant-gentleman",
   "metadata": {},
   "outputs": [],
   "source": [
    "results_ilp = {'people': {'P': 0.9641025641025641, 'R': 0.9690721649484536, 'F1': 0.9665809768637532, 'accuracy': 0.9892561983471074}, 'organization': {'P': 0.9444444444444444, 'R': 0.918918918918919, 'F1': 0.9315068493150684, 'accuracy': 0.9917355371900827}, 'location': {'P': 0.9585798816568047, 'R': 0.9878048780487805, 'F1': 0.9729729729729729, 'accuracy': 0.9925619834710744}, 'other': {'P': 1.0, 'R': 0.6666666666666666, 'F1': 0.8, 'accuracy': 0.9975206611570248}, 'O': {'P': 0.9921875, 'R': 0.9908972691807543, 'F1': 0.9915419648666234, 'accuracy': 0.9892561983471074}, 'work_for': {'P': 1.0, 'R': 0.9444444444444444, 'F1': 0.9714285714285714, 'accuracy': 0.991869918699187}, 'located_in': {'P': 1.0, 'R': 1.0,\n",
    "'F1': 1.0, 'accuracy': 1.0}, 'live_in': {'P': 0.918918918918919, 'R': 1.0, 'F1': 0.9577464788732395, 'accuracy': 0.975609756097561}, 'orgbase_on': {'P': 1.0, 'R': 0.9285714285714286, 'F1': 0.962962962962963, 'accuracy': 0.983739837398374}, 'kill': {'P': 1.0, 'R': 1.0, 'F1': 1.0, 'accuracy':\n",
    "1.0}}\n",
    "\n",
    "# results_ilp = {'people': {'P': 0.9641025641025641, 'R': 0.9690721649484536, 'F1': 0.9665809768637532, 'accuracy': 0.9892561983471074},'organization': {'P': 0.9444444444444444, 'R': 0.918918918918919, 'F1': 0.9315068493150684, 'accuracy': 0.9917355371900827}, 'location': {'P': 0.9585798816568047, 'R': 0.9878048780487805, 'F1': 0.9729729729729729, 'accuracy': 0.9925619834710744}, 'other': {'P': 1.0, 'R': 0.6666666666666666, 'F1': 0.8, 'accuracy': 0.9975206611570248}, 'O': {'P': 0.9921875, 'R': 0.9908972691807543, 'F1': 0.9915419648666234, 'accuracy': 0.9892561983471074},'work_for': {'P': 1.0, 'R': 0.9444444444444444, 'F1': 0.9714285714285714, 'accuracy': 0.991869918699187}, 'located_in': {'P': 1.0, 'R': 1.0, 'F1':1.0, 'accuracy': 1.0}, 'live_in': {'P': 0.918918918918919, 'R': 1.0, 'F1': 0.9577464788732395, 'accuracy': 0.975609756097561}, 'orgbase_on': {'P':1.0, 'R': 0.9285714285714286, 'F1': 0.962962962962963, 'accuracy': 0.983739837398374}, 'kill': {'P': 1.0, 'R': 1.0, 'F1': 1.0, 'accuracy': 1.0}}\n"
   ]
  },
  {
   "cell_type": "code",
   "execution_count": 47,
   "id": "alpine-processor",
   "metadata": {},
   "outputs": [
    {
     "name": "stdout",
     "output_type": "stream",
     "text": [
      "----------------\n",
      "\n",
      "Results After ILP for the normal in terms of P\n",
      "\n",
      "--Micro--\n",
      "Micro Presicion for Entities:  0.9645048994443093\n",
      "Micro Presicion for Relations:  0.980640214682768\n",
      "Micro Presicion for All:  0.9665465501609913\n",
      "\n",
      "--Macro--\n",
      "Macro Precision for Entities:  0.9667817225509534\n",
      "Macro Precision for Relations:  0.9837837837837838\n",
      "Macro Precision for All:  0.9762273121247481\n",
      "----------------\n",
      "\n",
      "Results After ILP for the normal in terms of R\n",
      "\n",
      "--Macro--\n",
      "Macro Precision for Entities:  0.8856156571457049\n",
      "Macro Precision for Relations:  0.9746031746031747\n",
      "Macro Precision for All:  0.9350531668442993\n",
      "----------------\n",
      "\n",
      "Results After ILP for the normal in terms of F1\n",
      "\n",
      "--Macro--\n",
      "Macro Precision for Entities:  0.9177651997879486\n",
      "Macro Precision for Relations:  0.9784276026529548\n",
      "Macro Precision for All:  0.9514665347129522\n"
     ]
    }
   ],
   "source": [
    "compute_scores(results_ilp, name=\"normal\", ILP=True, criteria=\"P\")\n",
    "compute_scores(results_ilp, name=\"normal\", ILP=True, criteria=\"R\")\n",
    "compute_scores(results_ilp, name=\"normal\", ILP=True, criteria=\"F1\")"
   ]
  },
  {
   "cell_type": "code",
   "execution_count": 68,
   "id": "authentic-wallet",
   "metadata": {},
   "outputs": [],
   "source": [
    "results_pd = {'people': {'P': 0.9042316258351893, 'R': 0.9771359807460891, 'F1': 0.9392712550607287, 'accuracy': 0.9960194101144894}, 'organization': {'P': 0.6845151953690304, 'R': 0.923828125, 'F1': 0.7863674147963424, 'accuracy': 0.9902570323754644}, 'location': {'P': 0.7645161290322581, 'R': 0.9713114754098361, 'F1': 0.8555956678700362, 'accuracy': 0.987868678444158}, 'other': {'P': 0.484903934126258, 'R': 0.8818635607321131, 'F1': 0.6257378984651712, 'accuracy': 0.975964819167488}, 'O': {'P': 0.9968808213837023, 'R': 0.9809446670645409, 'F1': 0.988848542145635, 'accuracy': 0.9803245128516188}, 'work_for': {'P': 0.9382716049382716, 'R': 0.9382716049382716, 'F1': 0.9382716049382716, 'accuracy': 0.9763593380614657}, 'located_in': {'P': 0.8928571428571429, 'R': 0.9036144578313253, 'F1': 0.8982035928143712, 'accuracy': 0.9598108747044918}, 'live_in': {'P': 0.945054945054945, 'R': 0.8514851485148515, 'F1': 0.8958333333333333, 'accuracy': 0.9527186761229315}, 'orgbase_on': {'P': 0.9393939393939394, 'R': 0.9207920792079208, 'F1': 0.9300000000000002, 'accuracy': 0.966903073286052}, 'kill': {'P': 1.0, 'R': 1.0, 'F1': 1.0, 'accuracy': 1.0}}\n",
    "results_pd = {'people': {'P': 0.8952590959206174, 'R': 0.9771359807460891, 'F1': 0.9344073647871117, 'accuracy': 0.9956782166957313}, 'organization': {'P': 0.6752136752136753, 'R': 0.92578125, 'F1': 0.7808896210873146, 'accuracy': 0.9899158389567063}, 'location': {'P': 0.7624798711755234, 'R': 0.9702868852459017, 'F1': 0.8539224526600541, 'accuracy': 0.98771703692471}, 'other': {'P': 0.48495897903372837, 'R': 0.8851913477537438, 'F1': 0.6266195524146054, 'accuracy': 0.975964819167488}, 'O': {'P': 0.9967502924736774, 'R': 0.9806462614033592, 'F1': 0.98863270086168,\n",
    "'accuracy': 0.9799454090529988}, 'work_for': {'P': 0.9390243902439024, 'R': 0.9506172839506173, 'F1': 0.9447852760736196, 'accuracy': 0.9787234042553191}, 'located_in': {'P': 0.8823529411764706, 'R': 0.9036144578313253, 'F1': 0.8928571428571428, 'accuracy': 0.9574468085106383}, 'live_in': {'P': 0.9438202247191011, 'R': 0.8316831683168316, 'F1': 0.8842105263157894, 'accuracy': 0.9479905437352246}, 'orgbase_on': {'P': 0.95, 'R': 0.9405940594059405, 'F1': 0.9452736318407959, 'accuracy': 0.9739952718676123}, 'kill': {'P': 1.0, 'R': 0.9824561403508771, 'F1': 0.9911504424778761, 'accuracy': 0.9976359338061466}}\n"
   ]
  },
  {
   "cell_type": "code",
   "execution_count": 69,
   "id": "likely-substance",
   "metadata": {},
   "outputs": [
    {
     "name": "stdout",
     "output_type": "stream",
     "text": [
      "----------------\n",
      "\n",
      "Results before ILP for the PD in terms of P\n",
      "\n",
      "--Micro--\n",
      "Micro Presicion for Entities:  0.7336448900842574\n",
      "Micro Presicion for Relations:  0.9398867906005492\n",
      "Micro Presicion for All:  0.7597413076488375\n",
      "\n",
      "--Macro--\n",
      "Macro Precision for Entities:  0.7044779053358861\n",
      "Macro Precision for Relations:  0.9430395112278948\n",
      "Macro Precision for All:  0.8370121308314464\n",
      "----------------\n",
      "\n",
      "Results before ILP for the PD in terms of R\n",
      "\n",
      "--Macro--\n",
      "Macro Precision for Entities:  0.9395988659364336\n",
      "Macro Precision for Relations:  0.9217930219711183\n",
      "Macro Precision for All:  0.9297067304001474\n",
      "----------------\n",
      "\n",
      "Results before ILP for the PD in terms of F1\n",
      "\n",
      "--Macro--\n",
      "Macro Precision for Entities:  0.7989597477372714\n",
      "Macro Precision for Relations:  0.9316554039130448\n",
      "Macro Precision for All:  0.8726795567238121\n"
     ]
    }
   ],
   "source": [
    "compute_scores(results_pd, name=\"PD\", ILP=False, criteria=\"P\")\n",
    "compute_scores(results_pd, name=\"PD\", ILP=False, criteria=\"R\")\n",
    "compute_scores(results_pd, name=\"PD\", ILP=False, criteria=\"F1\")"
   ]
  },
  {
   "cell_type": "code",
   "execution_count": 74,
   "id": "exposed-whale",
   "metadata": {},
   "outputs": [],
   "source": [
    "reults_sampling = {'people': {'P': 0.9404761904761905, 'R': 0.950661853188929, 'F1': 0.945541591861161, 'accuracy': 0.9965501554325574}, 'organization': {'P': 0.8320158102766798, 'R': 0.822265625, 'F1': 0.8271119842829077, 'accuracy': 0.9933277731442869}, 'location': {'P': 0.8845419847328244, 'R': 0.9497950819672131, 'F1': 0.9160079051383399, 'accuracy': 0.9935552354234589}, 'other': {'P': 0.8786516853932584, 'R': 0.6505823627287853, 'F1': 0.7476099426386232, 'accuracy': 0.9899916597164303}, 'O': {'P': 0.990778906216802, 'R': 0.9939466280160286, 'F1': 0.9923602391947395, 'accuracy': 0.9863901736295397}, 'work_for': {'P': 0.974025974025974, 'R': 0.9259259259259259, 'F1': 0.949367088607595, 'accuracy': 0.9810874704491725}, 'located_in': {'P': 0.8554216867469879, 'R': 0.8554216867469879, 'F1': 0.8554216867469879, 'accuracy': 0.9432624113475178}, 'live_in': {'P': 0.9191919191919192, 'R': 0.900990099009901, 'F1': 0.91, 'accuracy': 0.9574468085106383}, 'orgbase_on': {'P': 0.9591836734693877, 'R': 0.9306930693069307, 'F1': 0.9447236180904524, 'accuracy': 0.9739952718676123}, 'kill': {'P': 1.0, 'R': 0.9824561403508771, 'F1': 0.9911504424778761, 'accuracy': 0.9976359338061466}}"
   ]
  },
  {
   "cell_type": "code",
   "execution_count": 75,
   "id": "analyzed-support",
   "metadata": {},
   "outputs": [
    {
     "name": "stdout",
     "output_type": "stream",
     "text": [
      "----------------\n",
      "\n",
      "Results before ILP for the Sampling in terms of P\n",
      "\n",
      "--Micro--\n",
      "Micro Presicion for Entities:  0.8886163891378711\n",
      "Micro Presicion for Relations:  0.937617112895735\n",
      "Micro Presicion for All:  0.8948166003701704\n",
      "\n",
      "--Macro--\n",
      "Macro Precision for Entities:  0.8839214177197383\n",
      "Macro Precision for Relations:  0.9415646506868537\n",
      "Macro Precision for All:  0.9159454360348024\n",
      "----------------\n",
      "\n",
      "Results before ILP for the Sampling in terms of R\n",
      "\n",
      "--Macro--\n",
      "Macro Precision for Entities:  0.8433262307212318\n",
      "Macro Precision for Relations:  0.9190973842681245\n",
      "Macro Precision for All:  0.885421316025061\n",
      "----------------\n",
      "\n",
      "Results before ILP for the Sampling in terms of F1\n",
      "\n",
      "--Macro--\n",
      "Macro Precision for Entities:  0.8590678559802579\n",
      "Macro Precision for Relations:  0.9301325671845824\n",
      "Macro Precision for All:  0.8985482510937715\n"
     ]
    }
   ],
   "source": [
    "compute_scores(reults_sampling, name=\"Sampling\", ILP=False, criteria=\"P\")\n",
    "compute_scores(reults_sampling, name=\"Sampling\", ILP=False, criteria=\"R\")\n",
    "compute_scores(reults_sampling, name=\"Sampling\", ILP=False, criteria=\"F1\")"
   ]
  },
  {
   "cell_type": "code",
   "execution_count": 56,
   "id": "optical-postcard",
   "metadata": {},
   "outputs": [],
   "source": [
    "result_25_nobert = {'people': {'P': 0.7692307692307693, 'R': 0.8247422680412371, 'F1': 0.7960199004975124, 'accuracy': 0.9322314049586777}, 'organization': {'P': 0.6063829787234043, 'R': 0.7702702702702703, 'F1': 0.6785714285714286, 'accuracy': 0.9553719008264463}, 'location': {'P': 0.6502732240437158, 'R': 0.725609756097561, 'F1': 0.685878962536023, 'accuracy': 0.9099173553719008}, 'other': {'P': 0.6, 'R': 0.6666666666666666, 'F1': 0.631578947368421, 'accuracy': 0.9942148760330578}, 'O': {'P': 0.9695767195767195, 'R': 0.953185955786736, 'F1': 0.9613114754098361, 'accuracy': 0.9512396694214876}, 'work_for': {'P': 0.9375, 'R': 0.8333333333333334, 'F1': 0.8823529411764706, 'accuracy': 0.967479674796748}, 'located_in': {'P': 0.9565217391304348, 'R': 0.8461538461538461, 'F1': 0.8979591836734695, 'accuracy': 0.959349593495935}, 'live_in': {'P': 0.7307692307692307, 'R': 0.5588235294117647, 'F1': 0.6333333333333334, 'accuracy': 0.8211382113821138}, 'orgbase_on': {'P': 0.92, 'R': 0.8214285714285714, 'F1': 0.8679245283018867, 'accuracy': 0.943089430894309}, 'kill': {'P': 1.0, 'R': 0.8235294117647058, 'F1': 0.9032258064516129, 'accuracy': 0.975609756097561}}\n"
   ]
  },
  {
   "cell_type": "code",
   "execution_count": 57,
   "id": "freelance-indian",
   "metadata": {},
   "outputs": [
    {
     "name": "stdout",
     "output_type": "stream",
     "text": [
      "----------------\n",
      "\n",
      "Results before ILP for the Normal in terms of P\n",
      "\n",
      "--Micro--\n",
      "Micro Presicion for Entities:  0.6662786322295212\n",
      "Micro Presicion for Relations:  0.896114649303826\n",
      "Micro Presicion for All:  0.6953604854219924\n",
      "\n",
      "--Macro--\n",
      "Macro Precision for Entities:  0.6564717429994723\n",
      "Macro Precision for Relations:  0.908958193979933\n",
      "Macro Precision for All:  0.7967419935441727\n",
      "----------------\n",
      "\n",
      "Results before ILP for the Normal in terms of R\n",
      "\n",
      "--Macro--\n",
      "Macro Precision for Entities:  0.7468222402689337\n",
      "Macro Precision for Relations:  0.7766537384184442\n",
      "Macro Precision for All:  0.7633952947964395\n",
      "----------------\n",
      "\n",
      "Results before ILP for the Normal in terms of F1\n",
      "\n",
      "--Macro--\n",
      "Macro Precision for Entities:  0.6980123097433464\n",
      "Macro Precision for Relations:  0.8369591585873545\n",
      "Macro Precision for All:  0.7752050035455731\n"
     ]
    }
   ],
   "source": [
    "compute_scores(result_25_nobert, name=\"Normal\", ILP=False, criteria=\"P\")\n",
    "compute_scores(result_25_nobert, name=\"Normal\", ILP=False, criteria=\"R\")\n",
    "compute_scores(result_25_nobert, name=\"Normal\", ILP=False, criteria=\"F1\")"
   ]
  },
  {
   "cell_type": "code",
   "execution_count": 58,
   "id": "optional-presence",
   "metadata": {},
   "outputs": [],
   "source": [
    "result_25_ILP_nobert = {'people': {'P': 0.8010204081632653, 'R': 0.8092783505154639, 'F1': 0.805128205128205, 'accuracy': 0.9371900826446281},\n",
    "'organization': {'P': 0.8309859154929577, 'R': 0.7972972972972973, 'F1': 0.8137931034482759, 'accuracy': 0.9776859504132231}, 'location': {'P': 0.7445652173913043, 'R': 0.8353658536585366, 'F1': 0.7873563218390804, 'accuracy': 0.9388429752066115}, 'other': {'P': 0.5555555555555556, 'R': 0.5555555555555556, 'F1': 0.5555555555555556, 'accuracy': 0.9933884297520661}, 'O': {'P': 0.984, 'R': 0.9596879063719116, 'F1': 0.9716919025674786, 'accuracy': 0.9644628099173553}, 'work_for': {'P': 0.8888888888888888, 'R': 0.8888888888888888, 'F1': 0.8888888888888888, 'accuracy': 0.967479674796748}, 'located_in': {'P': 0.8888888888888888, 'R': 0.9230769230769231, 'F1': 0.9056603773584906, 'accuracy': 0.959349593495935}, 'live_in': {'P':\n",
    "0.7878787878787878, 'R': 0.7647058823529411, 'F1': 0.7761194029850745, 'accuracy': 0.8780487804878049}, 'orgbase_on': {'P': 0.8888888888888888, 'R': 0.8571428571428571, 'F1': 0.8727272727272727, 'accuracy': 0.943089430894309}, 'kill': {'P': 0.8333333333333334, 'R': 0.8823529411764706, 'F1':\n",
    "0.8571428571428571, 'accuracy': 0.959349593495935}}"
   ]
  },
  {
   "cell_type": "code",
   "execution_count": 59,
   "id": "forbidden-storage",
   "metadata": {},
   "outputs": [
    {
     "name": "stdout",
     "output_type": "stream",
     "text": [
      "----------------\n",
      "\n",
      "Results After ILP for the Normal in terms of P\n",
      "\n",
      "--Micro--\n",
      "Micro Presicion for Entities:  0.7452775996620884\n",
      "Micro Presicion for Relations:  0.8572844282064139\n",
      "Micro Presicion for All:  0.7594501657626717\n",
      "\n",
      "--Macro--\n",
      "Macro Precision for Entities:  0.7330317741507706\n",
      "Macro Precision for Relations:  0.8575757575757577\n",
      "Macro Precision for All:  0.8022228760535411\n",
      "----------------\n",
      "\n",
      "Results After ILP for the Normal in terms of R\n",
      "\n",
      "--Macro--\n",
      "Macro Precision for Entities:  0.7493742642567134\n",
      "Macro Precision for Relations:  0.8632334985276161\n",
      "Macro Precision for All:  0.8126293944072149\n",
      "----------------\n",
      "\n",
      "Results After ILP for the Normal in terms of F1\n",
      "\n",
      "--Macro--\n",
      "Macro Precision for Entities:  0.7404582964927793\n",
      "Macro Precision for Relations:  0.8601077598205167\n",
      "Macro Precision for All:  0.8069302205637445\n"
     ]
    }
   ],
   "source": [
    "compute_scores(result_25_ILP_nobert, name=\"Normal\", ILP=True, criteria=\"P\")\n",
    "compute_scores(result_25_ILP_nobert, name=\"Normal\", ILP=True, criteria=\"R\")\n",
    "compute_scores(result_25_ILP_nobert, name=\"Normal\", ILP=True, criteria=\"F1\")"
   ]
  },
  {
   "cell_type": "code",
   "execution_count": 72,
   "id": "speaking-mumbai",
   "metadata": {},
   "outputs": [],
   "source": [
    "result_nobert = {'people': {'P': 0.8894472361809045, 'R': 0.9123711340206185, 'F1': 0.9007633587786259, 'accuracy': 0.9677685950413223}, 'organization': {'P': 0.788235294117647, 'R': 0.9054054054054054, 'F1': 0.8427672955974842, 'accuracy': 0.9793388429752066}, 'location': {'P': 0.8222222222222222, 'R': 0.9024390243902439, 'F1': 0.8604651162790697, 'accuracy': 0.9603305785123967}, 'other': {'P': 0.7142857142857143, 'R': 0.5555555555555556, 'F1': 0.6250000000000001, 'accuracy': 0.9950413223140496}, 'O': {'P': 0.9751633986928104, 'R': 0.9700910273081924, 'F1': 0.9726205997392439, 'accuracy': 0.9652892561983472}, 'work_for': {'P': 0.8947368421052632, 'R': 0.9444444444444444, 'F1': 0.918918918918919, 'accuracy': 0.975609756097561}, 'located_in': {'P': 0.9629629629629629, 'R': 1.0, 'F1': 0.9811320754716981, 'accuracy': 0.991869918699187}, 'live_in': {'P': 0.9, 'R': 0.5294117647058824, 'F1': 0.6666666666666667, 'accuracy': 0.8536585365853658}, 'orgbase_on': {'P': 0.96, 'R': 0.8571428571428571, 'F1': 0.9056603773584904, 'accuracy': 0.959349593495935}, 'kill': {'P': 0.9444444444444444, 'R': 1.0, 'F1': 0.9714285714285714, 'accuracy': 0.991869918699187}}"
   ]
  },
  {
   "cell_type": "code",
   "execution_count": 73,
   "id": "infinite-dutch",
   "metadata": {},
   "outputs": [
    {
     "name": "stdout",
     "output_type": "stream",
     "text": [
      "----------------\n",
      "\n",
      "Results before ILP for the Normal in terms of P\n",
      "\n",
      "--Micro--\n",
      "Micro Presicion for Entities:  0.8154326163130864\n",
      "Micro Presicion for Relations:  0.93166180489311\n",
      "Micro Presicion for All:  0.8301394505246777\n",
      "\n",
      "--Macro--\n",
      "Macro Precision for Entities:  0.803547616701622\n",
      "Macro Precision for Relations:  0.9324288499025342\n",
      "Macro Precision for All:  0.8751483018132399\n",
      "----------------\n",
      "\n",
      "Results before ILP for the Normal in terms of R\n",
      "\n",
      "--Macro--\n",
      "Macro Precision for Entities:  0.8189427798429558\n",
      "Macro Precision for Relations:  0.8661998132586369\n",
      "Macro Precision for All:  0.845196687296112\n",
      "----------------\n",
      "\n",
      "Results before ILP for the Normal in terms of F1\n",
      "\n",
      "--Macro--\n",
      "Macro Precision for Entities:  0.807248942663795\n",
      "Macro Precision for Relations:  0.8887613219688693\n",
      "Macro Precision for All:  0.8525335978332806\n"
     ]
    }
   ],
   "source": [
    "compute_scores(result_nobert, name=\"Normal\", ILP=False, criteria=\"P\")\n",
    "compute_scores(result_nobert, name=\"Normal\", ILP=False, criteria=\"R\")\n",
    "compute_scores(result_nobert, name=\"Normal\", ILP=False, criteria=\"F1\")"
   ]
  },
  {
   "cell_type": "code",
   "execution_count": 65,
   "id": "accessory-serbia",
   "metadata": {},
   "outputs": [],
   "source": [
    "result_nobert_ILP = {'people': {'P': 0.9105263157894737, 'R': 0.8917525773195877, 'F1': 0.9010416666666667, 'accuracy': 0.968595041322314},\n",
    "'organization': {'P': 0.8717948717948718, 'R': 0.918918918918919, 'F1': 0.8947368421052632, 'accuracy': 0.9867768595041322}, 'location': {'P': 0.864406779661017, 'R': 0.9329268292682927, 'F1': 0.8973607038123167, 'accuracy': 0.9710743801652892}, 'other': {'P': 0.7142857142857143, 'R': 0.5555555555555556, 'F1': 0.6250000000000001, 'accuracy': 0.9950413223140496}, 'O': {'P': 0.9894459102902374, 'R': 0.9752925877763329, 'F1': 0.9823182711198428, 'accuracy': 0.9776859504132231}, 'work_for': {'P': 0.9, 'R': 1.0, 'F1': 0.9473684210526316, 'accuracy': 0.983739837398374}, 'located_in': {'P': 0.9629629629629629, 'R': 1.0, 'F1': 0.9811320754716981, 'accuracy': 0.991869918699187}, 'live_in': {'P': 0.9375, 'R': 0.8823529411764706, 'F1': 0.9090909090909091, 'accuracy': 0.9512195121951219}, 'orgbase_on': {'P': 1.0, 'R': 0.8928571428571429, 'F1': 0.9433962264150945, 'accuracy':\n",
    "0.975609756097561}, 'kill': {'P': 0.8947368421052632, 'R': 1.0, 'F1': 0.9444444444444444, 'accuracy': 0.983739837398374}}\n"
   ]
  },
  {
   "cell_type": "code",
   "execution_count": 67,
   "id": "wicked-austria",
   "metadata": {},
   "outputs": [
    {
     "name": "stdout",
     "output_type": "stream",
     "text": [
      "----------------\n",
      "\n",
      "Results After ILP for the Normal in terms of P\n",
      "\n",
      "--Micro--\n",
      "Micro Presicion for Entities:  0.8527299277510989\n",
      "Micro Presicion for Relations:  0.9444761842220472\n",
      "Micro Presicion for All:  0.8643388617885535\n",
      "\n",
      "--Macro--\n",
      "Macro Precision for Entities:  0.8402534203827692\n",
      "Macro Precision for Relations:  0.9390399610136452\n",
      "Macro Precision for All:  0.8951348318443669\n",
      "----------------\n",
      "\n",
      "Results After ILP for the Normal in terms of R\n",
      "\n",
      "--Macro--\n",
      "Macro Precision for Entities:  0.8247884702655888\n",
      "Macro Precision for Relations:  0.9550420168067226\n",
      "Macro Precision for All:  0.89715155167733\n",
      "----------------\n",
      "\n",
      "Results After ILP for the Normal in terms of F1\n",
      "\n",
      "--Macro--\n",
      "Macro Precision for Entities:  0.8295348031460617\n",
      "Macro Precision for Relations:  0.9450864152949556\n",
      "Macro Precision for All:  0.8937301432287804\n"
     ]
    }
   ],
   "source": [
    "compute_scores(result_nobert_ILP, name=\"Normal\", ILP=True, criteria=\"P\")\n",
    "compute_scores(result_nobert_ILP, name=\"Normal\", ILP=True, criteria=\"R\")\n",
    "compute_scores(result_nobert_ILP, name=\"Normal\", ILP=True, criteria=\"F1\")"
   ]
  },
  {
   "cell_type": "code",
   "execution_count": 76,
   "id": "vertical-exhibition",
   "metadata": {},
   "outputs": [],
   "source": [
    "results_nobert_PD = {'people': {'P': 0.8769230769230769, 'R': 0.8814432989690721, 'F1': 0.8791773778920308, 'accuracy': 0.9611570247933884}, 'organization': {'P': 0.8313253012048193, 'R': 0.9324324324324325, 'F1': 0.8789808917197452, 'accuracy': 0.984297520661157}, 'location': {'P': 0.8333333333333334, 'R': 0.9146341463414634, 'F1': 0.872093023255814, 'accuracy': 0.9636363636363636}, 'other': {'P': 0.6666666666666666, 'R': 0.6666666666666666, 'F1': 0.6666666666666666, 'accuracy': 0.9950413223140496}, 'O': {'P': 0.9777195281782438, 'R': 0.9700910273081924, 'F1': 0.9738903394255874, 'accuracy': 0.9669421487603306}, 'work_for': {'P': 0.8095238095238095, 'R': 0.9444444444444444, 'F1': 0.8717948717948718, 'accuracy': 0.959349593495935}, 'located_in': {'P': 0.78125, 'R': 0.9615384615384616, 'F1': 0.8620689655172413, 'accuracy': 0.9349593495934959}, 'live_in': {'P': 0.8695652173913043, 'R': 0.5882352941176471, 'F1': 0.7017543859649124, 'accuracy': 0.8617886178861789}, 'orgbase_on': {'P': 0.96, 'R': 0.8571428571428571, 'F1': 0.9056603773584904, 'accuracy': 0.959349593495935}, 'kill': {'P': 0.9444444444444444, 'R': 1.0, 'F1': 0.9714285714285714, 'accuracy': 0.991869918699187}}\n"
   ]
  },
  {
   "cell_type": "code",
   "execution_count": 77,
   "id": "nonprofit-worst",
   "metadata": {},
   "outputs": [
    {
     "name": "stdout",
     "output_type": "stream",
     "text": [
      "----------------\n",
      "\n",
      "Results before ILP for the PD in terms of P\n",
      "\n",
      "--Micro--\n",
      "Micro Presicion for Entities:  0.8161014553472055\n",
      "Micro Presicion for Relations:  0.8724222195302213\n",
      "Micro Presicion for All:  0.8232278936509493\n",
      "\n",
      "--Macro--\n",
      "Macro Precision for Entities:  0.8020620945319741\n",
      "Macro Precision for Relations:  0.8729566942719117\n",
      "Macro Precision for All:  0.8414479832763839\n",
      "----------------\n",
      "\n",
      "Results before ILP for the PD in terms of R\n",
      "\n",
      "--Macro--\n",
      "Macro Precision for Entities:  0.8487941361024086\n",
      "Macro Precision for Relations:  0.8702722114486822\n",
      "Macro Precision for All:  0.8607264001836717\n",
      "----------------\n",
      "\n",
      "Results before ILP for the PD in terms of F1\n",
      "\n",
      "--Macro--\n",
      "Macro Precision for Entities:  0.8242294898835641\n",
      "Macro Precision for Relations:  0.8625414344128174\n",
      "Macro Precision for All:  0.8455139035109271\n"
     ]
    }
   ],
   "source": [
    "compute_scores(results_nobert_PD, name=\"PD\", ILP=False, criteria=\"P\")\n",
    "compute_scores(results_nobert_PD, name=\"PD\", ILP=False, criteria=\"R\")\n",
    "compute_scores(results_nobert_PD, name=\"PD\", ILP=False, criteria=\"F1\")"
   ]
  },
  {
   "cell_type": "code",
   "execution_count": null,
   "id": "comparable-literature",
   "metadata": {},
   "outputs": [],
   "source": []
  }
 ],
 "metadata": {
  "kernelspec": {
   "display_name": "Python 3",
   "language": "python",
   "name": "python3"
  },
  "language_info": {
   "codemirror_mode": {
    "name": "ipython",
    "version": 3
   },
   "file_extension": ".py",
   "mimetype": "text/x-python",
   "name": "python",
   "nbconvert_exporter": "python",
   "pygments_lexer": "ipython3",
   "version": "3.7.10"
  }
 },
 "nbformat": 4,
 "nbformat_minor": 5
}
