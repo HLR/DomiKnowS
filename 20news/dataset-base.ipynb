{
 "cells": [
  {
   "cell_type": "code",
   "execution_count": 1,
   "id": "638a9703-0de2-48ca-ae1f-bfd7ab82f8db",
   "metadata": {},
   "outputs": [
    {
     "name": "stderr",
     "output_type": "stream",
     "text": [
      "Found cached dataset csv (/home/rajabyfa/.cache/huggingface/datasets/rungalileo___csv/rungalileo--20_Newsgroups_Fixed-edf414ecc72dd622/0.0.0/6954658bab30a358235fa864b05cf819af0e179325c740e4bc853bcc7ec513e1)\n"
     ]
    },
    {
     "data": {
      "application/json": {
       "ascii": false,
       "bar_format": null,
       "colour": null,
       "elapsed": 0.021867036819458008,
       "initial": 0,
       "n": 0,
       "ncols": null,
       "nrows": null,
       "postfix": null,
       "prefix": "",
       "rate": null,
       "total": 2,
       "unit": "it",
       "unit_divisor": 1000,
       "unit_scale": false
      },
      "application/vnd.jupyter.widget-view+json": {
       "model_id": "95f3f2968ad844c5a59467ad146b9939",
       "version_major": 2,
       "version_minor": 0
      },
      "text/plain": [
       "  0%|          | 0/2 [00:00<?, ?it/s]"
      ]
     },
     "metadata": {},
     "output_type": "display_data"
    }
   ],
   "source": [
    "from datasets import load_dataset\n",
    "\n",
    "dataset = load_dataset(\"rungalileo/20_Newsgroups_Fixed\")"
   ]
  },
  {
   "cell_type": "code",
   "execution_count": 2,
   "id": "4434d38f-3d86-46ee-a932-30d36a541528",
   "metadata": {},
   "outputs": [],
   "source": [
    "def trim_dataset(dataset, key):\n",
    "    labels = {}\n",
    "    for item in dataset[key]:\n",
    "        if item['label'] not in labels:\n",
    "            labels[item['label']] = 0\n",
    "        labels[item['label']] += 1\n",
    "    print(labels)\n",
    "    before_len = len(dataset[key])\n",
    "    print(before_len)\n",
    "    dataset[key] = dataset[key].filter(lambda example: example['text'] and len(example[\"text\"]) >= 10)\n",
    "    after_len = len(dataset[key])\n",
    "    print(after_len)\n",
    "    print(\"the number of removed items : \", before_len - after_len)\n",
    "    labels = {}\n",
    "    for item in dataset[key]:\n",
    "        if item['label'] not in labels:\n",
    "            labels[item['label']] = 0\n",
    "        labels[item['label']] += 1\n",
    "    print(labels)\n",
    "    return dataset"
   ]
  },
  {
   "cell_type": "code",
   "execution_count": 3,
   "id": "0dda9036-9c16-4668-9996-d51a006cae2b",
   "metadata": {},
   "outputs": [
    {
     "name": "stderr",
     "output_type": "stream",
     "text": [
      "Loading cached processed dataset at /home/rajabyfa/.cache/huggingface/datasets/rungalileo___csv/rungalileo--20_Newsgroups_Fixed-edf414ecc72dd622/0.0.0/6954658bab30a358235fa864b05cf819af0e179325c740e4bc853bcc7ec513e1/cache-8f3933326eb4f5c9.arrow\n"
     ]
    },
    {
     "name": "stdout",
     "output_type": "stream",
     "text": [
      "{'rec.autos': 539, 'comp.sys.mac.hardware': 537, 'comp.graphics': 551, 'sci.space': 564, 'talk.politics.guns': 526, 'sci.med': 572, 'comp.sys.ibm.pc.hardware': 562, 'comp.os.ms-windows.misc': 555, 'rec.motorcycles': 551, 'talk.religion.misc': 339, None: 650, 'misc.forsale': 565, 'alt.atheism': 449, 'sci.electronics': 563, 'comp.windows.x': 576, 'rec.sport.hockey': 559, 'rec.sport.baseball': 547, 'soc.religion.christian': 582, 'talk.politics.mideast': 521, 'talk.politics.misc': 438, 'sci.crypt': 568}\n",
      "11314\n",
      "10998\n",
      "the number of removed items :  316\n",
      "{'rec.autos': 539, 'comp.sys.mac.hardware': 537, 'comp.graphics': 551, 'sci.space': 564, 'talk.politics.guns': 526, 'sci.med': 572, 'comp.sys.ibm.pc.hardware': 562, 'comp.os.ms-windows.misc': 555, 'rec.motorcycles': 551, 'talk.religion.misc': 339, 'misc.forsale': 565, 'alt.atheism': 449, 'sci.electronics': 563, 'comp.windows.x': 576, 'rec.sport.hockey': 559, 'rec.sport.baseball': 547, 'soc.religion.christian': 582, 'talk.politics.mideast': 521, 'talk.politics.misc': 438, 'sci.crypt': 568, None: 334}\n"
     ]
    },
    {
     "name": "stderr",
     "output_type": "stream",
     "text": [
      "Loading cached processed dataset at /home/rajabyfa/.cache/huggingface/datasets/rungalileo___csv/rungalileo--20_Newsgroups_Fixed-edf414ecc72dd622/0.0.0/6954658bab30a358235fa864b05cf819af0e179325c740e4bc853bcc7ec513e1/cache-c9f4876989f3d36c.arrow\n"
     ]
    },
    {
     "name": "stdout",
     "output_type": "stream",
     "text": [
      "{'rec.autos': 354, 'comp.windows.x': 370, None: 513, 'talk.politics.mideast': 353, 'talk.religion.misc': 230, 'sci.med': 371, 'soc.religion.christian': 380, 'comp.graphics': 370, 'comp.os.ms-windows.misc': 369, 'rec.motorcycles': 361, 'alt.atheism': 290, 'comp.sys.mac.hardware': 361, 'misc.forsale': 368, 'talk.politics.guns': 337, 'sci.space': 368, 'comp.sys.ibm.pc.hardware': 374, 'sci.crypt': 360, 'rec.sport.baseball': 366, 'rec.sport.hockey': 378, 'talk.politics.misc': 292, 'sci.electronics': 367}\n",
      "7532\n",
      "7304\n",
      "the number of removed items :  228\n",
      "{'rec.autos': 354, 'comp.windows.x': 370, None: 285, 'talk.politics.mideast': 353, 'talk.religion.misc': 230, 'sci.med': 371, 'soc.religion.christian': 380, 'comp.graphics': 370, 'comp.os.ms-windows.misc': 369, 'rec.motorcycles': 361, 'alt.atheism': 290, 'comp.sys.mac.hardware': 361, 'misc.forsale': 368, 'talk.politics.guns': 337, 'sci.space': 368, 'comp.sys.ibm.pc.hardware': 374, 'sci.crypt': 360, 'rec.sport.baseball': 366, 'rec.sport.hockey': 378, 'talk.politics.misc': 292, 'sci.electronics': 367}\n"
     ]
    }
   ],
   "source": [
    "dataset = trim_dataset(dataset, \"train\")\n",
    "dataset = trim_dataset(dataset, \"test\")"
   ]
  },
  {
   "cell_type": "code",
   "execution_count": 4,
   "id": "6f336c28-c601-410d-8475-7cbe94056058",
   "metadata": {},
   "outputs": [],
   "source": [
    "from transformers import RobertaTokenizer, BertTokenizer\n",
    "\n",
    "# tokenizer = RobertaTokenizer.from_pretrained(\"roberta-base\")\n",
    "tokenizer = BertTokenizer.from_pretrained(\"bert-base-uncased\")"
   ]
  },
  {
   "cell_type": "code",
   "execution_count": 5,
   "id": "af6bdfbd-8f94-4e16-809e-bce704240ef4",
   "metadata": {},
   "outputs": [],
   "source": [
    "# comp.graphics\n",
    "# comp.os.ms-windows.misc\n",
    "# comp.sys.ibm.pc.hardware\n",
    "# comp.sys.mac.hardware\n",
    "# comp.windows.x\n",
    "# rec.autos\n",
    "# rec.motorcycles\n",
    "# rec.sport.baseball\n",
    "# rec.sport.hockey\n",
    "# sci.crypt\n",
    "# <sci.electronics\n",
    "# sci.med\n",
    "# sci.space\n",
    "# misc.forsale\n",
    "# talk.politics.misc\n",
    "# talk.politics.guns\n",
    "# talk.politics.mideast\n",
    "# talk.religion.misc\n",
    "# alt.atheism\n",
    "# soc.religion.christian\n",
    "# None\n",
    "\n",
    "import torch\n",
    "\n",
    "\n",
    "def collate_label_set(data):\n",
    "    level1 = [ \n",
    "        \"comp\", \"rec\", \"sci\", \"misc\", \"talk\", \"alt\", \"soc\", \"None\"\n",
    "    ]\n",
    "    level2 = [\n",
    "        \"os\", \"sys\", \"windows\", \"graphics\", \"motorcycles\", \"sport\", \"autos\", \"religion\",\n",
    "        \"electronics\", \"med\", \"space\", \"forsale\", \"politics\", \"crypt\", \"None\"\n",
    "    ]\n",
    "    level2_pass = {\n",
    "        \"soc\", \"alt\" \n",
    "    }\n",
    "    level3_pass = {\n",
    "        \"windows\", \"os\", \"religion\"\n",
    "    }\n",
    "    level3 = [\n",
    "        \"misc\", \"guns\", \"ibm\", \"mac\", \"baseball\", \"hockey\", \"mideast\", \"None\"\n",
    "    ]\n",
    "    for item in data:\n",
    "        if item['text'] is None:\n",
    "            item['text'] = \" \"\n",
    "        try:\n",
    "            label = item['label']\n",
    "            if not label:\n",
    "                label = \"None\"\n",
    "                item['level1'] = level1.index(label)\n",
    "                item['level2'] = level2.index(\"None\")\n",
    "                item['level3'] = level3.index(\"None\")\n",
    "            else:\n",
    "                label = label.split(\".\")\n",
    "                if label[0] not in level1:\n",
    "                    print(label[0])\n",
    "                item['level1'] = level1.index(label[0])\n",
    "                if len(label) > 1:\n",
    "                    if label[0] in level2_pass:\n",
    "                        item['level2'] = level2.index(\"None\")\n",
    "                        item['level3'] = level3.index(\"None\")\n",
    "                    else:\n",
    "                        if label[1] not in level2:\n",
    "                            print(label[1])\n",
    "                            item['level2'] = level2.index(\"None\")\n",
    "                            item['level3'] = level3.index(\"None\")\n",
    "                        else:\n",
    "                            item['level2'] = level2.index(label[1])\n",
    "                            if len(label) > 2:\n",
    "                                if label[1] in level3_pass:\n",
    "                                    item['level3'] = level3.index(\"None\")\n",
    "                                else:\n",
    "                                    if label[2] not in level3:\n",
    "                                        print(label[2])\n",
    "                                        item['level3'] = level3.index(\"None\")\n",
    "                                    else:\n",
    "                                        item['level3'] = level3.index(label[2])\n",
    "                            else:\n",
    "                                item['level3'] = level3.index(\"None\")\n",
    "                else:\n",
    "                    item['level2'] = level2.index(\"None\")\n",
    "                    item['level3'] = level3.index(\"None\")\n",
    "        except:\n",
    "            print(label, item['text'])\n",
    "            raise\n",
    "            \n",
    "    final_data = {\"id\": None, \"text\": None, \"level1\": None, \"level2\": None, \"level3\": None}\n",
    "    final_data['id'] = torch.tensor([item['id'] for item in data])\n",
    "    final_data['text'] = [item['text'] for item in data]\n",
    "    final_data['level1'] = torch.tensor([item['level1'] for item in data])\n",
    "    final_data['level2'] = torch.tensor([item['level2'] for item in data])\n",
    "    final_data['level3'] = torch.tensor([item['level3'] for item in data])\n",
    "    try:\n",
    "        x = tokenizer.batch_encode_plus(final_data['text'], return_tensors=\"pt\", padding=\"longest\", max_length=512, truncation=True)\n",
    "    except:\n",
    "        print(final_data['text'])\n",
    "        raise\n",
    "    for key in x:\n",
    "        final_data[key] = x[key]\n",
    "        \n",
    "    return final_data"
   ]
  },
  {
   "cell_type": "code",
   "execution_count": 6,
   "id": "fe8a6838-5543-4faf-8bc9-16daf7897a44",
   "metadata": {},
   "outputs": [],
   "source": [
    "from torch.utils.data import DataLoader\n",
    "loader = DataLoader(dataset['train'], batch_size=64, collate_fn=collate_label_set)\n",
    "test_loader = DataLoader(dataset['test'], batch_size=36, collate_fn=collate_label_set)"
   ]
  },
  {
   "cell_type": "raw",
   "id": "53629d27-91da-47de-922f-ec32c5064ca8",
   "metadata": {},
   "source": [
    "level1 = { \n",
    "    \"comp\": 0, \"rec\": 0, \"sci\": 0, \"misc\": 0, \"talk\": 0, \"alt\": 0, \"soc\": 0, \"None\": 0\n",
    "}\n",
    "level2_keys = {\n",
    "        \"os\", \"sys\", \"windows\", \"graphics\", \"motorcycles\", \"sport\", \"autos\", \"religion\",\n",
    "        \"electronics\", \"med\", \"space\", \"forsale\", \"politics\", \"religion\", \"crypt\", \"None\"\n",
    "}\n",
    "level2 = {}\n",
    "for _k in level2_keys:\n",
    "    level2[_k] = 0\n",
    "    \n",
    "level3_keys = {\n",
    "    \"misc\", \"guns\", \"ibm\", \"mac\", \"baseball\", \"hockey\", \"mideast\", \"None\"\n",
    "}\n",
    "level3 = {}\n",
    "for _k in level3_keys:\n",
    "    level3[_k] = 0\n",
    "    \n",
    "for x in loader:\n",
    "    # print(x[0].keys())\n",
    "    for y in x:\n",
    "        try:\n",
    "            level1[y['level1']] += 1\n",
    "            level2[y['level2']] += 1\n",
    "            level3[y['level3']] += 1\n",
    "        except:\n",
    "            print(y['label'])\n",
    "            raise\n",
    "    \n",
    "print(level1)\n",
    "print(level2)\n",
    "print(level3)"
   ]
  },
  {
   "cell_type": "raw",
   "id": "999b88fd-ea5e-4e5a-80c4-b061f51b7d91",
   "metadata": {},
   "source": [
    "dataset['train'][0]"
   ]
  },
  {
   "cell_type": "raw",
   "id": "ebbd70ae-e7eb-4c7a-a289-63813ba1054b",
   "metadata": {},
   "source": [
    "next(iter(loader))"
   ]
  },
  {
   "cell_type": "code",
   "execution_count": 7,
   "id": "1dcf132a-e17b-4f98-8395-739d8fbe45e9",
   "metadata": {},
   "outputs": [
    {
     "name": "stderr",
     "output_type": "stream",
     "text": [
      "Some weights of the model checkpoint at bert-base-uncased were not used when initializing BertModel: ['cls.seq_relationship.bias', 'cls.predictions.transform.dense.weight', 'cls.predictions.transform.LayerNorm.weight', 'cls.seq_relationship.weight', 'cls.predictions.decoder.weight', 'cls.predictions.transform.dense.bias', 'cls.predictions.bias', 'cls.predictions.transform.LayerNorm.bias']\n",
      "- This IS expected if you are initializing BertModel from the checkpoint of a model trained on another task or with another architecture (e.g. initializing a BertForSequenceClassification model from a BertForPreTraining model).\n",
      "- This IS NOT expected if you are initializing BertModel from the checkpoint of a model that you expect to be exactly identical (initializing a BertForSequenceClassification model from a BertForSequenceClassification model).\n"
     ]
    }
   ],
   "source": [
    "from transformers import AutoTokenizer, RobertaModel, BertModel\n",
    "\n",
    "model_roberta = BertModel.from_pretrained(\"bert-base-uncased\")\n",
    "# item = next(iter(loader))\n",
    "# outputs = model_roberta(item['input_ids'], item['attention_mask'])"
   ]
  },
  {
   "cell_type": "raw",
   "id": "4f378861-8b15-412d-8dcb-55a3584ec15f",
   "metadata": {},
   "source": [
    "outputs.pooler_output"
   ]
  },
  {
   "cell_type": "code",
   "execution_count": 8,
   "id": "d242d03f-3b86-49ba-bf57-bfd0677cb953",
   "metadata": {},
   "outputs": [],
   "source": [
    "import torch.nn as nn\n",
    "import torch.nn.functional as F\n",
    "\n",
    "class NewsRepModule(nn.Module):\n",
    "    def __init__(self, roberta):\n",
    "        super().__init__()\n",
    "        self.roberta = roberta\n",
    "        self.drop_layer = nn.Dropout(p=0.3)\n",
    "\n",
    "    def forward(self, input_ids, attention_mask):\n",
    "        output = self.roberta(input_ids=input_ids, attention_mask=attention_mask)\n",
    "        logits = output.pooler_output\n",
    "        logits = self.drop_layer(logits)\n",
    "        return logits\n",
    "\n",
    "class Level1Calssification(nn.Module):\n",
    "    def __init__(self,):\n",
    "        super().__init__()\n",
    "        self.classification = nn.Linear(768, 8)\n",
    "\n",
    "    def forward(self, logits):\n",
    "        _out = self.classification(logits)\n",
    "        return _out\n",
    "    \n",
    "class Level2Calssification(nn.Module):\n",
    "    def __init__(self,):\n",
    "        super().__init__()\n",
    "        self.rep = nn.Linear(768, 100)\n",
    "        self.relu = nn.LeakyReLU()\n",
    "        self.classification = nn.Linear(100, 15)\n",
    "        self.drop_layer = nn.Dropout(p=0.3)\n",
    "        \n",
    "\n",
    "    def forward(self, logits):\n",
    "        _out = self.rep(logits)\n",
    "        _out = self.relu(_out)\n",
    "        _out = self.drop_layer(_out)\n",
    "        _out = self.classification(_out)\n",
    "        return _out\n",
    "    \n",
    "class Level3Calssification(nn.Module):\n",
    "    def __init__(self):\n",
    "        super().__init__()\n",
    "        self.classification = nn.Linear(768, 8)\n",
    "\n",
    "    def forward(self, logits):\n",
    "        _out = self.classification(logits)\n",
    "        return _out\n",
    "\n",
    "\n",
    "device = \"cuda:7\"\n",
    "rep_model = NewsRepModule(model_roberta)\n",
    "rep_model = rep_model.to(device)\n",
    "\n",
    "level1_classification = Level1Calssification().to(device)\n",
    "level2_classification = Level2Calssification().to(device)\n",
    "level3_classification = Level3Calssification().to(device)"
   ]
  },
  {
   "cell_type": "code",
   "execution_count": 13,
   "id": "f372dc43-2ccc-47cf-ba83-117774597e8d",
   "metadata": {},
   "outputs": [],
   "source": [
    "params = list(rep_model.parameters()) + list(level1_classification.parameters())\n",
    "params = list(params) + list(level2_classification.parameters()) + list(level3_classification.parameters())\n",
    "optim = torch.optim.AdamW(params, lr=2e-5)\n",
    "criterion = nn.CrossEntropyLoss()"
   ]
  },
  {
   "cell_type": "code",
   "execution_count": null,
   "id": "5558aa69-42a0-4713-a1a9-0504be102207",
   "metadata": {},
   "outputs": [],
   "source": [
    "for item in loader:\n",
    "    pass"
   ]
  },
  {
   "cell_type": "code",
   "execution_count": 14,
   "id": "a1c4af2c-ed04-4203-9bf0-25856253dd3a",
   "metadata": {},
   "outputs": [
    {
     "name": "stderr",
     "output_type": "stream",
     "text": [
      "  0%|          | 0/172 [00:00<?, ?it/s]"
     ]
    },
    {
     "name": "stdout",
     "output_type": "stream",
     "text": [
      "['I was wondering if anyone out there could enlighten me on this car I saw\\nthe other day. It was a 2-door sports car, looked to be from the late 60s/\\nearly 70s. It was called a Bricklin. The doors were really small. In addition,\\nthe front bumper was separate from the rest of the body. This is \\nall I know. If anyone can tellme a model name, engine specs, years\\nof production, where this car is made, history, or whatever info you\\nhave on this funky looking car, please e-mail.', \"A fair number of brave souls who upgraded their SI clock oscillator have\\nshared their experiences for this poll. Please send a brief message detailing\\nyour experiences with the procedure. Top speed attained, CPU rated speed,\\nadd on cards and adapters, heat sinks, hour of usage per day, floppy disk\\nfunctionality with 800 and 1.4 m floppies are especially requested.\\n\\nI will be summarizing in the next two days, so please add to the network\\nknowledge base if you have done the clock upgrade and haven't answered this\\npoll. Thanks.\", 'well folks, my mac plus finally gave up the ghost this weekend after\\nstarting life as a 512k way back in 1985.  sooo, i\\'m in the market for a\\nnew machine a bit sooner than i intended to be...\\n\\ni\\'m looking into picking up a powerbook 160 or maybe 180 and have a bunch\\nof questions that (hopefully) somebody can answer:\\n\\n* does anybody know any dirt on when the next round of powerbook\\nintroductions are expected?  i\\'d heard the 185c was supposed to make an\\nappearence \"this summer\" but haven\\'t heard anymore on it - and since i\\ndon\\'t have access to macleak, i was wondering if anybody out there had\\nmore info...\\n\\n* has anybody heard rumors about price drops to the powerbook line like the\\nones the duo\\'s just went through recently?\\n\\n* what\\'s the impression of the display on the 180?  i could probably swing\\na 180 if i got the 80Mb disk rather than the 120, but i don\\'t really have\\na feel for how much \"better\" the display is (yea, it looks great in the\\nstore, but is that all \"wow\" or is it really that good?).  could i solicit\\nsome opinions of people who use the 160 and 180 day-to-day on if its worth\\ntaking the disk size and money hit to get the active display?  (i realize\\nthis is a real subjective question, but i\\'ve only played around with the\\nmachines in a computer store breifly and figured the opinions of somebody\\nwho actually uses the machine daily might prove helpful).\\n\\n* how well does hellcats perform?  ;)\\n\\nthanks a bunch in advance for any info - if you could email, i\\'ll post a\\nsummary (news reading time is at a premium with finals just around the\\ncorner... :( )\\n--\\nTom Willis  \\\\  twillis@ecn.purdue.edu    \\\\    Purdue Electrical Engineering', \"\\nDo you have Weitek's address/phone number?  I'd like to get some information\\nabout this chip.\\n\", \"From article <C5owCB.n3p@world.std.com>, by tombaker@world.std.com (Tom A Baker):\\n\\n\\nMy understanding is that the 'expected errors' are basically\\nknown bugs in the warning system software - things are checked\\nthat don't have the right values in yet because they aren't\\nset till after launch, and suchlike. Rather than fix the code\\nand possibly introduce new bugs, they just tell the crew\\n'ok, if you see a warning no. 213 before liftoff, ignore it'.\", '\\n\\n\\n\\n\\nOf course.  The term must be rigidly defined in any bill.\\n\\n\\nI doubt she uses this term for that.  You are using a quote allegedly\\nfrom her, can you back it up?\\n\\n\\n\\n\\nI read the article as presenting first an argument about weapons of mass\\ndestruction (as commonly understood) and then switching to other topics.\\nThe first point evidently was to show that not all weapons should be\\nallowed, and then the later analysis was, given this understanding, to\\nconsider another class.\\n\\n\\n\\n', 'There were a few people who responded to my request for info on\\ntreatment for astrocytomas through email, whom I couldn\\'t thank\\ndirectly because of mail-bouncing probs (Sean, Debra, and Sharon).  So\\nI thought I\\'d publicly thank everyone.\\n\\nThanks! \\n\\n(I\\'m sure glad I accidentally hit \"rn\" instead of \"rm\" when I was\\ntrying to delete a file last September. \"Hmmm... \\'News?\\' What\\'s\\nthis?\"....)', '                                                                      \\nALL this shows is that YOU don\\'t know much about SCSI.\\n\\nSCSI-1 {with a SCSI-1 controler chip} range is indeed 0-5MB/s\\nand that is ALL you have right about SCSI\\nSCSI-1 {With a SCSI-2 controller chip}: 4-6MB/s with 10MB/s burst {8-bit}\\n Note the INCREASE in SPEED, the Mac Quadra uses this version of SCSI-1\\n so it DOES exist. Some PC use this set up too.\\nSCSI-2 {8-bit/SCSI-1 mode}:          4-6MB/s with 10MB/s burst\\nSCSI-2 {16-bit/wide or fast mode}:  8-12MB/s with 20MB/s burst\\nSCSI-2 {32-bit/wide AND fast}:     15-20MB/s with 40MB/s burst\\n \\nBy your OWN data the \"Although SCSI is twice as fast as ESDI\" is correct\\nWith a SCSI-2 controller chip SCSI-1 can reach 10MB/s which is indeed\\n\"20% faster than IDE\" {120% of 8.3 is 9.96}. ALL these SCSI facts have been\\nposted to this newsgroup in my Mac & IBM info sheet {available by FTP on \\nsumex-aim.stanford.edu (36.44.0.6) in the info-mac/report as \\nmac-ibm-compare[version #].txt (It should be 173 but 161 may still be there)}\\n\\nPart of this problem is both Mac and IBM PC are inconsiant about what SCSI\\nis which.  Though it is WELL documented that the Quadra has a SCSI-2 chip\\nan Apple salesperson said \"it uses a fast SCSI-1 chip\" {Not at a 6MB/s,\\n10MB/s burst it does not. SCSI-1 is 5MB/s maximum synchronous and Quadra\\nuses ANsynchronous SCSI which is SLOWER}  It seems that Mac and IBM see\\nSCSI-1 interface and think \\'SCSI-1\\' when it maybe a SCSI-1 interface driven\\nin the machine by a SCSi-2 controller chip in 8-bit mode {Which is MUCH\\nFASTER then true SCSI-1 can go}.', 'I have win 3.0 and downloaded several icons and BMP\\'s but I can\\'t figure out\\nhow to change the \"wallpaper\" or use the icons.  Any help would be appreciated.\\n\\n\\nThanx,\\n\\n-Brando', \"\\n\\n\\nI've had the board for over a year, and it does work with Diskdoubler,\\nbut not with Autodoubler, due to a licensing problem with Stac Technologies,\\nthe owners of the board's compression technology. (I'm writing this\\nfrom memory; I've lost the reference. Please correct me if I'm wrong.)\\n\\nUsing the board, I've had problems with file icons being lost, but it's\\nhard to say whether it's the board's fault or something else; however,\\nif I decompress the troubled file and recompress it without the board,\\nthe icon usually reappears. Because of the above mentioned licensing\\nproblem, the freeware expansion utility DD Expand will not decompress\\na board-compressed file unless you have the board installed.\\n\\nSince Stac has its own product now, it seems unlikely that the holes\\nin Autodoubler/Diskdoubler related to the board will be fixed.\\nWhich is sad, and makes me very reluctant to buy Stac's product since\\nthey're being so stinky. (But hey, that's competition.)\\n-- \", 'I have a line on a Ducati 900GTS 1978 model with 17k on the clock.  Runs\\nvery well, paint is the bronze/brown/orange faded out, leaks a bit of oil\\nand pops out of 1st with hard accel.  The shop will fix trans and oil \\nleak.  They sold the bike to the 1 and only owner.  They want $3495, and\\nI am thinking more like $3K.  Any opinions out there?  Please email me.\\nThanks.  It would be a nice stable mate to the Beemer.  Then I\\'ll get\\na jap bike and call myself Axis Motors!\\n\\n-- \\n-----------------------------------------------------------------------\\n\"Tuba\" (Irwin)      \"I honk therefore I am\"     CompuTrac-Richardson,Tx\\nirwin@cmptrc.lonestar.org    DoD #0826          (R75/6)', '\\nYep, that\\'s pretty much it. I\\'m not a Jew but I understand that this is the\\nJewish way of thinking. However, the Jews believe that the Covenant between\\nYHWH and the Patriarchs (Abraham and Moses, in this case) establishes a Moral\\nCode to follow for mankind. Even the Jews could not decide where the boundaries\\nfall, though.\\n\\nAs I understand it, the Sadducees believed that the Torah was all that was\\nrequired, whereas the Pharisees (the ancestors of modern Judaism) believed that\\nthe Torah was available for interpretation to lead to an understanding of\\nthe required Morality in all its nuances (->Talmud).\\n\\nThe essence of all of this is that Biblical Morality is an interface between\\nMan and YHWH (for a Jew or Christian) and does not necessarily indicate\\nanything about YHWH outside of that relationship (although one can speculate).\\n\\n\\nThe trouble with all of this is that we don\\'t really know what the \"created\\nin His image\" means. I\\'ve heard a number of different opinions on this and\\nhave still not come to any conclusion. This rather upsets the Apple Cart if\\none wants to base a Life Script on this shaky foundation (to mix metaphors\\nunashamedly!) As to living by Christ\\'s example, we know very little about\\nJesus as a person. We only have his recorded utterances in a set of narratives\\nby his followers, and some very small references from comtemporary historians.\\nRevelation aside, one can only \"know\" Christ second-hand or worse.\\n\\nThis is not an attempt to debunk Christianity (although it may seem that way\\ninitially), the point I`m trying to make is that we only really have the Bible\\nto interpret, and that interpretation is by humanity. I guess this is where\\nFaith or Relevation comes in with all its inherent subjectiveness.\\n\\n\\nNo. There may be an absolute moral code. There are undoubtably multiple\\nmoral codes. The multiple moral codes may be founded in the absolute moral\\ncode. As an example, a parent may tell a child never to swear, and the child\\nmay assume that the parent never swears simply because the parent has told\\nthe child that it is \"wrong\". Now, the parent may swear like a trooper in\\nthe pub or bar (where there are no children). The \"wrongness\" here is if\\nthe child disobeys the parent. The parent may feel that it is \"inappropriate\"\\nto swear in front of children but may be quite happy to swear in front of\\nanimals. The analogy does not quite hold water because the child knows that\\nhe is of the same type as the parent (and may be a parent later in life) but\\nyou get the gist of it? Incidentally, the young child considers the directive\\nas absolute until he gets older (see Piaget) and learns a morality of his own.\\n\\nDavid.\\n\\n---\\nOn religion:', '\\n   {Description of \"External Tank\" option for SSF redesign deleted}\\n\\n\\nYo Ken, let\\'s keep on-top of things! Both the \"External Tank\" and\\n\"Wingless Orbiter\" options have been deleted from the SSF redesign\\noptions list. Today\\'s (4/23) edition of the New York Times reports\\nthat O\\'Connor told the panel that some redesign proposals have\\nbeen dropped, such as using the \"giant external fuel tanks used\\nin launching space shuttles,\" and building a \"station around\\nan existing space shuttle with its wings and tail removed.\"\\n\\nCurrently, there are three options being considered, as presented\\nto the advisory panel meeting yesterday (and as reported in\\ntoday\\'s Times).\\n\\nOption \"A\" - Low Cost Modular Approach\\nThis option is being studied by a team from MSFC. {As an aside,\\nthere are SSF redesign teams at MSFC, JSC, and LaRC supporting\\nthe SRT (Station Redesign Team) in Crystal City. Both LeRC and\\nReston folks are also on-site at these locations, helping the respective\\nteams with their redesign activities.} Key features of this\\noption are:\\n  -  Uses \"Bus-1\", a modular bus developed by Lockheed that\\'s\\n     qualified for STS and ELV\\'s. The bus provides propulsion, GN&C\\n     Communications, & Data Management. Lockheed developed this\\n     for the Air Force.\\n  -  A \"Power Station Capability\" is obtained in 3 Shuttle Flights.\\n     SSF Solar arrays are used to provide 20 kW of power. The vehicle\\n     flies in an \"arrow mode\" to optimize the microgravity environment.\\n     Shuttle/Spacelab missions would utilize the vehilce as a power\\n     source for 30 day missions.\\n  -  Human tended capability (as opposed to the old SSF sexist term\\n     of man-tended capability) is achieved by the addition of the\\n     US Common module. This is a modified version of the existing\\n     SSF Lab module (docking ports are added for the International\\n     Partners\\' labs, taking the place of the nodes on SSF). The\\n     Shuttle can be docked to the station for 60 day missions.\\n     The Orbiter would provide crew habitability & EVA capability.\\n  -  International Human Tended. Add the NASDA & ESA modules, and\\n     add another 20 kW of power\\n  -  Permanent Human Presence Capability. Add a 3rd power module,\\n     the U.S. habitation module, and an ACRV (Assured Crew Return\\n     Vehicle).\\n\\nOption \"B\" - Space Station Freedom Derived\\nThe Option \"B\" team is based at LaRC, and is lead by Mike Griffin.\\nThis option looks alot like the existing SSF design, which we\\nhave all come to know and love :)\\n\\nThis option assumes a lightweight external tank is available for\\nuse on all SSF assembly flights (so does option \"A\"). Also, the \\nnumber of flights is computed for a 51.6 inclination orbit,\\nfor both options \"A\" and \"B\".\\n\\nThe build-up occurs in six phases:\\n  -  Initial Research Capability reached after 3 flights. Power\\n     is transferred from the vehicle to the Orbiter/Spacelab, when\\n     it visits.\\n  -  Man-Tended Capability (Griffin has not yet adopted non-sexist\\n     language) is achieved after 8 flights. The U.S. Lab is\\n     deployed, and 1 solar power module provides 20 kW of power.\\n  -  Permanent Human Presence Capability occurs after 10 flights, by\\n     keeping one Orbiter on-orbit to use as an ACRV (so sometimes\\n     there would be two Orbiters on-orbit - the ACRV, and the\\n     second one that comes up for Logistics & Re-supply).\\n  -  A \"Two Fault Tolerance Capability\" is achieved after 14 flights,\\n     with the addition of a 2nd power module, another thermal\\n     control system radiator, and more propulsion modules.\\n  -  After 20 flights, the Internationals are on-board. More power,\\n     the Habitation module, and an ACRV are added to finish the\\n     assembly in 24 flights.\\n\\nMost of the systems currently on SSF are used as-is in this option, \\nwith the exception of the data management system, which has major\\nchanges.', \"Reduced Prices! \\nI have a list of things forsale on behalf of my brother, who's moving (moved\\nalready)\\n\\n\\t\\t\\t\\t\\t\\t\\t\\tOffer:\\n1) Black and Decker Duster Plus (Portable Hand Vaccum)\\t\\n \\tpurchased for $32, \\t\\t\\t\\t\\t  $12\\n\\n2) SR-1000 Dual Cassette Portable Player, AM/FM\\n5-Band graphics Equalizer, high speed dubing, Duo \\nTape.Tape deck A, seems to have lost treble sound. \\nBut, I bet  it's fixable.\\n\\tpurchased for $80\\t\\t\\t\\t\\t  $25\\n\\n3)Monolux Zoom MicroScope, up to 1200X magnification\\nMade in Japan, includes case and accessories\\n\\tpurchased for $50\\t\\t\\t\\t\\t  $20\\n\\n4)Sunbeam 1400 Hair Dryer, the dryer you put your \\nhead under/into. You know, the ones you see in the salons.\\n(Don't ask me why my bro had it)\\n\\tpurchased for $60\\t\\t\\t\\t          $24\\n\\n5)Everylast Speed Bag, all leather. Brand new, never \\nused\\t\\t\\t\\t\\t\\t\\t\\t  $10\\n\\n6)Osterizer Pusle Matic Blender, with 10 speeds \\nand a cookbook, 5 years old\\t\\t\\t\\t\\t  $10\\n\\tpurchased for $50\\n\\n8)Binolux Binoculars . 7x35, extra wide angle\\n525ft. at 1000yds. with case. very new.\\t\\t                  $20\\n\\n9)Proctor and Silex Spray,Steam and Dry Iron.\\nvery new.\\t\\t\\t\\t\\t\\t\\t  $10\\n\\n\\nAny questions, contact me thru e-mail and I will reply expeditously\\nAnd always, S+H are not included, so please consider this.\\n\\nAnd lastly, I'm a very reasonable.Very Reasonable.\", '\\nDon\\'t be so sure.  Look what happened to Japanese citizens in the US during\\nWorld War II.  If you\\'re prepared to say \"Let\\'s round these people up and\\nstick them in a concentration camp without trial\", it\\'s only a short step to\\ngassing them without trial.  After all, it seems that the Nazis originally\\nonly intended to imprison the Jews; the Final Solution was dreamt up partly\\nbecause they couldn\\'t afford to run the camps because of the devastation\\ncaused by Goering\\'s Total War.  Those who weren\\'t gassed generally died of\\nmalnutrition or disease.\\n', '\\nI certainly do use it whenever I have to do TIFF, and it usually works\\nvery well.  That\\'s not my point.  I\\'m >philosophically< opposed to it\\nbecause of its complexity.\\n\\nThis complexity has led to some programs\\' poor TIFF writers making\\nsome very bizarre files, other programs\\' inability to load TIFF\\nimages (though they\\'ll save them, of course), and a general\\ninability to interchange images between different environments\\ndespite the fact they all think they understand TIFF.\\n\\nAs the saying goes, \"It\\'s not me I\\'m worried about- it\\'s all the\\nabuse of TIFF over the years, and I chalk it all up to the immense (and\\nunnecessary) complexity of the format.\\n\\nIn the words of the TIFF 5.0 spec, Appendix G, page G-1 (capitalized\\nemphasis mine):\\n\\n\"The only problem with this sort of success is that TIFF was designed\\nto be powerful and flexible, at the expense of simplicity.  It takes a\\nfair amount of effort to handle all the options currently defined in\\nthis specification (PROBABLY NO APPLICATION DOES A COMPLETE JOB),\\nand that is currently the only way you can be >sure< that you will be\\nable to import any TIFF image, since there are so many\\nimage-generating applications out there now.\"\\n\\n\\nIf a program (or worse all applications) can\\'t read >every< TIFF\\nimage, that means there are some it won\\'t- some that I might have to\\ndeal with.  Why would I want my images to be trapped in that format?  I\\ndon\\'t and neither should anyone who agrees with my reasoning- not\\nthat anyone does, of course! :-)', 'I recently posted an article asking what kind of rates single, male\\ndrivers under 25 yrs old were paying on performance cars. Here\\'s a summary of\\nthe replies I received.\\n \\n \\n \\n \\n-------------------------------------------------------------------------------\\n \\nI\\'m not under 25 anymore (but is 27 close enough).\\n \\n1992 Dodge Stealth RT/Twin Turbo (300hp model).\\nNo tickets, no accidents, own a house, have taken defensive driving 1,\\nairbag, abs, security alarm, single.\\n \\n$1500/year  $500 decut. State Farm Insurance (this includes the additional $100\\nfor the $1,000,000 umbrella policy over my car and house)  The base\\npolicy is the standard $100,000 - $100,000 - $300,000 policy required in DE.\\n \\nAfter 2nd defensive driving course it will be 5% less.\\n \\nI bought the car in September 1992.  The company I was with (never had\\nand accident or ticket in 11 years) quoted me $2,500.\\n \\nHope this helps.\\n \\nSteve Flynn\\nUniversity of Delaware\\n======================================================================== 45\\n \\n    Kevin:\\n \\n    (Hope I remembered your name correctly)...\\n \\n    You asked about insurance for performance cars.  Well, last year\\n    I was in a similar situation before I bought my car, and made the\\n    same inquiry as you.\\n \\n    Age: 24 (then and now)\\n    Car: 1992 Eagle Talon TSi AWD\\n    Driving Record: Clean\\n    State: Illinois\\n    Cost: $820/6 mos.\\n \\n    I turn 25 in May and the insurance goes down to $520/6 mos.\\n    Also, I\\'m single and that incurs a higher rate with my company.\\n \\n    I\\'ve got a couple other friends w/ AWDs and they pay more\\n    than I do (different ins. companies also), so maybe I\\'m just lucky.\\n \\n    Hope the info helps.\\n \\n    Dan\\n    [dans@jdc.gss.mot.com]\\n    Motorola Cellular Subscriber Group\\n \\n======================================================================== 38\\n USA\\nCc:\\n \\nI\\'m 23; live in Norman, Oklahoma; drive an \\'89 Thunderbird SC; have\\nnever made a claim against my insurance (though I have been hit\\nseveral times by negligent drivers who couldn\\'t see stop signs or\\nwere fiddling with their radios); and I have had three moving violations\\nin the last 18 months (one for going 85 in a 55; one for \"failure to\\nclear an intersection\" (I still say the damn light was yellow); and\\none for going 35 in a 25 (which didn\\'t go on my record)). My rates\\nfrom State Farm (with a passive restraint deduction) on liability,\\n$500 deductible comprehensive, and $500 deductible collision are\\nroughly $1300/year. (I was paying just over $1100/year for a \\'92 Escort LX.)\\n \\n\\t\\t\\t\\tJames\\n \\nJames P. Callison    Microcomputer Coordinator, U of Oklahoma Law Center\\nCallison@uokmax.ecn.uoknor.edu   /\\\\    Callison@aardvark.ucs.uoknor.edu\\nDISCLAIMER: I\\'m not an engineer, but I play one at work...\\n\\t\\tThe forecast calls for Thunder...\\'89 T-Bird SC\\n   \"It\\'s a hell of a thing, killing a man. You take away all he has\\n\\tand all he\\'s ever gonna have.\"\\n\\t\\t\\t--Will Munny, \"Unforgiven\"\\n======================================================================== 61\\n \\nI am beyond the \"under 25\" age group, but I have an experience a few\\nyears ago that might be interesting to you.  I owned a 1985 Toyota Celica\\nGT.  I decided to buy myself a gift - a more exotic car.  Front runners\\nincluded the Toyota Supra Turbo and the Porsche 924 (1987 model years).\\nI narrowed it down to those two.  I liked the simplicity and handling\\n(and snob appeal, too) of driving a Porsche.  The Supra Turbo was less\\nmoney and had more features and performance - almost a personal luxury\\ncar.  It had better acceleration and a higher top speed than the 924.\\nI was almost ready to give in to a buying impulse for the 924, but i\\ndecided to stop by my insurance agent\\'s office on the way.  I asked\\nabout what would happen to my rate with either car.\\n \\n\"If you buy the Supra, your rate classification will be the same as\\nthe Celica (the \\'85 Celica was considered a subcompact and for that\\nyear was rated as one of the safest cars), with a slight increase because\\nthe car will be 2 years newer.  Our lower-risk division will continue\\nto handle your account.\\n \\n\"If you buy the Porsche 924, we\\'ll have to change you to the standard\\n[higher] rate company and your rate will double.  And if you go with\\na 944, it\\'s another story again - we\\'ll cover the rest of this year,\\nbut cancel you after that.\"\\n \\n\"But the Supra is much faster than the 924, and the 924 is actually\\nfaster than the [standard] 944.  That doens\\'t make sense.\"\\n \\n That\\'s what the book says.  We don\\'t insure Corvettes, either.  For\\nsome reason, the underwriters consider Supras - and their drivers -\\nas very traditional and conservative.\"\\n \\nI eventually went with the Supra for a number of reasons.  The Porsche\\ndealer had a nice salesman to get me interested, but a tough high-pressure\\nguy in the back room.  At equal monthly payments, it would have taken\\na year longer to pay for the Porsche, plus its higher insurance.  I\\nconcluded that the high insurance was related to probability of auto\\ntheft.\\n \\n   /|/| /||)|/  /~ /\\\\| |\\\\|)[~|)/~   |   Everyone\\'s entitled to MY opinion.\\n  / | |/ ||\\\\|\\\\  \\\\_|\\\\/|_|/|)[_|\\\\\\\\_|  |      goldberg@oasys.dt.navy.mil\\n========Imagination is more important than knowledge. - Albert Einstein=======\\n \\n \\n \\n \\n \\n======================================================================== 32\\n \\nI live in Idaho.  When I was <26 many years ago (10 years) I bought a Trans\\nAm (new).  Insurance was about $1300/year.  When I turned 26, it immediately\\ndropped to $460/year.  I had not had any accidents before or after, this was\\nstrictly an age change.  That same rate stayed pretty much the same until I\\nsold the car 2 years ago.  My F-150 pickup is about $80/year less.\\n \\nThe real amazing thing is that when I woke up at age 25, I felt SO MUCH MORE\\nRESPONSIBLE than I was before...  :-)\\n \\nWes\\n \\n======================================================================== 21\\n \\n \\nFor your information:\\nCalifornia\\nMale, single, under 25 , No moving violation\\nAlfa Spider\\n     =======> $2000 / year\\n \\nWhat a bargain!!!\\n======================================================================== 28\\n \\nLet\\'s see, I\\'m 24, single, male, clean driving record. I have a 92 VW COrrado\\nVR6. I live in San Jose, California. I pay ~1500$ a year through Allstate. A\\ngood deal if you ask me.\\n \\nI was thinking about getting a Talon, but I think the insurance is higher\\nfor a \"turbo\" sports car vs a V6\\n \\n-W\\n \\n======================================================================== 27\\n \\n1986 Honda CRX Si, clean record, in a small New Mexico town was around $800\\nper year, age 24.\\n \\nNearby city rates were 1.5X-2X higher than where I\\'ve got mine insured.\\n \\n..robert\\n--\\nRobert Stack / Institute of Transportation Studies, Univ of California-Irvine\\n               stack@translab.its.uci.edu   \\'92 Mazda Protege LX\\n======================================================================== 37\\n1300 per year, 1992 Saturn SC, 21 Years old, State: New Mexico,\\nInsurance: State Farm.\\n \\n \\n======================================================================== 64\\n \\n \\nHere is my info:\\n \\nCar             : \\'89 Toyota Celica ST\\nInsurance Co    : Farmer\\'s Insurance\\nYearly insurance: $2028\\nAge             : 24\\nDate of license : Oct 14, 1992\\nResidence       : Mountain View, California\\nNo moving violations (for now atleast ;-)\\n \\nHope this helps. Please post a summary if possible.\\n \\nVijay\\n**********************************************************************\\nVijay Anisetti\\nEmail: anisetti@informix.com   Apt: (415)962-0320   Off: (415)926-6547\\n======================================================================== 38\\nSingle, 24 years old, Eagle Talon Turbo AWD, $1200 (full-cover, reasonable\\n liability)\\nNo tickets, No violations, No accidents... (knock on wood...)\\nMass,\\n \\n\\tOne thing that makes a HUGE difference in MASS is the town you live in.\\nI\\'m personally in one of the best towns within reasonable distance\\nof Boston.  If I moved to the absolute best it would go down to about\\n$1150, if I moved to the worst it would be $2000+..\\n \\n\\tAlso one accident and a couple of tickets, would probably add another $600...\\n \\n \\n\\t_RV\\n \\n \\n======================================================================== 43\\nI have a 1990 Mitsubishi eclipse turbo awd, am 23 years old and have no\\ntickets that went on my record.  I live in Illinois just outside of Chicago\\nand pay $1560 a year with full coverage at State Farm.  I did get a small\\ndiscount because of my alarm system($30 a year).  I only live 15 miles from\\nChicago but if I actually lived in the city the price would be about $2000\\na year.\\n======================================================================== 41\\nI\\'m over 25, but in case you\\'re interested anyway, I\\'m insuring a 93 SHO\\nfor $287/6 month.  Thats 100k personal+300k total+100k property with\\n250 deductible, glass and towing, State Farm.\\n \\n======================================================================== 39\\n \\nUnless you are under 20 or have been driving for less than 5\\nyears, I think you are being seriously ripped off.  I don\\'t have\\none of the performance cars you listed, but if your record is\\nclean, then you should not be paying over $2K.\\n \\nDid you try calling all the insurance dealers you could find?\\nAlthough rates are supposed to be standardized, I\\'ve found that\\nmost places I initially call, give me some ridiculously high\\nquote and *finaly*, I hit one that is much lower.\\n \\nAlso, I have changed insurance companies when the rate went up at\\nrenewal (no accidents, tickets, car gets older??) to maintain a low\\nrate.  You always have to be careful when it comes to insurance\\ncompanies 8^).', 'I would like to be able to amplify a voltage signal which is\\noutput from a thermocouple, preferably by a factor of\\n100 or 1000 ---- so that the resulting voltage can be fed\\nmore easily into a personal-computer-based ADC data\\nacquisition card.\\n\\nMight anyone be able to point me to references to such\\ncircuits?  I have seen simple amplifier circuits before, but\\nI am not sure how well they work in practice.\\n\\nIn this case, I\\'d like something which will amplify sufficiently\\n\"nicely\" to be used for thermocouples (say, a few degrees\\naccuracy or better).', 'QUESTION:\\n  What is the EXACT entry (parameter and syntax please), in the X-Terminal\\nconfiguration file (loaded when the X-Terminal boots), to add another system \\nto the TCP/IP access control list?   \\n\\n  BACKGROUND:\\n  I have two unix systems, 1. an AT&T 3B2 running X11R3 and MIT\\'s X11R4 and \\n2. a Sun SS10 without any X.  \\n  I want to have a window to the Sun and the 3B2 on the NCD X-Terminal at the\\nsame time.  I can do this if I manually set the Network Parameter TCP/IP\\nAccess Control List to off, then login to my telnet session. Not Great!  \\n  I\\'ve tried to get \"xhost\" to work and failed.  Either my syntax is wrong\\nor the X11R3 implementation is bogus.  \\n  I am trying to edit the NCD configuration file that is loaded when the \\nNCD boots.  No matter what entry I add or edit, the NCD still boots with\\nthe TCP/IP Access Control list containing only the 3B2.\\n  My manuals are worthless so any help would be most appreciated!!  Thanks!', '\\n[...]\\n\\nThese don\\'t seem like \"little things\" to me.  At least, they are orders\\nworse than the motto.  Do you think that the motto is a \"little thing\"\\nthat will lead to worse things?', '\\nI think that Mike Foligno was the captain of the Sabres when he\\ngot traded to the Leafs. Also, wasn\\'t Rick Vaive the captain of\\nthe Leafs when he got traded to Chicago (with Steve Thomas for\\nEd Olcyzk and someone). Speaking of the Leafs, I believe that\\nDarryl Sittler was their captain (he\\'d torn the \"C\" off his\\njersey but I think he re-claimed the captaincy later on) when he\\nwas traded to the Flyers.\\n\\nOh yeah, of course, Gretzky was the captain of the Oilers before\\nhe was traded wasn\\'t he? ', '\\n)>>   \"The Catalog of Personal Computing Tools for Engineers and Scien-\\n)>>   tists\" lists hardware cards and application software packages for \\n)>>   PC/XT/AT/PS/2 class machines.  Focus is on engineering and scien-\\n)>>   tific applications of PCs, such as data acquisition/control, \\n)>>   design automation, and data analysis and presentation.  \\n\\n)>>   If you would like a free copy, reply with your (U. S. Postal) \\n)>>   mailing address.\\n\\nI have a copy of this catalog in front of me as I write this.\\nIt does have tons of qool stuff in it. \\nMy impression is that they try not to send it out to \"browsers\". It\\nappears that if your not a buyer or an engineer they do not want to\\nwaste a catalog on you. When you get a catalog there\\'s a \"VIP Code\" you\\nhave to give them \"to ensure your continued subscription.\".\\nAnyway, if you want to get in touch with them, the company is\\n\\nPersonal Computing Tools\\n550 Division Street\\nCampbell, CA 95008\\n(408) 378-8400 \\n(They also have fax #\\'s and toll free #\\'s for ordering and tech support)', '\\n\\n\\n\\nThe control box of the Window itself (upper left corner of the window, single\\nclick, am I being too simplistic?) has a font option. The 8 X 12 is about the\\nbiggest one I can use without the characters turning funky. ', 'I don\\'t know about the specific problem mentioned in your\\nmessage, but I definitely had SCSI problems between my\\nQ700 and my venerable Jasmine Megadrive 10 cartridge\\ndrives.  My solution was to get Silverlining.  None of\\nthe loops that involved blind writes worked to the drives;\\nin fact the only loop that worked was the \"Macintosh\\nSoftware\" loop (whatever that means).', \"Hello,\\n     I am looking to add voice input capability to a user interface I am\\ndeveloping on an HP730 (UNIX) workstation.  I would greatly appreciate \\ninformation anyone would care to offer about voice input systems that are \\neasily accessible from the UNIX environment. \\n\\n     The names or adresses of applicable vendors, as well as any \\nexperiences you have had with specific systems, would be very helpful.\\n\\n     Please respond via email; I will post a summary if there is \\nsufficient interest.\\n\\n\\nThanks,\\nKen\\n\\n\\nP.S.  I have found several impressive systems for IBM PC's, but I would \\nlike to avoid the hassle of purchasing and maintaining a separate PC if \\nat all possible.\\n\\n-------------------------------------------------------------------------------\\nKen Hinckley (kph2q@virginia.edu)\\nUniversity of Virginia \\nNeurosurgical Visualization Laboratory\", '\\n       Actually, fossil fuel plants run hotter than the usual \\nboiling-water reactor nuclear plants.  (There\\'s a gripe in the industry\\nthat nuclear power uses 1900 vintage steam technology).  So it\\'s\\nmore important in nuclear plants to get the cold end of the system\\nas cold as possible.  Hence big cooling towers.  \\n\\n       Oil and gas fired steam plants also have condensers, but they\\nusually are sized to get the steam back into hot water, not most of the\\nway down to ambient.  Some plants do cool the condensers with water,\\nrather than air; as one Canadian official, asked about \"thermal \\npollution\" de-icing a river, said, \"Up here, we view heat as a resource\".  \\n\\n       Everybody runs closed-cycle boilers.  The water used is \\npurified of solids, which otherwise crud up the boiler plumbing when\\nthe water boils.  Purifying water for boiler use is a bigger job than \\ncooling it, so the boiler water is recycled.', \"Doug Roberts - Ken Hill for NL MVP!!\\n\\t       Let's go 'Spos\\n\", '\\nYes.\\n\\n(I am adamantly an environmentalist.  I will not use styrofoam table service.\\nPlease keep that in mind as you read this post - I do not wish to attack\\nenvironmentalism)\\n\\nA half truth is at least as dangerous as a complete lie.  A complete lie will\\nrarely be readily accepted, while a half truth (the lie subtly hidden) is more\\npowerfully offered by one who masquerades as an angel of light.\\n\\nSatan has (for some people) loosened the grip on treating the earth as something\\nother than God\\'s intricate handiwork, something other than that on which the\\nhealth of future generations is based.  It is being treated with respect.  You\\nthink he\\'s going to happily leave it at that?  No.  When one error is rejected,\\nit is his style to push people to the opposite error.  Therefore the earth is\\nnot God\\'s intricate handiwork, not because it is rubbish, but because it is\\nGod.  Mother earth is the one you are to primarily love and serve.\\n\\nI see two facets of a response to it:\\n\\n1: Care for the environment.  Treat it with proper respect, both because it is\\n   God\\'s intricate handiwork and the health of future generation, and because\\n   showing the facet of one who is disregardful of such things does not\\n   constitute what the Apostle Paul called \"becoming all things to all men so\\n   that by all possible means I might save some.\"\\n\\n   Don\\'t say \"Forget the environment, I\\'ve got important things to spend my time\\n   on.\" - putting your foot in your mouth in this manner will destroy your\\n   credibility in expressing the things that _are_ more important.\\n\\n2: Show that it is not the ultimate entity, that it is creature and not\\n   creator.  Show that its beauty and glory points to a greater beauty and\\n   glory.  Show that it is not the ultimate tapestry, but one of many cords\\n   woven in the infinite tapestry.', '\\nIt depends on your priorities.  A lot of people put higher priorities\\non gas mileage and cost than on safety, buying \"unsafe\" econoboxes\\ninstead of Volvos.  I personally take a middle ground -- the only\\nthing I really look for is a three-point seatbelt and 5+mph bumpers.\\nI figure that 30mph collisions into brick walls aren\\'t common enough\\nfor me to spend that much extra money for protection, but there are\\nlots of low-speed collisions that do worry me.', \"\\nThe front covers should be available from Sony.  Check with a local car\\nstereo shop.  You will probably (definitely) have to provide the units \\nserial number and hopefully you had registered the warranty card.  I \\ndon't know the cost, but replacements have to be available to people\\nwho damage the face cover, so it stands to reason that it can be replaced.\\n\\nAs to deterring theft:\\n\\nWhen I worked for a stereo shop, we referred the customer to a Sony 800\\nnumber.  We would not sell the face, nor did we have them available.  Most\\npeople who came in asking for the face cover (or a pullout sleave for that\\nmatter) would look very disheartened to find that they acquired a deck\\nthey couldn't use.  If theft occurs with these decks, notify Sony.  Serial\\nnumbers do catch theives.\", \"My 14-y-o son has the usual teenage spotty chin and greasy nose.  I\\nbought him Clearasil face wash and ointment.  I think that is probably\\nenough, along with the usual good diet.  However, he is on at me to\\nget some product called Dalacin T, which used to be a\\ndoctor's-prescription only treatment but is not available over the\\nchemist's counter.  I have asked a couple of pharmacists who say\\neither his acne is not severe enough for Dalacin T, or that Clearasil\\nis OK.  I had the odd spots as a teenager, nothing serious.  His\\nfather was the same, so I don't figure his acne is going to escalate\\ninto something disfiguring.  But I know kids are senstitive about\\ntheir appearance.  I am wary because a neighbour's son had this wierd\\nmalady that was eventually put down to an overdose of vitamin A from\\nacne treatment.  I want to help - but with appropriate treatment.\\n\\nMy son also has some scaliness around the hairline on his scalp.  Sort\\nof teenage cradle cap.  Any pointers/advice on this?  We have tried a\\ncouple of anti dandruff shampoos and some of these are inclined to\\nmake the condition worse, not better.\\n\\nShall I bury the kid till he's 21 :)\\n\", ' Just as a not of possible interest on this subject ..\\nIt is my understanding that exploding televisions were a major cause of\\ndomestic accidents in the Soviet Union in past years!\\n  \\n', \"\\nHow do you define war?  Do seiges and constant attacks on villiages\\ncount as acts of war, or is that only when the Jews do them?\\nJanuary, 1948: Arab Liberation Army attacks Kfar Szold\\n               1000 men attack Kfar Etzion, 14 miles south of Jerusalem,\\n                    after cutting off the supply lines to it.\\nAttacks on Yehiam (Western Galilee) and kibbutz Tirat Tzvi.\\nBy Mid-March, The Jewish settlements in the Negev had been cut off from\\n      land links with the rest of the Jewish population.\\n         The Etzion group of villiages, near Hebron, had been cut off,\\n            while 42 members of a convoy trying to supply Yehiam were\\n            slaughtered, cutting off the villiage.\\nJerusalem was under seige, being cut off from its supply route from\\n     Tel Aviv (the bombed out supply trucks have been left on the side\\n     of that road to this day in memoriam).  By this time, 1200 Jews \\n     had been killed.\\n\\nOf course, this isn't war, since it's only the Arabs attacking.\\nJust like last week when the Fatah launched Katyusha rockets\\nagainst Northern israel.  Where does uprising end and war begin?\\nWill it still be 'Intifadah' when the PLO brings in tanks?\\n\\n\\n\", '\\nOnce again, it appears that the one-eyed man has appeared in the land of the sighted\\nand for some strange resaon has appointed himself the ruler and supreme power.', '\\nFunny you should mention this; one time on HNIC Don Cherry pointed out\\nVanbiesbrouck\\'s mask.  He _hated_ it.  I think he said something to the effect\\nof:\\n\"You see?  He was great last year; now he goes out and gets that dopey mask \\nand he can\\'t stop a beachball!\"\\n\\nYou may or may not take Cherry seriously at all, but I cracked up when I heard\\nit.', 'Oh boy, a little K-bike versus /2 scuffling? Grow up! And that goes for\\nthe both of you!\\n\\nI do hope that the \"dump dempster\" campaign works however.\\nI think that he is a crook, and I am suprised that it has taken this long\\nfor anything to be done (though obviously, it ain\\'t over yet)\\nOn the other hand, \\nI\\'m not sure that I want to be in bed with ANY of the wackos running.\\nThrowing $20.oo down a rathole might be more effective than sending it in\\nto the club. You wouldn\\'t get anything, but you don\\'t get anything now.\\n\\nThe magazine you say? Ever since the MOA politburo installed Don it has\\nlacked any sort of panache it may have had. \\n\\nAh, but what would I know? I own a /6 AND a K-bike\\n', '\\nI agree with this assessment.  Furthermore, its promotion as\\nproviding greater protection than bare voice is quite true, as far\\nas it goes.  However, the only way for it to fulfill its stated goal\\nof letting LE wiretap \"terrorists and drug dealers\" is to restrict\\nstronger techniques.  \\n\\nWiretap targets presently use strong encryption, weak encryption, or\\n(the vast majority) no encryption.  The latter two classes can be\\ntapped.  With weak encryption in every phone, the no-encryption\\nclass is merged into the weak-encryption class.  Will the\\nintroduction of Clipper cause targets presently enjoying strong\\nprivacy to give up on it?  that is, to rely for privacy on a system\\nexpressly designed to deny it to people like them?  I doubt it.  The\\nmere introduction of this scheme will give the government *nothing*.\\n\\nThe stated goal of preventing the degradation of wiretapping\\ncapabilities can be fulfilled by restriction of domestic\\ncryptography, and only by this restriction.  \"Clipper\" appears to be\\nno more than a sop, given to the public to mute any complaints.  We\\nwould find this a grossly inadequate tradeoff, but I fear the public\\nat large will not care.  I hate to even mention gun control, but\\nmost people seem to think that an `assault weapon\\' (as the NYT uses\\nthe word) is some sort of automatic weapon, .50 caliber maybe.  Who\\nwants to have such a thing legal?  Well, people know even less about\\ncryptology; I suspect that strong cryptography could easily be\\nlabeled \"too much secrecy for law-abiding citizens to need\".\\n\\n\\nWhat they say is opinion, but what they do is what matters, and will\\ncontinue unless overturned.  And the courts are reluctant to annul\\nlaw or regulation, going to some length to decide cases on other\\ngrounds.  Furthermore, Congress can get away with quite a bit.  They\\ncould levy a burdensome tax; this would place enforcement in the\\nhands of the BATF, who as we\\'ve seen you really don\\'t want on your\\ncase.  They could invoke the Commerce Clause; this seems most\\nlikely.  This clause will get you anywhere these days.  The 18th was\\nrequired because the Supreme Court ruled a prohibitory statute\\nunconstitutional.  In 1970 Congress prohibited many drugs, with a\\ntextual nod to the Commerce Clause.  The Controlled Substances\\nAct of 1970 still stands.  I think the government could get away\\nwith it.\\n', '\\n\\tThe word is \"subrogation.\"  Seems to me, if you\\'re willing to wait\\nfor the money from scumbag\\'s insurance, that you save having to pay the\\ndeductible.  However, if scumbag\\'s insurance is Scum insurance, then you may\\nhave to pay the deductible to get your insurance co.\\'s pack of rabid, large-\\nfanged lawyers to recover the damages from Scum insurance\\'s lawyers.\\n\\n\\tSad, but true.  Call it job security for lawyers.\\n\\nLater,', '/ iftccu:talk.politics.guns / vincent@cad.gatech.edu (Vincent Fox) / 10:34 am  Apr 14, 1993 /\\n\\nThis isn\\'t rec.guns, so maybe this is getting a bet technical, but I\\ncan\\'t resist....\\n\\n\\nSometimes.....  Depends on WHY it misfired....\\n\\n\\nI can\\'t imagine doing much combat type shooting single action.....\\n\\n\\nAssuming the cylinder WILL rotate....\\n\\n\\nNever hurts to err on the side of safety, but if you\\'ve got one of those\\n\\'new fangled\\' hammer blocks or transfer bar safeties, it\\'s unnecessarily\\nredundant.  I\\'d rather have the extra round.\\n\\n\\nQuite true.  Speed loaders are a little less convenient to pack around\\nthan magazines though.\\n\\n\\nTrue, but this is a training function.\\n\\n\\nCocked and locked for single actions or hammer down on double actions\\nare the only carry modes that make sense...  The 80 series Colt\\'s for\\nexample are quite safe to carry this way.\\n\\n\\nAgreed.\\n\\nNow that I\\'ve shot off my mouth a bit, let me back some of this up.  It\\nis true that a simple misfire on a revolver doesn\\'t cost you much.  On\\nthe other hand, I\\'ve had all sorts of interesting things happen over the\\nyears.  For example, I\\'ve had FACTORY ammunition that has had high\\nprimers.  A high primer will tie your revolver up somewhere from seconds\\nto minutes while you try to pound the action open to clear the problem.\\nAn auto?  Jack the slide and continue.\\n\\nI\\'ve had bullets come out of the case, keeping the cylinder from\\nturning, see clearing paragraph above.  About the WORST that can happen\\nwith a semi auto is a double feed.  This can be cleared in seconds.\\n\\nMost revolvers are more \\'fragile\\' then semi auto\\'s.  There are all sorts\\nof close tolerance parts and fitting involved.  Dropping the gun, or a\\nblow to the gun or all sorts of things can take it out of action.  Many\\nof the problems that can be cured on the spot with a (quality) semi auto\\ntake a gun smith for a revolver.  In short a revolver MAY be less likely\\nto malfunction, but as a rule when it does, you\\'re out of the fight.\\nThe majority of malfunctions that occur with semi autos does not fall\\ninto that category.\\n\\nVincint makes many good points in this post, but leaves off the opposing\\nview of most of them.  A real good starting place is Ayoob\\'s \"The Semi\\nAuto Pistol for Police and Self Defense.\"\\n\\nIn general, I\\'d agree, the revolver is an excellent first gun and self\\ndefense weapon for somebody that does not have the time, and inclination\\nthat is necessary for the training and practice needed to use a semi\\nauto effectively as a self defense arm.\\n\\nMost cops are notoriously indifferent to firearms.  If the department\\nisn\\'t going to train them, they aren\\'t going to take the time on their\\nown.  There is no doubt that training is an issue.  The amount of\\ntraining required for effective use of a semi auto is probably several\\ntimes that of a revolver.  Many cops don\\'t bother.\\n\\nFor myself, I\\'d hate to be limited to one or the other.  I\\'d rather pick\\nwhat fits better with my personal inclination, what I\\'m wearing that day\\nand so on.  Like the Moderator on rec.guns says, buy em all!\\n\\nThat said, I have to admit that often my advice to people thinking of\\nbuying their first defense arm is (right after taking a class) get a\\nRuger or Smith revolver....  (Sorry Colt fans.  Colt revolvers are ok\\ntoo!)\\n\\nIf this post had gone the other way, I\\'d be arguing for revolvers. :-)', \" \\n\\n\\n\\nTed, you're missing a vital point.  As Roger Lustig pointed out in a\\nprevious response, the reason why Schott was banned from baseball was\\nbecause she had been known to call and think in a racially biased manner on\\na constant basis.  Such thoughts affected her hiring practices.  Bonilla,\\non the other hand, was found to have mentioned this one word a single time.\\n If he had been known to go around, criticizing homosexuals, it would be a\\ndifferent story.  Furthermore, he is merely an athlete.  He doesn't have to\\nhire anyone as Schott had to do.  Dave Pallone, the former NL umpire who is\\nan admitted homosexual, has decided to assist in a protest before a Mets\\ngame at Shea.  He, like you, thinks that Bonilla should be suspended from\\nbaseball.  Pallone is hoping for a year's suspension.  In my opinion,\\nthat's downright ludicrous.  As Howie Rose on WFAN said, if you start\\nsuspending athletes who have mentioned a derogatory word even a single time\\nunder whatever conditions, then you'd probably have enough people remaining\\nto play a three-on-three game.  Now, honestly, if you truly analyze the\\ndifferences between the two cases that you bring up in your article, I\\nwould think that you'd reconsider your thoughts.\\n\\n\\n                                    -Sean\\n\\n\", \"Well I am using The Home Office. I bought it for arounde $350.\\nIt does 14.4. I don't know if it's for data or fax. But the\\nfeature I use is the Voic Mail Box, which I really have liked.\\n\\n---\\n\\n\", 'Western Digital 1-800-832-4778.....Sam', \"For the second straight game, California scored a ton of late runs to crush\\nthe Brewhas. It was six runs in the 8th for a 12-5 win Monday and five in\\nthe 8th and six in the 9th for a 12-2 win yesterday. Jamie Navarro pitched\\nseven strong innings, but Orosco, Austin, Manzanillo and Lloyd all took part\\nin the mockery of a bullpen yesterday. How's this for numbers? Maldanado has\\npitched three scoreless innings and Navarro's ERA is 0.75. The next lowest\\non the staff is Wegman at 5.14. Ouch!\\n\\nIt doesn't look much better for the hitters. Hamilton is batting .481, while\\nThon is hitting .458 and has seven RBI. The next highest is three. The next\\nbest hitter is Jaha at .267 and then Vaughn, who has the team's only HR, at\\n.238. Another ouch. Looking at the stats, it's not hard to see why the team\\nis 2-5. In fact, 2-5 doesn't sound bad when you're averaging three runs/game\\nand giving up 6.6/game. \\n\\nStill, it's early and things will undoubtedly get better. The offense should\\ncome around, but the bullpen is a major worry. Fetters, Plesac and Austin gave\\nthe Brewers great middle relief last year. Lloyd, Maldanado, Manzanillo, \\nFetters, Austin and Orosco will have to pick up the pace for the team to be\\nsuccessful. Milwaukee won a number of games last year when middle relief either\\nheld small leads or kept small deficits in place. The starters will be okay,\\nthe defense will be alright and the hitting will come around, but the bullpen\\nis a big question mark.\\n\\nIn other news, Nilsson and Doran were reactivated yesterday, while William\\nSuero was sent down and Tim McIntosh was picked up by Montreal. Today's game\\nwith California was cancelled.\", \"\\n: In any case, I think Viola would have made a better signing.  Why?\\n: Viola is younger, and is left handed (how many left handed starters does\\n: Toronto have?\\n\\nWell, I agree that Viola is a better signing.  However, why does\\neveryone say that you want lefthanded starters?  I understand lefthanded\\nspot relievers, even though they usually face more righthanded batters\\nthan lefthanded batters.  I just don't understand why people insist\\non lefthanded starters, unless there is a park effect (e.g., Yankee Stadium).\\nMost batters in MLB are righthanded, so righthanded starters will have\\nthe platoon advantage more often than lefthanded starters.\\nI guess one argument for lefty starters is that certain teams\\nmay be more vulnerable to LHP's than RHP's.  However, this is probably\\nonly a factor in the postseason, because teams seldom juggle their starters\\nfor this reason during the regular season.\\n\\nI think you just want the best starters you can get, regardless of\\nwhether they are lefties or righties.  Lefthanded starters tend to have\\nhigher ERA's than righthanded starters, precisely because managers\\ngo out of their way to start inferior lefties (or perhaps because of\\nthe platoon advantage).\\n\\nAm I missing something here?\", \"Of course, if you want to check the honesty of your dealler, take it in\\nknowing what's wrong, and ask them to tell you. :)\\n\\nOf course he'll probably know right a way, then charge you a $20 service\\nfee. :)\", 'Is there a Wyse 60 Terminal Emulator or a comms toolbox kit available on the\\nnet somewhere?\\n\\nThanks.', \"\\n\\n\\n\\nEasy Rider (harleys, drugs, rednecks, New Orleans), Mad Max (violence, DoD \\nwanna-be's), Time Rider (Honda Thumper, Time travel), On Any Sunday \\n(Documentary about dirtbike racers, GREAT!), The (Great?) Escape (Steve \\nMcqueen, Nazis), Rebel Without a Cause (James Dean, future DoD'ers).  I \\nthink the last two are right, they are OLD movies I haven't seen in YEARS. \\n ----===== DoD #8177 = Technician(Dr. Speed) .NOT. Student =====----\", \"The subject line says it all. I'm working on a project\\nthat will use a car battery. I need to pull off 3V and possibly\\n48V at 3A.\\n\\nI have several ideas, but I'd prefer to benefit from all you\\nbrilliant people :-)\", 'Pat sez;\\n\\nYeah, but a windscreen cut down most of it.  Canopies ended it completely.\\n\\nOf course, the environment in space continues to suck :-)\\n\\n-Tommy Mac\\n-------------------------------------------------------------------------\\nTom McWilliams 517-355-2178 wk   \\\\\\\\ As the radius of vision increases,\\n18084tm@ibm.cl.msu.edu 336-9591 hm \\\\\\\\ the circumference of mystery grows.', 'I am trying to write an image display program that uses\\nthe MIT shared memory extension.  The shared memory segment\\ngets allocated and attached to the process with no problem.\\nBut the program crashes at the first call to XShmPutImage,\\nwith the following message:\\n\\nX Error of failed request:  BadShmSeg (invalid shared segment parameter)\\n  Major opcode of failed request:  133 (MIT-SHM)\\n  Minor opcode of failed request:  3 (X_ShmPutImage)\\n  Segment id in failed request 0x0\\n  Serial number of failed request:  741\\n  Current serial number in output stream:  742\\n\\nLike I said, I did error checking on all the calls to shmget\\nand shmat that are necessary to create the shared memory\\nsegment, as well as checking XShmAttach.  There are no\\nproblems.\\n\\nIf anybody has had the same problem or has used MIT-SHM without\\nhaving the same problem, please let me know.\\n\\nBy the way, I am running OpenWindows 3.0 on a Sun Sparc2.', 'I have been following this thread on talk.religion,\\nsoc.religion.christian.bible-study and here with interest.  I am amazed at\\nthe different non-biblical argument those who oppose the Sabbath present. \\n\\nOne question comes to mind, especially since my last one was not answered\\nfrom Scripture.  Maybe clh may wish to provide the first response.\\n\\nThere is a lot of talk about the Sabbath of the TC being ceremonial. \\nAnswer this:\\n\\nSince the TC commandments is one law with ten parts on what biblical\\nbasis have you decided that only the Sabbath portion is ceremonial?\\nOR You say that the seventh-day is the Sabbath but not applicable to\\nGentile Christians.  Does that mean the Sabbath commandment has been\\nannulled?  References please.\\n\\nIf God did not intend His requirements on the Jews to be applicable to\\nGentile Christians why did He make it plain that the Gentiles were now\\ngrafted into the commonwealth of Israel?\\n\\nDarius', 'Hi ... can anyone tell me where I can get a copy of updated Canon BJ-200\\nprinter driver for Windows 3.1, if any ? I have ver 1.0 which comes with\\nmy BJ-200 printer, I just wonder if there is any newer version.', '\\nHerman, I would think you of all people would/could distinguish\\nbetween \"health\" and \"treatment of disease.\" All the prevention\\nmedicine people preach this all the time. You cannot buy health.\\nYou can buy treatment of disease, assuming you are lucky enough\\nto have a disease which can be treated. A rich person with a\\nterminal disease is a bit out of luck. There is no such thing\\nas \"adequately covered\" and there never will be. \\n\\nAnd for what it\\'s worth, I\\'ll be the first to admit that all my\\npatients die.', '\\n\\nThat\\'s why zoologists refer to you as a \\'fecal shield\\'. Colonel Semen \\nM. Budienny, a subsequent Soviet military fame, said about the \\nArmenian genocide of 2.5 million defenseless Turkish and Kurdish \\nwomen, children and elderly people during his visit to Anatolia \\nin June 1919 that\\n\\n\"the Armenians had become troublemakers, their Hinchakist\\n and Dashnakist parties were opportunist, serving as lackeys\\n of whatever power happened to be ascendent.\"\\n\\nIn September 16, 1920, Major General W. Thwaites, Director of\\nMilitary Intelligence, wrote to Lord Hardinge, Under-Secretary\\nof State for Foreign Affairs:\\n\\n\"...it is useless to pretend that the Armenians are satisfactory\\n allies, or deserving of all the sympathy to which they claim.\"[1]\\n\\n[1] F.O. 331/3411/158288.\\n\\nIn the Special Collection at Stanford Hoover Library, donated by\\nGeorgia Cutler, the letter dated Nov. 1, 1943 states that\\n\\n\"Prescot Hall wrote a large volume to prove that Armenians were\\n not and never could be desirable citizens, that they would \\n always be unscrupulous merchants.\"\\n\\n\\nSource: Documents: Volume I (1919).\\n        \"Document No: 50,\" Archive No: 4/3621, Cabin No: 162, Drawer \\n        No: 5, File No: 2905, Section No: 433, Contents No: 6, 6-1, 6-2.\\n        (To 36th Division Command - Militia Commander Ismail Hakki)\\n\\n\"For eight days, Armenians have been forcibly obstructing people from\\n leaving their homes or going from one village to the other. Day and night\\n they are rounding up male inhabitants, taking them to unknown destinations,\\n after which nothing further is heard of them. (Informed from statements\\n of those who succeeded in escaping wounded from the massacres around\\n Taskilise ruins). Women and children are being openly murdered or are\\n being gathered in the Church Square and similar places. Most inhuman and\\n barbarous acts have been committed against Moslems for eight days.\"\\n\\n\\n        \"Document No: 52,\" Archive No: 4/3671, Cabin No: 163, Drawer \\n        No: 1, File No: 2907, Section No: 440, Contents No: 6-6, 6-7.\\n        (To: 1st Caucasian Army Corps Command, 2nd Caucasian Army Corps\\n        Command, Communications Zone Inspectorate - Commander 3rd Army\\n        General)\\n\\n\"As almost all Russian units opposite our front have been withdrawn, the\\n population loyal to us in regions behind the Russian positions are\\n facing an ever-increasing threat and suppression as well as cruelties\\n and abuses by Armenians who have decided to systematically annihilate\\n the Moslem population in regions under their occupation. I have \\n regularly informed the Russian Command of these atrocities and\\n cruelties and I have gained the impression that the above authority\\n seems to be failing in restoring order.\"\\n\\n\\nSerdar Argic', \"I sent a response to the White House at\\n\\n\\t0005895485@MCIMAIL.COM (White House)\\n\\nand received a nice, automatic reply from MICMAIL noting, in passing, that\\nif I had included a SNail address, I would get a reply in due course.\\n\\nFor those who care, my reply was:\\n\\n\\t1.\\tyes, let's protect the voice network\\n\\n\\t2.\\tprivately-developed crypto has always been available and\\n\\t\\talways will be -- so let's think about how to do law\\n\\t\\tenforcement given that fact not about how to hope to\\n\\t\\tlegislate against it\\n\\n\\t3.\\tmy needs for crypto as a system designer are not met by the\\n\\t\\tClipper Chip.  I want freely to export uses of algorithms\\n\\t\\t(like DES & RSA) which are already freely available in the\\n\\t\\tdestination country\\n\", 'an excellent automatic can be found in the subaru legacy.  it switches to\\n\"sport\" mode when the electronics figure it,  not when the driver sets\\nthe switch.. which is the proper way to do it, IMO.  so what does \"sport\"\\nmode entail?  several things:\\n\\n1) revving to red line (or to the rev limiter in the case of the legacy)\\n\\n2) delayed upshifts.  (i.e. if you lift off briefly, it will remain in the\\n\\tlow gear.  this is handy if you are charging through corners and\\n\\twould like to do without the distraction of upshifts when there\\'s\\n\\tanother curve approaching)\\n\\n3) part throttle downshifts, based on the *speed* at which the pedal is\\n\\tdepressed, rather than the *position* of the pedal.  modern\\n\\telectronics can measure this very easily and switch to sport mode.\\n\\tthis is wonderful if you want to charge through a green light about\\n\\tto turn red.  my audi senses this very well and can downshift on as\\n\\tlittle as half throttle if my right foot is fast enough.\\n\\nalso, i think that a smart automatic can deliver better gas mileage\\nthan a dumb driver with a stick, all else being equal.. remember that\\nthe idea of a stick being more economical than an automatic makes a\\nbig assumption that the driver is smart enough to know what gear to\\nuse for each situation.. how many times have you ridden with an\\ninattentive driver cruising on the highway at 55/65 in 4th gear (of a\\n5 speed)?  \\n\\nhow many % of people who drive manuals *really* know what the best\\ngear to use is for every conceivable situation?  i\\'m sure there will\\nbe some who know, but i suspect that a chip controlled automatic with\\nall possible scenario/ratio combinations stored in ROM is likely to do\\nbetter.  i can also say that all my previous assumptions were proved\\nwrong after i got a car with instantaneous mpg readout... high gear,\\nlow revs and wide open throttle is more economical than low gear, high\\nrevs and small throttle opening.  the explanation is quite simple if\\none sits down to think about it, but not that obvious at first sight.\\n', \"\\nNo no no!!!  It's a squid!  Keep the tradition alive!  (Kinda like the\\nfish at UNH games....)\", 'Sorry, I did`nt tell exactly what I need.\\n\\nI need a utility for automatic updating (deleting, adding, changing) of *.ini files for Windows. \\nThe program should run from Dos batchfile or the program run a script under Windows.\\n\\nI will use the utility for updating the win.ini (and other files) on meny PC`s.  \\n\\nDo I find it on any FTP host?', 'Archive-name: space/new_probes\\nLast-modified: $Date: 93/04/01 14:39:17 $\\n\\nUPCOMING PLANETARY PROBES - MISSIONS AND SCHEDULES\\n\\n    Information on upcoming or currently active missions not mentioned below\\n    would be welcome. Sources: NASA fact sheets, Cassini Mission Design\\n    team, ISAS/NASDA launch schedules, press kits.\\n\\n\\n    ASUKA (ASTRO-D) - ISAS (Japan) X-ray astronomy satellite, launched into\\n    Earth orbit on 2/20/93. Equipped with large-area wide-wavelength (1-20\\n    Angstrom) X-ray telescope, X-ray CCD cameras, and imaging gas\\n    scintillation proportional counters.\\n\\n\\n    CASSINI - Saturn orbiter and Titan atmosphere probe. Cassini is a joint\\n    NASA/ESA project designed to accomplish an exploration of the Saturnian\\n    system with its Cassini Saturn Orbiter and Huygens Titan Probe. Cassini\\n    is scheduled for launch aboard a Titan IV/Centaur in October of 1997.\\n    After gravity assists of Venus, Earth and Jupiter in a VVEJGA\\n    trajectory, the spacecraft will arrive at Saturn in June of 2004. Upon\\n    arrival, the Cassini spacecraft performs several maneuvers to achieve an\\n    orbit around Saturn. Near the end of this initial orbit, the Huygens\\n    Probe separates from the Orbiter and descends through the atmosphere of\\n    Titan. The Orbiter relays the Probe data to Earth for about 3 hours\\n    while the Probe enters and traverses the cloudy atmosphere to the\\n    surface. After the completion of the Probe mission, the Orbiter\\n    continues touring the Saturnian system for three and a half years. Titan\\n    synchronous orbit trajectories will allow about 35 flybys of Titan and\\n    targeted flybys of Iapetus, Dione and Enceladus. The objectives of the\\n    mission are threefold: conduct detailed studies of Saturn\\'s atmosphere,\\n    rings and magnetosphere; conduct close-up studies of Saturn\\'s\\n    satellites, and characterize Titan\\'s atmosphere and surface.\\n\\n    One of the most intriguing aspects of Titan is the possibility that its\\n    surface may be covered in part with lakes of liquid hydrocarbons that\\n    result from photochemical processes in its upper atmosphere. These\\n    hydrocarbons condense to form a global smog layer and eventually rain\\n    down onto the surface. The Cassini orbiter will use onboard radar to\\n    peer through Titan\\'s clouds and determine if there is liquid on the\\n    surface. Experiments aboard both the orbiter and the entry probe will\\n    investigate the chemical processes that produce this unique atmosphere.\\n\\n    The Cassini mission is named for Jean Dominique Cassini (1625-1712), the\\n    first director of the Paris Observatory, who discovered several of\\n    Saturn\\'s satellites and the major division in its rings. The Titan\\n    atmospheric entry probe is named for the Dutch physicist Christiaan\\n    Huygens (1629-1695), who discovered Titan and first described the true\\n    nature of Saturn\\'s rings.\\n\\n\\t Key Scheduled Dates for the Cassini Mission (VVEJGA Trajectory)\\n\\t -------------------------------------------------------------\\n\\t   10/06/97 - Titan IV/Centaur Launch\\n\\t   04/21/98 - Venus 1 Gravity Assist\\n\\t   06/20/99 - Venus 2 Gravity Assist\\n\\t   08/16/99 - Earth Gravity Assist\\n\\t   12/30/00 - Jupiter Gravity Assist\\n\\t   06/25/04 - Saturn Arrival\\n\\t   01/09/05 - Titan Probe Release\\n\\t   01/30/05 - Titan Probe Entry\\n\\t   06/25/08 - End of Primary Mission\\n\\t    (Schedule last updated 7/22/92)\\n\\n\\n    GALILEO - Jupiter orbiter and atmosphere probe, in transit. Has returned\\n    the first resolved images of an asteroid, Gaspra, while in transit to\\n    Jupiter. Efforts to unfurl the stuck High-Gain Antenna (HGA) have\\n    essentially been abandoned. JPL has developed a backup plan using data\\n    compression (JPEG-like for images, lossless compression for data from\\n    the other instruments) which should allow the mission to achieve\\n    approximately 70% of its original objectives.\\n\\n\\t   Galileo Schedule\\n\\t   ----------------\\n\\t   10/18/89 - Launch from Space Shuttle\\n\\t   02/09/90 - Venus Flyby\\n\\t   10/**/90 - Venus Data Playback\\n\\t   12/08/90 - 1st Earth Flyby\\n\\t   05/01/91 - High Gain Antenna Unfurled\\n\\t   07/91 - 06/92 - 1st Asteroid Belt Passage\\n\\t   10/29/91 - Asteroid Gaspra Flyby\\n\\t   12/08/92 - 2nd Earth Flyby\\n\\t   05/93 - 11/93 - 2nd Asteroid Belt Passage\\n\\t   08/28/93 - Asteroid Ida Flyby\\n\\t   07/02/95 - Probe Separation\\n\\t   07/09/95 - Orbiter Deflection Maneuver\\n\\t   12/95 - 10/97 - Orbital Tour of Jovian Moons\\n\\t   12/07/95 - Jupiter/Io Encounter\\n\\t   07/18/96 - Ganymede\\n\\t   09/28/96 - Ganymede\\n\\t   12/12/96 - Callisto\\n\\t   01/23/97 - Europa\\n\\t   02/28/97 - Ganymede\\n\\t   04/22/97 - Europa\\n\\t   05/31/97 - Europa\\n\\t   10/05/97 - Jupiter Magnetotail Exploration\\n\\n\\n    HITEN - Japanese (ISAS) lunar probe launched 1/24/90. Has made\\n    multiple lunar flybys. Released Hagoromo, a smaller satellite,\\n    into lunar orbit. This mission made Japan the third nation to\\n    orbit a satellite around the Moon.\\n\\n\\n    MAGELLAN - Venus radar mapping mission. Has mapped almost the entire\\n    surface at high resolution. Currently (4/93) collecting a global gravity\\n    map.\\n\\n\\n    MARS OBSERVER - Mars orbiter including 1.5 m/pixel resolution camera.\\n    Launched 9/25/92 on a Titan III/TOS booster. MO is currently (4/93) in\\n    transit to Mars, arriving on 8/24/93. Operations will start 11/93 for\\n    one martian year (687 days).\\n\\n\\n    TOPEX/Poseidon - Joint US/French Earth observing satellite, launched\\n    8/10/92 on an Ariane 4 booster. The primary objective of the\\n    TOPEX/POSEIDON project is to make precise and accurate global\\n    observations of the sea level for several years, substantially\\n    increasing understanding of global ocean dynamics. The satellite also\\n    will increase understanding of how heat is transported in the ocean.\\n\\n\\n    ULYSSES- European Space Agency probe to study the Sun from an orbit over\\n    its poles. Launched in late 1990, it carries particles-and-fields\\n    experiments (such as magnetometer, ion and electron collectors for\\n    various energy ranges, plasma wave radio receivers, etc.) but no camera.\\n\\n    Since no human-built rocket is hefty enough to send Ulysses far out of\\n    the ecliptic plane, it went to Jupiter instead, and stole energy from\\n    that planet by sliding over Jupiter\\'s north pole in a gravity-assist\\n    manuver in February 1992. This bent its path into a solar orbit tilted\\n    about 85 degrees to the ecliptic. It will pass over the Sun\\'s south pole\\n    in the summer of 1993. Its aphelion is 5.2 AU, and, surprisingly, its\\n    perihelion is about 1.5 AU-- that\\'s right, a solar-studies spacecraft\\n    that\\'s always further from the Sun than the Earth is!\\n\\n    While in Jupiter\\'s neigborhood, Ulysses studied the magnetic and\\n    radiation environment. For a short summary of these results, see\\n    *Science*, V. 257, p. 1487-1489 (11 September 1992). For gory technical\\n    detail, see the many articles in the same issue.\\n\\n\\n    OTHER SPACE SCIENCE MISSIONS (note: this is based on a posting by Ron\\n    Baalke in 11/89, with ISAS/NASDA information contributed by Yoshiro\\n    Yamada (yamada@yscvax.ysc.go.jp). I\\'m attempting to track changes based\\n    on updated shuttle manifests; corrections and updates are welcome.\\n\\n    1993 Missions\\n\\to ALEXIS [spring, Pegasus]\\n\\t    ALEXIS (Array of Low-Energy X-ray Imaging Sensors) is to perform\\n\\t    a wide-field sky survey in the \"soft\" (low-energy) X-ray\\n\\t    spectrum. It will scan the entire sky every six months to search\\n\\t    for variations in soft-X-ray emission from sources such as white\\n\\t    dwarfs, cataclysmic variable stars and flare stars. It will also\\n\\t    search nearby space for such exotic objects as isolated neutron\\n\\t    stars and gamma-ray bursters. ALEXIS is a project of Los Alamos\\n\\t    National Laboratory and is primarily a technology development\\n\\t    mission that uses astrophysical sources to demonstrate the\\n\\t    technology. Contact project investigator Jeffrey J Bloch\\n\\t    (jjb@beta.lanl.gov) for more information.\\n\\n\\to Wind [Aug, Delta II rocket]\\n\\t    Satellite to measure solar wind input to magnetosphere.\\n\\n\\to Space Radar Lab [Sep, STS-60 SRL-01]\\n\\t    Gather radar images of Earth\\'s surface.\\n\\n\\to Total Ozone Mapping Spectrometer [Dec, Pegasus rocket]\\n\\t    Study of Stratospheric ozone.\\n\\n\\to SFU (Space Flyer Unit) [ISAS]\\n\\t    Conducting space experiments and observations and this can be\\n\\t    recovered after it conducts the various scientific and\\n\\t    engineering experiments. SFU is to be launched by ISAS and\\n\\t    retrieved by the U.S. Space Shuttle on STS-68 in 1994.\\n\\n    1994\\n\\to Polar Auroral Plasma Physics [May, Delta II rocket]\\n\\t    June, measure solar wind and ions and gases surrounding the\\n\\t    Earth.\\n\\n\\to IML-2 (STS) [NASDA, Jul 1994 IML-02]\\n\\t    International Microgravity Laboratory.\\n\\n\\to ADEOS [NASDA]\\n\\t    Advanced Earth Observing Satellite.\\n\\n\\to MUSES-B (Mu Space Engineering Satellite-B) [ISAS]\\n\\t    Conducting research on the precise mechanism of space structure\\n\\t    and in-space astronomical observations of electromagnetic waves.\\n\\n    1995\\n\\tLUNAR-A [ISAS]\\n\\t    Elucidating the crust structure and thermal construction of the\\n\\t    moon\\'s interior.\\n\\n\\n    Proposed Missions:\\n\\to Advanced X-ray Astronomy Facility (AXAF)\\n\\t    Possible launch from shuttle in 1995, AXAF is a space\\n\\t    observatory with a high resolution telescope. It would orbit for\\n\\t    15 years and study the mysteries and fate of the universe.\\n\\n\\to Earth Observing System (EOS)\\n\\t    Possible launch in 1997, 1 of 6 US orbiting space platforms to\\n\\t    provide long-term data (15 years) of Earth systems science\\n\\t    including planetary evolution.\\n\\n\\to Mercury Observer\\n\\t    Possible 1997 launch.\\n\\n\\to Lunar Observer\\n\\t    Possible 1997 launch, would be sent into a long-term lunar\\n\\t    orbit. The Observer, from 60 miles above the moon\\'s poles, would\\n\\t    survey characteristics to provide a global context for the\\n\\t    results from the Apollo program.\\n\\n\\to Space Infrared Telescope Facility\\n\\t    Possible launch by shuttle in 1999, this is the 4th element of\\n\\t    the Great Observatories program. A free-flying observatory with\\n\\t    a lifetime of 5 to 10 years, it would observe new comets and\\n\\t    other primitive bodies in the outer solar system, study cosmic\\n\\t    birth formation of galaxies, stars and planets and distant\\n\\t    infrared-emitting galaxies\\n\\n\\to Mars Rover Sample Return (MRSR)\\n\\t    Robotics rover would return samples of Mars\\' atmosphere and\\n\\t    surface to Earch for analysis. Possible launch dates: 1996 for\\n\\t    imaging orbiter, 2001 for rover.\\n\\n\\to Fire and Ice\\n\\t    Possible launch in 2001, will use a gravity assist flyby of\\n\\t    Earth in 2003, and use a final gravity assist from Jupiter in\\n\\t    2005, where the probe will split into its Fire and Ice\\n\\t    components: The Fire probe will journey into the Sun, taking\\n\\t    measurements of our star\\'s upper atmosphere until it is\\n\\t    vaporized by the intense heat. The Ice probe will head out\\n\\t    towards Pluto, reaching the tiny world for study by 2016.\\n', 'Hello netters:)  Does anyone out there know any FTP sites for projects,\\nplans, etc of an electrical nature?  \\n\\n-Jason', \": Does anyone know what is available in terms of automated testing\\n: of X/Motif applications. I am thinking of a system which I could\\n: program (or which could record events/output) with our verification\\n: test procedures and then run/rerun each time we do regression\\n: testing. I am interested in a product like this for our UNIX\\n: projects and for a separate project which will be using OpenVMS.\\n\\nA question like this is answered in the FAQ, about sharing X windows.\\nOne of the answers is XTrap, a record and playback extenstion to X.  You\\ncan find it at export.lcs.mit.edu:/contrib/XTrapV33_X11R5.tar.Z.\\n\\nDoes anyone know of a program which doesn't require an X extension?  Most\\nthe the X servers we have at work have vendor extensions which we can't\\nmodify, so XTrap doesn't help up.  There is X conferencing software at\\nmit, but I don't know how easy it would be to modify it to do record and\\nplayback.\\n\\nAny help would be appreciated.\", 'I notice the Toshiba 3401 has 3 versions, B - internal, E - external and P -\\nportable.  Can anyone tell me the difference between the portable and the\\nexternal version?  Where in the SF Bay Area can I find a model P?\\n\\nThanks,  --Bill', 'Hey now,\\n\\nThe following cds are still available. Offers/trades considered.\\n\\nGowan - Lost Brotherhood\\nKatrina & the Waves - Break of Hearts\\nJoe Cocker - Live\\nCharles Neville - Diversity', ': Ford and his automobile.  I need information on whether Ford is\\n: partially responsible for all of the car accidents and the depletion of\\n: the ozone layer.  Also, any other additional information will be greatly\\n: appreciated.  Thanks. \\n: \\nSSSSSoooooooooooo!!!!! Its all HIS fault!! Thank God Louis Chevrolet is \\ninnocent! and that guy Diesel, HE otto feel guilty!\\n\\n']\n"
     ]
    },
    {
     "name": "stderr",
     "output_type": "stream",
     "text": [
      "\n"
     ]
    },
    {
     "ename": "OutOfMemoryError",
     "evalue": "CUDA out of memory. Tried to allocate 768.00 MiB (GPU 7; 47.54 GiB total capacity; 45.50 GiB already allocated; 385.69 MiB free; 46.85 GiB reserved in total by PyTorch) If reserved memory is >> allocated memory try setting max_split_size_mb to avoid fragmentation.  See documentation for Memory Management and PYTORCH_CUDA_ALLOC_CONF",
     "output_type": "error",
     "traceback": [
      "\u001b[0;31m---------------------------------------------------------------------------\u001b[0m",
      "\u001b[0;31mOutOfMemoryError\u001b[0m                          Traceback (most recent call last)",
      "Input \u001b[0;32mIn [14]\u001b[0m, in \u001b[0;36m<cell line: 2>\u001b[0;34m()\u001b[0m\n\u001b[1;32m      8\u001b[0m \u001b[38;5;28;01mfor\u001b[39;00m train_batch \u001b[38;5;129;01min\u001b[39;00m tqdm(loader):\n\u001b[1;32m      9\u001b[0m     \u001b[38;5;28;01mtry\u001b[39;00m:\n\u001b[0;32m---> 10\u001b[0m         rep \u001b[38;5;241m=\u001b[39m \u001b[43mrep_model\u001b[49m\u001b[43m(\u001b[49m\u001b[43mtrain_batch\u001b[49m\u001b[43m[\u001b[49m\u001b[38;5;124;43m'\u001b[39;49m\u001b[38;5;124;43minput_ids\u001b[39;49m\u001b[38;5;124;43m'\u001b[39;49m\u001b[43m]\u001b[49m\u001b[38;5;241;43m.\u001b[39;49m\u001b[43mto\u001b[49m\u001b[43m(\u001b[49m\u001b[43mdevice\u001b[49m\u001b[43m)\u001b[49m\u001b[43m,\u001b[49m\n\u001b[1;32m     11\u001b[0m \u001b[43m                                       \u001b[49m\u001b[43mtrain_batch\u001b[49m\u001b[43m[\u001b[49m\u001b[38;5;124;43m'\u001b[39;49m\u001b[38;5;124;43mattention_mask\u001b[39;49m\u001b[38;5;124;43m'\u001b[39;49m\u001b[43m]\u001b[49m\u001b[38;5;241;43m.\u001b[39;49m\u001b[43mto\u001b[49m\u001b[43m(\u001b[49m\u001b[43mdevice\u001b[49m\u001b[43m)\u001b[49m\u001b[43m)\u001b[49m\n\u001b[1;32m     12\u001b[0m         level1 \u001b[38;5;241m=\u001b[39m level1_classification(rep)\n\u001b[1;32m     13\u001b[0m         level2 \u001b[38;5;241m=\u001b[39m level2_classification(rep)\n",
      "File \u001b[0;32m/opt/conda/lib/python3.10/site-packages/torch/nn/modules/module.py:1501\u001b[0m, in \u001b[0;36mModule._call_impl\u001b[0;34m(self, *args, **kwargs)\u001b[0m\n\u001b[1;32m   1496\u001b[0m \u001b[38;5;66;03m# If we don't have any hooks, we want to skip the rest of the logic in\u001b[39;00m\n\u001b[1;32m   1497\u001b[0m \u001b[38;5;66;03m# this function, and just call forward.\u001b[39;00m\n\u001b[1;32m   1498\u001b[0m \u001b[38;5;28;01mif\u001b[39;00m \u001b[38;5;129;01mnot\u001b[39;00m (\u001b[38;5;28mself\u001b[39m\u001b[38;5;241m.\u001b[39m_backward_hooks \u001b[38;5;129;01mor\u001b[39;00m \u001b[38;5;28mself\u001b[39m\u001b[38;5;241m.\u001b[39m_backward_pre_hooks \u001b[38;5;129;01mor\u001b[39;00m \u001b[38;5;28mself\u001b[39m\u001b[38;5;241m.\u001b[39m_forward_hooks \u001b[38;5;129;01mor\u001b[39;00m \u001b[38;5;28mself\u001b[39m\u001b[38;5;241m.\u001b[39m_forward_pre_hooks\n\u001b[1;32m   1499\u001b[0m         \u001b[38;5;129;01mor\u001b[39;00m _global_backward_pre_hooks \u001b[38;5;129;01mor\u001b[39;00m _global_backward_hooks\n\u001b[1;32m   1500\u001b[0m         \u001b[38;5;129;01mor\u001b[39;00m _global_forward_hooks \u001b[38;5;129;01mor\u001b[39;00m _global_forward_pre_hooks):\n\u001b[0;32m-> 1501\u001b[0m     \u001b[38;5;28;01mreturn\u001b[39;00m \u001b[43mforward_call\u001b[49m\u001b[43m(\u001b[49m\u001b[38;5;241;43m*\u001b[39;49m\u001b[43margs\u001b[49m\u001b[43m,\u001b[49m\u001b[43m \u001b[49m\u001b[38;5;241;43m*\u001b[39;49m\u001b[38;5;241;43m*\u001b[39;49m\u001b[43mkwargs\u001b[49m\u001b[43m)\u001b[49m\n\u001b[1;32m   1502\u001b[0m \u001b[38;5;66;03m# Do not call functions when jit is used\u001b[39;00m\n\u001b[1;32m   1503\u001b[0m full_backward_hooks, non_full_backward_hooks \u001b[38;5;241m=\u001b[39m [], []\n",
      "Input \u001b[0;32mIn [8]\u001b[0m, in \u001b[0;36mNewsRepModule.forward\u001b[0;34m(self, input_ids, attention_mask)\u001b[0m\n\u001b[1;32m     10\u001b[0m \u001b[38;5;28;01mdef\u001b[39;00m \u001b[38;5;21mforward\u001b[39m(\u001b[38;5;28mself\u001b[39m, input_ids, attention_mask):\n\u001b[0;32m---> 11\u001b[0m     output \u001b[38;5;241m=\u001b[39m \u001b[38;5;28;43mself\u001b[39;49m\u001b[38;5;241;43m.\u001b[39;49m\u001b[43mroberta\u001b[49m\u001b[43m(\u001b[49m\u001b[43minput_ids\u001b[49m\u001b[38;5;241;43m=\u001b[39;49m\u001b[43minput_ids\u001b[49m\u001b[43m,\u001b[49m\u001b[43m \u001b[49m\u001b[43mattention_mask\u001b[49m\u001b[38;5;241;43m=\u001b[39;49m\u001b[43mattention_mask\u001b[49m\u001b[43m)\u001b[49m\n\u001b[1;32m     12\u001b[0m     logits \u001b[38;5;241m=\u001b[39m output\u001b[38;5;241m.\u001b[39mpooler_output\n\u001b[1;32m     13\u001b[0m     logits \u001b[38;5;241m=\u001b[39m \u001b[38;5;28mself\u001b[39m\u001b[38;5;241m.\u001b[39mdrop_layer(logits)\n",
      "File \u001b[0;32m/opt/conda/lib/python3.10/site-packages/torch/nn/modules/module.py:1501\u001b[0m, in \u001b[0;36mModule._call_impl\u001b[0;34m(self, *args, **kwargs)\u001b[0m\n\u001b[1;32m   1496\u001b[0m \u001b[38;5;66;03m# If we don't have any hooks, we want to skip the rest of the logic in\u001b[39;00m\n\u001b[1;32m   1497\u001b[0m \u001b[38;5;66;03m# this function, and just call forward.\u001b[39;00m\n\u001b[1;32m   1498\u001b[0m \u001b[38;5;28;01mif\u001b[39;00m \u001b[38;5;129;01mnot\u001b[39;00m (\u001b[38;5;28mself\u001b[39m\u001b[38;5;241m.\u001b[39m_backward_hooks \u001b[38;5;129;01mor\u001b[39;00m \u001b[38;5;28mself\u001b[39m\u001b[38;5;241m.\u001b[39m_backward_pre_hooks \u001b[38;5;129;01mor\u001b[39;00m \u001b[38;5;28mself\u001b[39m\u001b[38;5;241m.\u001b[39m_forward_hooks \u001b[38;5;129;01mor\u001b[39;00m \u001b[38;5;28mself\u001b[39m\u001b[38;5;241m.\u001b[39m_forward_pre_hooks\n\u001b[1;32m   1499\u001b[0m         \u001b[38;5;129;01mor\u001b[39;00m _global_backward_pre_hooks \u001b[38;5;129;01mor\u001b[39;00m _global_backward_hooks\n\u001b[1;32m   1500\u001b[0m         \u001b[38;5;129;01mor\u001b[39;00m _global_forward_hooks \u001b[38;5;129;01mor\u001b[39;00m _global_forward_pre_hooks):\n\u001b[0;32m-> 1501\u001b[0m     \u001b[38;5;28;01mreturn\u001b[39;00m \u001b[43mforward_call\u001b[49m\u001b[43m(\u001b[49m\u001b[38;5;241;43m*\u001b[39;49m\u001b[43margs\u001b[49m\u001b[43m,\u001b[49m\u001b[43m \u001b[49m\u001b[38;5;241;43m*\u001b[39;49m\u001b[38;5;241;43m*\u001b[39;49m\u001b[43mkwargs\u001b[49m\u001b[43m)\u001b[49m\n\u001b[1;32m   1502\u001b[0m \u001b[38;5;66;03m# Do not call functions when jit is used\u001b[39;00m\n\u001b[1;32m   1503\u001b[0m full_backward_hooks, non_full_backward_hooks \u001b[38;5;241m=\u001b[39m [], []\n",
      "File \u001b[0;32m/opt/conda/lib/python3.10/site-packages/transformers/models/bert/modeling_bert.py:1020\u001b[0m, in \u001b[0;36mBertModel.forward\u001b[0;34m(self, input_ids, attention_mask, token_type_ids, position_ids, head_mask, inputs_embeds, encoder_hidden_states, encoder_attention_mask, past_key_values, use_cache, output_attentions, output_hidden_states, return_dict)\u001b[0m\n\u001b[1;32m   1011\u001b[0m head_mask \u001b[38;5;241m=\u001b[39m \u001b[38;5;28mself\u001b[39m\u001b[38;5;241m.\u001b[39mget_head_mask(head_mask, \u001b[38;5;28mself\u001b[39m\u001b[38;5;241m.\u001b[39mconfig\u001b[38;5;241m.\u001b[39mnum_hidden_layers)\n\u001b[1;32m   1013\u001b[0m embedding_output \u001b[38;5;241m=\u001b[39m \u001b[38;5;28mself\u001b[39m\u001b[38;5;241m.\u001b[39membeddings(\n\u001b[1;32m   1014\u001b[0m     input_ids\u001b[38;5;241m=\u001b[39minput_ids,\n\u001b[1;32m   1015\u001b[0m     position_ids\u001b[38;5;241m=\u001b[39mposition_ids,\n\u001b[0;32m   (...)\u001b[0m\n\u001b[1;32m   1018\u001b[0m     past_key_values_length\u001b[38;5;241m=\u001b[39mpast_key_values_length,\n\u001b[1;32m   1019\u001b[0m )\n\u001b[0;32m-> 1020\u001b[0m encoder_outputs \u001b[38;5;241m=\u001b[39m \u001b[38;5;28;43mself\u001b[39;49m\u001b[38;5;241;43m.\u001b[39;49m\u001b[43mencoder\u001b[49m\u001b[43m(\u001b[49m\n\u001b[1;32m   1021\u001b[0m \u001b[43m    \u001b[49m\u001b[43membedding_output\u001b[49m\u001b[43m,\u001b[49m\n\u001b[1;32m   1022\u001b[0m \u001b[43m    \u001b[49m\u001b[43mattention_mask\u001b[49m\u001b[38;5;241;43m=\u001b[39;49m\u001b[43mextended_attention_mask\u001b[49m\u001b[43m,\u001b[49m\n\u001b[1;32m   1023\u001b[0m \u001b[43m    \u001b[49m\u001b[43mhead_mask\u001b[49m\u001b[38;5;241;43m=\u001b[39;49m\u001b[43mhead_mask\u001b[49m\u001b[43m,\u001b[49m\n\u001b[1;32m   1024\u001b[0m \u001b[43m    \u001b[49m\u001b[43mencoder_hidden_states\u001b[49m\u001b[38;5;241;43m=\u001b[39;49m\u001b[43mencoder_hidden_states\u001b[49m\u001b[43m,\u001b[49m\n\u001b[1;32m   1025\u001b[0m \u001b[43m    \u001b[49m\u001b[43mencoder_attention_mask\u001b[49m\u001b[38;5;241;43m=\u001b[39;49m\u001b[43mencoder_extended_attention_mask\u001b[49m\u001b[43m,\u001b[49m\n\u001b[1;32m   1026\u001b[0m \u001b[43m    \u001b[49m\u001b[43mpast_key_values\u001b[49m\u001b[38;5;241;43m=\u001b[39;49m\u001b[43mpast_key_values\u001b[49m\u001b[43m,\u001b[49m\n\u001b[1;32m   1027\u001b[0m \u001b[43m    \u001b[49m\u001b[43muse_cache\u001b[49m\u001b[38;5;241;43m=\u001b[39;49m\u001b[43muse_cache\u001b[49m\u001b[43m,\u001b[49m\n\u001b[1;32m   1028\u001b[0m \u001b[43m    \u001b[49m\u001b[43moutput_attentions\u001b[49m\u001b[38;5;241;43m=\u001b[39;49m\u001b[43moutput_attentions\u001b[49m\u001b[43m,\u001b[49m\n\u001b[1;32m   1029\u001b[0m \u001b[43m    \u001b[49m\u001b[43moutput_hidden_states\u001b[49m\u001b[38;5;241;43m=\u001b[39;49m\u001b[43moutput_hidden_states\u001b[49m\u001b[43m,\u001b[49m\n\u001b[1;32m   1030\u001b[0m \u001b[43m    \u001b[49m\u001b[43mreturn_dict\u001b[49m\u001b[38;5;241;43m=\u001b[39;49m\u001b[43mreturn_dict\u001b[49m\u001b[43m,\u001b[49m\n\u001b[1;32m   1031\u001b[0m \u001b[43m\u001b[49m\u001b[43m)\u001b[49m\n\u001b[1;32m   1032\u001b[0m sequence_output \u001b[38;5;241m=\u001b[39m encoder_outputs[\u001b[38;5;241m0\u001b[39m]\n\u001b[1;32m   1033\u001b[0m pooled_output \u001b[38;5;241m=\u001b[39m \u001b[38;5;28mself\u001b[39m\u001b[38;5;241m.\u001b[39mpooler(sequence_output) \u001b[38;5;28;01mif\u001b[39;00m \u001b[38;5;28mself\u001b[39m\u001b[38;5;241m.\u001b[39mpooler \u001b[38;5;129;01mis\u001b[39;00m \u001b[38;5;129;01mnot\u001b[39;00m \u001b[38;5;28;01mNone\u001b[39;00m \u001b[38;5;28;01melse\u001b[39;00m \u001b[38;5;28;01mNone\u001b[39;00m\n",
      "File \u001b[0;32m/opt/conda/lib/python3.10/site-packages/torch/nn/modules/module.py:1501\u001b[0m, in \u001b[0;36mModule._call_impl\u001b[0;34m(self, *args, **kwargs)\u001b[0m\n\u001b[1;32m   1496\u001b[0m \u001b[38;5;66;03m# If we don't have any hooks, we want to skip the rest of the logic in\u001b[39;00m\n\u001b[1;32m   1497\u001b[0m \u001b[38;5;66;03m# this function, and just call forward.\u001b[39;00m\n\u001b[1;32m   1498\u001b[0m \u001b[38;5;28;01mif\u001b[39;00m \u001b[38;5;129;01mnot\u001b[39;00m (\u001b[38;5;28mself\u001b[39m\u001b[38;5;241m.\u001b[39m_backward_hooks \u001b[38;5;129;01mor\u001b[39;00m \u001b[38;5;28mself\u001b[39m\u001b[38;5;241m.\u001b[39m_backward_pre_hooks \u001b[38;5;129;01mor\u001b[39;00m \u001b[38;5;28mself\u001b[39m\u001b[38;5;241m.\u001b[39m_forward_hooks \u001b[38;5;129;01mor\u001b[39;00m \u001b[38;5;28mself\u001b[39m\u001b[38;5;241m.\u001b[39m_forward_pre_hooks\n\u001b[1;32m   1499\u001b[0m         \u001b[38;5;129;01mor\u001b[39;00m _global_backward_pre_hooks \u001b[38;5;129;01mor\u001b[39;00m _global_backward_hooks\n\u001b[1;32m   1500\u001b[0m         \u001b[38;5;129;01mor\u001b[39;00m _global_forward_hooks \u001b[38;5;129;01mor\u001b[39;00m _global_forward_pre_hooks):\n\u001b[0;32m-> 1501\u001b[0m     \u001b[38;5;28;01mreturn\u001b[39;00m \u001b[43mforward_call\u001b[49m\u001b[43m(\u001b[49m\u001b[38;5;241;43m*\u001b[39;49m\u001b[43margs\u001b[49m\u001b[43m,\u001b[49m\u001b[43m \u001b[49m\u001b[38;5;241;43m*\u001b[39;49m\u001b[38;5;241;43m*\u001b[39;49m\u001b[43mkwargs\u001b[49m\u001b[43m)\u001b[49m\n\u001b[1;32m   1502\u001b[0m \u001b[38;5;66;03m# Do not call functions when jit is used\u001b[39;00m\n\u001b[1;32m   1503\u001b[0m full_backward_hooks, non_full_backward_hooks \u001b[38;5;241m=\u001b[39m [], []\n",
      "File \u001b[0;32m/opt/conda/lib/python3.10/site-packages/transformers/models/bert/modeling_bert.py:610\u001b[0m, in \u001b[0;36mBertEncoder.forward\u001b[0;34m(self, hidden_states, attention_mask, head_mask, encoder_hidden_states, encoder_attention_mask, past_key_values, use_cache, output_attentions, output_hidden_states, return_dict)\u001b[0m\n\u001b[1;32m    601\u001b[0m     layer_outputs \u001b[38;5;241m=\u001b[39m torch\u001b[38;5;241m.\u001b[39mutils\u001b[38;5;241m.\u001b[39mcheckpoint\u001b[38;5;241m.\u001b[39mcheckpoint(\n\u001b[1;32m    602\u001b[0m         create_custom_forward(layer_module),\n\u001b[1;32m    603\u001b[0m         hidden_states,\n\u001b[0;32m   (...)\u001b[0m\n\u001b[1;32m    607\u001b[0m         encoder_attention_mask,\n\u001b[1;32m    608\u001b[0m     )\n\u001b[1;32m    609\u001b[0m \u001b[38;5;28;01melse\u001b[39;00m:\n\u001b[0;32m--> 610\u001b[0m     layer_outputs \u001b[38;5;241m=\u001b[39m \u001b[43mlayer_module\u001b[49m\u001b[43m(\u001b[49m\n\u001b[1;32m    611\u001b[0m \u001b[43m        \u001b[49m\u001b[43mhidden_states\u001b[49m\u001b[43m,\u001b[49m\n\u001b[1;32m    612\u001b[0m \u001b[43m        \u001b[49m\u001b[43mattention_mask\u001b[49m\u001b[43m,\u001b[49m\n\u001b[1;32m    613\u001b[0m \u001b[43m        \u001b[49m\u001b[43mlayer_head_mask\u001b[49m\u001b[43m,\u001b[49m\n\u001b[1;32m    614\u001b[0m \u001b[43m        \u001b[49m\u001b[43mencoder_hidden_states\u001b[49m\u001b[43m,\u001b[49m\n\u001b[1;32m    615\u001b[0m \u001b[43m        \u001b[49m\u001b[43mencoder_attention_mask\u001b[49m\u001b[43m,\u001b[49m\n\u001b[1;32m    616\u001b[0m \u001b[43m        \u001b[49m\u001b[43mpast_key_value\u001b[49m\u001b[43m,\u001b[49m\n\u001b[1;32m    617\u001b[0m \u001b[43m        \u001b[49m\u001b[43moutput_attentions\u001b[49m\u001b[43m,\u001b[49m\n\u001b[1;32m    618\u001b[0m \u001b[43m    \u001b[49m\u001b[43m)\u001b[49m\n\u001b[1;32m    620\u001b[0m hidden_states \u001b[38;5;241m=\u001b[39m layer_outputs[\u001b[38;5;241m0\u001b[39m]\n\u001b[1;32m    621\u001b[0m \u001b[38;5;28;01mif\u001b[39;00m use_cache:\n",
      "File \u001b[0;32m/opt/conda/lib/python3.10/site-packages/torch/nn/modules/module.py:1501\u001b[0m, in \u001b[0;36mModule._call_impl\u001b[0;34m(self, *args, **kwargs)\u001b[0m\n\u001b[1;32m   1496\u001b[0m \u001b[38;5;66;03m# If we don't have any hooks, we want to skip the rest of the logic in\u001b[39;00m\n\u001b[1;32m   1497\u001b[0m \u001b[38;5;66;03m# this function, and just call forward.\u001b[39;00m\n\u001b[1;32m   1498\u001b[0m \u001b[38;5;28;01mif\u001b[39;00m \u001b[38;5;129;01mnot\u001b[39;00m (\u001b[38;5;28mself\u001b[39m\u001b[38;5;241m.\u001b[39m_backward_hooks \u001b[38;5;129;01mor\u001b[39;00m \u001b[38;5;28mself\u001b[39m\u001b[38;5;241m.\u001b[39m_backward_pre_hooks \u001b[38;5;129;01mor\u001b[39;00m \u001b[38;5;28mself\u001b[39m\u001b[38;5;241m.\u001b[39m_forward_hooks \u001b[38;5;129;01mor\u001b[39;00m \u001b[38;5;28mself\u001b[39m\u001b[38;5;241m.\u001b[39m_forward_pre_hooks\n\u001b[1;32m   1499\u001b[0m         \u001b[38;5;129;01mor\u001b[39;00m _global_backward_pre_hooks \u001b[38;5;129;01mor\u001b[39;00m _global_backward_hooks\n\u001b[1;32m   1500\u001b[0m         \u001b[38;5;129;01mor\u001b[39;00m _global_forward_hooks \u001b[38;5;129;01mor\u001b[39;00m _global_forward_pre_hooks):\n\u001b[0;32m-> 1501\u001b[0m     \u001b[38;5;28;01mreturn\u001b[39;00m \u001b[43mforward_call\u001b[49m\u001b[43m(\u001b[49m\u001b[38;5;241;43m*\u001b[39;49m\u001b[43margs\u001b[49m\u001b[43m,\u001b[49m\u001b[43m \u001b[49m\u001b[38;5;241;43m*\u001b[39;49m\u001b[38;5;241;43m*\u001b[39;49m\u001b[43mkwargs\u001b[49m\u001b[43m)\u001b[49m\n\u001b[1;32m   1502\u001b[0m \u001b[38;5;66;03m# Do not call functions when jit is used\u001b[39;00m\n\u001b[1;32m   1503\u001b[0m full_backward_hooks, non_full_backward_hooks \u001b[38;5;241m=\u001b[39m [], []\n",
      "File \u001b[0;32m/opt/conda/lib/python3.10/site-packages/transformers/models/bert/modeling_bert.py:495\u001b[0m, in \u001b[0;36mBertLayer.forward\u001b[0;34m(self, hidden_states, attention_mask, head_mask, encoder_hidden_states, encoder_attention_mask, past_key_value, output_attentions)\u001b[0m\n\u001b[1;32m    483\u001b[0m \u001b[38;5;28;01mdef\u001b[39;00m \u001b[38;5;21mforward\u001b[39m(\n\u001b[1;32m    484\u001b[0m     \u001b[38;5;28mself\u001b[39m,\n\u001b[1;32m    485\u001b[0m     hidden_states: torch\u001b[38;5;241m.\u001b[39mTensor,\n\u001b[0;32m   (...)\u001b[0m\n\u001b[1;32m    492\u001b[0m ) \u001b[38;5;241m-\u001b[39m\u001b[38;5;241m>\u001b[39m Tuple[torch\u001b[38;5;241m.\u001b[39mTensor]:\n\u001b[1;32m    493\u001b[0m     \u001b[38;5;66;03m# decoder uni-directional self-attention cached key/values tuple is at positions 1,2\u001b[39;00m\n\u001b[1;32m    494\u001b[0m     self_attn_past_key_value \u001b[38;5;241m=\u001b[39m past_key_value[:\u001b[38;5;241m2\u001b[39m] \u001b[38;5;28;01mif\u001b[39;00m past_key_value \u001b[38;5;129;01mis\u001b[39;00m \u001b[38;5;129;01mnot\u001b[39;00m \u001b[38;5;28;01mNone\u001b[39;00m \u001b[38;5;28;01melse\u001b[39;00m \u001b[38;5;28;01mNone\u001b[39;00m\n\u001b[0;32m--> 495\u001b[0m     self_attention_outputs \u001b[38;5;241m=\u001b[39m \u001b[38;5;28;43mself\u001b[39;49m\u001b[38;5;241;43m.\u001b[39;49m\u001b[43mattention\u001b[49m\u001b[43m(\u001b[49m\n\u001b[1;32m    496\u001b[0m \u001b[43m        \u001b[49m\u001b[43mhidden_states\u001b[49m\u001b[43m,\u001b[49m\n\u001b[1;32m    497\u001b[0m \u001b[43m        \u001b[49m\u001b[43mattention_mask\u001b[49m\u001b[43m,\u001b[49m\n\u001b[1;32m    498\u001b[0m \u001b[43m        \u001b[49m\u001b[43mhead_mask\u001b[49m\u001b[43m,\u001b[49m\n\u001b[1;32m    499\u001b[0m \u001b[43m        \u001b[49m\u001b[43moutput_attentions\u001b[49m\u001b[38;5;241;43m=\u001b[39;49m\u001b[43moutput_attentions\u001b[49m\u001b[43m,\u001b[49m\n\u001b[1;32m    500\u001b[0m \u001b[43m        \u001b[49m\u001b[43mpast_key_value\u001b[49m\u001b[38;5;241;43m=\u001b[39;49m\u001b[43mself_attn_past_key_value\u001b[49m\u001b[43m,\u001b[49m\n\u001b[1;32m    501\u001b[0m \u001b[43m    \u001b[49m\u001b[43m)\u001b[49m\n\u001b[1;32m    502\u001b[0m     attention_output \u001b[38;5;241m=\u001b[39m self_attention_outputs[\u001b[38;5;241m0\u001b[39m]\n\u001b[1;32m    504\u001b[0m     \u001b[38;5;66;03m# if decoder, the last output is tuple of self-attn cache\u001b[39;00m\n",
      "File \u001b[0;32m/opt/conda/lib/python3.10/site-packages/torch/nn/modules/module.py:1501\u001b[0m, in \u001b[0;36mModule._call_impl\u001b[0;34m(self, *args, **kwargs)\u001b[0m\n\u001b[1;32m   1496\u001b[0m \u001b[38;5;66;03m# If we don't have any hooks, we want to skip the rest of the logic in\u001b[39;00m\n\u001b[1;32m   1497\u001b[0m \u001b[38;5;66;03m# this function, and just call forward.\u001b[39;00m\n\u001b[1;32m   1498\u001b[0m \u001b[38;5;28;01mif\u001b[39;00m \u001b[38;5;129;01mnot\u001b[39;00m (\u001b[38;5;28mself\u001b[39m\u001b[38;5;241m.\u001b[39m_backward_hooks \u001b[38;5;129;01mor\u001b[39;00m \u001b[38;5;28mself\u001b[39m\u001b[38;5;241m.\u001b[39m_backward_pre_hooks \u001b[38;5;129;01mor\u001b[39;00m \u001b[38;5;28mself\u001b[39m\u001b[38;5;241m.\u001b[39m_forward_hooks \u001b[38;5;129;01mor\u001b[39;00m \u001b[38;5;28mself\u001b[39m\u001b[38;5;241m.\u001b[39m_forward_pre_hooks\n\u001b[1;32m   1499\u001b[0m         \u001b[38;5;129;01mor\u001b[39;00m _global_backward_pre_hooks \u001b[38;5;129;01mor\u001b[39;00m _global_backward_hooks\n\u001b[1;32m   1500\u001b[0m         \u001b[38;5;129;01mor\u001b[39;00m _global_forward_hooks \u001b[38;5;129;01mor\u001b[39;00m _global_forward_pre_hooks):\n\u001b[0;32m-> 1501\u001b[0m     \u001b[38;5;28;01mreturn\u001b[39;00m \u001b[43mforward_call\u001b[49m\u001b[43m(\u001b[49m\u001b[38;5;241;43m*\u001b[39;49m\u001b[43margs\u001b[49m\u001b[43m,\u001b[49m\u001b[43m \u001b[49m\u001b[38;5;241;43m*\u001b[39;49m\u001b[38;5;241;43m*\u001b[39;49m\u001b[43mkwargs\u001b[49m\u001b[43m)\u001b[49m\n\u001b[1;32m   1502\u001b[0m \u001b[38;5;66;03m# Do not call functions when jit is used\u001b[39;00m\n\u001b[1;32m   1503\u001b[0m full_backward_hooks, non_full_backward_hooks \u001b[38;5;241m=\u001b[39m [], []\n",
      "File \u001b[0;32m/opt/conda/lib/python3.10/site-packages/transformers/models/bert/modeling_bert.py:425\u001b[0m, in \u001b[0;36mBertAttention.forward\u001b[0;34m(self, hidden_states, attention_mask, head_mask, encoder_hidden_states, encoder_attention_mask, past_key_value, output_attentions)\u001b[0m\n\u001b[1;32m    415\u001b[0m \u001b[38;5;28;01mdef\u001b[39;00m \u001b[38;5;21mforward\u001b[39m(\n\u001b[1;32m    416\u001b[0m     \u001b[38;5;28mself\u001b[39m,\n\u001b[1;32m    417\u001b[0m     hidden_states: torch\u001b[38;5;241m.\u001b[39mTensor,\n\u001b[0;32m   (...)\u001b[0m\n\u001b[1;32m    423\u001b[0m     output_attentions: Optional[\u001b[38;5;28mbool\u001b[39m] \u001b[38;5;241m=\u001b[39m \u001b[38;5;28;01mFalse\u001b[39;00m,\n\u001b[1;32m    424\u001b[0m ) \u001b[38;5;241m-\u001b[39m\u001b[38;5;241m>\u001b[39m Tuple[torch\u001b[38;5;241m.\u001b[39mTensor]:\n\u001b[0;32m--> 425\u001b[0m     self_outputs \u001b[38;5;241m=\u001b[39m \u001b[38;5;28;43mself\u001b[39;49m\u001b[38;5;241;43m.\u001b[39;49m\u001b[43mself\u001b[49m\u001b[43m(\u001b[49m\n\u001b[1;32m    426\u001b[0m \u001b[43m        \u001b[49m\u001b[43mhidden_states\u001b[49m\u001b[43m,\u001b[49m\n\u001b[1;32m    427\u001b[0m \u001b[43m        \u001b[49m\u001b[43mattention_mask\u001b[49m\u001b[43m,\u001b[49m\n\u001b[1;32m    428\u001b[0m \u001b[43m        \u001b[49m\u001b[43mhead_mask\u001b[49m\u001b[43m,\u001b[49m\n\u001b[1;32m    429\u001b[0m \u001b[43m        \u001b[49m\u001b[43mencoder_hidden_states\u001b[49m\u001b[43m,\u001b[49m\n\u001b[1;32m    430\u001b[0m \u001b[43m        \u001b[49m\u001b[43mencoder_attention_mask\u001b[49m\u001b[43m,\u001b[49m\n\u001b[1;32m    431\u001b[0m \u001b[43m        \u001b[49m\u001b[43mpast_key_value\u001b[49m\u001b[43m,\u001b[49m\n\u001b[1;32m    432\u001b[0m \u001b[43m        \u001b[49m\u001b[43moutput_attentions\u001b[49m\u001b[43m,\u001b[49m\n\u001b[1;32m    433\u001b[0m \u001b[43m    \u001b[49m\u001b[43m)\u001b[49m\n\u001b[1;32m    434\u001b[0m     attention_output \u001b[38;5;241m=\u001b[39m \u001b[38;5;28mself\u001b[39m\u001b[38;5;241m.\u001b[39moutput(self_outputs[\u001b[38;5;241m0\u001b[39m], hidden_states)\n\u001b[1;32m    435\u001b[0m     outputs \u001b[38;5;241m=\u001b[39m (attention_output,) \u001b[38;5;241m+\u001b[39m self_outputs[\u001b[38;5;241m1\u001b[39m:]  \u001b[38;5;66;03m# add attentions if we output them\u001b[39;00m\n",
      "File \u001b[0;32m/opt/conda/lib/python3.10/site-packages/torch/nn/modules/module.py:1501\u001b[0m, in \u001b[0;36mModule._call_impl\u001b[0;34m(self, *args, **kwargs)\u001b[0m\n\u001b[1;32m   1496\u001b[0m \u001b[38;5;66;03m# If we don't have any hooks, we want to skip the rest of the logic in\u001b[39;00m\n\u001b[1;32m   1497\u001b[0m \u001b[38;5;66;03m# this function, and just call forward.\u001b[39;00m\n\u001b[1;32m   1498\u001b[0m \u001b[38;5;28;01mif\u001b[39;00m \u001b[38;5;129;01mnot\u001b[39;00m (\u001b[38;5;28mself\u001b[39m\u001b[38;5;241m.\u001b[39m_backward_hooks \u001b[38;5;129;01mor\u001b[39;00m \u001b[38;5;28mself\u001b[39m\u001b[38;5;241m.\u001b[39m_backward_pre_hooks \u001b[38;5;129;01mor\u001b[39;00m \u001b[38;5;28mself\u001b[39m\u001b[38;5;241m.\u001b[39m_forward_hooks \u001b[38;5;129;01mor\u001b[39;00m \u001b[38;5;28mself\u001b[39m\u001b[38;5;241m.\u001b[39m_forward_pre_hooks\n\u001b[1;32m   1499\u001b[0m         \u001b[38;5;129;01mor\u001b[39;00m _global_backward_pre_hooks \u001b[38;5;129;01mor\u001b[39;00m _global_backward_hooks\n\u001b[1;32m   1500\u001b[0m         \u001b[38;5;129;01mor\u001b[39;00m _global_forward_hooks \u001b[38;5;129;01mor\u001b[39;00m _global_forward_pre_hooks):\n\u001b[0;32m-> 1501\u001b[0m     \u001b[38;5;28;01mreturn\u001b[39;00m \u001b[43mforward_call\u001b[49m\u001b[43m(\u001b[49m\u001b[38;5;241;43m*\u001b[39;49m\u001b[43margs\u001b[49m\u001b[43m,\u001b[49m\u001b[43m \u001b[49m\u001b[38;5;241;43m*\u001b[39;49m\u001b[38;5;241;43m*\u001b[39;49m\u001b[43mkwargs\u001b[49m\u001b[43m)\u001b[49m\n\u001b[1;32m   1502\u001b[0m \u001b[38;5;66;03m# Do not call functions when jit is used\u001b[39;00m\n\u001b[1;32m   1503\u001b[0m full_backward_hooks, non_full_backward_hooks \u001b[38;5;241m=\u001b[39m [], []\n",
      "File \u001b[0;32m/opt/conda/lib/python3.10/site-packages/transformers/models/bert/modeling_bert.py:357\u001b[0m, in \u001b[0;36mBertSelfAttention.forward\u001b[0;34m(self, hidden_states, attention_mask, head_mask, encoder_hidden_states, encoder_attention_mask, past_key_value, output_attentions)\u001b[0m\n\u001b[1;32m    353\u001b[0m attention_probs \u001b[38;5;241m=\u001b[39m nn\u001b[38;5;241m.\u001b[39mfunctional\u001b[38;5;241m.\u001b[39msoftmax(attention_scores, dim\u001b[38;5;241m=\u001b[39m\u001b[38;5;241m-\u001b[39m\u001b[38;5;241m1\u001b[39m)\n\u001b[1;32m    355\u001b[0m \u001b[38;5;66;03m# This is actually dropping out entire tokens to attend to, which might\u001b[39;00m\n\u001b[1;32m    356\u001b[0m \u001b[38;5;66;03m# seem a bit unusual, but is taken from the original Transformer paper.\u001b[39;00m\n\u001b[0;32m--> 357\u001b[0m attention_probs \u001b[38;5;241m=\u001b[39m \u001b[38;5;28;43mself\u001b[39;49m\u001b[38;5;241;43m.\u001b[39;49m\u001b[43mdropout\u001b[49m\u001b[43m(\u001b[49m\u001b[43mattention_probs\u001b[49m\u001b[43m)\u001b[49m\n\u001b[1;32m    359\u001b[0m \u001b[38;5;66;03m# Mask heads if we want to\u001b[39;00m\n\u001b[1;32m    360\u001b[0m \u001b[38;5;28;01mif\u001b[39;00m head_mask \u001b[38;5;129;01mis\u001b[39;00m \u001b[38;5;129;01mnot\u001b[39;00m \u001b[38;5;28;01mNone\u001b[39;00m:\n",
      "File \u001b[0;32m/opt/conda/lib/python3.10/site-packages/torch/nn/modules/module.py:1501\u001b[0m, in \u001b[0;36mModule._call_impl\u001b[0;34m(self, *args, **kwargs)\u001b[0m\n\u001b[1;32m   1496\u001b[0m \u001b[38;5;66;03m# If we don't have any hooks, we want to skip the rest of the logic in\u001b[39;00m\n\u001b[1;32m   1497\u001b[0m \u001b[38;5;66;03m# this function, and just call forward.\u001b[39;00m\n\u001b[1;32m   1498\u001b[0m \u001b[38;5;28;01mif\u001b[39;00m \u001b[38;5;129;01mnot\u001b[39;00m (\u001b[38;5;28mself\u001b[39m\u001b[38;5;241m.\u001b[39m_backward_hooks \u001b[38;5;129;01mor\u001b[39;00m \u001b[38;5;28mself\u001b[39m\u001b[38;5;241m.\u001b[39m_backward_pre_hooks \u001b[38;5;129;01mor\u001b[39;00m \u001b[38;5;28mself\u001b[39m\u001b[38;5;241m.\u001b[39m_forward_hooks \u001b[38;5;129;01mor\u001b[39;00m \u001b[38;5;28mself\u001b[39m\u001b[38;5;241m.\u001b[39m_forward_pre_hooks\n\u001b[1;32m   1499\u001b[0m         \u001b[38;5;129;01mor\u001b[39;00m _global_backward_pre_hooks \u001b[38;5;129;01mor\u001b[39;00m _global_backward_hooks\n\u001b[1;32m   1500\u001b[0m         \u001b[38;5;129;01mor\u001b[39;00m _global_forward_hooks \u001b[38;5;129;01mor\u001b[39;00m _global_forward_pre_hooks):\n\u001b[0;32m-> 1501\u001b[0m     \u001b[38;5;28;01mreturn\u001b[39;00m \u001b[43mforward_call\u001b[49m\u001b[43m(\u001b[49m\u001b[38;5;241;43m*\u001b[39;49m\u001b[43margs\u001b[49m\u001b[43m,\u001b[49m\u001b[43m \u001b[49m\u001b[38;5;241;43m*\u001b[39;49m\u001b[38;5;241;43m*\u001b[39;49m\u001b[43mkwargs\u001b[49m\u001b[43m)\u001b[49m\n\u001b[1;32m   1502\u001b[0m \u001b[38;5;66;03m# Do not call functions when jit is used\u001b[39;00m\n\u001b[1;32m   1503\u001b[0m full_backward_hooks, non_full_backward_hooks \u001b[38;5;241m=\u001b[39m [], []\n",
      "File \u001b[0;32m/opt/conda/lib/python3.10/site-packages/torch/nn/modules/dropout.py:59\u001b[0m, in \u001b[0;36mDropout.forward\u001b[0;34m(self, input)\u001b[0m\n\u001b[1;32m     58\u001b[0m \u001b[38;5;28;01mdef\u001b[39;00m \u001b[38;5;21mforward\u001b[39m(\u001b[38;5;28mself\u001b[39m, \u001b[38;5;28minput\u001b[39m: Tensor) \u001b[38;5;241m-\u001b[39m\u001b[38;5;241m>\u001b[39m Tensor:\n\u001b[0;32m---> 59\u001b[0m     \u001b[38;5;28;01mreturn\u001b[39;00m \u001b[43mF\u001b[49m\u001b[38;5;241;43m.\u001b[39;49m\u001b[43mdropout\u001b[49m\u001b[43m(\u001b[49m\u001b[38;5;28;43minput\u001b[39;49m\u001b[43m,\u001b[49m\u001b[43m \u001b[49m\u001b[38;5;28;43mself\u001b[39;49m\u001b[38;5;241;43m.\u001b[39;49m\u001b[43mp\u001b[49m\u001b[43m,\u001b[49m\u001b[43m \u001b[49m\u001b[38;5;28;43mself\u001b[39;49m\u001b[38;5;241;43m.\u001b[39;49m\u001b[43mtraining\u001b[49m\u001b[43m,\u001b[49m\u001b[43m \u001b[49m\u001b[38;5;28;43mself\u001b[39;49m\u001b[38;5;241;43m.\u001b[39;49m\u001b[43minplace\u001b[49m\u001b[43m)\u001b[49m\n",
      "File \u001b[0;32m/opt/conda/lib/python3.10/site-packages/torch/nn/functional.py:1252\u001b[0m, in \u001b[0;36mdropout\u001b[0;34m(input, p, training, inplace)\u001b[0m\n\u001b[1;32m   1250\u001b[0m \u001b[38;5;28;01mif\u001b[39;00m p \u001b[38;5;241m<\u001b[39m \u001b[38;5;241m0.0\u001b[39m \u001b[38;5;129;01mor\u001b[39;00m p \u001b[38;5;241m>\u001b[39m \u001b[38;5;241m1.0\u001b[39m:\n\u001b[1;32m   1251\u001b[0m     \u001b[38;5;28;01mraise\u001b[39;00m \u001b[38;5;167;01mValueError\u001b[39;00m(\u001b[38;5;124m\"\u001b[39m\u001b[38;5;124mdropout probability has to be between 0 and 1, \u001b[39m\u001b[38;5;124m\"\u001b[39m \u001b[38;5;124m\"\u001b[39m\u001b[38;5;124mbut got \u001b[39m\u001b[38;5;132;01m{}\u001b[39;00m\u001b[38;5;124m\"\u001b[39m\u001b[38;5;241m.\u001b[39mformat(p))\n\u001b[0;32m-> 1252\u001b[0m \u001b[38;5;28;01mreturn\u001b[39;00m _VF\u001b[38;5;241m.\u001b[39mdropout_(\u001b[38;5;28minput\u001b[39m, p, training) \u001b[38;5;28;01mif\u001b[39;00m inplace \u001b[38;5;28;01melse\u001b[39;00m \u001b[43m_VF\u001b[49m\u001b[38;5;241;43m.\u001b[39;49m\u001b[43mdropout\u001b[49m\u001b[43m(\u001b[49m\u001b[38;5;28;43minput\u001b[39;49m\u001b[43m,\u001b[49m\u001b[43m \u001b[49m\u001b[43mp\u001b[49m\u001b[43m,\u001b[49m\u001b[43m \u001b[49m\u001b[43mtraining\u001b[49m\u001b[43m)\u001b[49m\n",
      "\u001b[0;31mOutOfMemoryError\u001b[0m: CUDA out of memory. Tried to allocate 768.00 MiB (GPU 7; 47.54 GiB total capacity; 45.50 GiB already allocated; 385.69 MiB free; 46.85 GiB reserved in total by PyTorch) If reserved memory is >> allocated memory try setting max_split_size_mb to avoid fragmentation.  See documentation for Memory Management and PYTORCH_CUDA_ALLOC_CONF"
     ]
    }
   ],
   "source": [
    "from tqdm import tqdm\n",
    "for epoch in range(2):\n",
    "    rep_model.train()\n",
    "    level1_classification.train()\n",
    "    level2_classification.train()\n",
    "    level3_classification.train()\n",
    "    total_loss = 0\n",
    "    for train_batch in tqdm(loader):\n",
    "        try:\n",
    "            rep = rep_model(train_batch['input_ids'].to(device),\n",
    "                                           train_batch['attention_mask'].to(device))\n",
    "            level1 = level1_classification(rep)\n",
    "            level2 = level2_classification(rep)\n",
    "            level3 = level3_classification(rep)\n",
    "            \n",
    "        except:\n",
    "            print(train_batch['text'])\n",
    "            raise\n",
    "        try:\n",
    "            loss = 0 \n",
    "            loss += criterion(level1, train_batch['level1'].long().to(device))\n",
    "            loss += criterion(level2, train_batch['level2'].long().to(device))\n",
    "            loss += criterion(level3, train_batch['level3'].long().to(device))\n",
    "            total_loss += loss.item()\n",
    "            loss.backward()\n",
    "        except:\n",
    "            print(level1, train_batch['level1'])\n",
    "            print(level2, train_batch['level2'])\n",
    "            print(level3, train_batch['level3'])\n",
    "            raise\n",
    "        optim.step()\n",
    "        optim.zero_grad()\n",
    "    print(f\"The loss of epoch {epoch} is {total_loss} \\n\")\n",
    "    \n",
    "#     rep_model.eval()\n",
    "#     level1_classification.eval()\n",
    "#     level2_classification.eval()\n",
    "#     level3_classification.eval()\n",
    "#     level1_correct, level2_correct, level3_correct = 0, 0, 0\n",
    "#     level1_correct_actual, level2_correct_actual, level3_correct_actual = 0, 0, 0\n",
    "#     level1_total, level2_total, level3_total = 0, 0, 0\n",
    "#     level1_total_actual, level2_total_actual, level3_total_actual = 0, 0, 0\n",
    "#     for train_batch in tqdm(test_loader):\n",
    "#         rep = rep_model(train_batch['input_ids'].to(device),\n",
    "#                                                train_batch['attention_mask'].to(device))\n",
    "#         level1 = level1_classification(rep)\n",
    "#         level2 = level2_classification(rep)\n",
    "#         level3 = level3_classification(rep)\n",
    "#         level1 = level1.argmax(-1)\n",
    "#         level2 = level2.argmax(-1)\n",
    "#         level3 = level3.argmax(-1)\n",
    "\n",
    "#         level1_correct += (level1 == train_batch['level1'].long().to(device)).sum().item()\n",
    "#         level1_total += train_batch['level1'].shape[0]\n",
    "#         level1_correct_actual += ((level1 == train_batch['level1'].long().to(device)) & (train_batch['level1'].long().to(device) != 7)).sum().item()\n",
    "#         level1_total_actual += (train_batch['level1'].long().to(device) != 7).sum().item()\n",
    "\n",
    "#         level2_correct += (level2 == train_batch['level2'].long().to(device)).sum().item()\n",
    "#         level2_total += train_batch['level2'].shape[0]\n",
    "#         level2_correct_actual += ((level2 == train_batch['level2'].long().to(device)) & (train_batch['level2'].long().to(device) != 14)).sum().item()\n",
    "#         level2_total_actual += (train_batch['level2'].long().to(device) != 14).sum().item()\n",
    "\n",
    "\n",
    "#         level3_correct += (level3 == train_batch['level3'].long().to(device)).sum().item()\n",
    "#         level3_total += train_batch['level3'].shape[0]\n",
    "#         level3_correct_actual += ((level3 == train_batch['level3'].long().to(device)) & (train_batch['level3'].long().to(device) != 7)).sum().item()\n",
    "#         level3_total_actual += (train_batch['level3'].long().to(device) != 7).sum().item()\n",
    "        \n",
    "#     print(level1_correct/level1_total)\n",
    "#     print(level2_correct/level2_total)\n",
    "#     print(level3_correct/level3_total)\n",
    "#     print(level1_correct_actual/level1_total_actual)\n",
    "#     print(level2_correct_actual/level2_total_actual)\n",
    "#     print(level3_correct_actual/level3_total_actual)\n",
    "        "
   ]
  },
  {
   "cell_type": "code",
   "execution_count": 11,
   "id": "04f1640c-ae49-47ee-8402-6c07810f2841",
   "metadata": {},
   "outputs": [],
   "source": [
    "torch.save(rep_model.state_dict(), \"rep_model_base.pt\")\n",
    "torch.save(level1_classification.state_dict(), \"level1_classification_base.pt\")\n",
    "torch.save(level2_classification.state_dict(), \"level2_classification_base.pt\")\n",
    "torch.save(level3_classification.state_dict(), \"level3_classification_base.pt\")"
   ]
  },
  {
   "cell_type": "code",
   "execution_count": 9,
   "id": "3c601c32-5186-4e43-b4cc-1888a269bd38",
   "metadata": {},
   "outputs": [
    {
     "data": {
      "text/plain": [
       "<All keys matched successfully>"
      ]
     },
     "execution_count": 9,
     "metadata": {},
     "output_type": "execute_result"
    }
   ],
   "source": [
    "level1_classification_path = \"level1_classification_base.pt\"\n",
    "level1_classification.load_state_dict(torch.load(level1_classification_path, map_location=device))\n",
    "\n",
    "level2_classification_path = \"level2_classification_base.pt\"\n",
    "level2_classification.load_state_dict(torch.load(level2_classification_path, map_location=device))\n",
    "\n",
    "level3_classification_path = \"level3_classification_base.pt\"\n",
    "level3_classification.load_state_dict(torch.load(level3_classification_path, map_location=device))\n",
    "\n",
    "rep_model_path = \"rep_model_base.pt\"\n",
    "rep_model.load_state_dict(torch.load(rep_model_path, map_location=device))\n",
    "    "
   ]
  },
  {
   "cell_type": "code",
   "execution_count": 11,
   "id": "15018955-6150-4fe9-ae9c-891cd0e98165",
   "metadata": {},
   "outputs": [
    {
     "name": "stderr",
     "output_type": "stream",
     "text": [
      "100%|██████████| 203/203 [01:26<00:00,  2.34it/s]\n"
     ]
    }
   ],
   "source": [
    "from tqdm import tqdm \n",
    "\n",
    "rep_model.eval()\n",
    "level1_classification.eval()\n",
    "level2_classification.eval()\n",
    "level3_classification.eval()\n",
    "level1_correct, level2_correct, level3_correct = 0, 0, 0\n",
    "level1_correct_actual, level2_correct_actual, level3_correct_actual = 0, 0, 0\n",
    "level1_total, level2_total, level3_total = 0, 0, 0\n",
    "level1_total_actual, level2_total_actual, level3_total_actual = 0, 0, 0\n",
    "for train_batch in tqdm(test_loader):\n",
    "    rep = rep_model(train_batch['input_ids'].to(device),\n",
    "                                           train_batch['attention_mask'].to(device))\n",
    "    level1 = level1_classification(rep)\n",
    "    level2 = level2_classification(rep)\n",
    "    level3 = level3_classification(rep)\n",
    "    level1 = level1.argmax(-1)\n",
    "    level2 = level2.argmax(-1)\n",
    "    level3 = level3.argmax(-1)\n",
    "    \n",
    "    level1_correct += (level1 == train_batch['level1'].long().to(device)).sum().item()\n",
    "    level1_total += train_batch['level1'].shape[0]\n",
    "    level1_correct_actual += ((level1 == train_batch['level1'].long().to(device)) & (train_batch['level1'].long().to(device) != 7)).sum().item()\n",
    "    level1_total_actual += (train_batch['level1'].long().to(device) != 7).sum().item()\n",
    "    \n",
    "    level2_correct += (level2 == train_batch['level2'].long().to(device)).sum().item()\n",
    "    level2_total += train_batch['level2'].shape[0]\n",
    "    level2_correct_actual += ((level2 == train_batch['level2'].long().to(device)) & (train_batch['level2'].long().to(device) != 14)).sum().item()\n",
    "    level2_total_actual += (train_batch['level2'].long().to(device) != 14).sum().item()\n",
    "    \n",
    "    \n",
    "    level3_correct += (level3 == train_batch['level3'].long().to(device)).sum().item()\n",
    "    level3_total += train_batch['level3'].shape[0]\n",
    "    level3_correct_actual += ((level3 == train_batch['level3'].long().to(device)) & (train_batch['level3'].long().to(device) != 7)).sum().item()\n",
    "    level3_total_actual += (train_batch['level3'].long().to(device) != 7).sum().item()\n",
    "    "
   ]
  },
  {
   "cell_type": "code",
   "execution_count": 12,
   "id": "6fcda898-5d08-4e31-b5ca-4ea1201e2bf5",
   "metadata": {},
   "outputs": [
    {
     "name": "stdout",
     "output_type": "stream",
     "text": [
      "0.8498083242059146\n",
      "0.7739594742606791\n",
      "0.8678806133625411\n",
      "0.8565322695540676\n",
      "0.7787053079225075\n",
      "0.7517269402681837\n"
     ]
    }
   ],
   "source": [
    "print(level1_correct/level1_total)\n",
    "print(level2_correct/level2_total)\n",
    "print(level3_correct/level3_total)\n",
    "print(level1_correct_actual/level1_total_actual)\n",
    "print(level2_correct_actual/level2_total_actual)\n",
    "print(level3_correct_actual/level3_total_actual)"
   ]
  },
  {
   "cell_type": "code",
   "execution_count": 33,
   "id": "7662bc35-2441-469a-88b3-69c0bace068d",
   "metadata": {},
   "outputs": [
    {
     "data": {
      "text/plain": [
       "tensor(6, device='cuda:6')"
      ]
     },
     "execution_count": 33,
     "metadata": {},
     "output_type": "execute_result"
    }
   ],
   "source": [
    "(level1 == train_batch['level1'].long().to(device)).sum()"
   ]
  },
  {
   "cell_type": "code",
   "execution_count": 37,
   "id": "5f5ae6af-7de0-4ee8-8139-1f9e8371640c",
   "metadata": {},
   "outputs": [
    {
     "data": {
      "text/plain": [
       "tensor([12, 12, 11, 10,  1,  5, 11,  7], device='cuda:6')"
      ]
     },
     "execution_count": 37,
     "metadata": {},
     "output_type": "execute_result"
    }
   ],
   "source": [
    "level2"
   ]
  },
  {
   "cell_type": "code",
   "execution_count": 38,
   "id": "208090b1-15bc-4919-9b9b-3c9002a8b128",
   "metadata": {},
   "outputs": [
    {
     "data": {
      "text/plain": [
       "tensor([12, 12,  6, 10,  1,  5, 11, 15])"
      ]
     },
     "execution_count": 38,
     "metadata": {},
     "output_type": "execute_result"
    }
   ],
   "source": [
    "train_batch['level2']"
   ]
  },
  {
   "cell_type": "code",
   "execution_count": 44,
   "id": "078f0ce5-2f9a-4d4c-9c56-129f470acf21",
   "metadata": {},
   "outputs": [],
   "source": [
    "# comp.graphics\n",
    "# comp.os.ms-windows.misc\n",
    "# comp.sys.ibm.pc.hardware\n",
    "# comp.sys.mac.hardware\n",
    "# comp.windows.x\n",
    "# rec.autos\n",
    "# rec.motorcycles\n",
    "# rec.sport.baseball\n",
    "# rec.sport.hockey\n",
    "# sci.crypt\n",
    "# <sci.electronics\n",
    "# sci.med\n",
    "# sci.space\n",
    "# misc.forsale\n",
    "# talk.politics.misc\n",
    "# talk.politics.guns\n",
    "# talk.politics.mideast\n",
    "# talk.religion.misc\n",
    "# alt.atheism\n",
    "# soc.religion.christian\n",
    "# None\n",
    "level1 = [ \n",
    "    \"comp\", \"rec\", \"sci\", \"misc\", \"talk\", \"alt\", \"soc\", \"None\"\n",
    "]\n",
    "level2 = [\n",
    "    \"os\", \"sys\", \"windows\", \"graphics\", \"motorcycles\", \"sport\", \"autos\", \"religion\",\n",
    "    \"electronics\", \"med\", \"space\", \"forsale\", \"politics\", \"crypt\", \"None\"\n",
    "]\n",
    "level2_pass = {\n",
    "    \"soc\", \"alt\" \n",
    "}\n",
    "level3_pass = {\n",
    "    \"windows\", \"os\", \"religion\"\n",
    "}\n",
    "level3 = [\n",
    "    \"misc\", \"guns\", \"ibm\", \"mac\", \"baseball\", \"hockey\", \"mideast\", \"None\"\n",
    "]\n",
    "\n",
    "hierarchy = {\"comp\": {\"graphics\", \"os\", \"sys\", \"windows\"}, \"rec\": {\"auto\", \"motorcycles\", \"sport\"},\n",
    "            \"sci\": {\"crypt\", \"electronics\", \"med\", \"space\"}, \"misc\": {\"forsale\"}, \n",
    "             \"talk\": {\"politics\", \"religion\"}, \"alt\": {}, \"soc\": {}, \"None\": {},\n",
    "             \"windows\": {}, \"os\": {}, \"religion\": {}, \"politics\": {\"misc\", \"guns\", \"mideast\"},\n",
    "             \"sys\": {\"ibm\", \"mac\"}, \"sport\": {\"hockey\", \"baseball\"}\n",
    "            }"
   ]
  },
  {
   "cell_type": "code",
   "execution_count": null,
   "id": "8e2f4dc1-6cda-43a0-95d3-9cf371bfd255",
   "metadata": {},
   "outputs": [],
   "source": []
  }
 ],
 "metadata": {
  "kernelspec": {
   "display_name": "Python 3 (ipykernel)",
   "language": "python",
   "name": "python3"
  },
  "language_info": {
   "codemirror_mode": {
    "name": "ipython",
    "version": 3
   },
   "file_extension": ".py",
   "mimetype": "text/x-python",
   "name": "python",
   "nbconvert_exporter": "python",
   "pygments_lexer": "ipython3",
   "version": "3.10.6"
  }
 },
 "nbformat": 4,
 "nbformat_minor": 5
}
