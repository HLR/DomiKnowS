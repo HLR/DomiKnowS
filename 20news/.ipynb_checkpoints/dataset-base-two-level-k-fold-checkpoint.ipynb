{
 "cells": [
  {
   "cell_type": "code",
   "execution_count": 1,
   "id": "638a9703-0de2-48ca-ae1f-bfd7ab82f8db",
   "metadata": {},
   "outputs": [
    {
     "name": "stderr",
     "output_type": "stream",
     "text": [
      "Found cached dataset csv (/home/rajabyfa/.cache/huggingface/datasets/rungalileo___csv/rungalileo--20_Newsgroups_Fixed-edf414ecc72dd622/0.0.0/6954658bab30a358235fa864b05cf819af0e179325c740e4bc853bcc7ec513e1)\n"
     ]
    },
    {
     "data": {
      "application/json": {
       "ascii": false,
       "bar_format": null,
       "colour": null,
       "elapsed": 0.03345012664794922,
       "initial": 0,
       "n": 0,
       "ncols": null,
       "nrows": null,
       "postfix": null,
       "prefix": "",
       "rate": null,
       "total": 2,
       "unit": "it",
       "unit_divisor": 1000,
       "unit_scale": false
      },
      "application/vnd.jupyter.widget-view+json": {
       "model_id": "b5b659cb280c41cda9ab97976322391a",
       "version_major": 2,
       "version_minor": 0
      },
      "text/plain": [
       "  0%|          | 0/2 [00:00<?, ?it/s]"
      ]
     },
     "metadata": {},
     "output_type": "display_data"
    }
   ],
   "source": [
    "from datasets import load_dataset\n",
    "\n",
    "dataset = load_dataset(\"rungalileo/20_Newsgroups_Fixed\")"
   ]
  },
  {
   "cell_type": "code",
   "execution_count": 2,
   "id": "4434d38f-3d86-46ee-a932-30d36a541528",
   "metadata": {},
   "outputs": [],
   "source": [
    "def trim_dataset(dataset, key):\n",
    "    labels = {}\n",
    "    for item in dataset[key]:\n",
    "        if item['label'] not in labels:\n",
    "            labels[item['label']] = 0\n",
    "        labels[item['label']] += 1\n",
    "    print(labels)\n",
    "    before_len = len(dataset[key])\n",
    "    print(before_len)\n",
    "    dataset[key] = dataset[key].filter(lambda example: example['label'] and example['label'] != \"None\" and example['text'] and len(example[\"text\"]) >= 10)\n",
    "    after_len = len(dataset[key])\n",
    "    print(after_len)\n",
    "    print(\"the number of removed items : \", before_len - after_len)\n",
    "    labels = {}\n",
    "    for item in dataset[key]:\n",
    "        if item['label'] not in labels:\n",
    "            labels[item['label']] = 0\n",
    "        labels[item['label']] += 1\n",
    "    print(labels)\n",
    "    return dataset"
   ]
  },
  {
   "cell_type": "code",
   "execution_count": 3,
   "id": "0dda9036-9c16-4668-9996-d51a006cae2b",
   "metadata": {},
   "outputs": [
    {
     "name": "stderr",
     "output_type": "stream",
     "text": [
      "Loading cached processed dataset at /home/rajabyfa/.cache/huggingface/datasets/rungalileo___csv/rungalileo--20_Newsgroups_Fixed-edf414ecc72dd622/0.0.0/6954658bab30a358235fa864b05cf819af0e179325c740e4bc853bcc7ec513e1/cache-22327e0021383721.arrow\n"
     ]
    },
    {
     "name": "stdout",
     "output_type": "stream",
     "text": [
      "{'rec.autos': 539, 'comp.sys.mac.hardware': 537, 'comp.graphics': 551, 'sci.space': 564, 'talk.politics.guns': 526, 'sci.med': 572, 'comp.sys.ibm.pc.hardware': 562, 'comp.os.ms-windows.misc': 555, 'rec.motorcycles': 551, 'talk.religion.misc': 339, None: 650, 'misc.forsale': 565, 'alt.atheism': 449, 'sci.electronics': 563, 'comp.windows.x': 576, 'rec.sport.hockey': 559, 'rec.sport.baseball': 547, 'soc.religion.christian': 582, 'talk.politics.mideast': 521, 'talk.politics.misc': 438, 'sci.crypt': 568}\n",
      "11314\n",
      "10664\n",
      "the number of removed items :  650\n",
      "{'rec.autos': 539, 'comp.sys.mac.hardware': 537, 'comp.graphics': 551, 'sci.space': 564, 'talk.politics.guns': 526, 'sci.med': 572, 'comp.sys.ibm.pc.hardware': 562, 'comp.os.ms-windows.misc': 555, 'rec.motorcycles': 551, 'talk.religion.misc': 339, 'misc.forsale': 565, 'alt.atheism': 449, 'sci.electronics': 563, 'comp.windows.x': 576, 'rec.sport.hockey': 559, 'rec.sport.baseball': 547, 'soc.religion.christian': 582, 'talk.politics.mideast': 521, 'talk.politics.misc': 438, 'sci.crypt': 568}\n",
      "{'rec.autos': 354, 'comp.windows.x': 370, None: 513, 'talk.politics.mideast': 353, 'talk.religion.misc': 230, 'sci.med': 371, 'soc.religion.christian': 380, 'comp.graphics': 370, 'comp.os.ms-windows.misc': 369, 'rec.motorcycles': 361, 'alt.atheism': 290, 'comp.sys.mac.hardware': 361, 'misc.forsale': 368, 'talk.politics.guns': 337, 'sci.space': 368, 'comp.sys.ibm.pc.hardware': 374, 'sci.crypt': 360, 'rec.sport.baseball': 366, 'rec.sport.hockey': 378, 'talk.politics.misc': 292, 'sci.electronics': 367}\n",
      "7532\n"
     ]
    },
    {
     "name": "stderr",
     "output_type": "stream",
     "text": [
      "Loading cached processed dataset at /home/rajabyfa/.cache/huggingface/datasets/rungalileo___csv/rungalileo--20_Newsgroups_Fixed-edf414ecc72dd622/0.0.0/6954658bab30a358235fa864b05cf819af0e179325c740e4bc853bcc7ec513e1/cache-ea989db5d94eb33f.arrow\n"
     ]
    },
    {
     "name": "stdout",
     "output_type": "stream",
     "text": [
      "7019\n",
      "the number of removed items :  513\n",
      "{'rec.autos': 354, 'comp.windows.x': 370, 'talk.politics.mideast': 353, 'talk.religion.misc': 230, 'sci.med': 371, 'soc.religion.christian': 380, 'comp.graphics': 370, 'comp.os.ms-windows.misc': 369, 'rec.motorcycles': 361, 'alt.atheism': 290, 'comp.sys.mac.hardware': 361, 'misc.forsale': 368, 'talk.politics.guns': 337, 'sci.space': 368, 'comp.sys.ibm.pc.hardware': 374, 'sci.crypt': 360, 'rec.sport.baseball': 366, 'rec.sport.hockey': 378, 'talk.politics.misc': 292, 'sci.electronics': 367}\n"
     ]
    }
   ],
   "source": [
    "dataset = trim_dataset(dataset, \"train\")\n",
    "dataset = trim_dataset(dataset, \"test\")"
   ]
  },
  {
   "cell_type": "code",
   "execution_count": 4,
   "id": "112ed2e1-7db9-4c43-8fce-004b092c5824",
   "metadata": {},
   "outputs": [],
   "source": [
    "import numpy as np\n",
    "from sklearn.model_selection import StratifiedKFold\n",
    "\n",
    "from datasets import load_dataset\n",
    "\n",
    "# First make the kfold object\n",
    "folds = StratifiedKFold(n_splits=5)\n",
    "\n",
    "# Now make our splits based off of the labels. \n",
    "# We can use `np.zeros()` here since it only works off of indices, we really care about the labels\n",
    "splits = folds.split(np.zeros(dataset[\"train\"].num_rows), dataset[\"train\"][\"label\"])\n"
   ]
  },
  {
   "cell_type": "code",
   "execution_count": 5,
   "id": "7b7477e4-be4d-44ff-bd2c-795a4207c0bb",
   "metadata": {},
   "outputs": [],
   "source": [
    "import copy\n",
    "# dataset2 = copy.deepcopy(dataset1)\n",
    "new_datasets = [copy.deepcopy(dataset) for i in range(5)]\n",
    "i = 0\n",
    "for train_ids, val_ids in splits:\n",
    "    new_datasets[i][\"validation\"] = new_datasets[i][\"train\"].select(val_ids)\n",
    "    new_datasets[i][\"train\"] = new_datasets[i][\"train\"].select(train_ids)\n",
    "    i += 1"
   ]
  },
  {
   "cell_type": "code",
   "execution_count": 6,
   "id": "80c8ffdf-15b8-4cad-bc64-668faf224f24",
   "metadata": {},
   "outputs": [
    {
     "name": "stdout",
     "output_type": "stream",
     "text": [
      "8531\n",
      "2133\n",
      "8531\n",
      "2133\n",
      "8531\n",
      "2133\n",
      "8531\n",
      "2133\n",
      "8532\n",
      "2132\n"
     ]
    }
   ],
   "source": [
    "for i in range(5):\n",
    "    print(len(new_datasets[i]['train']))\n",
    "    print(len(new_datasets[i]['validation']))"
   ]
  },
  {
   "cell_type": "code",
   "execution_count": 7,
   "id": "6f336c28-c601-410d-8475-7cbe94056058",
   "metadata": {},
   "outputs": [],
   "source": [
    "from transformers import RobertaTokenizer, BertTokenizer\n",
    "\n",
    "# tokenizer = RobertaTokenizer.from_pretrained(\"roberta-base\")\n",
    "tokenizer = BertTokenizer.from_pretrained(\"bert-base-uncased\")"
   ]
  },
  {
   "cell_type": "code",
   "execution_count": 8,
   "id": "af6bdfbd-8f94-4e16-809e-bce704240ef4",
   "metadata": {},
   "outputs": [],
   "source": [
    "# comp.graphics\n",
    "# comp.os.ms-windows.misc\n",
    "# comp.sys.ibm.pc.hardware\n",
    "# comp.sys.mac.hardware\n",
    "# comp.windows.x\n",
    "# rec.autos\n",
    "# rec.motorcycles\n",
    "# rec.sport.baseball\n",
    "# rec.sport.hockey\n",
    "# sci.crypt\n",
    "# <sci.electronics\n",
    "# sci.med\n",
    "# sci.space\n",
    "# misc.forsale\n",
    "# talk.politics.misc\n",
    "# talk.politics.guns\n",
    "# talk.politics.mideast\n",
    "# talk.religion.misc\n",
    "# alt.atheism\n",
    "# soc.religion.christian\n",
    "# None\n",
    "\n",
    "import torch\n",
    "\n",
    "\n",
    "def collate_label_set(data):\n",
    "    level1 = [\n",
    "        \"comp.os\", \"comp.sys\", \"comp.windows\", \"comp.graphics\", \"rec.motorcycles\", \"rec.sport\", \"rec.autos\", \"talk.religion\",\n",
    "        \"sci.electronics\", \"sci.med\", \"sci.space\", \"misc.forsale\", \"talk.politics\", \"sci.crypt\", \"alt.atheism\", \"soc.religion\"\n",
    "    ]\n",
    "    level2_pass = {\n",
    "        \"comp.windows\", \"comp.os\", \"talk.religion\", \"soc.religion\"\n",
    "    }\n",
    "    level2 = [\n",
    "        \"misc\", \"guns\", \"ibm\", \"mac\", \"baseball\", \"hockey\", \"mideast\", \"None\"\n",
    "    ]\n",
    "    for item in data:\n",
    "        if item['text'] is None:\n",
    "            item['text'] = \" \"\n",
    "        try:\n",
    "            label = item['label']\n",
    "            if not label:\n",
    "                label = \"None\"\n",
    "                item['level1'] = level1.index(label)\n",
    "                item['level2'] = level2.index(\"None\")\n",
    "            else:\n",
    "                label = label.split(\".\")\n",
    "                label_two = \".\".join(label[:2])\n",
    "                if label_two not in level1:\n",
    "                    print(label[0])\n",
    "                else:\n",
    "                    item['level1'] = level1.index(label_two)\n",
    "                if len(label) > 2:\n",
    "                    if label_two in level2_pass:\n",
    "                        item['level2'] = level2.index(\"None\")\n",
    "                    else:\n",
    "                        if label[2] not in level2:\n",
    "                            print(label[2])\n",
    "                            item['level2'] = level2.index(\"None\")\n",
    "                        else:\n",
    "                            item['level2'] = level2.index(label[2])\n",
    "                else:\n",
    "                    item['level2'] = level2.index(\"None\")\n",
    "        except:\n",
    "            print(label, item['text'])\n",
    "            raise\n",
    "            \n",
    "    final_data = {\"id\": None, \"text\": None, \"level1\": None, \"level2\": None}\n",
    "    final_data['id'] = torch.tensor([item['id'] for item in data])\n",
    "    final_data['text'] = [item['text'] for item in data]\n",
    "    final_data['level1'] = torch.tensor([item['level1'] for item in data])\n",
    "    final_data['level2'] = torch.tensor([item['level2'] for item in data])\n",
    "    try:\n",
    "        x = tokenizer.batch_encode_plus(final_data['text'], return_tensors=\"pt\", padding=\"longest\", max_length=512, truncation=True)\n",
    "    except:\n",
    "        print(final_data['text'])\n",
    "        raise\n",
    "    for key in x:\n",
    "        final_data[key] = x[key]\n",
    "        \n",
    "    return final_data"
   ]
  },
  {
   "cell_type": "raw",
   "id": "53629d27-91da-47de-922f-ec32c5064ca8",
   "metadata": {},
   "source": [
    "level1 = { \n",
    "    \"comp\": 0, \"rec\": 0, \"sci\": 0, \"misc\": 0, \"talk\": 0, \"alt\": 0, \"soc\": 0, \"None\": 0\n",
    "}\n",
    "level2_keys = {\n",
    "        \"os\", \"sys\", \"windows\", \"graphics\", \"motorcycles\", \"sport\", \"autos\", \"religion\",\n",
    "        \"electronics\", \"med\", \"space\", \"forsale\", \"politics\", \"religion\", \"crypt\", \"None\"\n",
    "}\n",
    "level2 = {}\n",
    "for _k in level2_keys:\n",
    "    level2[_k] = 0\n",
    "    \n",
    "level3_keys = {\n",
    "    \"misc\", \"guns\", \"ibm\", \"mac\", \"baseball\", \"hockey\", \"mideast\", \"None\"\n",
    "}\n",
    "level3 = {}\n",
    "for _k in level3_keys:\n",
    "    level3[_k] = 0\n",
    "    \n",
    "for x in loader:\n",
    "    # print(x[0].keys())\n",
    "    for y in x:\n",
    "        try:\n",
    "            level1[y['level1']] += 1\n",
    "            level2[y['level2']] += 1\n",
    "            level3[y['level3']] += 1\n",
    "        except:\n",
    "            print(y['label'])\n",
    "            raise\n",
    "    \n",
    "print(level1)\n",
    "print(level2)\n",
    "print(level3)"
   ]
  },
  {
   "cell_type": "raw",
   "id": "999b88fd-ea5e-4e5a-80c4-b061f51b7d91",
   "metadata": {},
   "source": [
    "dataset['train'][0]"
   ]
  },
  {
   "cell_type": "raw",
   "id": "ebbd70ae-e7eb-4c7a-a289-63813ba1054b",
   "metadata": {},
   "source": [
    "next(iter(loader))"
   ]
  },
  {
   "cell_type": "raw",
   "id": "4f378861-8b15-412d-8dcb-55a3584ec15f",
   "metadata": {},
   "source": [
    "outputs.pooler_output"
   ]
  },
  {
   "cell_type": "code",
   "execution_count": 10,
   "id": "d242d03f-3b86-49ba-bf57-bfd0677cb953",
   "metadata": {},
   "outputs": [],
   "source": [
    "import torch.nn as nn\n",
    "import torch.nn.functional as F\n",
    "\n",
    "class NewsRepModule(nn.Module):\n",
    "    def __init__(self, roberta):\n",
    "        super().__init__()\n",
    "        self.roberta = roberta\n",
    "        self.drop_layer = nn.Dropout(p=0.6)\n",
    "\n",
    "    def forward(self, input_ids, attention_mask):\n",
    "        output = self.roberta(input_ids=input_ids, attention_mask=attention_mask)\n",
    "        logits = output.pooler_output\n",
    "        logits = self.drop_layer(logits)\n",
    "        return logits\n",
    "\n",
    "class Level2Calssification(nn.Module):\n",
    "    def __init__(self,):\n",
    "        super().__init__()\n",
    "        self.classification = nn.Linear(768, 8)\n",
    "\n",
    "    def forward(self, logits):\n",
    "        _out = self.classification(logits)\n",
    "        return _out\n",
    "    \n",
    "class Level1Calssification(nn.Module):\n",
    "    def __init__(self,):\n",
    "        super().__init__()\n",
    "        self.classification = nn.Linear(768, 50)\n",
    "        self.relu = nn.LeakyReLU()\n",
    "        self.classification2 = nn.Linear(50, 16)\n",
    "        \n",
    "\n",
    "    def forward(self, logits):\n",
    "        _out = self.classification(logits)\n",
    "        _out = self.relu(_out)\n",
    "        _out = self.classification2(_out)\n",
    "        return _out"
   ]
  },
  {
   "cell_type": "code",
   "execution_count": null,
   "id": "f372dc43-2ccc-47cf-ba83-117774597e8d",
   "metadata": {},
   "outputs": [],
   "source": []
  },
  {
   "cell_type": "code",
   "execution_count": 11,
   "id": "5558aa69-42a0-4713-a1a9-0504be102207",
   "metadata": {},
   "outputs": [],
   "source": [
    "for item in loader:\n",
    "    pass"
   ]
  },
  {
   "cell_type": "code",
   "execution_count": 11,
   "id": "a1c4af2c-ed04-4203-9bf0-25856253dd3a",
   "metadata": {},
   "outputs": [
    {
     "name": "stderr",
     "output_type": "stream",
     "text": [
      "100%|██████████| 237/237 [03:43<00:00,  1.06it/s]\n"
     ]
    },
    {
     "name": "stdout",
     "output_type": "stream",
     "text": [
      "The loss of epoch 0 is 810.6471781730652 \n",
      "\n"
     ]
    },
    {
     "name": "stderr",
     "output_type": "stream",
     "text": [
      "100%|██████████| 60/60 [00:26<00:00,  2.25it/s]\n",
      "/opt/conda/lib/python3.10/site-packages/sklearn/metrics/_classification.py:1344: UndefinedMetricWarning: Precision and F-score are ill-defined and being set to 0.0 in labels with no predicted samples. Use `zero_division` parameter to control this behavior.\n",
      "  _warn_prf(average, modifier, msg_start, len(result))\n"
     ]
    },
    {
     "name": "stdout",
     "output_type": "stream",
     "text": [
      "0.6483379718945594 0.44093008214555257 0.8557458616435663\n"
     ]
    },
    {
     "name": "stderr",
     "output_type": "stream",
     "text": [
      "100%|██████████| 237/237 [03:43<00:00,  1.06it/s]\n"
     ]
    },
    {
     "name": "stdout",
     "output_type": "stream",
     "text": [
      "The loss of epoch 1 is 517.057345867157 \n",
      "\n"
     ]
    },
    {
     "name": "stderr",
     "output_type": "stream",
     "text": [
      "100%|██████████| 60/60 [00:26<00:00,  2.25it/s]\n",
      "/opt/conda/lib/python3.10/site-packages/sklearn/metrics/_classification.py:1344: UndefinedMetricWarning: Precision and F-score are ill-defined and being set to 0.0 in labels with no predicted samples. Use `zero_division` parameter to control this behavior.\n",
      "  _warn_prf(average, modifier, msg_start, len(result))\n"
     ]
    },
    {
     "name": "stdout",
     "output_type": "stream",
     "text": [
      "0.7671742082691899 0.6574422888905931 0.8769061276477866\n"
     ]
    },
    {
     "name": "stderr",
     "output_type": "stream",
     "text": [
      "100%|██████████| 237/237 [03:43<00:00,  1.06it/s]\n"
     ]
    },
    {
     "name": "stdout",
     "output_type": "stream",
     "text": [
      "The loss of epoch 2 is 336.34411042928696 \n",
      "\n"
     ]
    },
    {
     "name": "stderr",
     "output_type": "stream",
     "text": [
      "100%|██████████| 60/60 [00:26<00:00,  2.25it/s]\n"
     ]
    },
    {
     "name": "stdout",
     "output_type": "stream",
     "text": [
      "0.8163681534931293 0.7530563001561251 0.8796800068301334\n"
     ]
    },
    {
     "name": "stderr",
     "output_type": "stream",
     "text": [
      "100%|██████████| 237/237 [03:43<00:00,  1.06it/s]\n"
     ]
    },
    {
     "name": "stdout",
     "output_type": "stream",
     "text": [
      "The loss of epoch 3 is 221.05443930625916 \n",
      "\n"
     ]
    },
    {
     "name": "stderr",
     "output_type": "stream",
     "text": [
      "100%|██████████| 60/60 [00:26<00:00,  2.25it/s]\n"
     ]
    },
    {
     "name": "stdout",
     "output_type": "stream",
     "text": [
      "0.8307851374360453 0.7730837548234962 0.8884865200485944\n"
     ]
    },
    {
     "name": "stderr",
     "output_type": "stream",
     "text": [
      "100%|██████████| 237/237 [03:43<00:00,  1.06it/s]\n"
     ]
    },
    {
     "name": "stdout",
     "output_type": "stream",
     "text": [
      "The loss of epoch 4 is 158.65082708001137 \n",
      "\n"
     ]
    },
    {
     "name": "stderr",
     "output_type": "stream",
     "text": [
      "100%|██████████| 60/60 [00:26<00:00,  2.25it/s]\n"
     ]
    },
    {
     "name": "stdout",
     "output_type": "stream",
     "text": [
      "0.8328451719286956 0.7808158179965778 0.8848745258608134\n"
     ]
    },
    {
     "name": "stderr",
     "output_type": "stream",
     "text": [
      "100%|██████████| 237/237 [03:42<00:00,  1.06it/s]\n"
     ]
    },
    {
     "name": "stdout",
     "output_type": "stream",
     "text": [
      "The loss of epoch 0 is 656.9490957260132 \n",
      "\n"
     ]
    },
    {
     "name": "stderr",
     "output_type": "stream",
     "text": [
      "100%|██████████| 60/60 [00:27<00:00,  2.16it/s]\n",
      "/opt/conda/lib/python3.10/site-packages/sklearn/metrics/_classification.py:1344: UndefinedMetricWarning: Precision and F-score are ill-defined and being set to 0.0 in labels with no predicted samples. Use `zero_division` parameter to control this behavior.\n",
      "  _warn_prf(average, modifier, msg_start, len(result))\n"
     ]
    },
    {
     "name": "stdout",
     "output_type": "stream",
     "text": [
      "0.8524606489582744 0.7287520163953144 0.9761692815212344\n"
     ]
    },
    {
     "name": "stderr",
     "output_type": "stream",
     "text": [
      "100%|██████████| 237/237 [03:42<00:00,  1.07it/s]\n"
     ]
    },
    {
     "name": "stdout",
     "output_type": "stream",
     "text": [
      "The loss of epoch 1 is 355.34979701042175 \n",
      "\n"
     ]
    },
    {
     "name": "stderr",
     "output_type": "stream",
     "text": [
      "100%|██████████| 60/60 [00:27<00:00,  2.15it/s]\n",
      "/opt/conda/lib/python3.10/site-packages/sklearn/metrics/_classification.py:1344: UndefinedMetricWarning: Precision and F-score are ill-defined and being set to 0.0 in labels with no predicted samples. Use `zero_division` parameter to control this behavior.\n",
      "  _warn_prf(average, modifier, msg_start, len(result))\n"
     ]
    },
    {
     "name": "stdout",
     "output_type": "stream",
     "text": [
      "0.9069513812953915 0.8349145429187443 0.9789882196720389\n"
     ]
    },
    {
     "name": "stderr",
     "output_type": "stream",
     "text": [
      " 86%|████████▋ | 205/237 [03:13<00:30,  1.06it/s]"
     ]
    },
    {
     "name": "stdout",
     "output_type": "stream",
     "text": [
      "tensor([[-3.1823e-01, -1.0949e+00,  2.9482e-01,  1.2644e-01,  2.8600e+00,\n",
      "          6.1529e-01,  7.1357e-01,  1.0294e-01,  9.4741e-01,  2.3661e-01,\n",
      "          7.9043e-01, -8.7302e-01, -4.1094e-01,  1.1247e+00, -1.3507e+00,\n",
      "         -5.4911e-01],\n",
      "        [-1.5400e+00, -9.1800e-01, -1.1939e-01,  2.3895e-01,  6.3017e-01,\n",
      "         -9.5284e-01, -1.2238e-01,  2.8385e-01,  9.2992e-02,  6.6009e-01,\n",
      "          3.5780e+00, -6.2653e-03, -1.7570e+00,  3.1946e-02,  1.8585e-01,\n",
      "          3.1362e-01],\n",
      "        [-3.7071e-01, -1.8258e+00,  5.1810e-01,  1.6185e+00,  8.3523e-02,\n",
      "         -2.9867e-01,  1.0451e-01,  3.1893e-01,  2.3528e+00,  3.5191e-01,\n",
      "          3.4971e-01, -7.1055e-01,  4.7012e+00,  5.2888e-01, -4.9854e-02,\n",
      "         -5.1418e-01],\n",
      "        [ 1.7748e+00, -2.0178e+00,  7.5961e-02,  3.9628e+00,  8.1556e-01,\n",
      "          1.3460e+00,  1.2599e-01,  3.2697e-01,  2.6539e-01, -6.6937e-01,\n",
      "          5.9200e-01,  1.9980e+00,  3.0663e-01, -2.0400e+00, -3.5470e-01,\n",
      "         -8.0112e-01],\n",
      "        [ 1.1856e+00,  9.0911e-01, -8.0500e-01,  1.9116e+00, -1.1719e+00,\n",
      "         -1.3667e+00,  6.2032e-01, -9.2094e-01,  4.1059e-01, -1.3816e+00,\n",
      "          1.0878e-01,  3.4422e+00, -1.2060e+00, -7.1204e-01, -7.1446e-01,\n",
      "         -4.2344e-01],\n",
      "        [-2.1259e-01, -1.5244e+00,  3.8921e-01,  6.5607e-01, -1.5191e-01,\n",
      "         -1.1278e+00, -2.5562e+00,  1.6142e+00, -4.1649e-01,  1.2665e+00,\n",
      "          1.6153e+00, -7.7011e-01, -7.3511e-01, -4.4018e-01,  2.2611e+00,\n",
      "          2.7959e+00],\n",
      "        [ 1.4518e-01, -1.9707e-03, -1.5705e-01,  1.8364e-01, -8.5989e-01,\n",
      "         -1.7319e+00, -2.2847e+00,  1.0392e+00, -5.7504e-01,  3.2371e-01,\n",
      "          9.5281e-01, -8.4213e-01, -9.9843e-01, -2.7704e-01,  2.4568e+00,\n",
      "          3.3542e+00],\n",
      "        [ 3.2697e-01, -2.9792e+00, -5.9437e-01,  1.5419e+00,  4.4671e-01,\n",
      "          4.9537e+00,  5.4377e-01, -6.5848e-01, -1.0961e+00, -2.0243e+00,\n",
      "         -5.1891e-01,  4.7933e-01, -2.2120e+00, -8.5945e-01,  2.8880e-01,\n",
      "         -3.8684e-01],\n",
      "        [-6.5066e-01, -1.3856e+00,  5.1035e-01,  1.5043e+00, -3.0198e-01,\n",
      "         -3.4390e-01,  9.2164e-02,  4.8178e-01,  2.1880e+00,  3.0364e-01,\n",
      "          2.9184e-01, -3.6327e-01,  4.0192e+00,  8.5538e-01, -2.2920e-03,\n",
      "         -7.1695e-01],\n",
      "        [ 5.1603e-01,  4.3616e+00, -9.8339e-01, -6.2260e-01, -8.5365e-01,\n",
      "         -2.1291e+00,  1.0946e+00, -1.4254e+00,  1.2900e+00, -1.3387e+00,\n",
      "         -3.9654e-01,  4.9595e-01, -4.9432e-01,  8.4660e-01, -9.5809e-01,\n",
      "          9.9202e-02],\n",
      "        [ 2.3318e+00, -1.8330e+00,  1.2387e+00,  3.3067e+00,  3.4370e-01,\n",
      "          1.7764e-01,  1.7443e-01,  3.7954e-01, -6.8351e-01, -4.2226e-01,\n",
      "         -3.8723e-01,  1.2359e+00,  2.7096e-01, -2.4995e+00, -4.2473e-01,\n",
      "          1.1612e-01],\n",
      "        [ 4.4017e-01, -1.2165e+00,  2.5058e+00,  5.1378e-01,  3.4994e-01,\n",
      "         -6.1869e-01, -2.5839e-01, -4.3001e-01, -1.3053e+00, -5.7978e-01,\n",
      "         -1.3537e-01, -2.4109e-01, -6.8676e-01, -8.5661e-01, -1.1139e+00,\n",
      "          5.1075e-01],\n",
      "        [-4.2827e-01, -1.5434e+00,  1.6354e-01,  1.8219e+00, -2.5595e-01,\n",
      "         -6.3110e-01,  3.6767e-01,  2.9304e-01,  2.3287e+00,  4.8697e-01,\n",
      "          2.4877e-01, -4.1314e-01,  4.6726e+00,  7.8109e-01, -3.7109e-01,\n",
      "         -9.3287e-01],\n",
      "        [ 9.5323e-01,  1.4841e+00, -1.2041e+00,  1.2630e+00, -1.5483e+00,\n",
      "         -1.3329e+00,  7.3688e-01, -1.1655e+00,  1.1430e+00, -1.0889e+00,\n",
      "          2.1228e-01,  3.7615e+00, -1.7426e+00,  1.1659e-01, -9.7383e-01,\n",
      "         -9.5414e-01],\n",
      "        [ 2.0015e+00, -1.6010e+00, -1.8519e-01,  2.4669e+00,  7.1566e-01,\n",
      "          1.5988e+00, -1.9328e-01,  2.9845e-01,  2.6860e-01, -7.2968e-01,\n",
      "         -3.1401e-01,  1.8035e+00, -8.7735e-01, -1.6639e+00, -1.3111e-01,\n",
      "         -4.6235e-01],\n",
      "        [-3.9555e-01,  4.2306e-01, -2.1830e-01, -2.7208e-01,  1.4873e+00,\n",
      "         -7.2564e-01,  2.8435e+00, -8.8989e-01,  1.9602e+00, -1.5093e+00,\n",
      "         -4.1283e-01,  2.9958e-01, -4.9053e-01,  1.9751e+00, -2.3947e+00,\n",
      "         -1.6180e+00],\n",
      "        [ 1.5515e+00, -1.9296e+00,  4.7855e-01,  3.3376e+00,  5.6406e-01,\n",
      "          4.6829e-02, -1.0490e-01,  4.1626e-01, -4.9220e-01,  2.6820e-01,\n",
      "          2.2914e-01,  1.3475e+00,  2.0636e-01, -2.0803e+00,  3.6806e-01,\n",
      "          8.7099e-02],\n",
      "        [ 7.8984e-01, -1.2800e+00,  3.0837e+00,  6.4932e-01,  2.2863e-01,\n",
      "         -1.8538e+00, -7.4505e-01,  1.8462e-01, -9.2427e-01,  3.4260e-01,\n",
      "          4.3103e-01, -6.4186e-01, -7.1442e-02, -9.8495e-01, -1.4874e-01,\n",
      "          1.0248e+00],\n",
      "        [ 3.5896e+00,  6.7436e-02,  1.1656e+00,  2.2166e+00,  1.4935e-01,\n",
      "         -1.5028e-01,  7.9547e-02, -5.2216e-01, -2.1216e-01, -2.5877e-01,\n",
      "         -1.3039e+00,  1.5438e+00, -1.0544e+00, -1.9868e+00,  1.0496e-01,\n",
      "          3.0494e-01],\n",
      "        [ 1.0415e-01, -3.0432e+00, -5.1294e-01,  1.0686e+00,  8.9587e-01,\n",
      "          5.2411e+00,  2.7670e-01, -5.5777e-01, -7.9467e-01, -2.0684e+00,\n",
      "          1.9688e-01,  4.0879e-01, -2.4576e+00, -7.2279e-01,  2.5682e-01,\n",
      "         -5.6921e-01],\n",
      "        [ 2.4076e-01, -2.5577e-01,  6.9213e-02,  1.8259e-01, -9.0819e-01,\n",
      "         -1.7543e+00, -2.5112e+00,  1.5424e+00, -6.6711e-01,  3.2550e-01,\n",
      "          8.7694e-01, -7.3617e-01, -8.5905e-01, -3.3015e-01,  2.1400e+00,\n",
      "          3.2790e+00],\n",
      "        [-4.6088e-01, -7.9191e-01,  1.5802e-01,  1.6374e+00, -3.0612e-01,\n",
      "         -6.8771e-01,  4.6661e-01,  1.4617e-01,  2.7594e+00,  1.4658e-02,\n",
      "          1.6281e-01, -4.6214e-01,  4.7574e+00,  8.3883e-01, -5.8679e-01,\n",
      "         -7.1849e-01],\n",
      "        [-6.0223e-01, -2.2559e+00, -5.1539e-01,  1.1727e+00, -4.9764e-01,\n",
      "          1.6149e-01, -1.9037e+00,  1.1740e+00,  5.7511e-03,  6.5304e-01,\n",
      "          1.0004e+00, -6.4714e-01,  6.6114e-01, -7.7921e-03,  2.8006e+00,\n",
      "          1.7689e+00],\n",
      "        [ 1.6242e+00, -6.0460e-02, -6.4180e-01,  2.4451e+00, -8.0499e-01,\n",
      "          1.1068e-01,  5.9911e-01, -6.0152e-01,  6.9301e-02, -1.5289e+00,\n",
      "         -2.7108e-02,  3.5691e+00, -1.2349e+00, -1.5161e+00, -4.3483e-01,\n",
      "         -9.3549e-01],\n",
      "        [ 2.9795e-01,  3.9785e+00, -1.1957e+00, -2.6649e-01, -3.1476e-01,\n",
      "         -2.0418e+00,  6.2065e-01, -1.2374e+00,  9.0935e-01, -9.2230e-01,\n",
      "         -3.9419e-01,  4.3254e-01, -7.0878e-01,  9.5373e-01, -5.1242e-01,\n",
      "          1.3108e-01],\n",
      "        [-7.0362e-01,  2.7470e-01, -3.5037e-01,  5.8695e-01,  9.3344e-01,\n",
      "         -7.1112e-01,  4.0152e+00, -1.4635e+00,  7.4903e-02, -2.1259e+00,\n",
      "         -2.9474e-01,  6.9753e-01, -1.1654e+00,  1.1996e+00, -1.7974e+00,\n",
      "         -8.9770e-01],\n",
      "        [ 2.4070e+00, -4.6219e-03,  7.0192e-01,  1.5773e+00, -1.5706e-01,\n",
      "         -4.0408e-01, -8.6496e-01, -1.6540e-01, -9.2740e-02,  5.5432e-02,\n",
      "         -6.9512e-01,  1.4227e+00, -7.9572e-01, -1.1439e+00, -3.3026e-01,\n",
      "         -1.2834e-01],\n",
      "        [ 8.6725e-03, -4.8259e-01,  3.9753e-02, -2.2586e-01,  2.9582e+00,\n",
      "          2.1730e-01,  9.3632e-01,  4.9448e-02,  5.6655e-01, -2.2040e-01,\n",
      "          7.3653e-01, -1.0258e+00, -1.4368e+00,  7.9466e-01, -1.5876e+00,\n",
      "         -1.5666e-01],\n",
      "        [-2.4923e-01,  6.8191e-01, -1.1691e+00,  1.1910e+00,  6.4572e-02,\n",
      "         -1.6293e+00, -2.1883e-01,  3.5922e-02,  3.4003e+00,  6.8232e-01,\n",
      "          1.0531e+00,  1.1913e+00,  1.3878e+00,  7.4845e-01, -1.3415e+00,\n",
      "         -1.0157e+00],\n",
      "        [-4.1008e-01, -3.8072e-01, -6.7917e-01, -5.0577e-02,  1.1088e-01,\n",
      "         -1.1045e+00, -3.5481e-01,  2.3879e-01,  3.7827e+00,  1.3012e+00,\n",
      "          8.6294e-01,  2.3404e-02,  1.6311e+00,  1.4053e+00, -1.0639e+00,\n",
      "         -1.2575e+00],\n",
      "        [ 1.8447e+00, -1.8466e+00,  2.5560e-01,  4.0964e+00,  4.9392e-01,\n",
      "          6.7600e-01, -5.7241e-01,  4.1611e-01, -2.2415e-01, -1.5427e-01,\n",
      "          6.7252e-01,  1.7452e+00,  1.3263e-01, -2.4289e+00,  1.8148e-01,\n",
      "         -1.5031e-01],\n",
      "        [-6.1379e-01, -1.6361e+00,  1.0644e-01,  1.3224e+00, -2.3224e-01,\n",
      "         -6.0138e-01, -2.3917e+00,  1.4194e+00, -1.5363e-01,  7.3651e-01,\n",
      "          1.3118e+00, -9.3148e-01,  4.4641e-02, -2.4607e-01,  2.6077e+00,\n",
      "          2.2287e+00],\n",
      "        [ 1.5898e+00, -1.3373e+00,  1.0632e+00,  3.3590e+00,  3.3570e-01,\n",
      "         -1.9960e-01, -6.8323e-01,  1.0924e+00, -6.3288e-01, -8.6048e-01,\n",
      "          1.2468e-01,  1.0533e+00, -3.8411e-02, -2.4279e+00, -1.1535e-01,\n",
      "          7.5455e-01],\n",
      "        [-2.9289e-01, -2.9778e+00, -5.5014e-01,  7.0811e-01,  1.0189e+00,\n",
      "          5.1635e+00,  8.2560e-01, -9.1960e-01, -4.7017e-01, -2.0493e+00,\n",
      "         -1.5859e-01,  2.9083e-01, -2.2364e+00, -3.2172e-01, -1.4233e-01,\n",
      "         -1.0511e+00],\n",
      "        [-1.1978e+00,  7.6407e-01, -5.9150e-01,  8.7044e-02,  1.2065e+00,\n",
      "          1.4369e-01,  3.6351e+00, -1.7593e+00,  7.6500e-02, -2.5841e+00,\n",
      "         -1.5671e-01,  6.2231e-01, -1.3358e+00,  1.2173e+00, -1.6303e+00,\n",
      "         -1.2502e+00],\n",
      "        [ 3.2012e+00,  7.9142e-02,  1.2627e+00,  1.1344e+00,  7.9596e-03,\n",
      "         -3.3134e-01, -3.2506e-01, -1.3472e-01, -1.9919e-01, -8.1132e-01,\n",
      "         -9.1947e-01,  8.9704e-01, -5.5169e-01, -1.3851e+00, -3.6491e-01,\n",
      "          4.7134e-01]], device='cuda:6', grad_fn=<AddmmBackward0>) tensor([ 4, 10, 12,  3, 11,  7, 15,  5, 12,  1,  3,  2, 12, 11,  3,  6,  3,  2,\n",
      "         0,  5, 15, 12, 14, 11,  1,  6,  0,  4,  8,  8,  3, 14,  3,  5,  6,  0])\n",
      "tensor([[-0.7576, -0.2560, -0.3849, -1.7562, -1.8760,  0.9713, -0.9543,  4.5609],\n",
      "        [-1.0132, -1.0002, -0.3929, -0.4938, -0.0888, -0.4577, -0.2691,  5.2730],\n",
      "        [ 0.2453,  4.1808, -1.6478, -2.2405, -1.2552, -1.3336,  1.0058,  0.4428],\n",
      "        [-0.2500, -0.8226, -1.4889, -1.0078, -0.0474, -0.9918,  0.1723,  5.0609],\n",
      "        [-1.6290, -2.4084, -0.0868, -0.6684, -0.2811, -0.4168, -0.7905,  5.9139],\n",
      "        [-0.3164, -0.8019, -0.9766, -2.2967, -1.0482, -0.9310,  0.3220,  5.7859],\n",
      "        [-0.4758, -1.4382,  0.2966, -1.4700, -1.6200, -0.9515, -0.6916,  4.9069],\n",
      "        [-0.9866, -1.0178, -2.0220, -1.0968,  4.2273,  1.4193, -0.7207, -0.4144],\n",
      "        [ 1.1778,  3.7321, -1.3413, -0.7658, -0.4481, -1.1708,  0.8726, -0.1690],\n",
      "        [-0.1525, -1.4186,  4.9893,  0.1659, -1.9037, -0.7029, -0.6589, -0.2360],\n",
      "        [-1.3688, -0.5931, -1.6627, -1.1460, -0.2447, -1.3151, -0.4242,  4.9357],\n",
      "        [-0.1318, -1.0214, -1.3424, -1.6180, -0.4477, -1.5640, -0.6934,  3.3572],\n",
      "        [ 1.2066,  3.4145, -1.3304, -2.2287, -1.9018, -1.0620,  0.2748,  0.5161],\n",
      "        [-1.1789, -0.9348, -0.8042,  0.2704, -0.0541, -1.2591, -1.4221,  6.1961],\n",
      "        [-0.4618, -1.2125, -0.5329, -0.3686, -0.8415,  0.1288, -0.9924,  4.5076],\n",
      "        [-1.4222, -0.6105, -0.6805, -1.5515, -1.4352, -0.0731, -0.4446,  5.4631],\n",
      "        [-0.7147, -0.9895, -2.4360, -0.7994, -1.0816, -1.1197, -0.6139,  5.1245],\n",
      "        [-0.6228, -0.4152, -1.5157, -1.5486, -1.1737, -1.4672, -0.2573,  5.3369],\n",
      "        [-1.9469, -1.5308, -0.9911, -0.7191, -0.9409, -0.5941, -2.2805,  6.8503],\n",
      "        [ 0.4379, -0.2941, -0.5560, -0.7369,  1.7573,  5.1834, -0.4084, -0.0625],\n",
      "        [-0.0162, -0.5211,  0.0961, -0.6191, -0.8593, -1.0781, -0.2098,  5.1376],\n",
      "        [ 1.4773,  3.3333, -1.2887, -0.4206, -2.0810, -1.5002,  1.1469, -0.8264],\n",
      "        [-0.6814,  0.3962, -1.1446, -1.0784, -0.3056, -0.0984, -0.2104,  3.6860],\n",
      "        [-1.4001, -1.4672, -0.1451,  0.2789, -0.6496, -1.8304, -0.9525,  4.9173],\n",
      "        [-0.6751, -1.0185,  3.9989,  1.0645, -2.1952,  0.0160, -1.1261, -0.6628],\n",
      "        [-0.8465, -2.5378, -0.5984, -0.5994, -0.9148, -1.2836, -1.1146,  4.7488],\n",
      "        [ 0.2346, -1.0918, -1.4000, -1.1403, -1.1323, -0.7283, -1.2871,  5.9450],\n",
      "        [-0.4517, -0.2870, -1.5284, -1.2989, -1.2604,  0.3667, -1.1429,  4.9989],\n",
      "        [-0.8234, -0.2053,  0.4247, -0.9947, -1.5443, -1.2803, -1.4734,  5.2253],\n",
      "        [-0.5354, -0.4218, -0.0660, -1.2739, -1.7964, -0.5468, -1.4119,  5.8481],\n",
      "        [-0.9000,  0.4252, -2.3182, -0.4806,  0.3226, -1.5978, -0.5783,  4.5839],\n",
      "        [ 0.1115,  0.1045, -1.0527, -2.0245, -0.0474, -1.1817, -0.7835,  5.3026],\n",
      "        [-0.8933,  1.0478, -1.8619, -1.4677, -0.2967, -1.2626, -0.2090,  4.7919],\n",
      "        [-1.0661, -0.9057, -1.0289, -0.8390,  0.1767,  5.0030, -0.6218, -0.6093],\n",
      "        [-1.0298, -2.0534, -0.1901, -0.5421, -0.6216, -0.6063, -0.9384,  4.1610],\n",
      "        [ 0.0330, -1.2091, -0.5382, -0.7655, -0.3832, -0.2365, -0.5998,  4.6567]],\n",
      "       device='cuda:6', grad_fn=<AddmmBackward0>) tensor([7, 7, 1, 7, 7, 7, 7, 4, 1, 2, 7, 7, 1, 7, 7, 7, 7, 7, 7, 5, 7, 1, 7, 7,\n",
      "        2, 7, 7, 7, 7, 7, 7, 7, 7, 5, 7, 7])\n"
     ]
    },
    {
     "name": "stderr",
     "output_type": "stream",
     "text": [
      "\n"
     ]
    },
    {
     "ename": "KeyboardInterrupt",
     "evalue": "",
     "output_type": "error",
     "traceback": [
      "\u001b[0;31m---------------------------------------------------------------------------\u001b[0m",
      "\u001b[0;31mKeyboardInterrupt\u001b[0m                         Traceback (most recent call last)",
      "Input \u001b[0;32mIn [11]\u001b[0m, in \u001b[0;36m<cell line: 14>\u001b[0;34m()\u001b[0m\n\u001b[1;32m     47\u001b[0m \u001b[38;5;28;01mtry\u001b[39;00m:\n\u001b[1;32m     48\u001b[0m     loss \u001b[38;5;241m=\u001b[39m \u001b[38;5;241m0\u001b[39m \n\u001b[0;32m---> 49\u001b[0m     loss \u001b[38;5;241m+\u001b[39m\u001b[38;5;241m=\u001b[39m criterion(level1, \u001b[43mtrain_batch\u001b[49m\u001b[43m[\u001b[49m\u001b[38;5;124;43m'\u001b[39;49m\u001b[38;5;124;43mlevel1\u001b[39;49m\u001b[38;5;124;43m'\u001b[39;49m\u001b[43m]\u001b[49m\u001b[38;5;241;43m.\u001b[39;49m\u001b[43mlong\u001b[49m\u001b[43m(\u001b[49m\u001b[43m)\u001b[49m\u001b[38;5;241;43m.\u001b[39;49m\u001b[43mto\u001b[49m\u001b[43m(\u001b[49m\u001b[43mdevice\u001b[49m\u001b[43m)\u001b[49m)\n\u001b[1;32m     50\u001b[0m     loss \u001b[38;5;241m+\u001b[39m\u001b[38;5;241m=\u001b[39m criterion(level2, train_batch[\u001b[38;5;124m'\u001b[39m\u001b[38;5;124mlevel2\u001b[39m\u001b[38;5;124m'\u001b[39m]\u001b[38;5;241m.\u001b[39mlong()\u001b[38;5;241m.\u001b[39mto(device))\n\u001b[1;32m     51\u001b[0m     total_loss \u001b[38;5;241m+\u001b[39m\u001b[38;5;241m=\u001b[39m loss\u001b[38;5;241m.\u001b[39mitem()\n",
      "\u001b[0;31mKeyboardInterrupt\u001b[0m: "
     ]
    }
   ],
   "source": [
    "from tqdm import tqdm\n",
    "from torch.utils.data import DataLoader\n",
    "from sklearn.metrics import precision_recall_fscore_support\n",
    "import numpy as np\n",
    "from transformers import AutoTokenizer, RobertaModel, BertModel\n",
    "import json\n",
    "\n",
    "level1 = [\n",
    "    \"comp.os\", \"comp.sys\", \"comp.windows\", \"comp.graphics\", \"rec.motorcycles\", \"rec.sport\", \"rec.autos\", \"talk.religion\",\n",
    "    \"sci.electronics\", \"sci.med\", \"sci.space\", \"misc.forsale\", \"talk.politics\", \"sci.crypt\", \"alt.atheism\", \"soc.religion\"\n",
    "]\n",
    "level2 = [\n",
    "    \"misc\", \"guns\", \"ibm\", \"mac\", \"baseball\", \"hockey\", \"mideast\", \"None\"\n",
    "]\n",
    "\n",
    "best_performances = []\n",
    "for split in range(5):\n",
    "    loader = DataLoader(new_datasets[split]['train'], batch_size=36, collate_fn=collate_label_set)\n",
    "    val_loader = DataLoader(new_datasets[split]['validation'], batch_size=36, collate_fn=collate_label_set)\n",
    "    device = \"cuda:6\"\n",
    "    rep_model = NewsRepModule(BertModel.from_pretrained(\"bert-base-uncased\"))\n",
    "    rep_model = rep_model.to(device)\n",
    "\n",
    "    level1_classification = Level1Calssification().to(device)\n",
    "    level2_classification = Level2Calssification().to(device)\n",
    "    \n",
    "    params = list(rep_model.parameters()) + list(level1_classification.parameters())\n",
    "    params = list(params) + list(level2_classification.parameters())\n",
    "    optim = torch.optim.AdamW(params, lr=2e-5)\n",
    "    criterion = nn.CrossEntropyLoss()\n",
    "    \n",
    "    best_performance = 0\n",
    "    best_performance_details = None\n",
    "    \n",
    "    for epoch in range(5):\n",
    "        rep_model.train()\n",
    "        level1_classification.train()\n",
    "        level2_classification.train()\n",
    "        total_loss = 0\n",
    "        for train_batch in tqdm(loader):\n",
    "            try:\n",
    "                rep = rep_model(train_batch['input_ids'].to(device),\n",
    "                                               train_batch['attention_mask'].to(device))\n",
    "                level1 = level1_classification(rep)\n",
    "                level2 = level2_classification(rep)\n",
    "\n",
    "            except:\n",
    "                print(train_batch['text'])\n",
    "                raise\n",
    "            try:\n",
    "                loss = 0 \n",
    "                loss += criterion(level1, train_batch['level1'].long().to(device))\n",
    "                loss += criterion(level2, train_batch['level2'].long().to(device))\n",
    "                total_loss += loss.item()\n",
    "                loss.backward()\n",
    "            except:\n",
    "                print(level1, train_batch['level1'])\n",
    "                print(level2, train_batch['level2'])\n",
    "                raise\n",
    "            optim.step()\n",
    "            optim.zero_grad()\n",
    "        print(f\"The loss of epoch {epoch} is {total_loss} \\n\")\n",
    "\n",
    "        rep_model.eval()\n",
    "        level1_classification.eval()\n",
    "        level2_classification.eval()\n",
    "        all_preds = {'level1': [], 'level2': []}\n",
    "        all_gt = {'level1': [], 'level2': []}\n",
    "        \n",
    "        for train_batch in tqdm(val_loader):\n",
    "            rep = rep_model(train_batch['input_ids'].to(device),\n",
    "                                                   train_batch['attention_mask'].to(device))\n",
    "            level1 = level1_classification(rep)\n",
    "            level2 = level2_classification(rep)\n",
    "            level1 = level1.argmax(-1)\n",
    "            level2 = level2.argmax(-1)\n",
    "            all_gt['level1'].extend(train_batch['level1'].cpu().detach().tolist())\n",
    "            all_gt['level2'].extend(train_batch['level2'].cpu().detach().tolist())\n",
    "            all_preds['level1'].extend(level1.cpu().detach().tolist())\n",
    "            all_preds['level2'].extend(level2.cpu().detach().tolist())\n",
    "\n",
    "            \n",
    "        l1_pr, l1_rec, l1_f1, l1_sup = precision_recall_fscore_support(np.array(all_gt['level1']), np.array(all_preds['level1']))\n",
    "        l2_pr, l2_rec, l2_f1, l2_sup = precision_recall_fscore_support(np.array(all_gt['level2']), np.array(all_preds['level2']))\n",
    "        level1_aggregate = (torch.from_numpy(l1_sup) * torch.from_numpy(l1_f1)).sum().item() / torch.from_numpy(l1_sup).sum().item()\n",
    "        level2_aggregate = (torch.from_numpy(l2_sup) * torch.from_numpy(l2_f1)).sum().item() / torch.from_numpy(l2_sup).sum().item()\n",
    "        score = (level1_aggregate + level2_aggregate) / 2\n",
    "        print(score, level1_aggregate, level2_aggregate)\n",
    "        if score > best_performance:\n",
    "            best_performance = score\n",
    "            best_performance_details = [torch.from_numpy(l1_pr), torch.from_numpy(l1_rec), \n",
    "                                        torch.from_numpy(l1_f1), torch.from_numpy(l1_sup),\n",
    "                                        torch.from_numpy(l2_pr), torch.from_numpy(l2_rec),\n",
    "                                        torch.from_numpy(l2_f1), torch.from_numpy(l2_sup),\n",
    "                                       level1_aggregate, level2_aggregate]\n",
    "    if len(best_performances):\n",
    "        for _ind in range(len(best_performances)):\n",
    "            best_performances[_ind] = best_performances[_ind] + best_performance_details[_ind]\n",
    "    else:\n",
    "        best_performances = best_performance_details\n",
    "\n",
    "for _ind in range(len(best_performances)):\n",
    "    best_performances[_ind] = best_performances[_ind] / 5\n",
    "\n",
    "torch.save(best_performances, \"average_performance.pt\")"
   ]
  },
  {
   "cell_type": "code",
   "execution_count": 11,
   "id": "04f1640c-ae49-47ee-8402-6c07810f2841",
   "metadata": {},
   "outputs": [],
   "source": [
    "torch.save(rep_model.state_dict(), \"rep_model2_base.pt\")\n",
    "torch.save(level1_classification.state_dict(), \"level1_classification2_base.pt\")\n",
    "torch.save(level2_classification.state_dict(), \"level2_classification2_base.pt\")\n"
   ]
  },
  {
   "cell_type": "code",
   "execution_count": 10,
   "id": "3c601c32-5186-4e43-b4cc-1888a269bd38",
   "metadata": {},
   "outputs": [
    {
     "data": {
      "text/plain": [
       "<All keys matched successfully>"
      ]
     },
     "execution_count": 10,
     "metadata": {},
     "output_type": "execute_result"
    }
   ],
   "source": [
    "level1_classification_path = \"level1_classification2_base.pt\"\n",
    "level1_classification.load_state_dict(torch.load(level1_classification_path, map_location=device))\n",
    "\n",
    "level2_classification_path = \"level2_classification2_base.pt\"\n",
    "level2_classification.load_state_dict(torch.load(level2_classification_path, map_location=device))\n",
    "\n",
    "rep_model_path = \"rep_model2_base.pt\"\n",
    "rep_model.load_state_dict(torch.load(rep_model_path, map_location=device))\n",
    "    "
   ]
  },
  {
   "cell_type": "code",
   "execution_count": 13,
   "id": "15018955-6150-4fe9-ae9c-891cd0e98165",
   "metadata": {},
   "outputs": [
    {
     "name": "stderr",
     "output_type": "stream",
     "text": [
      "100%|██████████| 297/297 [02:10<00:00,  2.27it/s]\n"
     ]
    },
    {
     "name": "stdout",
     "output_type": "stream",
     "text": [
      "0.8480870217554388\n",
      "0.9652100525131283\n",
      "0.8480870217554388\n",
      "0.9168021680216802\n"
     ]
    },
    {
     "name": "stderr",
     "output_type": "stream",
     "text": [
      "100%|██████████| 195/195 [01:23<00:00,  2.33it/s]"
     ]
    },
    {
     "name": "stdout",
     "output_type": "stream",
     "text": [
      "0.754096025074797\n",
      "0.8704943724177233\n",
      "0.754096025074797\n",
      "0.7293783015034538\n"
     ]
    },
    {
     "name": "stderr",
     "output_type": "stream",
     "text": [
      "\n"
     ]
    }
   ],
   "source": [
    "from tqdm import tqdm \n",
    "\n",
    "rep_model.eval()\n",
    "level1_classification.eval()\n",
    "level2_classification.eval()\n",
    "for dataload in [loader, test_loader]:\n",
    "    level1_correct, level2_correct = 0, 0\n",
    "    level1_correct_actual, level2_correct_actual = 0, 0\n",
    "    level1_total, level2_total = 0, 0\n",
    "    level1_total_actual, level2_total_actual = 0, 0\n",
    "    for train_batch in tqdm(dataload):\n",
    "        rep = rep_model(train_batch['input_ids'].to(device),\n",
    "                                               train_batch['attention_mask'].to(device))\n",
    "        level1 = level1_classification(rep)\n",
    "        level2 = level2_classification(rep)\n",
    "        level1 = level1.argmax(-1)\n",
    "        level2 = level2.argmax(-1)\n",
    "\n",
    "        level1_correct += (level1 == train_batch['level1'].long().to(device)).sum().item()\n",
    "        level1_total += train_batch['level1'].shape[0]\n",
    "        level1_correct_actual += ((level1 == train_batch['level1'].long().to(device)) & (train_batch['level1'].long().to(device) != 16)).sum().item()\n",
    "        level1_total_actual += (train_batch['level1'].long().to(device) != 16).sum().item()\n",
    "\n",
    "        level2_correct += (level2 == train_batch['level2'].long().to(device)).sum().item()\n",
    "        level2_total += train_batch['level2'].shape[0]\n",
    "        level2_correct_actual += ((level2 == train_batch['level2'].long().to(device)) & (train_batch['level2'].long().to(device) != 7)).sum().item()\n",
    "        level2_total_actual += (train_batch['level2'].long().to(device) != 7).sum().item()\n",
    "\n",
    "    print(level1_correct/level1_total)\n",
    "    print(level2_correct/level2_total)\n",
    "    print(level1_correct_actual/level1_total_actual)\n",
    "    print(level2_correct_actual/level2_total_actual)"
   ]
  },
  {
   "cell_type": "code",
   "execution_count": 3,
   "id": "208090b1-15bc-4919-9b9b-3c9002a8b128",
   "metadata": {},
   "outputs": [],
   "source": [
    "import torch\n",
    "performance = torch.load(\"average_performance.pt\")"
   ]
  },
  {
   "cell_type": "code",
   "execution_count": 4,
   "id": "078f0ce5-2f9a-4d4c-9c56-129f470acf21",
   "metadata": {},
   "outputs": [
    {
     "data": {
      "text/plain": [
       "[tensor([0.6895, 0.7998, 0.8308, 0.7274, 0.7668, 0.9598, 0.7902, 0.1177, 0.7301,\n",
       "         0.8964, 0.7986, 0.8041, 0.8223, 0.8103, 0.5584, 0.6624],\n",
       "        dtype=torch.float64),\n",
       " tensor([0.6919, 0.8255, 0.8420, 0.6733, 0.7495, 0.9485, 0.8089, 0.0383, 0.6501,\n",
       "         0.8724, 0.8599, 0.7947, 0.9044, 0.8152, 0.5500, 0.8215],\n",
       "        dtype=torch.float64),\n",
       " tensor([0.6810, 0.8102, 0.8345, 0.6973, 0.7577, 0.9541, 0.7990, 0.0475, 0.6869,\n",
       "         0.8835, 0.8266, 0.7986, 0.8609, 0.8114, 0.5521, 0.7321],\n",
       "        dtype=torch.float64),\n",
       " tensor([111.0000, 219.8000, 115.2000, 110.2000, 110.2000, 221.2000, 107.8000,\n",
       "          67.8000, 112.6000, 114.4000, 112.8000, 113.0000, 297.0000, 113.6000,\n",
       "          89.8000, 116.4000]),\n",
       " tensor([0.7223, 0.7400, 0.6812, 0.8323, 0.9566, 0.9504, 0.8921, 0.9351],\n",
       "        dtype=torch.float64),\n",
       " tensor([0.7375, 0.7908, 0.6603, 0.7413, 0.9141, 0.9249, 0.8714, 0.9439],\n",
       "        dtype=torch.float64),\n",
       " tensor([0.7291, 0.7614, 0.6675, 0.7811, 0.9346, 0.9374, 0.8810, 0.9394],\n",
       "        dtype=torch.float64),\n",
       " tensor([  87.6000,  105.2000,  112.4000,  107.4000,  109.4000,  111.8000,\n",
       "          104.2000, 1394.8000]),\n",
       " 0.7759999487952466,\n",
       " 0.8964713107140089]"
      ]
     },
     "execution_count": 4,
     "metadata": {},
     "output_type": "execute_result"
    }
   ],
   "source": [
    "performance"
   ]
  },
  {
   "cell_type": "code",
   "execution_count": 9,
   "id": "8e2f4dc1-6cda-43a0-95d3-9cf371bfd255",
   "metadata": {},
   "outputs": [
    {
     "data": {
      "text/plain": [
       "tensor(0.8153, dtype=torch.float64)"
      ]
     },
     "execution_count": 9,
     "metadata": {},
     "output_type": "execute_result"
    }
   ],
   "source": [
    "(performance[-3] * performance[-4])[:-1].sum() / performance[-3][:-1].sum()"
   ]
  },
  {
   "cell_type": "code",
   "execution_count": 11,
   "id": "44051c50-40e9-4a46-aa34-17f7b5a9ec6b",
   "metadata": {},
   "outputs": [
    {
     "data": {
      "text/plain": [
       "tensor(0.7760, dtype=torch.float64)"
      ]
     },
     "execution_count": 11,
     "metadata": {},
     "output_type": "execute_result"
    }
   ],
   "source": [
    "(performance[-7] * performance[-8]).sum() / performance[-7].sum()"
   ]
  },
  {
   "cell_type": "code",
   "execution_count": null,
   "id": "520e76d8-7176-437d-b56e-220a0af33341",
   "metadata": {},
   "outputs": [],
   "source": []
  }
 ],
 "metadata": {
  "kernelspec": {
   "display_name": "Python 3 (ipykernel)",
   "language": "python",
   "name": "python3"
  },
  "language_info": {
   "codemirror_mode": {
    "name": "ipython",
    "version": 3
   },
   "file_extension": ".py",
   "mimetype": "text/x-python",
   "name": "python",
   "nbconvert_exporter": "python",
   "pygments_lexer": "ipython3",
   "version": "3.10.6"
  }
 },
 "nbformat": 4,
 "nbformat_minor": 5
}
